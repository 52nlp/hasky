{
 "cells": [
  {
   "cell_type": "code",
   "execution_count": 1,
   "metadata": {
    "collapsed": false
   },
   "outputs": [],
   "source": [
    "%matplotlib inline\n",
    "import matplotlib.pyplot as plt"
   ]
  },
  {
   "cell_type": "code",
   "execution_count": 2,
   "metadata": {
    "collapsed": false
   },
   "outputs": [
    {
     "name": "stderr",
     "output_type": "stream",
     "text": [
      "tensorflow_version: 1.2.0-rc0\n"
     ]
    }
   ],
   "source": [
    "from __future__ import absolute_import\n",
    "from __future__ import division\n",
    "from __future__ import print_function\n",
    "\n",
    "import tensorflow as tf\n",
    "flags = tf.app.flags\n",
    "FLAGS = flags.FLAGS\n",
    "flags.DEFINE_string('vocab', '/home/gezi/temp/textsum/tfrecord/seq-basic/train/vocab.txt', 'vocabulary file')\n",
    "\n",
    "import sys, os, math\n",
    "import gezi, melt\n",
    "import numpy as np\n",
    "\n",
    "from deepiu.util import text2ids\n",
    "\n",
    "try:\n",
    "    import conf  \n",
    "    from conf import TEXT_MAX_WORDS, INPUT_TEXT_MAX_WORDS\n",
    "except Exception:\n",
    "    TEXT_MAX_WORDS = 20\n",
    "    INPUT_TEXT_MAX_WORDS = 20\n",
    "    \n",
    "decode_max_words = 10"
   ]
  },
  {
   "cell_type": "code",
   "execution_count": 3,
   "metadata": {
    "collapsed": true
   },
   "outputs": [],
   "source": [
    "def _text2ids(text, max_words):\n",
    "  word_ids = text2ids.text2ids(text, \n",
    "                               seg_method='basic', \n",
    "                               feed_single=True, \n",
    "                               allow_all_zero=True, \n",
    "                               pad=False)\n",
    "  #word_ids.append(text2ids.vocab.end_id())\n",
    "  word_ids = word_ids[:max_words]\n",
    "  word_ids = gezi.pad(word_ids, max_words, 0)\n",
    "\n",
    "  return word_ids"
   ]
  },
  {
   "cell_type": "code",
   "execution_count": 4,
   "metadata": {
    "collapsed": true
   },
   "outputs": [],
   "source": [
    "from libgezi import utf82gbk, gbk2utf8\n",
    "def predict(predictor, input_text):\n",
    "  input_text = utf82gbk(input_text)\n",
    "  word_ids = _text2ids(input_text, INPUT_TEXT_MAX_WORDS)\n",
    "  print('word_ids', word_ids, 'len:', len(word_ids))\n",
    "  print(gbk2utf8(text2ids.ids2text(word_ids)))\n",
    "\n",
    "  timer = gezi.Timer()\n",
    "  init_states = predictor.inference([\n",
    "                                        'beam_search_beam_size',\n",
    "                                        'beam_search_initial_state', \n",
    "                                        'beam_search_initial_ids', \n",
    "                                        'beam_search_initial_logprobs',\n",
    "                                        'beam_search_initial_alignments'\n",
    "                                        ], \n",
    "                                        feed_dict= {\n",
    "                                          tf.get_collection('input_text_feed')[0] : [word_ids]\n",
    "                                        })\n",
    "\n",
    "  step_func = lambda input_feed, state_feed : predictor.inference([\n",
    "                                        'beam_search_state', \n",
    "                                        'beam_search_ids', \n",
    "                                        'beam_search_logprobs',\n",
    "                                        'beam_search_alignments', \n",
    "                                        ], \n",
    "                                        feed_dict= {\n",
    "                                          #TODO...attetion still need input_text feed, see rnn_decoder.py  beam_search_step\n",
    "                                          #but not hurt perfomance much because encoder is fast? Is it possible to avoid this?\n",
    "                                          #anyway if no attention  will not need input_text_feed\n",
    "                                          tf.get_collection('input_text_feed')[0] : [word_ids],\n",
    "                                          tf.get_collection('beam_search_input_feed')[0] : input_feed,\n",
    "                                          tf.get_collection('beam_search_state_feed')[0] : state_feed\n",
    "                                        })\n",
    "\n",
    "  max_words = decode_max_words if decode_max_words else TEXT_MAX_WORDS\n",
    "  beams = melt.seq2seq.beam_search(init_states, \n",
    "                                   step_func, \n",
    "                                   end_id=text2ids.end_id(), \n",
    "                                   max_words=max_words, \n",
    "                                   length_normalization_factor=0.)\n",
    "\n",
    "  #print(len(beams))\n",
    "  #x_labels = [gbk2utf8(text2ids.vocab.key(x)).encode('utf8') for x in word_ids]\n",
    "  for i, beam in enumerate(beams):\n",
    "    print(gbk2utf8(text2ids.ids2text(word_ids)))\n",
    "    print(i, beam.words, gbk2utf8(text2ids.ids2text(beam.words)), math.exp(beam.logprob), beam.logprob, beam.score, beam.logprobs)\n",
    "    #print(beam.alignments_list)\n",
    "\n",
    "    #plt.matshow(beam.alignments_list)\n",
    "    \n",
    "    fig = plt.figure()\n",
    "    ax = fig.add_subplot(111)\n",
    "    cax = ax.matshow(beam.alignments_list, interpolation='nearest')\n",
    "    #fig.colorbar(cax)\n",
    "\n",
    "    #ax.set_xticklabels(['']+x_labels)\n",
    "    #ax.set_yticklabels(['']+alpha)\n",
    "\n",
    "    plt.show()\n",
    "    break\n",
    "\n",
    "\n",
    "  print('beam search using time(ms):', timer.elapsed_ms())"
   ]
  },
  {
   "cell_type": "code",
   "execution_count": 5,
   "metadata": {
    "collapsed": false
   },
   "outputs": [
    {
     "name": "stdout",
     "output_type": "stream",
     "text": [
      "/home/gezi/temp/textsum/tfrecord/seq-basic/train/vocab.txt\n"
     ]
    }
   ],
   "source": [
    "print(FLAGS.vocab)"
   ]
  },
  {
   "cell_type": "code",
   "execution_count": 6,
   "metadata": {
    "collapsed": false
   },
   "outputs": [
    {
     "name": "stderr",
     "output_type": "stream",
     "text": [
      "ENCODE_UNK 1\n",
      "restore from /home/gezi/new/temp/textsum/model.seq2seq.attention.luong/model.ckpt-3.0-251000\n"
     ]
    },
    {
     "name": "stdout",
     "output_type": "stream",
     "text": [
      "INFO:tensorflow:Restoring parameters from /home/gezi/new/temp/textsum/model.seq2seq.attention.luong/model.ckpt-3.0-251000\n"
     ]
    },
    {
     "name": "stderr",
     "output_type": "stream",
     "text": [
      "import graph ok /home/gezi/new/temp/textsum/model.seq2seq.attention.luong/model.ckpt-3.0-251000.meta\n",
      "restore ok /home/gezi/new/temp/textsum/model.seq2seq.attention.luong/model.ckpt-3.0-251000\n"
     ]
    }
   ],
   "source": [
    "text2ids.init(FLAGS.vocab)\n",
    "#model_dir='/home/gezi/temp/textsum/model.seq2seq.attention.encode_end/'\n",
    "model_dir='/home/gezi/new/temp/textsum/model.seq2seq.attention.luong'\n",
    "predictor = melt.Predictor(model_dir)\n",
    "\n",
    "def inference(text):\n",
    "  predict(predictor, text)"
   ]
  },
  {
   "cell_type": "code",
   "execution_count": 7,
   "metadata": {
    "collapsed": false
   },
   "outputs": [
    {
     "data": {
      "text/html": [
       "<style>\n",
       ".output_wrapper, .output {\n",
       "    height:auto !important;\n",
       "    max-height:10000px;  /* your desired max-height here */\n",
       "}\n",
       ".output_scroll {\n",
       "    box-shadow:none !important;\n",
       "    webkit-box-shadow:none !important;\n",
       "}\n",
       "</style>"
      ],
      "text/plain": [
       "<IPython.core.display.HTML object>"
      ]
     },
     "metadata": {},
     "output_type": "display_data"
    }
   ],
   "source": [
    "%%html\n",
    "<style>\n",
    ".output_wrapper, .output {\n",
    "    height:auto !important;\n",
    "    max-height:10000px;  /* your desired max-height here */\n",
    "}\n",
    ".output_scroll {\n",
    "    box-shadow:none !important;\n",
    "    webkit-box-shadow:none !important;\n",
    "}\n",
    "</style>"
   ]
  },
  {
   "cell_type": "code",
   "execution_count": 8,
   "metadata": {
    "collapsed": false
   },
   "outputs": [
    {
     "name": "stdout",
     "output_type": "stream",
     "text": [
      "word_ids [5143, 5088, 7316, 532, 13, 691, 742, 805, 5143, 5088, 7316, 532, 13, 11810, 16506, 0, 0, 0, 0, 0] len: 20\n",
      "大棚/辣椒/果实/变/小/怎么/办/,/大棚/辣椒/果实/变/小/防治/措施\n",
      "大棚/辣椒/果实/变/小/怎么/办/,/大棚/辣椒/果实/变/小/防治/措施\n",
      "0 [5143, 1] 大棚/<EOS> 0.000909440685711 -7.00268 -7.00268 [-2.9110134, -4.0916672]\n"
     ]
    },
    {
     "data": {
      "image/png": "[encoded data removed]",
      "text/plain": [
       "<matplotlib.figure.Figure at 0x303d250>"
      ]
     },
     "metadata": {},
     "output_type": "display_data"
    },
    {
     "name": "stdout",
     "output_type": "stream",
     "text": [
      "beam search using time(ms): 1130.20181656\n",
      "word_ids [214, 899, 322, 1866, 949, 0, 0, 0, 0, 0, 0, 0, 0, 0, 0, 0, 0, 0, 0, 0] len: 20\n",
      "你/去/打/篮球/吗\n",
      "你/去/打/篮球/吗\n",
      "0 [322, 1866, 1] 打/篮球/<EOS> 0.043257621294 -3.14058 -3.14058 [-1.2717599, -0.026300332, -1.8425217]\n"
     ]
    },
    {
     "data": {
      "image/png": "[encoded data removed]",
      "text/plain": [
       "<matplotlib.figure.Figure at 0x1a484b50>"
      ]
     },
     "metadata": {},
     "output_type": "display_data"
    },
    {
     "name": "stdout",
     "output_type": "stream",
     "text": [
      "beam search using time(ms): 438.009977341\n",
      "word_ids [322, 1866, 214, 899, 949, 0, 0, 0, 0, 0, 0, 0, 0, 0, 0, 0, 0, 0, 0, 0] len: 20\n",
      "打/篮球/你/去/吗\n",
      "打/篮球/你/去/吗\n",
      "0 [322, 1866, 1] 打/篮球/<EOS> 0.0627634544212 -2.76838 -2.76838 [-0.89108288, -0.021320207, -1.8559792]\n"
     ]
    },
    {
     "data": {
      "image/png": "[encoded data removed]",
      "text/plain": [
       "<matplotlib.figure.Figure at 0x1a3bb690>"
      ]
     },
     "metadata": {},
     "output_type": "display_data"
    },
    {
     "name": "stdout",
     "output_type": "stream",
     "text": [
      "beam search using time(ms): 450.611829758\n",
      "word_ids [1492, 210, 267, 244, 655, 8, 22731, 80, 40621, 0, 0, 0, 0, 0, 0, 0, 0, 0, 0, 0] len: 20\n",
      "这/是/周/华/健/的/新歌/爱/相随\n",
      "这/是/周/华/健/的/新歌/爱/相随\n",
      "0 [267, 244, 655, 1] 周/华/健/<EOS> 0.0188368489123 -3.97194 -3.97194 [-1.0784183, -0.91775143, -0.52873838, -1.4470322]\n"
     ]
    },
    {
     "data": {
      "image/png": "[encoded data removed]",
      "text/plain": [
       "<matplotlib.figure.Figure at 0x19d25e90>"
      ]
     },
     "metadata": {},
     "output_type": "display_data"
    },
    {
     "name": "stdout",
     "output_type": "stream",
     "text": [
      "beam search using time(ms): 456.078052521\n",
      "word_ids [25394, 84, 2743, 19, 807, 752, 805, 31304, 3123, 84, 2102, 1804, 0, 0, 0, 0, 0, 0, 0, 0] len: 20\n",
      "年少/不/懂/高/晓/松/,/读懂/已/不/再/少年\n",
      "年少/不/懂/高/晓/松/,/读懂/已/不/再/少年\n",
      "0 [19, 807, 752, 1] 高/晓/松/<EOS> 0.000765745504734 -7.17466 -7.17466 [-3.6781104, -1.1608021, -1.4125146, -0.92323345]\n"
     ]
    },
    {
     "data": {
      "image/png": "[encoded data removed]",
      "text/plain": [
       "<matplotlib.figure.Figure at 0x1a3bba50>"
      ]
     },
     "metadata": {},
     "output_type": "display_data"
    },
    {
     "name": "stdout",
     "output_type": "stream",
     "text": [
      "beam search using time(ms): 469.835996628\n",
      "word_ids [60, 811, 2742, 235, 949, 3383, 60, 811, 2742, 2841, 1679, 57, 0, 0, 0, 0, 0, 0, 0, 0] len: 20\n",
      "王/凯/整容/了/吗/_/王/凯/整容/前后/对比/照片\n",
      "王/凯/整容/了/吗/_/王/凯/整容/前后/对比/照片\n",
      "0 [60, 811, 2742, 2841, 57, 1] 王/凯/整容/前后/照片/<EOS> 0.0660974116847 -2.71663 -2.71663 [-0.19792795, -0.119873, -0.13588946, -0.38333905, -1.7424648, -0.13713151]\n"
     ]
    },
    {
     "data": {
      "image/png": "[encoded data removed]",
      "text/plain": [
       "<matplotlib.figure.Figure at 0x18f14b50>"
      ]
     },
     "metadata": {},
     "output_type": "display_data"
    },
    {
     "name": "stdout",
     "output_type": "stream",
     "text": [
      "beam search using time(ms): 461.182832718\n",
      "word_ids [6423, 1083, 5327, 226, 24332, 668, 668, 163, 13, 4073, 62, 107, 0, 0, 0, 0, 0, 0, 0, 0] len: 20\n",
      "【/贴图/】/韩/敏英/-/-/性感/小/吊带/黑/丝\n",
      "【/贴图/】/韩/敏英/-/-/性感/小/吊带/黑/丝\n",
      "0 [163, 62, 107, 1] 性感/黑/丝/<EOS> 0.0270227193701 -3.61108 -3.61108 [-1.4150174, -0.76747257, -0.03328827, -1.3952993]\n"
     ]
    },
    {
     "data": {
      "image/png": "[encoded data removed]",
      "text/plain": [
       "<matplotlib.figure.Figure at 0x1b262bd0>"
      ]
     },
     "metadata": {},
     "output_type": "display_data"
    },
    {
     "name": "stdout",
     "output_type": "stream",
     "text": [
      "beam search using time(ms): 478.034973145\n",
      "word_ids [1672, 485, 3243, 533, 392, 5154, 8, 1733, 16400, 670, 1817, 36325, 7, 1311, 148, 7, 31396, 213, 1343, 872] len: 20\n",
      "彭/于/晏/都/力/荐/的/《/寒战/2/》/imax/ /3d/版/ /华龙/网/送/票\n",
      "彭/于/晏/都/力/荐/的/《/寒战/2/》/imax/ /3d/版/ /华龙/网/送/票\n",
      "0 [20, 1] <UNK>/<EOS> 0.0120102803281 -4.42199 -4.42199 [-3.9719789, -0.45001346]\n"
     ]
    },
    {
     "data": {
      "image/png": "[encoded data removed]",
      "text/plain": [
       "<matplotlib.figure.Figure at 0xf7307d0>"
      ]
     },
     "metadata": {},
     "output_type": "display_data"
    },
    {
     "name": "stdout",
     "output_type": "stream",
     "text": [
      "beam search using time(ms): 434.473991394\n",
      "word_ids [37, 14356, 7, 16948, 1513, 1481, 0, 0, 0, 0, 0, 0, 0, 0, 0, 0, 0, 0, 0, 0] len: 20\n",
      "美女/劈叉/ /鼻血/狂/喷\n",
      "美女/劈叉/ /鼻血/狂/喷\n",
      "0 [37, 1122, 2130, 1] 美女/脱/屁股/<EOS> 0.000984745649124 -6.92313 -6.92313 [-0.64499712, -2.631846, -2.8539968, -0.79228741]\n"
     ]
    },
    {
     "data": {
      "image/png": "[encoded data removed]",
      "text/plain": [
       "<matplotlib.figure.Figure at 0x10621310>"
      ]
     },
     "metadata": {},
     "output_type": "display_data"
    },
    {
     "name": "stdout",
     "output_type": "stream",
     "text": [
      "beam search using time(ms): 447.395801544\n",
      "word_ids [1817, 7, 1252, 228, 7, 4006, 228, 7, 0, 0, 0, 0, 0, 0, 0, 0, 0, 0, 0, 0] len: 20\n",
      "》/ /卫生/间/ /洗手/间/ \n",
      "》/ /卫生/间/ /洗手/间/ \n",
      "0 [1252, 228, 1252, 228, 1] 卫生/间/卫生/间/<EOS> 0.0588884720537 -2.83211 -2.83211 [-0.40125901, -0.0031975592, -0.92313445, -0.045013599, -1.4595053]\n"
     ]
    },
    {
     "data": {
      "image/png": "[encoded data removed]",
      "text/plain": [
       "<matplotlib.figure.Figure at 0x10646150>"
      ]
     },
     "metadata": {},
     "output_type": "display_data"
    },
    {
     "name": "stdout",
     "output_type": "stream",
     "text": [
      "beam search using time(ms): 459.183931351\n",
      "word_ids [2234, 7, 3885, 4193, 828, 146, 30, 0, 0, 0, 0, 0, 0, 0, 0, 0, 0, 0, 0, 0] len: 20\n",
      "iphone/ /6s/耐克/主题/手机/壁纸\n",
      "iphone/ /6s/耐克/主题/手机/壁纸\n",
      "0 [146, 828, 30, 1] 手机/主题/壁纸/<EOS> 0.0258020414465 -3.6573 -3.6573 [-0.69860411, -1.6396734, -0.74667692, -0.57234734]\n"
     ]
    },
    {
     "data": {
      "image/png": "[encoded data removed]",
      "text/plain": [
       "<matplotlib.figure.Figure at 0x1b25a850>"
      ]
     },
     "metadata": {},
     "output_type": "display_data"
    },
    {
     "name": "stdout",
     "output_type": "stream",
     "text": [
      "beam search using time(ms): 473.283052444\n"
     ]
    }
   ],
   "source": [
    "predict(predictor, \"大棚辣椒果实变小怎么办,大棚辣椒果实变小防治措施\")\n",
    "predict(predictor, '你去打篮球吗')\n",
    "predict(predictor, '打篮球你去吗')\n",
    "predict(predictor, '这是周华健的新歌爱相随')\n",
    "inference('年少不懂高晓松,读懂已不再少年')\n",
    "inference('王凯整容了吗_王凯整容前后对比照片')\n",
    "inference('【贴图】韩敏英--性感小吊带黑丝')\n",
    "inference('彭于晏都力荐的《寒战2》imax 3d版 华龙网送票邀你提前看')\n",
    "inference('美女劈叉 鼻血狂喷')\n",
    "inference('》 卫生间 洗手间 ')\n",
    "inference('iphone 6s耐克主题手机壁纸')"
   ]
  },
  {
   "cell_type": "code",
   "execution_count": 9,
   "metadata": {
    "collapsed": false
   },
   "outputs": [
    {
     "name": "stdout",
     "output_type": "stream",
     "text": [
      "word_ids [8246, 9974, 1298, 426, 775, 448, 2238, 1800, 88, 2340, 7, 0, 0, 0, 0, 0, 0, 0, 0, 0] len: 20\n",
      "蜀山/战纪/赵丽/颖/古装/剧照/(/12/张/)/ \n",
      "蜀山/战纪/赵丽/颖/古装/剧照/(/12/张/)/ \n",
      "0 [1298, 426, 775, 6, 1] 赵丽/颖/古装/图片/<EOS> 0.0343904939991 -3.36998 -3.36998 [-0.067506388, -0.0051261894, -1.1525162, -1.6291225, -0.5157038]\n"
     ]
    },
    {
     "data": {
      "image/png": "[encoded data removed]",
      "text/plain": [
       "<matplotlib.figure.Figure at 0x475ac90>"
      ]
     },
     "metadata": {},
     "output_type": "display_data"
    },
    {
     "name": "stdout",
     "output_type": "stream",
     "text": [
      "beam search using time(ms): 472.775936127\n"
     ]
    }
   ],
   "source": [
    "inference('蜀山战纪赵丽颖古装剧照(12张) ')"
   ]
  },
  {
   "cell_type": "code",
   "execution_count": 10,
   "metadata": {
    "collapsed": false
   },
   "outputs": [
    {
     "name": "stdout",
     "output_type": "stream",
     "text": [
      "word_ids [323, 56, 758, 45, 301, 9147, 1733, 410, 570, 1100, 8, 6091, 1817, 0, 0, 0, 0, 0, 0, 0] len: 20\n",
      "幼儿/园/动物/简/笔画/教案/《/两/条/漂亮/的/小鱼/》\n",
      "幼儿/园/动物/简/笔画/教案/《/两/条/漂亮/的/小鱼/》\n",
      "0 [323, 56, 45, 301, 1] 幼儿/园/简/笔画/<EOS> 0.00862943820147 -4.75258 -4.75258 [-1.2289135, -0.05090991, -1.6772194, -0.010026683, -1.7855064]\n"
     ]
    },
    {
     "data": {
      "image/png": "[encoded data removed]",
      "text/plain": [
       "<matplotlib.figure.Figure at 0x1b2b8410>"
      ]
     },
     "metadata": {},
     "output_type": "display_data"
    },
    {
     "name": "stdout",
     "output_type": "stream",
     "text": [
      "beam search using time(ms): 478.260993958\n"
     ]
    }
   ],
   "source": [
    "inference('幼儿园动物简笔画教案《两条漂亮的小鱼》')"
   ]
  },
  {
   "cell_type": "code",
   "execution_count": 11,
   "metadata": {
    "collapsed": false
   },
   "outputs": [
    {
     "name": "stdout",
     "output_type": "stream",
     "text": [
      "word_ids [334, 595, 85, 1034, 11, 5593, 121, 389, 0, 0, 0, 0, 0, 0, 0, 0, 0, 0, 0, 0] len: 20\n",
      "第/六/感/美甲/美/睫/纹/秀\n",
      "第/六/感/美甲/美/睫/纹/秀\n",
      "0 [1034, 1] 美甲/<EOS> 0.0172641359985 -4.05912 -4.05912 [-0.38840267, -3.6707215]\n"
     ]
    },
    {
     "data": {
      "image/png": "[encoded data removed]",
      "text/plain": [
       "<matplotlib.figure.Figure at 0x1b37ef90>"
      ]
     },
     "metadata": {},
     "output_type": "display_data"
    },
    {
     "name": "stdout",
     "output_type": "stream",
     "text": [
      "beam search using time(ms): 438.035011292\n"
     ]
    }
   ],
   "source": [
    "inference('第六感美甲美睫纹秀')"
   ]
  },
  {
   "cell_type": "code",
   "execution_count": 12,
   "metadata": {
    "collapsed": false
   },
   "outputs": [
    {
     "name": "stdout",
     "output_type": "stream",
     "text": [
      "word_ids [4305, 5762, 3136, 5697, 2060, 389, 1961, 0, 0, 0, 0, 0, 0, 0, 0, 0, 0, 0, 0, 0] len: 20\n",
      "2013/春夏/男装/米兰/时装/秀/9\n",
      "2013/春夏/男装/米兰/时装/秀/9\n",
      "0 [2060, 389, 1] 时装/秀/<EOS> 0.0848686521909 -2.46665 -2.46665 [-0.84075445, -0.043509077, -1.5823871]\n"
     ]
    },
    {
     "data": {
      "image/png": "[encoded data removed]",
      "text/plain": [
       "<matplotlib.figure.Figure at 0x1b380090>"
      ]
     },
     "metadata": {},
     "output_type": "display_data"
    },
    {
     "name": "stdout",
     "output_type": "stream",
     "text": [
      "beam search using time(ms): 432.385206223\n"
     ]
    }
   ],
   "source": [
    "inference('2013春夏男装米兰时装秀9')"
   ]
  },
  {
   "cell_type": "code",
   "execution_count": 13,
   "metadata": {
    "collapsed": false
   },
   "outputs": [
    {
     "name": "stdout",
     "output_type": "stream",
     "text": [
      "word_ids [772, 7630, 67, 89652, 8, 19841, 0, 0, 0, 0, 0, 0, 0, 0, 0, 0, 0, 0, 0, 0] len: 20\n",
      "关于/房价/最/透彻/的/解读\n",
      "关于/房价/最/透彻/的/解读\n",
      "0 [20, 1] <UNK>/<EOS> 0.00320572678537 -5.74282 -5.74282 [-5.0647535, -0.67806274]\n"
     ]
    },
    {
     "data": {
      "image/png": "[encoded data removed]",
      "text/plain": [
       "<matplotlib.figure.Figure at 0x1cc280d0>"
      ]
     },
     "metadata": {},
     "output_type": "display_data"
    },
    {
     "name": "stdout",
     "output_type": "stream",
     "text": [
      "beam search using time(ms): 428.599119186\n"
     ]
    }
   ],
   "source": [
    "inference('关于房价最透彻的解读')"
   ]
  },
  {
   "cell_type": "code",
   "execution_count": 14,
   "metadata": {
    "collapsed": false
   },
   "outputs": [
    {
     "name": "stdout",
     "output_type": "stream",
     "text": [
      "word_ids [4667, 630, 7902, 51, 1297, 10515, 4961, 7170, 16504, 3467, 25032, 0, 0, 0, 0, 0, 0, 0, 0, 0] len: 20\n",
      "辽宁/省/中小/学/教师/职称/制度/改革/实施/方案/出台\n",
      "辽宁/省/中小/学/教师/职称/制度/改革/实施/方案/出台\n",
      "0 [1892, 18, 1] 高中/生/<EOS> 0.000708320402099 -7.25261 -7.25261 [-2.8495977, -0.80614299, -3.596873]\n"
     ]
    },
    {
     "data": {
      "image/png": "[encoded data removed]",
      "text/plain": [
       "<matplotlib.figure.Figure at 0x1cc31f10>"
      ]
     },
     "metadata": {},
     "output_type": "display_data"
    },
    {
     "name": "stdout",
     "output_type": "stream",
     "text": [
      "beam search using time(ms): 439.201116562\n"
     ]
    }
   ],
   "source": [
    "inference('辽宁省中小学教师职称制度改革实施方案出台')"
   ]
  },
  {
   "cell_type": "code",
   "execution_count": 15,
   "metadata": {
    "collapsed": false
   },
   "outputs": [
    {
     "name": "stdout",
     "output_type": "stream",
     "text": [
      "word_ids [4470, 452, 208, 0, 0, 0, 0, 0, 0, 0, 0, 0, 0, 0, 0, 0, 0, 0, 0, 0] len: 20\n",
      "骷髅/情侣/纹身\n",
      "骷髅/情侣/纹身\n",
      "0 [452, 4470, 208, 1] 情侣/骷髅/纹身/<EOS> 0.00957281897841 -4.64883 -4.64883 [-1.5342125, -2.3365819, -0.27246374, -0.5055697]\n"
     ]
    },
    {
     "data": {
      "image/png": "[encoded data removed]",
      "text/plain": [
       "<matplotlib.figure.Figure at 0x1b3ac510>"
      ]
     },
     "metadata": {},
     "output_type": "display_data"
    },
    {
     "name": "stdout",
     "output_type": "stream",
     "text": [
      "beam search using time(ms): 428.953170776\n"
     ]
    }
   ],
   "source": [
    "inference('骷髅情侣纹身')"
   ]
  },
  {
   "cell_type": "code",
   "execution_count": 16,
   "metadata": {
    "collapsed": false
   },
   "outputs": [
    {
     "name": "stdout",
     "output_type": "stream",
     "text": [
      "word_ids [42999, 869, 1474, 363, 8, 164, 926, 649, 0, 0, 0, 0, 0, 0, 0, 0, 0, 0, 0, 0] len: 20\n",
      "酷似/朴/姬/兰/的/刘/亦/菲\n",
      "酷似/朴/姬/兰/的/刘/亦/菲\n",
      "0 [20, 1] <UNK>/<EOS> 0.0135640087822 -4.30034 -4.30034 [-3.5344484, -0.76588696]\n"
     ]
    },
    {
     "data": {
      "image/png": "[encoded data removed]",
      "text/plain": [
       "<matplotlib.figure.Figure at 0x1ccacb90>"
      ]
     },
     "metadata": {},
     "output_type": "display_data"
    },
    {
     "name": "stdout",
     "output_type": "stream",
     "text": [
      "beam search using time(ms): 419.182062149\n"
     ]
    }
   ],
   "source": [
    "inference('酷似朴姬兰的刘亦菲')"
   ]
  },
  {
   "cell_type": "code",
   "execution_count": 17,
   "metadata": {
    "collapsed": false
   },
   "outputs": [
    {
     "name": "stdout",
     "output_type": "stream",
     "text": [
      "word_ids [42999, 164, 926, 649, 8, 869, 1474, 363, 0, 0, 0, 0, 0, 0, 0, 0, 0, 0, 0, 0] len: 20\n",
      "酷似/刘/亦/菲/的/朴/姬/兰\n",
      "酷似/刘/亦/菲/的/朴/姬/兰\n",
      "0 [20, 1] <UNK>/<EOS> 0.00746303008339 -4.89779 -4.89779 [-4.1094294, -0.78836459]\n"
     ]
    },
    {
     "data": {
      "image/png": "[encoded data removed]",
      "text/plain": [
       "<matplotlib.figure.Figure at 0x1cb88b10>"
      ]
     },
     "metadata": {},
     "output_type": "display_data"
    },
    {
     "name": "stdout",
     "output_type": "stream",
     "text": [
      "beam search using time(ms): 437.973022461\n"
     ]
    }
   ],
   "source": [
    "inference('酷似刘亦菲的朴姬兰')"
   ]
  },
  {
   "cell_type": "code",
   "execution_count": 18,
   "metadata": {
    "collapsed": false
   },
   "outputs": [
    {
     "name": "stdout",
     "output_type": "stream",
     "text": [
      "word_ids [97, 80, 322, 1866, 0, 0, 0, 0, 0, 0, 0, 0, 0, 0, 0, 0, 0, 0, 0, 0] len: 20\n",
      "我/爱/打/篮球\n",
      "我/爱/打/篮球\n",
      "0 [97, 80, 322, 1866, 1] 我/爱/打/篮球/<EOS> 0.0282638643231 -3.56617 -3.56617 [-1.3477634, -0.12122179, -1.0317607, -0.036978289, -1.0284472]\n"
     ]
    },
    {
     "data": {
      "image/png": "[encoded data removed]",
      "text/plain": [
       "<matplotlib.figure.Figure at 0x1cbaf550>"
      ]
     },
     "metadata": {},
     "output_type": "display_data"
    },
    {
     "name": "stdout",
     "output_type": "stream",
     "text": [
      "beam search using time(ms): 440.455913544\n"
     ]
    }
   ],
   "source": [
    "inference('我爱打篮球')"
   ]
  },
  {
   "cell_type": "code",
   "execution_count": 19,
   "metadata": {
    "collapsed": false
   },
   "outputs": [
    {
     "name": "stdout",
     "output_type": "stream",
     "text": [
      "word_ids [322, 1866, 181, 84, 181, 0, 0, 0, 0, 0, 0, 0, 0, 0, 0, 0, 0, 0, 0, 0] len: 20\n",
      "打/篮球/好/不/好\n",
      "打/篮球/好/不/好\n",
      "0 [322, 1866, 1] 打/篮球/<EOS> 0.0654768598742 -2.72606 -2.72606 [-0.80809081, -0.016887086, -1.9010807]\n"
     ]
    },
    {
     "data": {
      "image/png": "[encoded data removed]",
      "text/plain": [
       "<matplotlib.figure.Figure at 0x1cd08fd0>"
      ]
     },
     "metadata": {},
     "output_type": "display_data"
    },
    {
     "name": "stdout",
     "output_type": "stream",
     "text": [
      "beam search using time(ms): 463.042020798\n"
     ]
    }
   ],
   "source": [
    "inference('打篮球好不好')"
   ]
  },
  {
   "cell_type": "code",
   "execution_count": 20,
   "metadata": {
    "collapsed": false
   },
   "outputs": [
    {
     "name": "stdout",
     "output_type": "stream",
     "text": [
      "word_ids [27135, 7, 1614, 6577, 8, 157, 10898, 21077, 7, 0, 0, 0, 0, 0, 0, 0, 0, 0, 0, 0] len: 20\n",
      "厄瓜多尔/ /美丽/神秘/的/南/美洲/国度/ \n",
      "厄瓜多尔/ /美丽/神秘/的/南/美洲/国度/ \n",
      "0 [20, 1] <UNK>/<EOS> 0.00806319772774 -4.82045 -4.82045 [-4.3882627, -0.43218237]\n"
     ]
    },
    {
     "data": {
      "image/png": "[encoded data removed]",
      "text/plain": [
       "<matplotlib.figure.Figure at 0x1cc2d750>"
      ]
     },
     "metadata": {},
     "output_type": "display_data"
    },
    {
     "name": "stdout",
     "output_type": "stream",
     "text": [
      "beam search using time(ms): 437.681913376\n"
     ]
    }
   ],
   "source": [
    "inference('厄瓜多尔 美丽神秘的南美洲国度 ')"
   ]
  },
  {
   "cell_type": "code",
   "execution_count": null,
   "metadata": {
    "collapsed": true
   },
   "outputs": [],
   "source": []
  }
 ],
 "metadata": {
  "kernelspec": {
   "display_name": "Python 2",
   "language": "python",
   "name": "python2"
  },
  "language_info": {
   "codemirror_mode": {
    "name": "ipython",
    "version": 2
   },
   "file_extension": ".py",
   "mimetype": "text/x-python",
   "name": "python",
   "nbconvert_exporter": "python",
   "pygments_lexer": "ipython2",
   "version": "2.7.5"
  }
 },
 "nbformat": 4,
 "nbformat_minor": 0
}
