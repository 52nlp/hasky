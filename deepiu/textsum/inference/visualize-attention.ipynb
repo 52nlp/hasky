{
 "cells": [
  {
   "cell_type": "code",
   "execution_count": 1,
   "metadata": {
    "collapsed": false
   },
   "outputs": [],
   "source": [
    "%matplotlib inline\n",
    "import matplotlib.pyplot as plt"
   ]
  },
  {
   "cell_type": "code",
   "execution_count": 2,
   "metadata": {
    "collapsed": false
   },
   "outputs": [
    {
     "name": "stderr",
     "output_type": "stream",
     "text": [
      "tensorflow_version: 1.1.0-rc2\n"
     ]
    }
   ],
   "source": [
    "from __future__ import absolute_import\n",
    "from __future__ import division\n",
    "from __future__ import print_function\n",
    "\n",
    "import tensorflow as tf\n",
    "flags = tf.app.flags\n",
    "FLAGS = flags.FLAGS\n",
    "flags.DEFINE_string('vocab', '/home/gezi/temp/textsum/tfrecord/seq-basic/train/vocab.txt', 'vocabulary file')\n",
    "\n",
    "import sys, os, math\n",
    "import gezi, melt\n",
    "import numpy as np\n",
    "\n",
    "from deepiu.util import text2ids\n",
    "\n",
    "try:\n",
    "    import conf  \n",
    "    from conf import TEXT_MAX_WORDS, INPUT_TEXT_MAX_WORDS\n",
    "except Exception:\n",
    "    TEXT_MAX_WORDS = 20\n",
    "    INPUT_TEXT_MAX_WORDS = 20\n",
    "    \n",
    "decode_max_words = 10"
   ]
  },
  {
   "cell_type": "code",
   "execution_count": 3,
   "metadata": {
    "collapsed": true
   },
   "outputs": [],
   "source": [
    "def _text2ids(text, max_words):\n",
    "  word_ids = text2ids.text2ids(text, \n",
    "                               seg_method='basic', \n",
    "                               feed_single=True, \n",
    "                               allow_all_zero=True, \n",
    "                               pad=False)\n",
    "  #word_ids.append(text2ids.vocab.end_id())\n",
    "  word_ids = word_ids[:max_words]\n",
    "  word_ids = gezi.pad(word_ids, max_words, 0)\n",
    "\n",
    "  return word_ids"
   ]
  },
  {
   "cell_type": "code",
   "execution_count": 9,
   "metadata": {
    "collapsed": true
   },
   "outputs": [],
   "source": [
    "from libgezi import utf82gbk, gbk2utf8\n",
    "def predict(predictor, input_text):\n",
    "  input_text = utf82gbk(input_text)\n",
    "  word_ids = _text2ids(input_text, INPUT_TEXT_MAX_WORDS)\n",
    "  print('word_ids', word_ids, 'len:', len(word_ids))\n",
    "  print(gbk2utf8(text2ids.ids2text(word_ids)))\n",
    "\n",
    "  timer = gezi.Timer()\n",
    "  init_states = predictor.inference([\n",
    "                                        'beam_search_beam_size',\n",
    "                                        'beam_search_initial_state', \n",
    "                                        'beam_search_initial_ids', \n",
    "                                        'beam_search_initial_logprobs',\n",
    "                                        'beam_search_initial_alignments'\n",
    "                                        ], \n",
    "                                        feed_dict= {\n",
    "                                          tf.get_collection('input_text_feed')[0] : [word_ids]\n",
    "                                        })\n",
    "\n",
    "  step_func = lambda input_feed, state_feed : predictor.inference([\n",
    "                                        'beam_search_state', \n",
    "                                        'beam_search_ids', \n",
    "                                        'beam_search_logprobs',\n",
    "                                        'beam_search_alignments', \n",
    "                                        ], \n",
    "                                        feed_dict= {\n",
    "                                          #TODO...attetion still need input_text feed, see rnn_decoder.py  beam_search_step\n",
    "                                          #but not hurt perfomance much because encoder is fast? Is it possible to avoid this?\n",
    "                                          #anyway if no attention  will not need input_text_feed\n",
    "                                          tf.get_collection('input_text_feed')[0] : [word_ids],\n",
    "                                          tf.get_collection('beam_search_input_feed')[0] : input_feed,\n",
    "                                          tf.get_collection('beam_search_state_feed')[0] : state_feed\n",
    "                                        })\n",
    "\n",
    "  max_words = decode_max_words if decode_max_words else TEXT_MAX_WORDS\n",
    "  beams = melt.seq2seq.beam_search(init_states, \n",
    "                                   step_func, \n",
    "                                   end_id=text2ids.end_id(), \n",
    "                                   max_words=max_words, \n",
    "                                   length_normalization_factor=0.)\n",
    "\n",
    "  #print(len(beams))\n",
    "  #x_labels = [gbk2utf8(text2ids.vocab.key(x)).encode('utf8') for x in word_ids]\n",
    "  for i, beam in enumerate(beams):\n",
    "    print(gbk2utf8(text2ids.ids2text(word_ids)))\n",
    "    print(i, beam.words, gbk2utf8(text2ids.ids2text(beam.words)), math.exp(beam.logprob), beam.logprob, beam.score, beam.logprobs)\n",
    "    #print(beam.alignments_list)\n",
    "\n",
    "    #plt.matshow(beam.alignments_list)\n",
    "    \n",
    "    fig = plt.figure()\n",
    "    ax = fig.add_subplot(111)\n",
    "    cax = ax.matshow(beam.alignments_list, interpolation='nearest')\n",
    "    #fig.colorbar(cax)\n",
    "\n",
    "    #ax.set_xticklabels(['']+x_labels)\n",
    "    #ax.set_yticklabels(['']+alpha)\n",
    "\n",
    "    plt.show()\n",
    "    break\n",
    "\n",
    "\n",
    "  print('beam search using time(ms):', timer.elapsed_ms())"
   ]
  },
  {
   "cell_type": "code",
   "execution_count": 10,
   "metadata": {
    "collapsed": false
   },
   "outputs": [
    {
     "name": "stdout",
     "output_type": "stream",
     "text": [
      "/home/gezi/temp/textsum/tfrecord/seq-basic/train/vocab.txt\n"
     ]
    }
   ],
   "source": [
    "print(FLAGS.vocab)"
   ]
  },
  {
   "cell_type": "code",
   "execution_count": 11,
   "metadata": {
    "collapsed": false
   },
   "outputs": [
    {
     "name": "stderr",
     "output_type": "stream",
     "text": [
      "restore from /home/gezi/new/temp/textsum/model.seq2seq.attention/model.ckpt-11.5-972000\n"
     ]
    },
    {
     "name": "stdout",
     "output_type": "stream",
     "text": [
      "INFO:tensorflow:Restoring parameters from /home/gezi/new/temp/textsum/model.seq2seq.attention/model.ckpt-11.5-972000\n"
     ]
    },
    {
     "name": "stderr",
     "output_type": "stream",
     "text": [
      "import graph ok /home/gezi/new/temp/textsum/model.seq2seq.attention/model.ckpt-11.5-972000.meta\n",
      "restore ok /home/gezi/new/temp/textsum/model.seq2seq.attention/model.ckpt-11.5-972000\n"
     ]
    }
   ],
   "source": [
    "text2ids.init(FLAGS.vocab)\n",
    "#model_dir='/home/gezi/temp/textsum/model.seq2seq.attention.encode_end/'\n",
    "model_dir='/home/gezi/new/temp/textsum/model.seq2seq.attention'\n",
    "predictor = melt.Predictor(model_dir)\n",
    "\n",
    "def inference(text):\n",
    "  predict(predictor, text)"
   ]
  },
  {
   "cell_type": "code",
   "execution_count": 12,
   "metadata": {
    "collapsed": false
   },
   "outputs": [
    {
     "data": {
      "text/html": [
       "<style>\n",
       ".output_wrapper, .output {\n",
       "    height:auto !important;\n",
       "    max-height:10000px;  /* your desired max-height here */\n",
       "}\n",
       ".output_scroll {\n",
       "    box-shadow:none !important;\n",
       "    webkit-box-shadow:none !important;\n",
       "}\n",
       "</style>"
      ],
      "text/plain": [
       "<IPython.core.display.HTML object>"
      ]
     },
     "metadata": {},
     "output_type": "display_data"
    }
   ],
   "source": [
    "%%html\n",
    "<style>\n",
    ".output_wrapper, .output {\n",
    "    height:auto !important;\n",
    "    max-height:10000px;  /* your desired max-height here */\n",
    "}\n",
    ".output_scroll {\n",
    "    box-shadow:none !important;\n",
    "    webkit-box-shadow:none !important;\n",
    "}\n",
    "</style>"
   ]
  },
  {
   "cell_type": "code",
   "execution_count": 13,
   "metadata": {
    "collapsed": false
   },
   "outputs": [
    {
     "name": "stdout",
     "output_type": "stream",
     "text": [
      "word_ids [5143, 5088, 7316, 532, 13, 691, 742, 805, 5143, 5088, 7316, 532, 13, 11810, 16506, 0, 0, 0, 0, 0] len: 20\n",
      "大棚/辣椒/果实/变/小/怎么/办/,/大棚/辣椒/果实/变/小/防治/措施\n",
      "大棚/辣椒/果实/变/小/怎么/办/,/大棚/辣椒/果实/变/小/防治/措施\n",
      "0 [5143, 5088, 1] 大棚/辣椒/<EOS> 0.0695093102649 -2.66629 -2.66629 [-1.2530787, -0.39870685, -1.014509]\n"
     ]
    },
    {
     "data": {
      "image/png": "[encoded data removed]",
      "text/plain": [
       "<matplotlib.figure.Figure at 0x39e5810>"
      ]
     },
     "metadata": {},
     "output_type": "display_data"
    },
    {
     "name": "stdout",
     "output_type": "stream",
     "text": [
      "beam search using time(ms): 844.507217407\n",
      "word_ids [214, 899, 322, 1866, 949, 0, 0, 0, 0, 0, 0, 0, 0, 0, 0, 0, 0, 0, 0, 0] len: 20\n",
      "你/去/打/篮球/吗\n",
      "你/去/打/篮球/吗\n",
      "0 [322, 1866, 1] 打/篮球/<EOS> 0.0538204262979 -2.9221 -2.9221 [-0.52609634, -0.0077155437, -2.3882904]\n"
     ]
    },
    {
     "data": {
      "image/png": "[encoded data removed]",
      "text/plain": [
       "<matplotlib.figure.Figure at 0x1b570ad0>"
      ]
     },
     "metadata": {},
     "output_type": "display_data"
    },
    {
     "name": "stdout",
     "output_type": "stream",
     "text": [
      "beam search using time(ms): 261.173963547\n",
      "word_ids [322, 1866, 214, 899, 949, 0, 0, 0, 0, 0, 0, 0, 0, 0, 0, 0, 0, 0, 0, 0] len: 20\n",
      "打/篮球/你/去/吗\n",
      "打/篮球/你/去/吗\n",
      "0 [322, 1866, 1] 打/篮球/<EOS> 0.0341614003697 -3.37666 -3.37666 [-0.68633199, -0.0048829117, -2.6854441]\n"
     ]
    },
    {
     "data": {
      "image/png": "[encoded data removed]",
      "text/plain": [
       "<matplotlib.figure.Figure at 0x1b570350>"
      ]
     },
     "metadata": {},
     "output_type": "display_data"
    },
    {
     "name": "stdout",
     "output_type": "stream",
     "text": [
      "beam search using time(ms): 247.63584137\n",
      "word_ids [1492, 210, 267, 244, 655, 8, 22731, 80, 40621, 0, 0, 0, 0, 0, 0, 0, 0, 0, 0, 0] len: 20\n",
      "这/是/周/华/健/的/新歌/爱/相随\n",
      "这/是/周/华/健/的/新歌/爱/相随\n",
      "0 [267, 244, 655, 1] 周/华/健/<EOS> 0.164162482626 -1.8069 -1.8069 [-0.57514477, -0.010850595, -0.0038733473, -1.2170299]\n"
     ]
    },
    {
     "data": {
      "image/png": "[encoded data removed]",
      "text/plain": [
       "<matplotlib.figure.Figure at 0x1bd8ddd0>"
      ]
     },
     "metadata": {},
     "output_type": "display_data"
    },
    {
     "name": "stdout",
     "output_type": "stream",
     "text": [
      "beam search using time(ms): 259.93514061\n",
      "word_ids [25394, 84, 2743, 19, 807, 752, 805, 31304, 3123, 84, 2102, 1804, 0, 0, 0, 0, 0, 0, 0, 0] len: 20\n",
      "年少/不/懂/高/晓/松/,/读懂/已/不/再/少年\n",
      "年少/不/懂/高/晓/松/,/读懂/已/不/再/少年\n",
      "0 [19, 807, 752, 1] 高/晓/松/<EOS> 0.0669089862621 -2.70442 -2.70442 [-1.4789623, -0.011377807, -0.0054248977, -1.208657]\n"
     ]
    },
    {
     "data": {
      "image/png": "[encoded data removed]",
      "text/plain": [
       "<matplotlib.figure.Figure at 0x1ba74f10>"
      ]
     },
     "metadata": {},
     "output_type": "display_data"
    },
    {
     "name": "stdout",
     "output_type": "stream",
     "text": [
      "beam search using time(ms): 251.739025116\n",
      "word_ids [60, 811, 2742, 235, 949, 3383, 60, 811, 2742, 2841, 1679, 57, 0, 0, 0, 0, 0, 0, 0, 0] len: 20\n",
      "王/凯/整容/了/吗/_/王/凯/整容/前后/对比/照片\n",
      "王/凯/整容/了/吗/_/王/凯/整容/前后/对比/照片\n",
      "0 [60, 811, 2742, 2841, 1] 王/凯/整容/前后/<EOS> 0.15669827591 -1.85343 -1.85343 [-0.16633822, -0.0016213617, -0.36100912, -0.15108199, -1.1733825]\n"
     ]
    },
    {
     "data": {
      "image/png": "[encoded data removed]",
      "text/plain": [
       "<matplotlib.figure.Figure at 0x1c941510>"
      ]
     },
     "metadata": {},
     "output_type": "display_data"
    },
    {
     "name": "stdout",
     "output_type": "stream",
     "text": [
      "beam search using time(ms): 242.740869522\n"
     ]
    }
   ],
   "source": [
    "predict(predictor, \"大棚辣椒果实变小怎么办,大棚辣椒果实变小防治措施\")\n",
    "predict(predictor, '你去打篮球吗')\n",
    "predict(predictor, '打篮球你去吗')\n",
    "predict(predictor, '这是周华健的新歌爱相随')\n",
    "inference('年少不懂高晓松,读懂已不再少年')\n",
    "inference('王凯整容了吗_王凯整容前后对比照片')"
   ]
  },
  {
   "cell_type": "code",
   "execution_count": null,
   "metadata": {
    "collapsed": true
   },
   "outputs": [],
   "source": []
  }
 ],
 "metadata": {
  "kernelspec": {
   "display_name": "Python 2",
   "language": "python",
   "name": "python2"
  },
  "language_info": {
   "codemirror_mode": {
    "name": "ipython",
    "version": 2
   },
   "file_extension": ".py",
   "mimetype": "text/x-python",
   "name": "python",
   "nbconvert_exporter": "python",
   "pygments_lexer": "ipython2",
   "version": "2.7.5"
  }
 },
 "nbformat": 4,
 "nbformat_minor": 0
}
