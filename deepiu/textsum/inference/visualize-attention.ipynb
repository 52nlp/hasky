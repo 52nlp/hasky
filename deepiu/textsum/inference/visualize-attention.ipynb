{
 "cells": [
  {
   "cell_type": "code",
   "execution_count": 1,
   "metadata": {
    "collapsed": false
   },
   "outputs": [],
   "source": [
    "%matplotlib inline\n",
    "import matplotlib.pyplot as plt"
   ]
  },
  {
   "cell_type": "code",
   "execution_count": 2,
   "metadata": {
    "collapsed": false
   },
   "outputs": [
    {
     "name": "stderr",
     "output_type": "stream",
     "text": [
      "tensorflow_version: 1.1.0-rc0\n"
     ]
    }
   ],
   "source": [
    "from __future__ import absolute_import\n",
    "from __future__ import division\n",
    "from __future__ import print_function\n",
    "\n",
    "import tensorflow as tf\n",
    "flags = tf.app.flags\n",
    "FLAGS = flags.FLAGS\n",
    "flags.DEFINE_string('vocab', '/home/gezi/temp/textsum/tfrecord/seq-basic.10w/train/vocab.txt', 'vocabulary file')\n",
    "\n",
    "import sys, os, math\n",
    "import gezi, melt\n",
    "import numpy as np\n",
    "\n",
    "from deepiu.util import text2ids\n",
    "\n",
    "try:\n",
    "    import conf  \n",
    "    from conf import TEXT_MAX_WORDS, INPUT_TEXT_MAX_WORDS\n",
    "except Exception:\n",
    "    TEXT_MAX_WORDS = 20\n",
    "    INPUT_TEXT_MAX_WORDS = 20\n",
    "    \n",
    "decode_max_words = 10"
   ]
  },
  {
   "cell_type": "code",
   "execution_count": 3,
   "metadata": {
    "collapsed": true
   },
   "outputs": [],
   "source": [
    "def _text2ids(text, max_words):\n",
    "  word_ids = text2ids.text2ids(text, \n",
    "                               seg_method='basic', \n",
    "                               feed_single=True, \n",
    "                               allow_all_zero=True, \n",
    "                               pad=False)\n",
    "  #word_ids.append(text2ids.vocab.end_id())\n",
    "  word_ids = word_ids[:max_words]\n",
    "  word_ids = gezi.pad(word_ids, max_words, 0)\n",
    "\n",
    "  return word_ids"
   ]
  },
  {
   "cell_type": "code",
   "execution_count": 4,
   "metadata": {
    "collapsed": true
   },
   "outputs": [],
   "source": [
    "from libgezi import utf82gbk, gbk2utf8\n",
    "def predict(predictor, input_text):\n",
    "  input_text = utf82gbk(input_text)\n",
    "  word_ids = _text2ids(input_text, INPUT_TEXT_MAX_WORDS)\n",
    "  print('word_ids', word_ids, 'len:', len(word_ids))\n",
    "  print(gbk2utf8(text2ids.ids2text(word_ids)))\n",
    "\n",
    "  timer = gezi.Timer()\n",
    "  init_states = predictor.inference([\n",
    "                                        'beam_search_beam_size',\n",
    "                                        'beam_search_initial_state', \n",
    "                                        'beam_search_initial_ids', \n",
    "                                        'beam_search_initial_logprobs',\n",
    "                                        'beam_search_initial_alignments'\n",
    "                                        ], \n",
    "                                        feed_dict= {\n",
    "                                          tf.get_collection('input_text_feed')[0] : [word_ids]\n",
    "                                        })\n",
    "\n",
    "  step_func = lambda input_feed, state_feed : predictor.inference([\n",
    "                                        'beam_search_state', \n",
    "                                        'beam_search_ids', \n",
    "                                        'beam_search_logprobs',\n",
    "                                        'beam_search_alignments', \n",
    "                                        ], \n",
    "                                        feed_dict= {\n",
    "                                          #TODO...attetion still need input_text feed, see rnn_decoder.py  beam_search_step\n",
    "                                          #but not hurt perfomance much because encoder is fast? Is it possible to avoid this?\n",
    "                                          #anyway if no attention  will not need input_text_feed\n",
    "                                          tf.get_collection('input_text_feed')[0] : [word_ids],\n",
    "                                          tf.get_collection('beam_search_input_feed')[0] : input_feed,\n",
    "                                          tf.get_collection('beam_search_state_feed')[0] : state_feed\n",
    "                                        })\n",
    "\n",
    "  max_words = decode_max_words if decode_max_words else TEXT_MAX_WORDS\n",
    "  beams = melt.seq2seq.beam_search(init_states, \n",
    "                                   step_func, \n",
    "                                   end_id=text2ids.end_id(), \n",
    "                                   max_words=max_words, \n",
    "                                   length_normalization_factor=0.)\n",
    "\n",
    "  #print(len(beams))\n",
    "  #x_labels = [gbk2utf8(text2ids.vocab.key(x)).encode('utf8') for x in word_ids]\n",
    "  for i, beam in enumerate(beams):\n",
    "    print(gbk2utf8(text2ids.ids2text(word_ids)))\n",
    "    print(i, beam.words, gbk2utf8(text2ids.ids2text(beam.words)), math.exp(beam.logprob), beam.logprob, beam.score, beam.logprobs)\n",
    "    #print(beam.alignments_list)\n",
    "\n",
    "    #plt.matshow(beam.alignments_list)\n",
    "    \n",
    "    fig = plt.figure()\n",
    "    ax = fig.add_subplot(111)\n",
    "    cax = ax.matshow(beam.alignments_list, interpolation='nearest')\n",
    "    #fig.colorbar(cax)\n",
    "\n",
    "    #ax.set_xticklabels(['']+x_labels)\n",
    "    #ax.set_yticklabels(['']+alpha)\n",
    "\n",
    "    plt.show()\n",
    "\n",
    "\n",
    "  print('beam search using time(ms):', timer.elapsed_ms())"
   ]
  },
  {
   "cell_type": "code",
   "execution_count": 5,
   "metadata": {
    "collapsed": false
   },
   "outputs": [
    {
     "name": "stdout",
     "output_type": "stream",
     "text": [
      "/home/gezi/temp/textsum/tfrecord/seq-basic.10w/train/vocab.txt\n"
     ]
    }
   ],
   "source": [
    "print(FLAGS.vocab)"
   ]
  },
  {
   "cell_type": "code",
   "execution_count": 6,
   "metadata": {
    "collapsed": false
   },
   "outputs": [
    {
     "name": "stderr",
     "output_type": "stream",
     "text": [
      "ENCODE_UNK 1\n",
      "restore from /home/gezi/temp/textsum/model.seq2seq.attention/model.ckpt-670001\n"
     ]
    },
    {
     "name": "stdout",
     "output_type": "stream",
     "text": [
      "INFO:tensorflow:Restoring parameters from /home/gezi/temp/textsum/model.seq2seq.attention/model.ckpt-670001\n"
     ]
    },
    {
     "name": "stderr",
     "output_type": "stream",
     "text": [
      "import graph ok /home/gezi/temp/textsum/model.seq2seq.attention/model.ckpt-670001.meta\n",
      "restore ok /home/gezi/temp/textsum/model.seq2seq.attention/model.ckpt-670001\n"
     ]
    }
   ],
   "source": [
    "text2ids.init(FLAGS.vocab)\n",
    "#model_dir='/home/gezi/temp/textsum/model.seq2seq.attention.encode_end/'\n",
    "model_dir='/home/gezi/temp/textsum/model.seq2seq.attention'\n",
    "predictor = melt.Predictor(model_dir)\n",
    "\n",
    "def inference(text):\n",
    "  predict(predictor, text)"
   ]
  },
  {
   "cell_type": "code",
   "execution_count": 7,
   "metadata": {
    "collapsed": false
   },
   "outputs": [
    {
     "data": {
      "text/html": [
       "<style>\n",
       ".output_wrapper, .output {\n",
       "    height:auto !important;\n",
       "    max-height:10000px;  /* your desired max-height here */\n",
       "}\n",
       ".output_scroll {\n",
       "    box-shadow:none !important;\n",
       "    webkit-box-shadow:none !important;\n",
       "}\n",
       "</style>"
      ],
      "text/plain": [
       "<IPython.core.display.HTML object>"
      ]
     },
     "metadata": {},
     "output_type": "display_data"
    }
   ],
   "source": [
    "%%html\n",
    "<style>\n",
    ".output_wrapper, .output {\n",
    "    height:auto !important;\n",
    "    max-height:10000px;  /* your desired max-height here */\n",
    "}\n",
    ".output_scroll {\n",
    "    box-shadow:none !important;\n",
    "    webkit-box-shadow:none !important;\n",
    "}\n",
    "</style>"
   ]
  },
  {
   "cell_type": "code",
   "execution_count": 8,
   "metadata": {
    "collapsed": false
   },
   "outputs": [
    {
     "name": "stdout",
     "output_type": "stream",
     "text": [
      "word_ids [25394, 84, 2743, 20, 807, 752, 805, 31304, 3123, 84, 2102, 1804, 0, 0, 0, 0, 0, 0, 0, 0] len: 20\n",
      "年少/不/懂/高/晓/松/,/读懂/已/不/再/少年\n",
      "年少/不/懂/高/晓/松/,/读懂/已/不/再/少年\n",
      "0 [20, 807, 752, 2] 高/晓/松/<EOS> 0.0225216498395 -3.79328 -3.79328 [-2.4955769, -0.0080770999, -0.055818126, -1.2338063]\n"
     ]
    },
    {
     "data": {
      "image/png": "[encoded data removed]",
      "text/plain": [
       "<matplotlib.figure.Figure at 0x7f78a90>"
      ]
     },
     "metadata": {},
     "output_type": "display_data"
    },
    {
     "name": "stdout",
     "output_type": "stream",
     "text": [
      "年少/不/懂/高/晓/松/,/读懂/已/不/再/少年\n",
      "1 [20, 807, 2] 高/晓/<EOS> 0.000864102072758 -7.05382 -7.05382 [-2.4955769, -0.0080770999, -4.5501657]\n"
     ]
    },
    {
     "data": {
      "image/png": "[encoded data removed]",
      "text/plain": [
       "<matplotlib.figure.Figure at 0xf5ba590>"
      ]
     },
     "metadata": {},
     "output_type": "display_data"
    },
    {
     "name": "stdout",
     "output_type": "stream",
     "text": [
      "年少/不/懂/高/晓/松/,/读懂/已/不/再/少年\n",
      "2 [84, 2743, 2] 不/懂/<EOS> 0.000437724199309 -7.73392 -7.73392 [-2.4644423, -2.9197059, -2.3497734]\n"
     ]
    },
    {
     "data": {
      "image/png": "[encoded data removed]",
      "text/plain": [
       "<matplotlib.figure.Figure at 0x11e513d0>"
      ]
     },
     "metadata": {},
     "output_type": "display_data"
    },
    {
     "name": "stdout",
     "output_type": "stream",
     "text": [
      "年少/不/懂/高/晓/松/,/读懂/已/不/再/少年\n",
      "3 [1804, 2] 少年/<EOS> 0.000293734168571 -8.13284 -8.13284 [-4.2604895, -3.8723454]\n"
     ]
    },
    {
     "data": {
      "image/png": "[encoded data removed]",
      "text/plain": [
       "<matplotlib.figure.Figure at 0x1050af90>"
      ]
     },
     "metadata": {},
     "output_type": "display_data"
    },
    {
     "name": "stdout",
     "output_type": "stream",
     "text": [
      "年少/不/懂/高/晓/松/,/读懂/已/不/再/少年\n",
      "4 [1804, 20, 807, 752, 2] 少年/高/晓/松/<EOS> 0.000239001949568 -8.33904 -8.33904 [-4.2604895, -3.5059304, -0.020772174, -0.11563262, -0.43621418]\n"
     ]
    },
    {
     "data": {
      "image/png": "[encoded data removed]",
      "text/plain": [
       "<matplotlib.figure.Figure at 0x112da0d0>"
      ]
     },
     "metadata": {},
     "output_type": "display_data"
    },
    {
     "name": "stdout",
     "output_type": "stream",
     "text": [
      "年少/不/懂/高/晓/松/,/读懂/已/不/再/少年\n",
      "5 [84, 2102, 2] 不/再/<EOS> 0.000113799565585 -9.08107 -9.08107 [-2.4644423, -2.7494388, -3.8671904]\n"
     ]
    },
    {
     "data": {
      "image/png": "[encoded data removed]",
      "text/plain": [
       "<matplotlib.figure.Figure at 0xccf9310>"
      ]
     },
     "metadata": {},
     "output_type": "display_data"
    },
    {
     "name": "stdout",
     "output_type": "stream",
     "text": [
      "年少/不/懂/高/晓/松/,/读懂/已/不/再/少年\n",
      "6 [20, 807, 752, 1804, 2] 高/晓/松/少年/<EOS> 9.91938706087e-05 -9.21843 -9.21843 [-2.4955769, -0.0080770999, -0.055818126, -6.0496564, -0.60930568]\n"
     ]
    },
    {
     "data": {
      "image/png": "[encoded data removed]",
      "text/plain": [
       "<matplotlib.figure.Figure at 0x16e2a3d0>"
      ]
     },
     "metadata": {},
     "output_type": "display_data"
    },
    {
     "name": "stdout",
     "output_type": "stream",
     "text": [
      "年少/不/懂/高/晓/松/,/读懂/已/不/再/少年\n",
      "7 [752, 2] 松/<EOS> 6.73480508133e-05 -9.60564 -9.60564 [-7.1236982, -2.4819384]\n"
     ]
    },
    {
     "data": {
      "image/png": "[encoded data removed]",
      "text/plain": [
       "<matplotlib.figure.Figure at 0xd9938d0>"
      ]
     },
     "metadata": {},
     "output_type": "display_data"
    },
    {
     "name": "stdout",
     "output_type": "stream",
     "text": [
      "年少/不/懂/高/晓/松/,/读懂/已/不/再/少年\n",
      "8 [807, 752, 2] 晓/松/<EOS> 5.92139699226e-05 -9.73435 -9.73435 [-7.8535132, -1.1275055, -0.75333393]\n"
     ]
    },
    {
     "data": {
      "image/png": "[encoded data removed]",
      "text/plain": [
       "<matplotlib.figure.Figure at 0xccfd8d0>"
      ]
     },
     "metadata": {},
     "output_type": "display_data"
    },
    {
     "name": "stdout",
     "output_type": "stream",
     "text": [
      "年少/不/懂/高/晓/松/,/读懂/已/不/再/少年\n",
      "9 [20, 807, 752, 20, 807, 752, 2] 高/晓/松/高/晓/松/<EOS> 5.27967452435e-05 -9.84906 -9.84906 [-2.4955769, -0.0080770999, -0.055818126, -6.1988082, -0.55017173, -0.063822277, -0.4767862]\n"
     ]
    },
    {
     "data": {
      "image/png": "[encoded data removed]",
      "text/plain": [
       "<matplotlib.figure.Figure at 0x10b24bd0>"
      ]
     },
     "metadata": {},
     "output_type": "display_data"
    },
    {
     "name": "stdout",
     "output_type": "stream",
     "text": [
      "beam search using time(ms): 2295.24302483\n",
      "word_ids [16898, 84, 124, 639, 1579, 3393, 10617, 982, 8039, 1133, 11347, 13476, 639, 0, 0, 0, 0, 0, 0, 0] len: 20\n",
      "出国/不/会/说/英语/？/每天/5/分钟/，/自信/开口/说\n",
      "出国/不/会/说/英语/？/每天/5/分钟/，/自信/开口/说\n",
      "0 [1579, 2] 英语/<EOS> 0.00486664832519 -5.32535 -5.32535 [-1.9742458, -3.3511038]\n"
     ]
    },
    {
     "data": {
      "image/png": "[encoded data removed]",
      "text/plain": [
       "<matplotlib.figure.Figure at 0xde57110>"
      ]
     },
     "metadata": {},
     "output_type": "display_data"
    },
    {
     "name": "stdout",
     "output_type": "stream",
     "text": [
      "出国/不/会/说/英语/？/每天/5/分钟/，/自信/开口/说\n",
      "1 [1579, 1579, 2] 英语/英语/<EOS> 0.00232957836843 -6.06207 -6.06207 [-1.9742458, -2.3622255, -1.7255967]\n"
     ]
    },
    {
     "data": {
      "image/png": "[encoded data removed]",
      "text/plain": [
       "<matplotlib.figure.Figure at 0x183c9950>"
      ]
     },
     "metadata": {},
     "output_type": "display_data"
    },
    {
     "name": "stdout",
     "output_type": "stream",
     "text": [
      "出国/不/会/说/英语/？/每天/5/分钟/，/自信/开口/说\n",
      "2 [84, 124, 639, 2] 不/会/说/<EOS> 0.00192136345716 -6.25472 -6.25472 [-3.8708322, -0.42027426, -0.23741011, -1.726204]\n"
     ]
    },
    {
     "data": {
      "image/png": "[encoded data removed]",
      "text/plain": [
       "<matplotlib.figure.Figure at 0x16f7bd10>"
      ]
     },
     "metadata": {},
     "output_type": "display_data"
    },
    {
     "name": "stdout",
     "output_type": "stream",
     "text": [
      "出国/不/会/说/英语/？/每天/5/分钟/，/自信/开口/说\n",
      "3 [84, 124, 639, 1579, 2] 不/会/说/英语/<EOS> 0.00134893430879 -6.60844 -6.60844 [-3.8708322, -0.42027426, -0.23741011, -1.513527, -0.56639713]\n"
     ]
    },
    {
     "data": {
      "image/png": "[encoded data removed]",
      "text/plain": [
       "<matplotlib.figure.Figure at 0x16fa4c90>"
      ]
     },
     "metadata": {},
     "output_type": "display_data"
    },
    {
     "name": "stdout",
     "output_type": "stream",
     "text": [
      "出国/不/会/说/英语/？/每天/5/分钟/，/自信/开口/说\n",
      "4 [639, 1579, 2] 说/英语/<EOS> 0.000766165526182 -7.17411 -7.17411 [-4.3504295, -1.4199423, -1.4037403]\n"
     ]
    },
    {
     "data": {
      "image/png": "[encoded data removed]",
      "text/plain": [
       "<matplotlib.figure.Figure at 0x184cbd90>"
      ]
     },
     "metadata": {},
     "output_type": "display_data"
    },
    {
     "name": "stdout",
     "output_type": "stream",
     "text": [
      "出国/不/会/说/英语/？/每天/5/分钟/，/自信/开口/说\n",
      "5 [16898, 2] 出国/<EOS> 0.000550797813262 -7.50414 -7.50414 [-4.8974628, -2.6066802]\n"
     ]
    },
    {
     "data": {
      "image/png": "[encoded data removed]",
      "text/plain": [
       "<matplotlib.figure.Figure at 0x16fa3a90>"
      ]
     },
     "metadata": {},
     "output_type": "display_data"
    },
    {
     "name": "stdout",
     "output_type": "stream",
     "text": [
      "出国/不/会/说/英语/？/每天/5/分钟/，/自信/开口/说\n",
      "6 [11347, 2] 自信/<EOS> 0.000471419864568 -7.65976 -7.65976 [-5.7662754, -1.8934863]\n"
     ]
    },
    {
     "data": {
      "image/png": "[encoded data removed]",
      "text/plain": [
       "<matplotlib.figure.Figure at 0x1845ec10>"
      ]
     },
     "metadata": {},
     "output_type": "display_data"
    },
    {
     "name": "stdout",
     "output_type": "stream",
     "text": [
      "出国/不/会/说/英语/？/每天/5/分钟/，/自信/开口/说\n",
      "7 [639, 2] 说/<EOS> 0.000243116456161 -8.32197 -8.32197 [-4.3504295, -3.9715409]\n"
     ]
    },
    {
     "data": {
      "image/png": "[encoded data removed]",
      "text/plain": [
       "<matplotlib.figure.Figure at 0x183bdf10>"
      ]
     },
     "metadata": {},
     "output_type": "display_data"
    },
    {
     "name": "stdout",
     "output_type": "stream",
     "text": [
      "出国/不/会/说/英语/？/每天/5/分钟/，/自信/开口/说\n",
      "8 [16898, 1579, 2] 出国/英语/<EOS> 0.000206440675063 -8.4855 -8.4855 [-4.8974628, -2.6870949, -0.90093982]\n"
     ]
    },
    {
     "data": {
      "image/png": "[encoded data removed]",
      "text/plain": [
       "<matplotlib.figure.Figure at 0x185c7e90>"
      ]
     },
     "metadata": {},
     "output_type": "display_data"
    },
    {
     "name": "stdout",
     "output_type": "stream",
     "text": [
      "出国/不/会/说/英语/？/每天/5/分钟/，/自信/开口/说\n",
      "9 [16898, 84, 124, 639, 2] 出国/不/会/说/<EOS> 0.00014506296526 -8.83834 -8.83834 [-4.8974628, -2.2431166, -0.20288053, -0.61485994, -0.88002312]\n"
     ]
    },
    {
     "data": {
      "image/png": "[encoded data removed]",
      "text/plain": [
       "<matplotlib.figure.Figure at 0xd9bb710>"
      ]
     },
     "metadata": {},
     "output_type": "display_data"
    },
    {
     "name": "stdout",
     "output_type": "stream",
     "text": [
      "beam search using time(ms): 1519.95921135\n",
      "word_ids [10113, 15, 6199, 3473, 313, 3110, 5594, 5680, 1133, 1551, 427, 215, 1660, 63037, 316, 0, 0, 0, 0, 0] len: 20\n",
      "河源/人/凭/身份/证/可以/申请/贷款/，/10/万/月/息/257/元\n",
      "河源/人/凭/身份/证/可以/申请/贷款/，/10/万/月/息/257/元\n",
      "0 [3473, 313, 2] 身份/证/<EOS> 0.0139338564397 -4.27343 -4.27343 [-1.7636789, -0.0032384354, -2.5065165]\n"
     ]
    },
    {
     "data": {
      "image/png": "[encoded data removed]",
      "text/plain": [
       "<matplotlib.figure.Figure at 0x7f7d790>"
      ]
     },
     "metadata": {},
     "output_type": "display_data"
    },
    {
     "name": "stdout",
     "output_type": "stream",
     "text": [
      "河源/人/凭/身份/证/可以/申请/贷款/，/10/万/月/息/257/元\n",
      "1 [5680, 2] 贷款/<EOS> 0.00620119331961 -5.08301 -5.08301 [-2.6155953, -2.4674184]\n"
     ]
    },
    {
     "data": {
      "image/png": "[encoded data removed]",
      "text/plain": [
       "<matplotlib.figure.Figure at 0x18463a90>"
      ]
     },
     "metadata": {},
     "output_type": "display_data"
    },
    {
     "name": "stdout",
     "output_type": "stream",
     "text": [
      "河源/人/凭/身份/证/可以/申请/贷款/，/10/万/月/息/257/元\n",
      "2 [5680, 3473, 313, 2] 贷款/身份/证/<EOS> 0.00300207329895 -5.80845 -5.80845 [-2.6155953, -2.4050834, -0.022343911, -0.7654295]\n"
     ]
    },
    {
     "data": {
      "image/png": "[encoded data removed]",
      "text/plain": [
       "<matplotlib.figure.Figure at 0x186a8350>"
      ]
     },
     "metadata": {},
     "output_type": "display_data"
    },
    {
     "name": "stdout",
     "output_type": "stream",
     "text": [
      "河源/人/凭/身份/证/可以/申请/贷款/，/10/万/月/息/257/元\n",
      "3 [5680, 5680, 2] 贷款/贷款/<EOS> 0.00272811006213 -5.90415 -5.90415 [-2.6155953, -1.718353, -1.5701978]\n"
     ]
    },
    {
     "data": {
      "image/png": "[encoded data removed]",
      "text/plain": [
       "<matplotlib.figure.Figure at 0x18612050>"
      ]
     },
     "metadata": {},
     "output_type": "display_data"
    },
    {
     "name": "stdout",
     "output_type": "stream",
     "text": [
      "河源/人/凭/身份/证/可以/申请/贷款/，/10/万/月/息/257/元\n",
      "4 [10113, 3473, 313, 2] 河源/身份/证/<EOS> 0.000882695461317 -7.03253 -7.03253 [-4.9561143, -1.455868, -0.0021916435, -0.61835605]\n"
     ]
    },
    {
     "data": {
      "image/png": "[encoded data removed]",
      "text/plain": [
       "<matplotlib.figure.Figure at 0x1860db50>"
      ]
     },
     "metadata": {},
     "output_type": "display_data"
    },
    {
     "name": "stdout",
     "output_type": "stream",
     "text": [
      "河源/人/凭/身份/证/可以/申请/贷款/，/10/万/月/息/257/元\n",
      "5 [5680, 313, 2] 贷款/证/<EOS> 0.000739437384163 -7.20962 -7.20962 [-2.6155953, -3.6392276, -0.95479828]\n"
     ]
    },
    {
     "data": {
      "image/png": "[encoded data removed]",
      "text/plain": [
       "<matplotlib.figure.Figure at 0x18770190>"
      ]
     },
     "metadata": {},
     "output_type": "display_data"
    },
    {
     "name": "stdout",
     "output_type": "stream",
     "text": [
      "河源/人/凭/身份/证/可以/申请/贷款/，/10/万/月/息/257/元\n",
      "6 [10113, 15, 3473, 313, 2] 河源/人/身份/证/<EOS> 0.000608731181926 -7.40413 -7.40413 [-4.9561143, -0.89268523, -1.0303679, -0.0043146377, -0.52065182]\n"
     ]
    },
    {
     "data": {
      "image/png": "[encoded data removed]",
      "text/plain": [
       "<matplotlib.figure.Figure at 0x1878f8d0>"
      ]
     },
     "metadata": {},
     "output_type": "display_data"
    },
    {
     "name": "stdout",
     "output_type": "stream",
     "text": [
      "河源/人/凭/身份/证/可以/申请/贷款/，/10/万/月/息/257/元\n",
      "7 [5680, 5594, 5680, 2] 贷款/申请/贷款/<EOS> 0.000546979964132 -7.5111 -7.5111 [-2.6155953, -3.1705186, -0.69523865, -1.0297461]\n"
     ]
    },
    {
     "data": {
      "image/png": "[encoded data removed]",
      "text/plain": [
       "<matplotlib.figure.Figure at 0x18725fd0>"
      ]
     },
     "metadata": {},
     "output_type": "display_data"
    },
    {
     "name": "stdout",
     "output_type": "stream",
     "text": [
      "河源/人/凭/身份/证/可以/申请/贷款/，/10/万/月/息/257/元\n",
      "8 [3473, 313, 5680, 2] 身份/证/贷款/<EOS> 0.000545410256421 -7.51397 -7.51397 [-1.7636789, -0.0032384354, -4.4147921, -1.3322629]\n"
     ]
    },
    {
     "data": {
      "image/png": "[encoded data removed]",
      "text/plain": [
       "<matplotlib.figure.Figure at 0x186f5c10>"
      ]
     },
     "metadata": {},
     "output_type": "display_data"
    },
    {
     "name": "stdout",
     "output_type": "stream",
     "text": [
      "河源/人/凭/身份/证/可以/申请/贷款/，/10/万/月/息/257/元\n",
      "9 [3473, 313, 3473, 313, 2] 身份/证/身份/证/<EOS> 0.000360193644191 -7.92887 -7.92887 [-1.7636789, -0.0032384354, -4.5650682, -0.034669377, -1.5622139]\n"
     ]
    },
    {
     "data": {
      "image/png": "[encoded data removed]",
      "text/plain": [
       "<matplotlib.figure.Figure at 0x188ce7d0>"
      ]
     },
     "metadata": {},
     "output_type": "display_data"
    },
    {
     "name": "stdout",
     "output_type": "stream",
     "text": [
      "beam search using time(ms): 1512.49504089\n",
      "word_ids [51, 1582, 235, 14508, 6394, 2089, 5443, 698, 1939, 19373, 1678, 6456, 0, 0, 0, 0, 0, 0, 0, 0] len: 20\n",
      "学/完/了/这些/课程/才/知道/什么/叫/全能/产品/经理\n",
      "学/完/了/这些/课程/才/知道/什么/叫/全能/产品/经理\n",
      "0 [6394, 2] 课程/<EOS> 0.00114609941497 -6.77139 -6.77139 [-4.7766509, -1.99474]\n"
     ]
    },
    {
     "data": {
      "image/png": "[encoded data removed]",
      "text/plain": [
       "<matplotlib.figure.Figure at 0x183b9b50>"
      ]
     },
     "metadata": {},
     "output_type": "display_data"
    },
    {
     "name": "stdout",
     "output_type": "stream",
     "text": [
      "学/完/了/这些/课程/才/知道/什么/叫/全能/产品/经理\n",
      "1 [1678, 6456, 2] 产品/经理/<EOS> 0.000430536374305 -7.75048 -7.75048 [-4.5197177, -2.1115925, -1.1191684]\n"
     ]
    },
    {
     "data": {
      "image/png": "[encoded data removed]",
      "text/plain": [
       "<matplotlib.figure.Figure at 0x18619910>"
      ]
     },
     "metadata": {},
     "output_type": "display_data"
    },
    {
     "name": "stdout",
     "output_type": "stream",
     "text": [
      "学/完/了/这些/课程/才/知道/什么/叫/全能/产品/经理\n",
      "2 [19373, 1678, 2] 全能/产品/<EOS> 0.000372890733638 -7.89423 -7.89423 [-5.3425193, -1.8029094, -0.74879652]\n"
     ]
    },
    {
     "data": {
      "image/png": "[encoded data removed]",
      "text/plain": [
       "<matplotlib.figure.Figure at 0x18accf90>"
      ]
     },
     "metadata": {},
     "output_type": "display_data"
    },
    {
     "name": "stdout",
     "output_type": "stream",
     "text": [
      "学/完/了/这些/课程/才/知道/什么/叫/全能/产品/经理\n",
      "3 [1678, 2] 产品/<EOS> 0.000283487482182 -8.16834 -8.16834 [-4.5197177, -3.6486247]\n"
     ]
    },
    {
     "data": {
      "image/png": "[encoded data removed]",
      "text/plain": [
       "<matplotlib.figure.Figure at 0x188fded0>"
      ]
     },
     "metadata": {},
     "output_type": "display_data"
    },
    {
     "name": "stdout",
     "output_type": "stream",
     "text": [
      "学/完/了/这些/课程/才/知道/什么/叫/全能/产品/经理\n",
      "4 [19373, 2] 全能/<EOS> 0.000228377844807 -8.38451 -8.38451 [-5.3425193, -3.0419898]\n"
     ]
    },
    {
     "data": {
      "image/png": "[encoded data removed]",
      "text/plain": [
       "<matplotlib.figure.Figure at 0x188e2690>"
      ]
     },
     "metadata": {},
     "output_type": "display_data"
    },
    {
     "name": "stdout",
     "output_type": "stream",
     "text": [
      "学/完/了/这些/课程/才/知道/什么/叫/全能/产品/经理\n",
      "5 [6394, 51, 2] 课程/学/<EOS> 3.30053154837e-05 -10.3188 -10.3188 [-4.7766509, -4.3636403, -1.1785504]\n"
     ]
    },
    {
     "data": {
      "image/png": "[encoded data removed]",
      "text/plain": [
       "<matplotlib.figure.Figure at 0x188d0190>"
      ]
     },
     "metadata": {},
     "output_type": "display_data"
    },
    {
     "name": "stdout",
     "output_type": "stream",
     "text": [
      "学/完/了/这些/课程/才/知道/什么/叫/全能/产品/经理\n",
      "6 [1678, 1678, 2] 产品/产品/<EOS> 2.6879438248e-05 -10.5241 -10.5241 [-4.5197177, -4.5854464, -1.4189857]\n"
     ]
    },
    {
     "data": {
      "image/png": "[encoded data removed]",
      "text/plain": [
       "<matplotlib.figure.Figure at 0x186ff590>"
      ]
     },
     "metadata": {},
     "output_type": "display_data"
    },
    {
     "name": "stdout",
     "output_type": "stream",
     "text": [
      "学/完/了/这些/课程/才/知道/什么/叫/全能/产品/经理\n",
      "7 [6394, 6456, 2] 课程/经理/<EOS> 2.3677174641e-05 -10.651 -10.651 [-4.7766509, -4.7993217, -1.0750263]\n"
     ]
    },
    {
     "data": {
      "image/png": "[encoded data removed]",
      "text/plain": [
       "<matplotlib.figure.Figure at 0x1881e890>"
      ]
     },
     "metadata": {},
     "output_type": "display_data"
    },
    {
     "name": "stdout",
     "output_type": "stream",
     "text": [
      "学/完/了/这些/课程/才/知道/什么/叫/全能/产品/经理\n",
      "8 [6394, 6394, 2] 课程/课程/<EOS> 2.27431836091e-05 -10.6912 -10.6912 [-4.7766509, -4.7123561, -1.202238]\n"
     ]
    },
    {
     "data": {
      "image/png": "[encoded data removed]",
      "text/plain": [
       "<matplotlib.figure.Figure at 0x13b4da10>"
      ]
     },
     "metadata": {},
     "output_type": "display_data"
    },
    {
     "name": "stdout",
     "output_type": "stream",
     "text": [
      "学/完/了/这些/课程/才/知道/什么/叫/全能/产品/经理\n",
      "9 [51, 1582, 2] 学/完/<EOS> 2.10683161637e-05 -10.7677 -10.7677 [-5.5005178, -3.8198957, -1.447327]\n"
     ]
    },
    {
     "data": {
      "image/png": "[encoded data removed]",
      "text/plain": [
       "<matplotlib.figure.Figure at 0x16aa50d0>"
      ]
     },
     "metadata": {},
     "output_type": "display_data"
    },
    {
     "name": "stdout",
     "output_type": "stream",
     "text": [
      "beam search using time(ms): 1730.52310944\n",
      "word_ids [700, 1161, 14499, 235, 1133, 1428, 1428, 214, 194, 68785, 26997, 210, 4115, 9740, 3393, 0, 0, 0, 0, 0] len: 20\n",
      "要/考/雅思/了/，/测/测/你/在/考官/眼里/是/啥/水平/？\n",
      "要/考/雅思/了/，/测/测/你/在/考官/眼里/是/啥/水平/？\n",
      "0 [1161, 14499, 2] 考/雅思/<EOS> 0.00113288091395 -6.78299 -6.78299 [-3.5028033, -2.0591803, -1.2210079]\n"
     ]
    },
    {
     "data": {
      "image/png": "[encoded data removed]",
      "text/plain": [
       "<matplotlib.figure.Figure at 0x185651d0>"
      ]
     },
     "metadata": {},
     "output_type": "display_data"
    },
    {
     "name": "stdout",
     "output_type": "stream",
     "text": [
      "要/考/雅思/了/，/测/测/你/在/考官/眼里/是/啥/水平/？\n",
      "1 [14499, 2] 雅思/<EOS> 0.00104863523986 -6.86027 -6.86027 [-4.1454177, -2.7148483]\n"
     ]
    },
    {
     "data": {
      "image/png": "[encoded data removed]",
      "text/plain": [
       "<matplotlib.figure.Figure at 0x10091410>"
      ]
     },
     "metadata": {},
     "output_type": "display_data"
    },
    {
     "name": "stdout",
     "output_type": "stream",
     "text": [
      "要/考/雅思/了/，/测/测/你/在/考官/眼里/是/啥/水平/？\n",
      "2 [1428, 1428, 2] 测/测/<EOS> 0.000568685913354 -7.47218 -7.47218 [-4.8254781, -0.97599256, -1.6707116]\n"
     ]
    },
    {
     "data": {
      "image/png": "[encoded data removed]",
      "text/plain": [
       "<matplotlib.figure.Figure at 0x106f9d90>"
      ]
     },
     "metadata": {},
     "output_type": "display_data"
    },
    {
     "name": "stdout",
     "output_type": "stream",
     "text": [
      "要/考/雅思/了/，/测/测/你/在/考官/眼里/是/啥/水平/？\n",
      "3 [1161, 1161, 2] 考/考/<EOS> 0.000349929639452 -7.95778 -7.95778 [-3.5028033, -2.34167, -2.1133051]\n"
     ]
    },
    {
     "data": {
      "image/png": "[encoded data removed]",
      "text/plain": [
       "<matplotlib.figure.Figure at 0xcd1c350>"
      ]
     },
     "metadata": {},
     "output_type": "display_data"
    },
    {
     "name": "stdout",
     "output_type": "stream",
     "text": [
      "要/考/雅思/了/，/测/测/你/在/考官/眼里/是/啥/水平/？\n",
      "4 [1161, 2] 考/<EOS> 0.000234184403717 -8.3594 -8.3594 [-3.5028033, -4.8565979]\n"
     ]
    },
    {
     "data": {
      "image/png": "[encoded data removed]",
      "text/plain": [
       "<matplotlib.figure.Figure at 0x188f0b90>"
      ]
     },
     "metadata": {},
     "output_type": "display_data"
    },
    {
     "name": "stdout",
     "output_type": "stream",
     "text": [
      "要/考/雅思/了/，/测/测/你/在/考官/眼里/是/啥/水平/？\n",
      "5 [1428, 1428, 214, 2] 测/测/你/<EOS> 0.000150913848739 -8.7988 -8.7988 [-4.8254781, -0.97599256, -1.7428275, -1.2545028]\n"
     ]
    },
    {
     "data": {
      "image/png": "[encoded data removed]",
      "text/plain": [
       "<matplotlib.figure.Figure at 0x18801f90>"
      ]
     },
     "metadata": {},
     "output_type": "display_data"
    },
    {
     "name": "stdout",
     "output_type": "stream",
     "text": [
      "要/考/雅思/了/，/测/测/你/在/考官/眼里/是/啥/水平/？\n",
      "6 [1428, 1161, 2] 测/考/<EOS> 4.71335560593e-05 -9.96253 -9.96253 [-4.8254781, -3.5694442, -1.5676035]\n"
     ]
    },
    {
     "data": {
      "image/png": "[encoded data removed]",
      "text/plain": [
       "<matplotlib.figure.Figure at 0x187152d0>"
      ]
     },
     "metadata": {},
     "output_type": "display_data"
    },
    {
     "name": "stdout",
     "output_type": "stream",
     "text": [
      "要/考/雅思/了/，/测/测/你/在/考官/眼里/是/啥/水平/？\n",
      "7 [214, 2] 你/<EOS> 2.22520673777e-05 -10.7131 -10.7131 [-4.8531537, -5.8599215]\n"
     ]
    },
    {
     "data": {
      "image/png": "[encoded data removed]",
      "text/plain": [
       "<matplotlib.figure.Figure at 0x110c2310>"
      ]
     },
     "metadata": {},
     "output_type": "display_data"
    },
    {
     "name": "stdout",
     "output_type": "stream",
     "text": [
      "要/考/雅思/了/，/测/测/你/在/考官/眼里/是/啥/水平/？\n",
      "8 [700, 1161, 2] 要/考/<EOS> 2.1278031804e-05 -10.7578 -10.7578 [-7.6762037, -0.35683051, -2.7248015]\n"
     ]
    },
    {
     "data": {
      "image/png": "[encoded data removed]",
      "text/plain": [
       "<matplotlib.figure.Figure at 0x185fb710>"
      ]
     },
     "metadata": {},
     "output_type": "display_data"
    },
    {
     "name": "stdout",
     "output_type": "stream",
     "text": [
      "要/考/雅思/了/，/测/测/你/在/考官/眼里/是/啥/水平/？\n",
      "9 [1161, 214, 2] 考/你/<EOS> 2.00356387549e-05 -10.818 -10.818 [-3.5028033, -4.5900269, -2.725167]\n"
     ]
    },
    {
     "data": {
      "image/png": "[encoded data removed]",
      "text/plain": [
       "<matplotlib.figure.Figure at 0xf8a81d0>"
      ]
     },
     "metadata": {},
     "output_type": "display_data"
    },
    {
     "name": "stdout",
     "output_type": "stream",
     "text": [
      "beam search using time(ms): 1530.79080582\n",
      "word_ids [67, 41, 8330, 4194, 20, 443, 2383, 427, 18920, 1133, 687, 2182, 2949, 8039, 584, 2622, 1133, 1428, 1428, 214] len: 20\n",
      "最/新/消息/：/高/达/20/万/借款/，/快/至/30/分钟/到/账/，/测/测/你\n",
      "最/新/消息/：/高/达/20/万/借款/，/快/至/30/分钟/到/账/，/测/测/你\n",
      "0 [67, 41, 8330, 2] 最/新/消息/<EOS> 0.00174254697823 -6.35241 -6.35241 [-3.9291131, -0.09845908, -0.18504034, -2.1397946]\n"
     ]
    },
    {
     "data": {
      "image/png": "[encoded data removed]",
      "text/plain": [
       "<matplotlib.figure.Figure at 0x18af3310>"
      ]
     },
     "metadata": {},
     "output_type": "display_data"
    },
    {
     "name": "stdout",
     "output_type": "stream",
     "text": [
      "最/新/消息/：/高/达/20/万/借款/，/快/至/30/分钟/到/账/，/测/测/你\n",
      "1 [20, 443, 2] 高/达/<EOS> 0.00164128111346 -6.41228 -6.41228 [-3.4371755, -0.015524375, -2.9595783]\n"
     ]
    },
    {
     "data": {
      "image/png": "[encoded data removed]",
      "text/plain": [
       "<matplotlib.figure.Figure at 0x186c2510>"
      ]
     },
     "metadata": {},
     "output_type": "display_data"
    },
    {
     "name": "stdout",
     "output_type": "stream",
     "text": [
      "最/新/消息/：/高/达/20/万/借款/，/快/至/30/分钟/到/账/，/测/测/你\n",
      "2 [18920, 2] 借款/<EOS> 0.000375626519694 -7.88692 -7.88692 [-6.0609617, -1.8259537]\n"
     ]
    },
    {
     "data": {
      "image/png": "[encoded data removed]",
      "text/plain": [
       "<matplotlib.figure.Figure at 0x18afc690>"
      ]
     },
     "metadata": {},
     "output_type": "display_data"
    },
    {
     "name": "stdout",
     "output_type": "stream",
     "text": [
      "最/新/消息/：/高/达/20/万/借款/，/快/至/30/分钟/到/账/，/测/测/你\n",
      "3 [20, 443, 67, 41, 8330, 2] 高/达/最/新/消息/<EOS> 0.000125107918261 -8.98633 -8.98633 [-3.4371755, -0.015524375, -4.2212076, -0.11525197, -0.056312133, -1.1408626]\n"
     ]
    },
    {
     "data": {
      "image/png": "[encoded data removed]",
      "text/plain": [
       "<matplotlib.figure.Figure at 0x1870f450>"
      ]
     },
     "metadata": {},
     "output_type": "display_data"
    },
    {
     "name": "stdout",
     "output_type": "stream",
     "text": [
      "最/新/消息/：/高/达/20/万/借款/，/快/至/30/分钟/到/账/，/测/测/你\n",
      "4 [8330, 2] 消息/<EOS> 0.000103548609501 -9.17547 -9.17547 [-6.7201824, -2.455287]\n"
     ]
    },
    {
     "data": {
      "image/png": "[encoded data removed]",
      "text/plain": [
       "<matplotlib.figure.Figure at 0x16ea8310>"
      ]
     },
     "metadata": {},
     "output_type": "display_data"
    },
    {
     "name": "stdout",
     "output_type": "stream",
     "text": [
      "最/新/消息/：/高/达/20/万/借款/，/快/至/30/分钟/到/账/，/测/测/你\n",
      "5 [2383, 427, 2] 20/万/<EOS> 9.65625699516e-05 -9.24532 -9.24532 [-6.0938807, -0.26089349, -2.8905458]\n"
     ]
    },
    {
     "data": {
      "image/png": "[encoded data removed]",
      "text/plain": [
       "<matplotlib.figure.Figure at 0x185f9dd0>"
      ]
     },
     "metadata": {},
     "output_type": "display_data"
    },
    {
     "name": "stdout",
     "output_type": "stream",
     "text": [
      "最/新/消息/：/高/达/20/万/借款/，/快/至/30/分钟/到/账/，/测/测/你\n",
      "6 [67, 41, 8330, 8330, 2] 最/新/消息/消息/<EOS> 3.76795600561e-05 -10.1864 -10.1864 [-3.9291131, -0.09845908, -0.18504034, -4.6782846, -1.2954948]\n"
     ]
    },
    {
     "data": {
      "image/png": "[encoded data removed]",
      "text/plain": [
       "<matplotlib.figure.Figure at 0x186a6890>"
      ]
     },
     "metadata": {},
     "output_type": "display_data"
    },
    {
     "name": "stdout",
     "output_type": "stream",
     "text": [
      "最/新/消息/：/高/达/20/万/借款/，/快/至/30/分钟/到/账/，/测/测/你\n",
      "7 [2949, 427, 2] 30/万/<EOS> 3.64468329573e-05 -10.2197 -10.2197 [-6.9834976, -0.57558697, -2.6605718]\n"
     ]
    },
    {
     "data": {
      "image/png": "[encoded data removed]",
      "text/plain": [
       "<matplotlib.figure.Figure at 0x18447bd0>"
      ]
     },
     "metadata": {},
     "output_type": "display_data"
    },
    {
     "name": "stdout",
     "output_type": "stream",
     "text": [
      "最/新/消息/：/高/达/20/万/借款/，/快/至/30/分钟/到/账/，/测/测/你\n",
      "8 [41, 8330, 2] 新/消息/<EOS> 2.53442132339e-05 -10.583 -10.583 [-5.82407, -2.6376975, -2.1211934]\n"
     ]
    },
    {
     "data": {
      "image/png": "[encoded data removed]",
      "text/plain": [
       "<matplotlib.figure.Figure at 0x16e9a390>"
      ]
     },
     "metadata": {},
     "output_type": "display_data"
    },
    {
     "name": "stdout",
     "output_type": "stream",
     "text": [
      "最/新/消息/：/高/达/20/万/借款/，/快/至/30/分钟/到/账/，/测/测/你\n",
      "9 [67, 20, 8330, 2] 最/高/消息/<EOS> 1.53596304323e-05 -11.0838 -11.0838 [-3.9291131, -4.2903385, -1.3994589, -1.4648567]\n"
     ]
    },
    {
     "data": {
      "image/png": "[encoded data removed]",
      "text/plain": [
       "<matplotlib.figure.Figure at 0x18517ad0>"
      ]
     },
     "metadata": {},
     "output_type": "display_data"
    },
    {
     "name": "stdout",
     "output_type": "stream",
     "text": [
      "beam search using time(ms): 1523.0050087\n",
      "word_ids [84, 1059, 9631, 19067, 1133, 12156, 427, 17465, 14211, 1133, 7627, 9, 42964, 1490, 1545, 84, 1545, 3393, 0, 0] len: 20\n",
      "不/限/社保/用药/，/240/万/任性/报销/，/这样/的/防癌/险/买/不/买/？\n",
      "不/限/社保/用药/，/240/万/任性/报销/，/这样/的/防癌/险/买/不/买/？\n",
      "0 [9631, 2] 社保/<EOS> 0.00353507935593 -5.64502 -5.64502 [-3.1370909, -2.5079286]\n"
     ]
    },
    {
     "data": {
      "image/png": "[encoded data removed]",
      "text/plain": [
       "<matplotlib.figure.Figure at 0x18afd890>"
      ]
     },
     "metadata": {},
     "output_type": "display_data"
    },
    {
     "name": "stdout",
     "output_type": "stream",
     "text": [
      "不/限/社保/用药/，/240/万/任性/报销/，/这样/的/防癌/险/买/不/买/？\n",
      "1 [84, 1059, 2] 不/限/<EOS> 0.000679387976819 -7.29432 -7.29432 [-3.1187356, -1.6067439, -2.5688388]\n"
     ]
    },
    {
     "data": {
      "image/png": "[encoded data removed]",
      "text/plain": [
       "<matplotlib.figure.Figure at 0x184a8350>"
      ]
     },
     "metadata": {},
     "output_type": "display_data"
    },
    {
     "name": "stdout",
     "output_type": "stream",
     "text": [
      "不/限/社保/用药/，/240/万/任性/报销/，/这样/的/防癌/险/买/不/买/？\n",
      "2 [9631, 14211, 2] 社保/报销/<EOS> 0.00035858037837 -7.93336 -7.93336 [-3.1370909, -3.5162208, -1.2800461]\n"
     ]
    },
    {
     "data": {
      "image/png": "[encoded data removed]",
      "text/plain": [
       "<matplotlib.figure.Figure at 0x184bd890>"
      ]
     },
     "metadata": {},
     "output_type": "display_data"
    },
    {
     "name": "stdout",
     "output_type": "stream",
     "text": [
      "不/限/社保/用药/，/240/万/任性/报销/，/这样/的/防癌/险/买/不/买/？\n",
      "3 [14211, 2] 报销/<EOS> 0.000225967002859 -8.39512 -8.39512 [-6.2257605, -2.1693611]\n"
     ]
    },
    {
     "data": {
      "image/png": "[encoded data removed]",
      "text/plain": [
       "<matplotlib.figure.Figure at 0x16f9d450>"
      ]
     },
     "metadata": {},
     "output_type": "display_data"
    },
    {
     "name": "stdout",
     "output_type": "stream",
     "text": [
      "不/限/社保/用药/，/240/万/任性/报销/，/这样/的/防癌/险/买/不/买/？\n",
      "4 [19067, 2] 用药/<EOS> 0.000185472723511 -8.5926 -8.5926 [-6.2752676, -2.3173349]\n"
     ]
    },
    {
     "data": {
      "image/png": "[encoded data removed]",
      "text/plain": [
       "<matplotlib.figure.Figure at 0x183e7f10>"
      ]
     },
     "metadata": {},
     "output_type": "display_data"
    },
    {
     "name": "stdout",
     "output_type": "stream",
     "text": [
      "不/限/社保/用药/，/240/万/任性/报销/，/这样/的/防癌/险/买/不/买/？\n",
      "5 [1545, 84, 1545, 2] 买/不/买/<EOS> 0.000131498032409 -8.93652 -8.93652 [-5.4050617, -0.54392666, -1.718214, -1.2693161]\n"
     ]
    },
    {
     "data": {
      "image/png": "[encoded data removed]",
      "text/plain": [
       "<matplotlib.figure.Figure at 0x18ba3c90>"
      ]
     },
     "metadata": {},
     "output_type": "display_data"
    },
    {
     "name": "stdout",
     "output_type": "stream",
     "text": [
      "不/限/社保/用药/，/240/万/任性/报销/，/这样/的/防癌/险/买/不/买/？\n",
      "6 [84, 1059, 9631, 2] 不/限/社保/<EOS> 6.26176146126e-05 -9.67846 -9.67846 [-3.1187356, -1.6067439, -3.9196031, -1.0333816]\n"
     ]
    },
    {
     "data": {
      "image/png": "[encoded data removed]",
      "text/plain": [
       "<matplotlib.figure.Figure at 0x183d2550>"
      ]
     },
     "metadata": {},
     "output_type": "display_data"
    },
    {
     "name": "stdout",
     "output_type": "stream",
     "text": [
      "不/限/社保/用药/，/240/万/任性/报销/，/这样/的/防癌/险/买/不/买/？\n",
      "7 [9631, 19067, 2] 社保/用药/<EOS> 6.12175000224e-05 -9.70108 -9.70108 [-3.1370909, -5.4456377, -1.1183487]\n"
     ]
    },
    {
     "data": {
      "image/png": "[encoded data removed]",
      "text/plain": [
       "<matplotlib.figure.Figure at 0x18dfb510>"
      ]
     },
     "metadata": {},
     "output_type": "display_data"
    },
    {
     "name": "stdout",
     "output_type": "stream",
     "text": [
      "不/限/社保/用药/，/240/万/任性/报销/，/这样/的/防癌/险/买/不/买/？\n",
      "8 [84, 14211, 2] 不/报销/<EOS> 5.56833280368e-05 -9.79583 -9.79583 [-3.1187356, -5.4910841, -1.1860105]\n"
     ]
    },
    {
     "data": {
      "image/png": "[encoded data removed]",
      "text/plain": [
       "<matplotlib.figure.Figure at 0x18e0d7d0>"
      ]
     },
     "metadata": {},
     "output_type": "display_data"
    },
    {
     "name": "stdout",
     "output_type": "stream",
     "text": [
      "不/限/社保/用药/，/240/万/任性/报销/，/这样/的/防癌/险/买/不/买/？\n",
      "9 [84, 1059, 1490, 2] 不/限/险/<EOS> 5.41664859513e-05 -9.82345 -9.82345 [-3.1187356, -1.6067439, -3.767946, -1.3300226]\n"
     ]
    },
    {
     "data": {
      "image/png": "[encoded data removed]",
      "text/plain": [
       "<matplotlib.figure.Figure at 0x1905e410>"
      ]
     },
     "metadata": {},
     "output_type": "display_data"
    },
    {
     "name": "stdout",
     "output_type": "stream",
     "text": [
      "beam search using time(ms): 1543.93410683\n"
     ]
    }
   ],
   "source": [
    "#predict(predictor, \"宝宝太胖怎么办呢\")\n",
    "#predict(predictor, \"包邮买二送一性感女内裤低腰诱惑透视蕾丝露臀大蝴蝶三角内裤女夏-淘宝网\")\n",
    "\n",
    "#predict(predictor, \"tensorflow深度学习入门\")\n",
    "#predict(predictor, \"大棚辣椒果实变小怎么办,大棚辣椒果实变小防治措施\")\n",
    "#predict(predictor, \"土豪邹红建是阿拉斯加\")\n",
    "#predict(predictor, \"韩国棒球啦啦队员朴姬兰神似刘亦菲\")\n",
    "#predict(predictor, '你去打篮球')\n",
    "#predict(predictor, '打篮球你去吗')\n",
    "#predict(predictor, '这是周华健的新歌爱相随')\n",
    "#inference('美女劈叉 鼻血狂喷')\n",
    "#inference('蜀山战纪赵丽颖古装剧照(12张)')\n",
    "#inference('成龙定制豪车领衔 盘点明星们的奢华定制超跑')\n",
    "inference('年少不懂高晓松,读懂已不再少年')\n",
    "#inference('【图】海贼王污图,海贼王白马觉醒,海贼王白马污')\n",
    "#inference('男生霸气欧美qq欧美头像_“五花八门”')\n",
    "#inference('美国摄影师拍摄唯美孕妇水下写真艺术照')\n",
    "#inference('精选高清壁纸：孙俪邓超婚纱照')\n",
    "#inference('周华健')\n",
    "#inference('江南女子图片下载')\n",
    "#inference('英孚英语 出国难开口？每天充电5分钟，真实旅游场景视频课程')\n",
    "#inference('酷似刘亦菲的朴姬兰')\n",
    "#inference('酷似朴姬兰的刘亦菲')\n",
    "inference('出国不会说英语？每天5分钟，自信开口说')\n",
    "inference('河源人凭身份证可以申请贷款，10万月息257元')\n",
    "inference('学完了这些课程才知道什么叫全能产品经理')\n",
    "inference('要考雅思了，测测你在考官眼里是啥水平？')\n",
    "inference('最新消息：高达20万借款，快至30分钟到账，测测你能借多少')\n",
    "inference('不限社保用药，240万任性报销，这样的防癌险买不买？')"
   ]
  },
  {
   "cell_type": "code",
   "execution_count": null,
   "metadata": {
    "collapsed": true
   },
   "outputs": [],
   "source": []
  },
  {
   "cell_type": "code",
   "execution_count": null,
   "metadata": {
    "collapsed": true
   },
   "outputs": [],
   "source": []
  }
 ],
 "metadata": {
  "kernelspec": {
   "display_name": "Python 2",
   "language": "python",
   "name": "python2"
  },
  "language_info": {
   "codemirror_mode": {
    "name": "ipython",
    "version": 2
   },
   "file_extension": ".py",
   "mimetype": "text/x-python",
   "name": "python",
   "nbconvert_exporter": "python",
   "pygments_lexer": "ipython2",
   "version": "2.7.5"
  }
 },
 "nbformat": 4,
 "nbformat_minor": 0
}
