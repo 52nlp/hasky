{
 "cells": [
  {
   "cell_type": "code",
   "execution_count": 1,
   "metadata": {
    "collapsed": true
   },
   "outputs": [],
   "source": [
    "import tensorflow as tf\n",
    "sess = tf.InteractiveSession()"
   ]
  },
  {
   "cell_type": "code",
   "execution_count": 2,
   "metadata": {
    "collapsed": true
   },
   "outputs": [],
   "source": [
    "import numpy as np\n",
    "\n",
    "from tensorflow.contrib.rnn import core_rnn_cell\n",
    "from tensorflow.contrib.seq2seq.python.ops import attention_wrapper\n",
    "from tensorflow.contrib.seq2seq.python.ops import beam_search_decoder\n",
    "from tensorflow.contrib.seq2seq.python.ops import beam_search_ops\n",
    "from tensorflow.contrib.seq2seq.python.ops import decoder\n",
    "from tensorflow.python.framework import constant_op\n",
    "from tensorflow.python.framework import dtypes\n",
    "from tensorflow.python.framework import ops\n",
    "from tensorflow.python.layers import core as layers_core\n",
    "from tensorflow.python.ops import array_ops\n",
    "from tensorflow.python.ops import nn_ops\n",
    "from tensorflow.python.ops import variables\n",
    "from tensorflow.python.platform import test"
   ]
  },
  {
   "cell_type": "code",
   "execution_count": 3,
   "metadata": {
    "collapsed": false
   },
   "outputs": [],
   "source": [
    "probs = tf.constant([\n",
    "        [[-.2, -.2, -.2, -.2, -.2], [-.3, -.3, -.3, 3, 0], [5, 6, 0, 0, 0]],\n",
    "        [[-.2, -.2, -.2, -.2, 0], [-.3, -.3, -.1, 3, 0], [5, 6, 3, 0, 0]],\n",
    "    ])"
   ]
  },
  {
   "cell_type": "code",
   "execution_count": 4,
   "metadata": {
    "collapsed": false
   },
   "outputs": [
    {
     "data": {
      "text/plain": [
       "array([[[-0.2       , -0.2       , -0.2       , -0.2       , -0.2       ],\n",
       "        [-0.30000001, -0.30000001, -0.30000001,  3.        ,  0.        ],\n",
       "        [ 5.        ,  6.        ,  0.        ,  0.        ,  0.        ]],\n",
       "\n",
       "       [[-0.2       , -0.2       , -0.2       , -0.2       ,  0.        ],\n",
       "        [-0.30000001, -0.30000001, -0.1       ,  3.        ,  0.        ],\n",
       "        [ 5.        ,  6.        ,  3.        ,  0.        ,  0.        ]]], dtype=float32)"
      ]
     },
     "execution_count": 4,
     "metadata": {},
     "output_type": "execute_result"
    }
   ],
   "source": [
    "probs.eval()"
   ]
  },
  {
   "cell_type": "code",
   "execution_count": 6,
   "metadata": {
    "collapsed": true
   },
   "outputs": [],
   "source": [
    "eos_token = 0\n",
    "previously_finished = constant_op.constant(\n",
    "        [[0, 1, 0], [0, 1, 1]], dtype=dtypes.float32)\n",
    "masked = beam_search_decoder._mask_probs(probs, eos_token,\n",
    "                                         previously_finished)"
   ]
  },
  {
   "cell_type": "code",
   "execution_count": 7,
   "metadata": {
    "collapsed": false
   },
   "outputs": [
    {
     "data": {
      "text/plain": [
       "array([[[ -2.00000003e-01,  -2.00000003e-01,  -2.00000003e-01,\n",
       "          -2.00000003e-01,  -2.00000003e-01],\n",
       "        [  0.00000000e+00,  -3.40282347e+38,  -3.40282347e+38,\n",
       "          -3.40282347e+38,  -3.40282347e+38],\n",
       "        [  5.00000000e+00,   6.00000000e+00,   0.00000000e+00,\n",
       "           0.00000000e+00,   0.00000000e+00]],\n",
       "\n",
       "       [[ -2.00000003e-01,  -2.00000003e-01,  -2.00000003e-01,\n",
       "          -2.00000003e-01,   0.00000000e+00],\n",
       "        [  0.00000000e+00,  -3.40282347e+38,  -3.40282347e+38,\n",
       "          -3.40282347e+38,  -3.40282347e+38],\n",
       "        [  0.00000000e+00,  -3.40282347e+38,  -3.40282347e+38,\n",
       "          -3.40282347e+38,  -3.40282347e+38]]], dtype=float32)"
      ]
     },
     "execution_count": 7,
     "metadata": {},
     "output_type": "execute_result"
    }
   ],
   "source": [
    "masked.eval()"
   ]
  },
  {
   "cell_type": "code",
   "execution_count": 8,
   "metadata": {
    "collapsed": false
   },
   "outputs": [
    {
     "data": {
      "text/plain": [
       "(2, 3, 5)"
      ]
     },
     "execution_count": 8,
     "metadata": {},
     "output_type": "execute_result"
    }
   ],
   "source": [
    "probs.eval().shape"
   ]
  },
  {
   "cell_type": "code",
   "execution_count": 9,
   "metadata": {
    "collapsed": false
   },
   "outputs": [
    {
     "data": {
      "text/plain": [
       "array([[ 0.,  1.,  0.],\n",
       "       [ 0.,  1.,  1.]], dtype=float32)"
      ]
     },
     "execution_count": 9,
     "metadata": {},
     "output_type": "execute_result"
    }
   ],
   "source": [
    "previously_finished.eval()"
   ]
  },
  {
   "cell_type": "code",
   "execution_count": 10,
   "metadata": {
    "collapsed": false
   },
   "outputs": [
    {
     "data": {
      "text/plain": [
       "(2, 3)"
      ]
     },
     "execution_count": 10,
     "metadata": {},
     "output_type": "execute_result"
    }
   ],
   "source": [
    "previously_finished.eval().shape"
   ]
  },
  {
   "cell_type": "code",
   "execution_count": null,
   "metadata": {
    "collapsed": true
   },
   "outputs": [],
   "source": []
  }
 ],
 "metadata": {
  "kernelspec": {
   "display_name": "Python 2",
   "language": "python",
   "name": "python2"
  },
  "language_info": {
   "codemirror_mode": {
    "name": "ipython",
    "version": 2
   },
   "file_extension": ".py",
   "mimetype": "text/x-python",
   "name": "python",
   "nbconvert_exporter": "python",
   "pygments_lexer": "ipython2",
   "version": "2.7.5"
  }
 },
 "nbformat": 4,
 "nbformat_minor": 0
}
