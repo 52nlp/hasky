{
 "cells": [
  {
   "cell_type": "code",
   "execution_count": 1,
   "metadata": {
    "collapsed": true
   },
   "outputs": [],
   "source": [
    "import tensorflow as tf\n",
    "sess = tf.InteractiveSession()"
   ]
  },
  {
   "cell_type": "code",
   "execution_count": 2,
   "metadata": {
    "collapsed": true
   },
   "outputs": [],
   "source": [
    "import numpy as np\n",
    "\n",
    "from tensorflow.contrib.rnn import core_rnn_cell\n",
    "from tensorflow.contrib.seq2seq.python.ops import attention_wrapper\n",
    "from tensorflow.contrib.seq2seq.python.ops import beam_search_decoder\n",
    "from tensorflow.contrib.seq2seq.python.ops import beam_search_ops\n",
    "from tensorflow.contrib.seq2seq.python.ops import decoder\n",
    "from tensorflow.python.framework import constant_op\n",
    "from tensorflow.python.framework import dtypes\n",
    "from tensorflow.python.framework import ops\n",
    "from tensorflow.python.layers import core as layers_core\n",
    "from tensorflow.python.ops import array_ops\n",
    "from tensorflow.python.ops import nn_ops\n",
    "from tensorflow.python.ops import variables\n",
    "from tensorflow.python.platform import test"
   ]
  },
  {
   "cell_type": "code",
   "execution_count": 3,
   "metadata": {
    "collapsed": true
   },
   "outputs": [],
   "source": [
    "batch_size = 2\n",
    "beam_width = 3\n",
    "vocab_size = 5\n",
    "end_token = 0\n",
    "length_penalty_weight = 0.6"
   ]
  },
  {
   "cell_type": "code",
   "execution_count": 5,
   "metadata": {
    "collapsed": false
   },
   "outputs": [],
   "source": [
    "dummy_cell_state = array_ops.zeros([batch_size, beam_width])\n",
    "beam_state = beam_search_decoder.BeamSearchDecoderState(\n",
    "    cell_state=dummy_cell_state,\n",
    "    log_probs=nn_ops.log_softmax(\n",
    "        array_ops.ones([batch_size, beam_width])),\n",
    "    lengths=constant_op.constant(\n",
    "        2, shape=[batch_size, beam_width], dtype=dtypes.int32),\n",
    "    finished=array_ops.zeros(\n",
    "        [batch_size, beam_width], dtype=dtypes.bool))\n",
    "\n",
    "logits_ = np.full([batch_size, beam_width, vocab_size],\n",
    "                  0.0001)"
   ]
  },
  {
   "cell_type": "code",
   "execution_count": 7,
   "metadata": {
    "collapsed": false
   },
   "outputs": [
    {
     "data": {
      "text/plain": [
       "array([[ 0.,  0.,  0.],\n",
       "       [ 0.,  0.,  0.]], dtype=float32)"
      ]
     },
     "execution_count": 7,
     "metadata": {},
     "output_type": "execute_result"
    }
   ],
   "source": [
    "dummy_cell_state.eval()"
   ]
  },
  {
   "cell_type": "code",
   "execution_count": 9,
   "metadata": {
    "collapsed": false
   },
   "outputs": [
    {
     "data": {
      "text/plain": [
       "array([[-1.09861231, -1.09861231, -1.09861231],\n",
       "       [-1.09861231, -1.09861231, -1.09861231]], dtype=float32)"
      ]
     },
     "execution_count": 9,
     "metadata": {},
     "output_type": "execute_result"
    }
   ],
   "source": [
    "beam_state.log_probs.eval()"
   ]
  },
  {
   "cell_type": "code",
   "execution_count": 10,
   "metadata": {
    "collapsed": false
   },
   "outputs": [
    {
     "data": {
      "text/plain": [
       "array([[2, 2, 2],\n",
       "       [2, 2, 2]], dtype=int32)"
      ]
     },
     "execution_count": 10,
     "metadata": {},
     "output_type": "execute_result"
    }
   ],
   "source": [
    "beam_state.lengths.eval()"
   ]
  },
  {
   "cell_type": "code",
   "execution_count": 11,
   "metadata": {
    "collapsed": false
   },
   "outputs": [
    {
     "data": {
      "text/plain": [
       "array([[False, False, False],\n",
       "       [False, False, False]], dtype=bool)"
      ]
     },
     "execution_count": 11,
     "metadata": {},
     "output_type": "execute_result"
    }
   ],
   "source": [
    "beam_state.finished.eval()"
   ]
  },
  {
   "cell_type": "code",
   "execution_count": 13,
   "metadata": {
    "collapsed": false
   },
   "outputs": [
    {
     "data": {
      "text/plain": [
       "array([[[ 0.0001,  0.0001,  0.0001,  0.0001,  0.0001],\n",
       "        [ 0.0001,  0.0001,  0.0001,  0.0001,  0.0001],\n",
       "        [ 0.0001,  0.0001,  0.0001,  0.0001,  0.0001]],\n",
       "\n",
       "       [[ 0.0001,  0.0001,  0.0001,  0.0001,  0.0001],\n",
       "        [ 0.0001,  0.0001,  0.0001,  0.0001,  0.0001],\n",
       "        [ 0.0001,  0.0001,  0.0001,  0.0001,  0.0001]]])"
      ]
     },
     "execution_count": 13,
     "metadata": {},
     "output_type": "execute_result"
    }
   ],
   "source": [
    "logits_"
   ]
  },
  {
   "cell_type": "code",
   "execution_count": 14,
   "metadata": {
    "collapsed": true
   },
   "outputs": [],
   "source": [
    "logits_[0, 0, 2] = 1.9\n",
    "logits_[0, 0, 3] = 2.1\n",
    "logits_[0, 1, 3] = 3.1\n",
    "logits_[0, 1, 4] = 0.9\n",
    "logits_[1, 0, 1] = 0.5\n",
    "logits_[1, 1, 2] = 2.7\n",
    "logits_[1, 2, 2] = 10.0\n",
    "logits_[1, 2, 3] = 0.2\n",
    "logits = ops.convert_to_tensor(logits_, dtype=dtypes.float32)\n",
    "log_probs = nn_ops.log_softmax(logits)"
   ]
  },
  {
   "cell_type": "code",
   "execution_count": 16,
   "metadata": {
    "collapsed": false
   },
   "outputs": [
    {
     "data": {
      "text/plain": [
       "array([[[  1.00000000e-04,   1.00000000e-04,   1.90000000e+00,\n",
       "           2.10000000e+00,   1.00000000e-04],\n",
       "        [  1.00000000e-04,   1.00000000e-04,   1.00000000e-04,\n",
       "           3.10000000e+00,   9.00000000e-01],\n",
       "        [  1.00000000e-04,   1.00000000e-04,   1.00000000e-04,\n",
       "           1.00000000e-04,   1.00000000e-04]],\n",
       "\n",
       "       [[  1.00000000e-04,   5.00000000e-01,   1.00000000e-04,\n",
       "           1.00000000e-04,   1.00000000e-04],\n",
       "        [  1.00000000e-04,   1.00000000e-04,   2.70000000e+00,\n",
       "           1.00000000e-04,   1.00000000e-04],\n",
       "        [  1.00000000e-04,   1.00000000e-04,   1.00000000e+01,\n",
       "           2.00000000e-01,   1.00000000e-04]]])"
      ]
     },
     "execution_count": 16,
     "metadata": {},
     "output_type": "execute_result"
    }
   ],
   "source": [
    "logits_"
   ]
  },
  {
   "cell_type": "code",
   "execution_count": 17,
   "metadata": {
    "collapsed": false
   },
   "outputs": [
    {
     "data": {
      "text/plain": [
       "array([[[ -2.88203597e+00,  -2.88203597e+00,  -9.82135952e-01,\n",
       "          -7.82136023e-01,  -2.88203597e+00],\n",
       "        [ -3.31980968e+00,  -3.31980968e+00,  -3.31980968e+00,\n",
       "          -2.19909757e-01,  -2.41990948e+00],\n",
       "        [ -1.60943794e+00,  -1.60943794e+00,  -1.60943794e+00,\n",
       "          -1.60943794e+00,  -1.60943794e+00]],\n",
       "\n",
       "       [[ -1.73139989e+00,  -1.23149991e+00,  -1.73139989e+00,\n",
       "          -1.73139989e+00,  -1.73139989e+00],\n",
       "        [ -2.93801022e+00,  -2.93801022e+00,  -2.38110110e-01,\n",
       "          -2.93801022e+00,  -2.93801022e+00],\n",
       "        [ -1.00000916e+01,  -1.00000916e+01,  -1.91670173e-04,\n",
       "          -9.80019188e+00,  -1.00000916e+01]]], dtype=float32)"
      ]
     },
     "execution_count": 17,
     "metadata": {},
     "output_type": "execute_result"
    }
   ],
   "source": [
    "log_probs.eval()"
   ]
  },
  {
   "cell_type": "code",
   "execution_count": null,
   "metadata": {
    "collapsed": true
   },
   "outputs": [],
   "source": []
  }
 ],
 "metadata": {
  "kernelspec": {
   "display_name": "Python 2",
   "language": "python",
   "name": "python2"
  },
  "language_info": {
   "codemirror_mode": {
    "name": "ipython",
    "version": 2
   },
   "file_extension": ".py",
   "mimetype": "text/x-python",
   "name": "python",
   "nbconvert_exporter": "python",
   "pygments_lexer": "ipython2",
   "version": "2.7.5"
  }
 },
 "nbformat": 4,
 "nbformat_minor": 0
}
