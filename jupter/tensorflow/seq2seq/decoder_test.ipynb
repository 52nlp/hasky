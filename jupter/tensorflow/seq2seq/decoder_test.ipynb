{
 "cells": [
  {
   "cell_type": "code",
   "execution_count": 1,
   "metadata": {
    "collapsed": true
   },
   "outputs": [],
   "source": [
    "import tensorflow as tf\n",
    "sess = tf.InteractiveSession()"
   ]
  },
  {
   "cell_type": "code",
   "execution_count": 2,
   "metadata": {
    "collapsed": true
   },
   "outputs": [],
   "source": [
    "import numpy as np"
   ]
  },
  {
   "cell_type": "code",
   "execution_count": 3,
   "metadata": {
    "collapsed": true
   },
   "outputs": [],
   "source": [
    "from __future__ import absolute_import\n",
    "from __future__ import division\n",
    "from __future__ import print_function\n",
    "\n",
    "import abc\n",
    "\n",
    "import six\n",
    "\n",
    "from tensorflow.contrib.distributions.python.ops import bernoulli\n",
    "from tensorflow.contrib.distributions.python.ops import categorical\n",
    "from tensorflow.contrib.seq2seq.python.ops import decoder\n",
    "from tensorflow.python.framework import dtypes\n",
    "from tensorflow.python.framework import ops\n",
    "from tensorflow.python.layers import base as layers_base\n",
    "from tensorflow.python.ops import array_ops\n",
    "from tensorflow.python.ops import control_flow_ops\n",
    "from tensorflow.python.ops import embedding_ops\n",
    "from tensorflow.python.ops import math_ops\n",
    "from tensorflow.python.ops import random_ops\n",
    "from tensorflow.python.ops import tensor_array_ops\n",
    "from tensorflow.python.util import nest"
   ]
  },
  {
   "cell_type": "code",
   "execution_count": 4,
   "metadata": {
    "collapsed": true
   },
   "outputs": [],
   "source": [
    "def _unstack_ta(inp):\n",
    "  return tensor_array_ops.TensorArray(\n",
    "      dtype=inp.dtype, size=array_ops.shape(inp)[0],\n",
    "      element_shape=inp.get_shape()[1:]).unstack(inp)"
   ]
  },
  {
   "cell_type": "code",
   "execution_count": 5,
   "metadata": {
    "collapsed": false
   },
   "outputs": [],
   "source": [
    "sequence_length = [3, 4, 3, 1, 0]\n",
    "batch_size = 5\n",
    "max_time = 8\n",
    "input_depth = 7\n",
    "cell_depth = 10\n",
    "output_layer_depth = 3\n",
    "inputs = np.random.randn(batch_size, max_time, input_depth).astype(np.float32)"
   ]
  },
  {
   "cell_type": "code",
   "execution_count": 6,
   "metadata": {
    "collapsed": false
   },
   "outputs": [],
   "source": [
    "inputs = ops.convert_to_tensor(inputs, name=\"inputs\")\n",
    "\n",
    "#input_tas = nest.map_structure(_unstack_ta, inputs)\n",
    "input_tas = _unstack_ta(inputs)"
   ]
  },
  {
   "cell_type": "code",
   "execution_count": 7,
   "metadata": {
    "collapsed": false
   },
   "outputs": [
    {
     "data": {
      "text/plain": [
       "(5, 8, 7)"
      ]
     },
     "execution_count": 7,
     "metadata": {},
     "output_type": "execute_result"
    }
   ],
   "source": [
    "inputs.eval().shape"
   ]
  },
  {
   "cell_type": "code",
   "execution_count": 8,
   "metadata": {
    "collapsed": false
   },
   "outputs": [
    {
     "data": {
      "text/plain": [
       "(8, 7)"
      ]
     },
     "execution_count": 8,
     "metadata": {},
     "output_type": "execute_result"
    }
   ],
   "source": [
    "input_tas.read(0).eval().shape"
   ]
  },
  {
   "cell_type": "code",
   "execution_count": 9,
   "metadata": {
    "collapsed": true
   },
   "outputs": [],
   "source": [
    "zero_inputs = nest.map_structure(\n",
    "          lambda inp: array_ops.zeros_like(inp[0, :]), inputs)"
   ]
  },
  {
   "cell_type": "code",
   "execution_count": 10,
   "metadata": {
    "collapsed": false
   },
   "outputs": [
    {
     "data": {
      "text/plain": [
       "(8, 7)"
      ]
     },
     "execution_count": 10,
     "metadata": {},
     "output_type": "execute_result"
    }
   ],
   "source": [
    "zero_inputs.eval().shape"
   ]
  },
  {
   "cell_type": "code",
   "execution_count": 11,
   "metadata": {
    "collapsed": true
   },
   "outputs": [],
   "source": [
    "zero_inputs = array_ops.zeros_like(inputs[0,:])"
   ]
  },
  {
   "cell_type": "code",
   "execution_count": 12,
   "metadata": {
    "collapsed": false
   },
   "outputs": [
    {
     "data": {
      "text/plain": [
       "(8, 7)"
      ]
     },
     "execution_count": 12,
     "metadata": {},
     "output_type": "execute_result"
    }
   ],
   "source": [
    "zero_inputs.eval().shape"
   ]
  },
  {
   "cell_type": "code",
   "execution_count": 13,
   "metadata": {
    "collapsed": false
   },
   "outputs": [],
   "source": [
    "from tensorflow.contrib.rnn import core_rnn_cell\n",
    "from tensorflow.contrib.seq2seq.python.ops import helper as helper_py\n",
    "from tensorflow.contrib.seq2seq.python.ops import basic_decoder\n",
    "from tensorflow.python.framework import constant_op\n",
    "from tensorflow.python.framework import dtypes\n",
    "from tensorflow.python.framework import tensor_shape\n",
    "from tensorflow.python.layers import core as layers_core\n",
    "from tensorflow.python.ops import variables\n",
    "\n",
    "cell = core_rnn_cell.LSTMCell(cell_depth)\n",
    "helper = helper_py.TrainingHelper(inputs, sequence_length, time_major=False)\n",
    "output_layer = layers_core.Dense(output_layer_depth, use_bias=False)\n",
    "expected_output_depth = output_layer_depth"
   ]
  },
  {
   "cell_type": "code",
   "execution_count": 14,
   "metadata": {
    "collapsed": false
   },
   "outputs": [
    {
     "data": {
      "text/plain": [
       "3"
      ]
     },
     "execution_count": 14,
     "metadata": {},
     "output_type": "execute_result"
    }
   ],
   "source": [
    "expected_output_depth"
   ]
  },
  {
   "cell_type": "code",
   "execution_count": 15,
   "metadata": {
    "collapsed": true
   },
   "outputs": [],
   "source": [
    "my_decoder = basic_decoder.BasicDecoder(\n",
    "          cell=cell,\n",
    "          helper=helper,\n",
    "          initial_state=cell.zero_state(\n",
    "              dtype=dtypes.float32, batch_size=batch_size),\n",
    "          output_layer=output_layer)\n",
    "output_size = my_decoder.output_size\n",
    "output_dtype = my_decoder.output_dtype"
   ]
  },
  {
   "cell_type": "code",
   "execution_count": 16,
   "metadata": {
    "collapsed": false
   },
   "outputs": [
    {
     "data": {
      "text/plain": [
       "TensorShape([Dimension(3)])"
      ]
     },
     "execution_count": 16,
     "metadata": {},
     "output_type": "execute_result"
    }
   ],
   "source": [
    "my_decoder.output_size.rnn_output"
   ]
  },
  {
   "cell_type": "code",
   "execution_count": 23,
   "metadata": {
    "collapsed": true
   },
   "outputs": [],
   "source": [
    "(first_finished, first_inputs, first_state) = my_decoder.initialize()\n",
    "(step_outputs, step_state, step_next_inputs, step_finished) = my_decoder.step(constant_op.constant(0), first_inputs, first_state)\n",
    "batch_size_t = my_decoder.batch_size"
   ]
  },
  {
   "cell_type": "code",
   "execution_count": 24,
   "metadata": {
    "collapsed": true
   },
   "outputs": [],
   "source": [
    "sess.run(variables.global_variables_initializer())"
   ]
  },
  {
   "cell_type": "code",
   "execution_count": 25,
   "metadata": {
    "collapsed": false
   },
   "outputs": [
    {
     "data": {
      "text/plain": [
       "array([False, False, False, False,  True], dtype=bool)"
      ]
     },
     "execution_count": 25,
     "metadata": {},
     "output_type": "execute_result"
    }
   ],
   "source": [
    "first_finished.eval()"
   ]
  },
  {
   "cell_type": "code",
   "execution_count": 26,
   "metadata": {
    "collapsed": false
   },
   "outputs": [
    {
     "data": {
      "text/plain": [
       "(5, 7)"
      ]
     },
     "execution_count": 26,
     "metadata": {},
     "output_type": "execute_result"
    }
   ],
   "source": [
    "first_inputs.eval().shape"
   ]
  },
  {
   "cell_type": "code",
   "execution_count": 27,
   "metadata": {
    "collapsed": false
   },
   "outputs": [
    {
     "data": {
      "text/plain": [
       "array([False, False, False,  True,  True], dtype=bool)"
      ]
     },
     "execution_count": 27,
     "metadata": {},
     "output_type": "execute_result"
    }
   ],
   "source": [
    "step_finished.eval()"
   ]
  },
  {
   "cell_type": "code",
   "execution_count": 28,
   "metadata": {
    "collapsed": false
   },
   "outputs": [
    {
     "data": {
      "text/plain": [
       "array([[-0.0508408 , -0.05165057,  0.06775192],\n",
       "       [ 0.15479779,  0.06504635, -0.01358603],\n",
       "       [ 0.18893608, -0.10834984, -0.07091646],\n",
       "       [-0.13847493, -0.06481301,  0.05980979],\n",
       "       [-0.06738544, -0.14471821, -0.06581087]], dtype=float32)"
      ]
     },
     "execution_count": 28,
     "metadata": {},
     "output_type": "execute_result"
    }
   ],
   "source": [
    "step_outputs.rnn_output.eval()"
   ]
  },
  {
   "cell_type": "code",
   "execution_count": 29,
   "metadata": {
    "collapsed": false
   },
   "outputs": [
    {
     "data": {
      "text/plain": [
       "array([2, 0, 0, 2, 2], dtype=int32)"
      ]
     },
     "execution_count": 29,
     "metadata": {},
     "output_type": "execute_result"
    }
   ],
   "source": [
    "step_outputs.sample_id.eval()"
   ]
  },
  {
   "cell_type": "code",
   "execution_count": 35,
   "metadata": {
    "collapsed": false
   },
   "outputs": [],
   "source": [
    "sequence_length = tf.constant([3, 4, 3, 1, 0])\n",
    "finished = tf.constant([False,False,False,True,True])\n",
    "next_sequence_length = array_ops.where(\n",
    "          finished,\n",
    "          array_ops.fill(array_ops.shape(sequence_length), 5),\n",
    "          sequence_length)"
   ]
  },
  {
   "cell_type": "code",
   "execution_count": 36,
   "metadata": {
    "collapsed": false
   },
   "outputs": [
    {
     "data": {
      "text/plain": [
       "array([3, 4, 3, 5, 5], dtype=int32)"
      ]
     },
     "execution_count": 36,
     "metadata": {},
     "output_type": "execute_result"
    }
   ],
   "source": [
    "next_sequence_length.eval()"
   ]
  },
  {
   "cell_type": "code",
   "execution_count": 41,
   "metadata": {
    "collapsed": false
   },
   "outputs": [
    {
     "data": {
      "text/plain": [
       "array([[ 0.07053454, -0.14118813,  0.06967252, -0.01219992,  0.14764686,\n",
       "        -0.19405451, -0.21441029,  0.1829617 , -0.09078379, -0.10884991],\n",
       "       [ 0.0242832 , -0.00136052, -0.03758856, -0.13243975, -0.23338735,\n",
       "         0.08539698,  0.04786929, -0.06135842,  0.15921247,  0.09439662],\n",
       "       [ 0.0501725 ,  0.45520383,  0.24422514, -0.17516899, -0.56627345,\n",
       "        -0.04955576, -0.03517413, -0.23947783, -0.31373349,  0.35913882],\n",
       "       [-0.16829434, -0.10553734, -0.08383075,  0.092663  ,  0.0680996 ,\n",
       "        -0.16200902,  0.10617378,  0.17379127, -0.25677508, -0.05221827],\n",
       "       [-0.12529978,  0.27501419,  0.24914329, -0.03914498, -0.08964641,\n",
       "        -0.17109002,  0.00121063, -0.14115441, -0.36193892,  0.12809984]], dtype=float32)"
      ]
     },
     "execution_count": 41,
     "metadata": {},
     "output_type": "execute_result"
    }
   ],
   "source": [
    "step_state[0].eval()"
   ]
  },
  {
   "cell_type": "code",
   "execution_count": 42,
   "metadata": {
    "collapsed": false
   },
   "outputs": [
    {
     "data": {
      "text/plain": [
       "array([[ 0.03925622, -0.07607003,  0.03092533, -0.00532096,  0.07237594,\n",
       "        -0.09604202, -0.09543931,  0.11915037, -0.04523852, -0.06443659],\n",
       "       [ 0.01283682, -0.00072909, -0.01508063, -0.07387877, -0.11938155,\n",
       "         0.04311427,  0.01977026, -0.02775727,  0.06083705,  0.04874465],\n",
       "       [ 0.02716571,  0.13739417,  0.14161001, -0.09073706, -0.30427158,\n",
       "        -0.03624927, -0.01332007, -0.0438672 , -0.19104429,  0.17898533],\n",
       "       [-0.09344256, -0.04828702, -0.04067516,  0.02854112,  0.0276465 ,\n",
       "        -0.06454266,  0.04380987,  0.10812437, -0.17994417, -0.02137171],\n",
       "       [-0.0654664 ,  0.09974784,  0.18501829, -0.01527235, -0.048284  ,\n",
       "        -0.1130731 ,  0.00075432, -0.03956325, -0.23518381,  0.06888983]], dtype=float32)"
      ]
     },
     "execution_count": 42,
     "metadata": {},
     "output_type": "execute_result"
    }
   ],
   "source": [
    "step_state[1].eval()"
   ]
  },
  {
   "cell_type": "code",
   "execution_count": 44,
   "metadata": {
    "collapsed": false
   },
   "outputs": [
    {
     "data": {
      "text/plain": [
       "array([[-0.0508408 , -0.05165057,  0.06775192],\n",
       "       [ 0.15479779,  0.06504635, -0.01358603],\n",
       "       [ 0.18893608, -0.10834984, -0.07091646],\n",
       "       [-0.13847493, -0.06481301,  0.05980979],\n",
       "       [-0.06738544, -0.14471821, -0.06581087]], dtype=float32)"
      ]
     },
     "execution_count": 44,
     "metadata": {},
     "output_type": "execute_result"
    }
   ],
   "source": [
    "step_outputs.rnn_output.eval()"
   ]
  },
  {
   "cell_type": "code",
   "execution_count": 45,
   "metadata": {
    "collapsed": false
   },
   "outputs": [
    {
     "data": {
      "text/plain": [
       "array([2, 0, 0, 2, 2], dtype=int32)"
      ]
     },
     "execution_count": 45,
     "metadata": {},
     "output_type": "execute_result"
    }
   ],
   "source": [
    "step_outputs.sample_id.eval()"
   ]
  },
  {
   "cell_type": "code",
   "execution_count": 55,
   "metadata": {
    "collapsed": false
   },
   "outputs": [],
   "source": [
    "batch_size = 5\n",
    "vocabulary_size = 7\n",
    "cell_depth = vocabulary_size  # cell's logits must match vocabulary size\n",
    "input_depth = 10\n",
    "start_tokens = [0] * batch_size\n",
    "end_token = 1\n",
    "\n",
    "embeddings = np.random.randn(vocabulary_size, input_depth).astype(np.float32)\n",
    "#cell = core_rnn_cell.LSTMCell(vocabulary_size)\n",
    "cell = core_rnn_cell.LSTMCell(input_depth)\n",
    "helper = helper_py.GreedyEmbeddingHelper(embeddings, start_tokens, end_token)\n",
    "my_decoder = basic_decoder.BasicDecoder(\n",
    "          cell=cell,\n",
    "          helper=helper,\n",
    "          initial_state=cell.zero_state(\n",
    "              dtype=dtypes.float32, batch_size=batch_size))\n",
    "output_size = my_decoder.output_size\n",
    "output_dtype = my_decoder.output_dtype"
   ]
  },
  {
   "cell_type": "code",
   "execution_count": 56,
   "metadata": {
    "collapsed": true
   },
   "outputs": [],
   "source": [
    "(first_finished, first_inputs, first_state) = my_decoder.initialize()\n",
    "(step_outputs, step_state, step_next_inputs, step_finished) = my_decoder.step(constant_op.constant(0), first_inputs, first_state)"
   ]
  },
  {
   "cell_type": "code",
   "execution_count": 57,
   "metadata": {
    "collapsed": true
   },
   "outputs": [],
   "source": [
    "sess.run(variables.global_variables_initializer())"
   ]
  },
  {
   "cell_type": "code",
   "execution_count": 58,
   "metadata": {
    "collapsed": false
   },
   "outputs": [
    {
     "data": {
      "text/plain": [
       "(5, 10)"
      ]
     },
     "execution_count": 58,
     "metadata": {},
     "output_type": "execute_result"
    }
   ],
   "source": [
    "step_outputs.rnn_output.eval().shape"
   ]
  },
  {
   "cell_type": "code",
   "execution_count": 59,
   "metadata": {
    "collapsed": false
   },
   "outputs": [
    {
     "data": {
      "text/plain": [
       "<tf.Tensor 'BasicDecoderStep_3/cond/Merge:0' shape=(5, 10) dtype=float32>"
      ]
     },
     "execution_count": 59,
     "metadata": {},
     "output_type": "execute_result"
    }
   ],
   "source": [
    "step_next_inputs"
   ]
  },
  {
   "cell_type": "code",
   "execution_count": null,
   "metadata": {
    "collapsed": true
   },
   "outputs": [],
   "source": []
  }
 ],
 "metadata": {
  "kernelspec": {
   "display_name": "Python 2",
   "language": "python",
   "name": "python2"
  },
  "language_info": {
   "codemirror_mode": {
    "name": "ipython",
    "version": 2
   },
   "file_extension": ".py",
   "mimetype": "text/x-python",
   "name": "python",
   "nbconvert_exporter": "python",
   "pygments_lexer": "ipython2",
   "version": "2.7.5"
  }
 },
 "nbformat": 4,
 "nbformat_minor": 0
}
