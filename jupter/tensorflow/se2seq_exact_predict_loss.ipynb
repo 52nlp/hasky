{
 "cells": [
  {
   "cell_type": "code",
   "execution_count": 1,
   "metadata": {
    "collapsed": false
   },
   "outputs": [
    {
     "name": "stderr",
     "output_type": "stream",
     "text": [
      "tensorflow_version: 0.12.head\n"
     ]
    }
   ],
   "source": [
    "import numpy as np\n",
    "import tensorflow as tf\n",
    "sess = tf.InteractiveSession()\n",
    "import melt"
   ]
  },
  {
   "cell_type": "code",
   "execution_count": 2,
   "metadata": {
    "collapsed": false
   },
   "outputs": [],
   "source": [
    "logits = tf.constant([\n",
    "                    [[15.2, 23.3, 31.2],\n",
    "                    [29.3, 29.2, 2.2]],\n",
    "                    [[15.2, 23.3, 31.2],\n",
    "                    [29.3, 29.2, 2.2]]\n",
    "                  ])\n",
    "labels = tf.constant([[1, 0], [1, 2]])\n",
    "mask = tf.ones_like(labels, dtype=tf.float32)"
   ]
  },
  {
   "cell_type": "code",
   "execution_count": 3,
   "metadata": {
    "collapsed": false
   },
   "outputs": [
    {
     "data": {
      "text/plain": [
       "array([[[ 15.19999981,  23.29999924,  31.20000076],\n",
       "        [ 29.29999924,  29.20000076,   2.20000005]],\n",
       "\n",
       "       [[ 15.19999981,  23.29999924,  31.20000076],\n",
       "        [ 29.29999924,  29.20000076,   2.20000005]]], dtype=float32)"
      ]
     },
     "execution_count": 3,
     "metadata": {},
     "output_type": "execute_result"
    }
   ],
   "source": [
    "logits.eval()"
   ]
  },
  {
   "cell_type": "code",
   "execution_count": 4,
   "metadata": {
    "collapsed": false
   },
   "outputs": [
    {
     "data": {
      "text/plain": [
       "array([[1, 0],\n",
       "       [1, 2]], dtype=int32)"
      ]
     },
     "execution_count": 4,
     "metadata": {},
     "output_type": "execute_result"
    }
   ],
   "source": [
    "labels.eval()"
   ]
  },
  {
   "cell_type": "code",
   "execution_count": 13,
   "metadata": {
    "collapsed": false
   },
   "outputs": [],
   "source": [
    "def exact_predict_loss(logits, targets, mask, num_steps, batch_size=None):\n",
    "  \"\"\"\n",
    "  the same as using sparse_softmax_cross_entropy_with_logits \n",
    "  here mainly for debug, comparing experimenting purpose!\n",
    "  logits  [batch_size, num_steps, vocab_size]\n",
    "  targets [batch_size, num_steps]\n",
    "  mast    [batch_size, num_steps]\n",
    "  \"\"\"\n",
    "  if batch_size is None:\n",
    "    batch_size = tf.shape(logits)[0]\n",
    "  i = tf.constant(0, dtype=tf.int32)\n",
    "  condition = lambda i, log_probs, log_probs_list: tf.less(i, num_steps)\n",
    "  log_probs = tf.zeros([batch_size,], dtype=tf.float32)\n",
    "  #---log_probs_list is for debug purpose, actually the whole function here is for deubg purpose\n",
    "  log_probs_list = tf.TensorArray(\n",
    "            dtype=tf.float32, tensor_array_name=\"log_probs_list\", size=num_steps + 2, infer_shape=False)\n",
    "            #dtype=tf.float32, tensor_array_name=\"log_probs_list\", size=0, dynamic_size=True, infer_shape=False)\n",
    "  def body(i, log_probs, log_probs_list):\n",
    "    #@TODO can we not clac softmax for mask==0 ?\n",
    "    step_logits = logits[:, i, :]\n",
    "    step_probs = tf.nn.softmax(step_logits)\n",
    "    step_targets = targets[:, i]\n",
    "    selected_probs = melt.dynamic_gather2d(step_probs, step_targets)\n",
    "    #TODO is this ok? or just use tf.nn.log_softmax to replace tf.nn.softmax\n",
    "    selected_log_probs = tf.log(tf.maximum(selected_probs, 1e-12))\n",
    "    step_mask = mask[:, i]\n",
    "    masked_log_probs = selected_log_probs * step_mask\n",
    "    log_probs_list = log_probs_list.write(i, masked_log_probs)\n",
    "    log_probs += masked_log_probs\n",
    "    return tf.add(i, 1), tf.reshape(log_probs, [batch_size,]), log_probs_list\n",
    "  _, log_probs, log_probs_list = tf.while_loop(condition, body, [i, log_probs, log_probs_list])\n",
    "    \n",
    "  log_probs_list = log_probs_list.write(num_steps, log_probs)\n",
    "  log_probs_list = log_probs_list.write(num_steps + 1, tf.exp(log_probs))\n",
    "  log_probs_list = tf.transpose(log_probs_list.stack(), [1, 0])\n",
    "  tf.add_to_collection('seq2seq_log_probs_list', log_probs_list)\n",
    "\n",
    "  loss = -log_probs;\n",
    "  return loss, log_probs_list\n"
   ]
  },
  {
   "cell_type": "code",
   "execution_count": 14,
   "metadata": {
    "collapsed": false
   },
   "outputs": [],
   "source": [
    "u, v = exact_predict_loss(logits, labels,mask, 2)"
   ]
  },
  {
   "cell_type": "code",
   "execution_count": 15,
   "metadata": {
    "collapsed": false
   },
   "outputs": [
    {
     "data": {
      "text/plain": [
       "array([  8.54477024,  35.53139496], dtype=float32)"
      ]
     },
     "execution_count": 15,
     "metadata": {},
     "output_type": "execute_result"
    }
   ],
   "source": [
    "u.eval()"
   ]
  },
  {
   "cell_type": "code",
   "execution_count": 16,
   "metadata": {
    "collapsed": false
   },
   "outputs": [
    {
     "data": {
      "text/plain": [
       "array([[ -7.90037251e+00,  -6.44397378e-01,  -8.54477024e+00,\n",
       "          1.94559951e-04],\n",
       "       [ -7.90037251e+00,  -2.76310215e+01,  -3.55313950e+01,\n",
       "          3.70604972e-16]], dtype=float32)"
      ]
     },
     "execution_count": 16,
     "metadata": {},
     "output_type": "execute_result"
    }
   ],
   "source": [
    "v.eval()"
   ]
  },
  {
   "cell_type": "code",
   "execution_count": null,
   "metadata": {
    "collapsed": true
   },
   "outputs": [],
   "source": []
  }
 ],
 "metadata": {
  "kernelspec": {
   "display_name": "Python 2",
   "language": "python",
   "name": "python2"
  },
  "language_info": {
   "codemirror_mode": {
    "name": "ipython",
    "version": 2
   },
   "file_extension": ".py",
   "mimetype": "text/x-python",
   "name": "python",
   "nbconvert_exporter": "python",
   "pygments_lexer": "ipython2",
   "version": "2.7.5"
  }
 },
 "nbformat": 4,
 "nbformat_minor": 0
}
