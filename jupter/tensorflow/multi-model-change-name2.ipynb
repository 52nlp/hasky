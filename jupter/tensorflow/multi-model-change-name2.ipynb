{
 "cells": [
  {
   "cell_type": "code",
   "execution_count": 1,
   "metadata": {
    "collapsed": true
   },
   "outputs": [],
   "source": [
    "import tensorflow as tf\n",
    "sess = tf.InteractiveSession()"
   ]
  },
  {
   "cell_type": "code",
   "execution_count": 2,
   "metadata": {
    "collapsed": true
   },
   "outputs": [],
   "source": [
    "def get_all_variables_from_top_scope(scope):\n",
    "    #scope is a top scope here, otherwise change startswith part\n",
    "    return [v for v in tf.all_variables() if v.name.startswith(scope.name)]\n",
    "\n",
    "def create_model(tf, param1, param2, add=0):\n",
    "    w = tf.get_variable('W', shape=[1], initializer=tf.constant_initializer(param1))\n",
    "    w += add\n",
    "    b = tf.get_variable('b', shape=[1], initializer=tf.constant_initializer(param2))\n",
    "    y = tf.mul(w, b, name='mul_op')#no need to save this\n",
    "    return y"
   ]
  },
  {
   "cell_type": "code",
   "execution_count": 3,
   "metadata": {
    "collapsed": false
   },
   "outputs": [
    {
     "name": "stdout",
     "output_type": "stream",
     "text": [
      "[u'scope1/W:0', u'scope1/b:0']\n",
      "[u'scope1/W:0', u'scope1/b:0']\n",
      "[<tensorflow.python.ops.variables.Variable object at 0x6e486d0>, <tensorflow.python.ops.variables.Variable object at 0x6e46e10>]\n",
      "[ 972.]\n",
      "[u'scope2/W', u'scope2/b']\n",
      "{u'scope2/W': <tensorflow.python.ops.variables.Variable object at 0x6e486d0>, u'scope2/b': <tensorflow.python.ops.variables.Variable object at 0x6e46e10>}\n",
      "[u'scope1/W:0', u'scope1/b:0']\n",
      "[<tensorflow.python.ops.variables.Variable object at 0x6e486d0>, <tensorflow.python.ops.variables.Variable object at 0x6e46e10>]\n"
     ]
    },
    {
     "data": {
      "text/plain": [
       "'/tmp/scope2'"
      ]
     },
     "execution_count": 3,
     "metadata": {},
     "output_type": "execute_result"
    }
   ],
   "source": [
    "import tensorflow as tf\n",
    "\n",
    "import melt\n",
    "\n",
    "OLD_SCOPE_NAME = 'scope1'\n",
    "NEW_SCOPE_NAME = 'scope2'\n",
    "\n",
    "sess = tf.Session()\n",
    "\n",
    "#melt.reuse_variables()\n",
    "with tf.variable_scope(OLD_SCOPE_NAME) as topscope:\n",
    "    model = create_model(tf, 8.0, 7.0, 100)\n",
    "    sc_vars = get_all_variables_from_top_scope(topscope)\n",
    "\n",
    "print([v.name for v in sc_vars])\n",
    "print([v.name for v in tf.all_variables()])\n",
    "print(tf.all_variables())\n",
    "\n",
    "saver = tf.train.Saver()\n",
    "saver.restore(sess, '/tmp/%s'%OLD_SCOPE_NAME)\n",
    "print(sess.run(model))\n",
    "\n",
    "\n",
    "#assuming that we change top scope, not something in the middle, functionality can be added without much trouble I think\n",
    "#not sure why I need to remove ':0' part, but it seems to work okay\n",
    "print([NEW_SCOPE_NAME + v.name[len(OLD_SCOPE_NAME):v.name.rfind(':')] for v in sc_vars])\n",
    "var_list = {NEW_SCOPE_NAME + v.name[len(OLD_SCOPE_NAME):v.name.rfind(':')]:v for v in sc_vars}\n",
    "\n",
    "print(var_list)\n",
    "print([v.name for v in tf.all_variables()])\n",
    "print(tf.all_variables())\n",
    "\n",
    "new_saver = tf.train.Saver(var_list=var_list)\n",
    "\n",
    "#l = [NEW_SCOPE_NAME + v.name[len(OLD_SCOPE_NAME):v.name.rfind(':')] for v in sc_vars]\n",
    "#new_saver.export_meta_graph('/tmp/%s.2'%NEW_SCOPE_NAME, collection_list=l)\n",
    "#new_saver = tf.train.Saver()\n",
    "new_saver.save(sess,  '/tmp/%s'%NEW_SCOPE_NAME)"
   ]
  },
  {
   "cell_type": "code",
   "execution_count": null,
   "metadata": {
    "collapsed": true
   },
   "outputs": [],
   "source": []
  }
 ],
 "metadata": {
  "kernelspec": {
   "display_name": "Python 2",
   "language": "python",
   "name": "python2"
  },
  "language_info": {
   "codemirror_mode": {
    "name": "ipython",
    "version": 2
   },
   "file_extension": ".py",
   "mimetype": "text/x-python",
   "name": "python",
   "nbconvert_exporter": "python",
   "pygments_lexer": "ipython2",
   "version": "2.7.5"
  }
 },
 "nbformat": 4,
 "nbformat_minor": 0
}
