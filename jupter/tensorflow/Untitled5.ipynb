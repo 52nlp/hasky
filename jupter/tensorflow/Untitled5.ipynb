{
 "cells": [
  {
   "cell_type": "code",
   "execution_count": 1,
   "metadata": {
    "collapsed": true
   },
   "outputs": [],
   "source": [
    "import tensorflow as tf"
   ]
  },
  {
   "cell_type": "code",
   "execution_count": 2,
   "metadata": {
    "collapsed": false
   },
   "outputs": [
    {
     "name": "stdout",
     "output_type": "stream",
     "text": [
      "Help on function embedding_lookup_sparse in module tensorflow.python.ops.embedding_ops:\n",
      "\n",
      "embedding_lookup_sparse(params, sp_ids, sp_weights, partition_strategy='mod', name=None, combiner='mean')\n",
      "    Computes embeddings for the given ids and weights.\n",
      "    \n",
      "    This op assumes that there is at least one id for each row in the dense tensor\n",
      "    represented by sp_ids (i.e. there are no rows with empty features), and that\n",
      "    all the indices of sp_ids are in canonical row-major order.\n",
      "    \n",
      "    It also assumes that all id values lie in the range [0, p0), where p0\n",
      "    is the sum of the size of params along dimension 0.\n",
      "    \n",
      "    Args:\n",
      "      params: A single tensor representing the complete embedding tensor,\n",
      "        or a list of P tensors all of same shape except for the first dimension,\n",
      "        representing sharded embedding tensors.\n",
      "      sp_ids: N x M SparseTensor of int64 ids (typically from FeatureValueToId),\n",
      "        where N is typically batch size and M is arbitrary.\n",
      "      sp_weights: either a SparseTensor of float / double weights, or None to\n",
      "        indicate all weights should be taken to be 1. If specified, sp_weights\n",
      "        must have exactly the same shape and indices as sp_ids.\n",
      "      partition_strategy: A string specifying the partitioning strategy, relevant\n",
      "        if `len(params) > 1`. Currently `\"div\"` and `\"mod\"` are supported. Default\n",
      "        is `\"mod\"`. See `tf.nn.embedding_lookup` for more details.\n",
      "      name: Optional name for the op.\n",
      "      combiner: A string specifying the reduction op. Currently \"mean\", \"sqrtn\"\n",
      "        and \"sum\" are supported.\n",
      "        \"sum\" computes the weighted sum of the embedding results for each row.\n",
      "        \"mean\" is the weighted sum divided by the total weight.\n",
      "        \"sqrtn\" is the weighted sum divided by the square root of the sum of the\n",
      "        squares of the weights.\n",
      "    \n",
      "    Returns:\n",
      "      A dense tensor representing the combined embeddings for the\n",
      "      sparse ids. For each row in the dense tensor represented by sp_ids, the op\n",
      "      looks up the embeddings for all ids in that row, multiplies them by the\n",
      "      corresponding weight, and combines these embeddings as specified.\n",
      "    \n",
      "      In other words, if\n",
      "        shape(combined params) = [p0, p1, ..., pm]\n",
      "      and\n",
      "        shape(sp_ids) = shape(sp_weights) = [d0, d1, ..., dn]\n",
      "      then\n",
      "        shape(output) = [d0, d1, ..., dn-1, p1, ..., pm].\n",
      "    \n",
      "      For instance, if params is a 10x20 matrix, and sp_ids / sp_weights are\n",
      "    \n",
      "        [0, 0]: id 1, weight 2.0\n",
      "        [0, 1]: id 3, weight 0.5\n",
      "        [1, 0]: id 0, weight 1.0\n",
      "        [2, 3]: id 1, weight 3.0\n",
      "    \n",
      "      with combiner=\"mean\", then the output will be a 3x20 matrix where\n",
      "        output[0, :] = (params[1, :] * 2.0 + params[3, :] * 0.5) / (2.0 + 0.5)\n",
      "        output[1, :] = params[0, :] * 1.0\n",
      "        output[2, :] = params[1, :] * 3.0\n",
      "    \n",
      "    Raises:\n",
      "      TypeError: If sp_ids is not a SparseTensor, or if sp_weights is neither\n",
      "        None nor SparseTensor.\n",
      "      ValueError: If combiner is not one of {\"mean\", \"sqrtn\", \"sum\"}.\n",
      "\n"
     ]
    }
   ],
   "source": [
    "help(tf.nn.embedding_lookup_sparse)"
   ]
  },
  {
   "cell_type": "code",
   "execution_count": null,
   "metadata": {
    "collapsed": true
   },
   "outputs": [],
   "source": []
  }
 ],
 "metadata": {
  "kernelspec": {
   "display_name": "Python 2",
   "language": "python",
   "name": "python2"
  },
  "language_info": {
   "codemirror_mode": {
    "name": "ipython",
    "version": 2
   },
   "file_extension": ".py",
   "mimetype": "text/x-python",
   "name": "python",
   "nbconvert_exporter": "python",
   "pygments_lexer": "ipython2",
   "version": "2.7.5"
  }
 },
 "nbformat": 4,
 "nbformat_minor": 0
}
