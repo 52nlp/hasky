{
 "cells": [
  {
   "cell_type": "code",
   "execution_count": 1,
   "metadata": {
    "collapsed": true
   },
   "outputs": [],
   "source": [
    "import tensorflow as tf"
   ]
  },
  {
   "cell_type": "code",
   "execution_count": 2,
   "metadata": {
    "collapsed": false
   },
   "outputs": [
    {
     "name": "stdout",
     "output_type": "stream",
     "text": [
      "Help on function sparse_softmax_cross_entropy_with_logits in module tensorflow.python.ops.nn_ops:\n",
      "\n",
      "sparse_softmax_cross_entropy_with_logits(logits, labels, name=None)\n",
      "    Computes sparse softmax cross entropy between `logits` and `labels`.\n",
      "    \n",
      "    Measures the probability error in discrete classification tasks in which the\n",
      "    classes are mutually exclusive (each entry is in exactly one class).  For\n",
      "    example, each CIFAR-10 image is labeled with one and only one label: an image\n",
      "    can be a dog or a truck, but not both.\n",
      "    \n",
      "    **NOTE:**  For this operation, the probability of a given label is considered\n",
      "    exclusive.  That is, soft classes are not allowed, and the `labels` vector\n",
      "    must provide a single specific index for the true class for each row of\n",
      "    `logits` (each minibatch entry).  For soft softmax classification with\n",
      "    a probability distribution for each entry, see\n",
      "    `softmax_cross_entropy_with_logits`.\n",
      "    \n",
      "    **WARNING:** This op expects unscaled logits, since it performs a softmax\n",
      "    on `logits` internally for efficiency.  Do not call this op with the\n",
      "    output of `softmax`, as it will produce incorrect results.\n",
      "    \n",
      "    `logits` must have the shape `[batch_size, num_classes]`\n",
      "    and dtype `float32` or `float64`.\n",
      "    \n",
      "    `labels` must have the shape `[batch_size]` and dtype `int32` or `int64`.\n",
      "    \n",
      "    Args:\n",
      "      logits: Unscaled log probabilities.\n",
      "      labels: Each entry `labels[i]` must be an index in `[0, num_classes)`. Other\n",
      "        values will result in a loss of 0, but incorrect gradient computations.\n",
      "      name: A name for the operation (optional).\n",
      "    \n",
      "    Returns:\n",
      "      A 1-D `Tensor` of length `batch_size` of the same type as `logits` with the\n",
      "      softmax cross entropy loss.\n",
      "\n"
     ]
    }
   ],
   "source": [
    "help(tf.nn.sparse_softmax_cross_entropy_with_logits)"
   ]
  },
  {
   "cell_type": "code",
   "execution_count": 3,
   "metadata": {
    "collapsed": false
   },
   "outputs": [
    {
     "name": "stdout",
     "output_type": "stream",
     "text": [
      "Help on function sigmoid_cross_entropy_with_logits in module tensorflow.python.ops.nn:\n",
      "\n",
      "sigmoid_cross_entropy_with_logits(logits, targets, name=None)\n",
      "    Computes sigmoid cross entropy given `logits`.\n",
      "    \n",
      "    Measures the probability error in discrete classification tasks in which each\n",
      "    class is independent and not mutually exclusive.  For instance, one could\n",
      "    perform multilabel classification where a picture can contain both an elephant\n",
      "    and a dog at the same time.\n",
      "    \n",
      "    For brevity, let `x = logits`, `z = targets`.  The logistic loss is\n",
      "    \n",
      "          z * -log(sigmoid(x)) + (1 - z) * -log(1 - sigmoid(x))\n",
      "        = z * -log(1 / (1 + exp(-x))) + (1 - z) * -log(exp(-x) / (1 + exp(-x)))\n",
      "        = z * log(1 + exp(-x)) + (1 - z) * (-log(exp(-x)) + log(1 + exp(-x)))\n",
      "        = z * log(1 + exp(-x)) + (1 - z) * (x + log(1 + exp(-x))\n",
      "        = (1 - z) * x + log(1 + exp(-x))\n",
      "        = x - x * z + log(1 + exp(-x))\n",
      "    \n",
      "    For x < 0, to avoid overflow in exp(-x), we reformulate the above\n",
      "    \n",
      "          x - x * z + log(1 + exp(-x))\n",
      "        = log(exp(x)) - x * z + log(1 + exp(-x))\n",
      "        = - x * z + log(1 + exp(x))\n",
      "    \n",
      "    Hence, to ensure stability and avoid overflow, the implementation uses this\n",
      "    equivalent formulation\n",
      "    \n",
      "        max(x, 0) - x * z + log(1 + exp(-abs(x)))\n",
      "    \n",
      "    `logits` and `targets` must have the same type and shape.\n",
      "    \n",
      "    Args:\n",
      "      logits: A `Tensor` of type `float32` or `float64`.\n",
      "      targets: A `Tensor` of the same type and shape as `logits`.\n",
      "      name: A name for the operation (optional).\n",
      "    \n",
      "    Returns:\n",
      "      A `Tensor` of the same shape as `logits` with the componentwise\n",
      "      logistic losses.\n",
      "    \n",
      "    Raises:\n",
      "      ValueError: If `logits` and `targets` do not have the same shape.\n",
      "\n"
     ]
    }
   ],
   "source": [
    "help(tf.nn.sigmoid_cross_entropy_with_logits)"
   ]
  },
  {
   "cell_type": "code",
   "execution_count": null,
   "metadata": {
    "collapsed": true
   },
   "outputs": [],
   "source": []
  }
 ],
 "metadata": {
  "kernelspec": {
   "display_name": "Python 2",
   "language": "python",
   "name": "python2"
  },
  "language_info": {
   "codemirror_mode": {
    "name": "ipython",
    "version": 2
   },
   "file_extension": ".py",
   "mimetype": "text/x-python",
   "name": "python",
   "nbconvert_exporter": "python",
   "pygments_lexer": "ipython2",
   "version": "2.7.5"
  }
 },
 "nbformat": 4,
 "nbformat_minor": 0
}
