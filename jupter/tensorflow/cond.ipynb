{
 "cells": [
  {
   "cell_type": "code",
   "execution_count": 1,
   "metadata": {
    "collapsed": false
   },
   "outputs": [],
   "source": [
    "import tensorflow as tf"
   ]
  },
  {
   "cell_type": "code",
   "execution_count": 4,
   "metadata": {
    "collapsed": false
   },
   "outputs": [
    {
     "name": "stdout",
     "output_type": "stream",
     "text": [
      "WARNING:tensorflow:From <ipython-input-4-27459db6986a>:9: initialize_all_variables (from tensorflow.python.ops.variables) is deprecated and will be removed after 2017-03-02.\n",
      "Instructions for updating:\n",
      "Use `tf.global_variables_initializer` instead.\n",
      "[2]\n"
     ]
    }
   ],
   "source": [
    "#http://stackoverflow.com/questions/37063952/confused-by-the-behavior-of-tf-cond\n",
    "pred = tf.constant(False)\n",
    "x = tf.Variable([1])\n",
    "assign_x_2 = tf.assign(x, [2])\n",
    "def update_x_2():\n",
    "  with tf.control_dependencies([assign_x_2]):\n",
    "    return tf.identity(x)\n",
    "y = tf.cond(pred, update_x_2, lambda: tf.identity(x))\n",
    "with tf.Session() as session:\n",
    "  session.run(tf.initialize_all_variables())\n",
    "  print(y.eval())"
   ]
  },
  {
   "cell_type": "code",
   "execution_count": 5,
   "metadata": {
    "collapsed": false
   },
   "outputs": [
    {
     "name": "stdout",
     "output_type": "stream",
     "text": [
      "WARNING:tensorflow:From <ipython-input-5-75f06f2d5433>:8: initialize_all_variables (from tensorflow.python.ops.variables) is deprecated and will be removed after 2017-03-02.\n",
      "Instructions for updating:\n",
      "Use `tf.global_variables_initializer` instead.\n",
      "[1]\n",
      "[2]\n"
     ]
    }
   ],
   "source": [
    "pred = tf.placeholder(tf.bool, shape=[])\n",
    "x = tf.Variable([1])\n",
    "def update_x_2():\n",
    "  with tf.control_dependencies([tf.assign(x, [2])]):\n",
    "    return tf.identity(x)\n",
    "y = tf.cond(pred, update_x_2, lambda: tf.identity(x))\n",
    "with tf.Session() as session:\n",
    "  session.run(tf.initialize_all_variables())\n",
    "  print(y.eval(feed_dict={pred: False}))  # ==> [1]\n",
    "  print(y.eval(feed_dict={pred: True}))   # ==> [2]"
   ]
  },
  {
   "cell_type": "code",
   "execution_count": 6,
   "metadata": {
    "collapsed": true
   },
   "outputs": [],
   "source": [
    "tf.control_dependencies?"
   ]
  },
  {
   "cell_type": "code",
   "execution_count": 2,
   "metadata": {
    "collapsed": false
   },
   "outputs": [
    {
     "name": "stdout",
     "output_type": "stream",
     "text": [
      "WARNING:tensorflow:From <ipython-input-2-f4992c240750>:8: initialize_all_variables (from tensorflow.python.ops.variables) is deprecated and will be removed after 2017-03-02.\n",
      "Instructions for updating:\n",
      "Use `tf.global_variables_initializer` instead.\n",
      "[1]\n",
      "[2]\n"
     ]
    }
   ],
   "source": [
    "pred = tf.placeholder(tf.bool, shape=[])\n",
    "x = tf.Variable([1])\n",
    "def update_x_2(x):\n",
    "    x += 1\n",
    "    return tf.identity(x)\n",
    "y = tf.cond(pred, lambda: update_x_2(x), lambda: tf.identity(x))\n",
    "with tf.Session() as session:\n",
    "  session.run(tf.initialize_all_variables())\n",
    "  print(y.eval(feed_dict={pred: False}))  # ==> [1]\n",
    "  print(y.eval(feed_dict={pred: True}))   # ==> [2]"
   ]
  },
  {
   "cell_type": "code",
   "execution_count": null,
   "metadata": {
    "collapsed": true
   },
   "outputs": [],
   "source": []
  }
 ],
 "metadata": {
  "kernelspec": {
   "display_name": "Python 2",
   "language": "python",
   "name": "python2"
  },
  "language_info": {
   "codemirror_mode": {
    "name": "ipython",
    "version": 2
   },
   "file_extension": ".py",
   "mimetype": "text/x-python",
   "name": "python",
   "nbconvert_exporter": "python",
   "pygments_lexer": "ipython2",
   "version": "2.7.5"
  }
 },
 "nbformat": 4,
 "nbformat_minor": 0
}
