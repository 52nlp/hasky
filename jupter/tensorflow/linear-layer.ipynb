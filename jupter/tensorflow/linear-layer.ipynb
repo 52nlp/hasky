{
 "cells": [
  {
   "cell_type": "code",
   "execution_count": 1,
   "metadata": {
    "collapsed": true
   },
   "outputs": [],
   "source": [
    "import tensorflow as tf\n",
    "sess = tf.InteractiveSession()"
   ]
  },
  {
   "cell_type": "code",
   "execution_count": 2,
   "metadata": {
    "collapsed": true
   },
   "outputs": [],
   "source": [
    "values = tf.constant([[[ 2.44353771,  0.65329778, -2.08763194, -0.64653987,  0.50398952,\n",
    "        -0.66223699,  2.24809909, -0.60570312, -0.74135935,  2.5471828 ,\n",
    "         2.91521454, -1.30316925,  0.81219608],\n",
    "       [-0.06042745, -1.43421483,  1.98799515,  0.46523282,  1.17595863,\n",
    "         0.43213287, -0.33148676,  0.36731029, -2.01692128,  0.75370973,\n",
    "         2.03620768, -0.97226971, -0.90286547]]])"
   ]
  },
  {
   "cell_type": "code",
   "execution_count": 3,
   "metadata": {
    "collapsed": false
   },
   "outputs": [
    {
     "data": {
      "text/plain": [
       "array([[[ 2.44353771,  0.65329778, -2.08763194, -0.64653987,  0.50398952,\n",
       "         -0.66223699,  2.24809909, -0.60570312, -0.74135935,  2.5471828 ,\n",
       "          2.91521454, -1.30316925,  0.81219608],\n",
       "        [-0.06042745, -1.43421483,  1.98799515,  0.46523282,  1.17595863,\n",
       "          0.43213287, -0.33148676,  0.36731029, -2.01692128,  0.75370973,\n",
       "          2.03620768, -0.97226971, -0.90286547]]], dtype=float32)"
      ]
     },
     "execution_count": 3,
     "metadata": {},
     "output_type": "execute_result"
    }
   ],
   "source": [
    "values.eval()"
   ]
  },
  {
   "cell_type": "code",
   "execution_count": 4,
   "metadata": {
    "collapsed": false
   },
   "outputs": [
    {
     "data": {
      "text/plain": [
       "(1, 2, 13)"
      ]
     },
     "execution_count": 4,
     "metadata": {},
     "output_type": "execute_result"
    }
   ],
   "source": [
    "values.eval().shape"
   ]
  },
  {
   "cell_type": "code",
   "execution_count": 5,
   "metadata": {
    "collapsed": true
   },
   "outputs": [],
   "source": [
    "zeros = tf.zeros_like(values, dtype=tf.float32)"
   ]
  },
  {
   "cell_type": "code",
   "execution_count": 6,
   "metadata": {
    "collapsed": false
   },
   "outputs": [],
   "source": [
    "values2 = tf.concat([values, zeros], 1)"
   ]
  },
  {
   "cell_type": "code",
   "execution_count": 7,
   "metadata": {
    "collapsed": false
   },
   "outputs": [
    {
     "data": {
      "text/plain": [
       "array([[[ 2.44353771,  0.65329778, -2.08763194, -0.64653987,  0.50398952,\n",
       "         -0.66223699,  2.24809909, -0.60570312, -0.74135935,  2.5471828 ,\n",
       "          2.91521454, -1.30316925,  0.81219608],\n",
       "        [-0.06042745, -1.43421483,  1.98799515,  0.46523282,  1.17595863,\n",
       "          0.43213287, -0.33148676,  0.36731029, -2.01692128,  0.75370973,\n",
       "          2.03620768, -0.97226971, -0.90286547],\n",
       "        [ 0.        ,  0.        ,  0.        ,  0.        ,  0.        ,\n",
       "          0.        ,  0.        ,  0.        ,  0.        ,  0.        ,\n",
       "          0.        ,  0.        ,  0.        ],\n",
       "        [ 0.        ,  0.        ,  0.        ,  0.        ,  0.        ,\n",
       "          0.        ,  0.        ,  0.        ,  0.        ,  0.        ,\n",
       "          0.        ,  0.        ,  0.        ]]], dtype=float32)"
      ]
     },
     "execution_count": 7,
     "metadata": {},
     "output_type": "execute_result"
    }
   ],
   "source": [
    "values2.eval()"
   ]
  },
  {
   "cell_type": "code",
   "execution_count": 8,
   "metadata": {
    "collapsed": false
   },
   "outputs": [
    {
     "data": {
      "text/plain": [
       "(1, 4, 13)"
      ]
     },
     "execution_count": 8,
     "metadata": {},
     "output_type": "execute_result"
    }
   ],
   "source": [
    "values2.eval().shape"
   ]
  },
  {
   "cell_type": "code",
   "execution_count": 9,
   "metadata": {
    "collapsed": false
   },
   "outputs": [
    {
     "name": "stderr",
     "output_type": "stream",
     "text": [
      "tensorflow_version: 0.12.head\n"
     ]
    }
   ],
   "source": [
    "import melt"
   ]
  },
  {
   "cell_type": "code",
   "execution_count": 10,
   "metadata": {
    "collapsed": false
   },
   "outputs": [
    {
     "name": "stdout",
     "output_type": "stream",
     "text": [
      "Tensor(\"abc/Reshape_1:0\", shape=(1, 2, 13), dtype=float32)\n",
      "Tensor(\"abc/Reshape_3:0\", shape=(1, 4, 13), dtype=float32)\n"
     ]
    }
   ],
   "source": [
    "with tf.variable_scope('abc') as scope:\n",
    "    keys = tf.contrib.layers.linear(\n",
    "            values, 13, biases_initializer=None, scope=scope)\n",
    "    print keys\n",
    "    #scope.reuse_variables()\n",
    "    keys2 = tf.contrib.layers.linear(\n",
    "        values2, 13, biases_initializer=None, scope=scope)\n",
    "    print keys2"
   ]
  },
  {
   "cell_type": "code",
   "execution_count": 11,
   "metadata": {
    "collapsed": false
   },
   "outputs": [],
   "source": [
    "sess.run(tf.global_variables_initializer())"
   ]
  },
  {
   "cell_type": "code",
   "execution_count": 12,
   "metadata": {
    "collapsed": false
   },
   "outputs": [
    {
     "data": {
      "text/plain": [
       "array([[[-2.76704907,  1.07119632,  0.49521279,  0.92081642,  1.47548401,\n",
       "          0.0156966 , -1.08358371, -0.32566541, -0.23117727, -2.00929308,\n",
       "          0.8186326 , -1.48907399, -1.38828707],\n",
       "        [-0.94829035,  0.58998978,  1.3966794 ,  2.14945579,  2.82302332,\n",
       "          1.32140112, -0.06452473, -0.12929353,  1.43046021,  0.1826469 ,\n",
       "          0.83877879, -1.51018238, -1.02547741]]], dtype=float32)"
      ]
     },
     "execution_count": 12,
     "metadata": {},
     "output_type": "execute_result"
    }
   ],
   "source": [
    "keys.eval()"
   ]
  },
  {
   "cell_type": "code",
   "execution_count": 13,
   "metadata": {
    "collapsed": false
   },
   "outputs": [
    {
     "data": {
      "text/plain": [
       "(1, 2, 13)"
      ]
     },
     "execution_count": 13,
     "metadata": {},
     "output_type": "execute_result"
    }
   ],
   "source": [
    "keys.eval().shape"
   ]
  },
  {
   "cell_type": "code",
   "execution_count": 14,
   "metadata": {
    "collapsed": false
   },
   "outputs": [
    {
     "data": {
      "text/plain": [
       "array([[[-2.76704907,  1.07119632,  0.49521279,  0.92081642,  1.47548401,\n",
       "          0.0156966 , -1.08358371, -0.32566541, -0.23117727, -2.00929308,\n",
       "          0.8186326 , -1.48907399, -1.38828707],\n",
       "        [-0.94829035,  0.58998978,  1.3966794 ,  2.14945579,  2.82302332,\n",
       "          1.32140112, -0.06452473, -0.12929353,  1.43046021,  0.1826469 ,\n",
       "          0.83877879, -1.51018238, -1.02547753],\n",
       "        [ 0.        ,  0.        ,  0.        ,  0.        ,  0.        ,\n",
       "          0.        ,  0.        ,  0.        ,  0.        ,  0.        ,\n",
       "          0.        ,  0.        ,  0.        ],\n",
       "        [ 0.        ,  0.        ,  0.        ,  0.        ,  0.        ,\n",
       "          0.        ,  0.        ,  0.        ,  0.        ,  0.        ,\n",
       "          0.        ,  0.        ,  0.        ]]], dtype=float32)"
      ]
     },
     "execution_count": 14,
     "metadata": {},
     "output_type": "execute_result"
    }
   ],
   "source": [
    "keys2.eval()"
   ]
  },
  {
   "cell_type": "code",
   "execution_count": 15,
   "metadata": {
    "collapsed": false
   },
   "outputs": [
    {
     "name": "stdout",
     "output_type": "stream",
     "text": [
      "Tensor(\"abc/weights/read:0\", shape=(13, 13), dtype=float32)\n"
     ]
    }
   ],
   "source": [
    "for item in tf.get_collection(tf.GraphKeys.GLOBAL_VARIABLES):\n",
    "    print item"
   ]
  },
  {
   "cell_type": "code",
   "execution_count": null,
   "metadata": {
    "collapsed": true
   },
   "outputs": [],
   "source": []
  }
 ],
 "metadata": {
  "kernelspec": {
   "display_name": "Python 2",
   "language": "python",
   "name": "python2"
  },
  "language_info": {
   "codemirror_mode": {
    "name": "ipython",
    "version": 2
   },
   "file_extension": ".py",
   "mimetype": "text/x-python",
   "name": "python",
   "nbconvert_exporter": "python",
   "pygments_lexer": "ipython2",
   "version": "2.7.5"
  }
 },
 "nbformat": 4,
 "nbformat_minor": 0
}
