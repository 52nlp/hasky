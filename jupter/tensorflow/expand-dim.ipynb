{
 "cells": [
  {
   "cell_type": "code",
   "execution_count": 1,
   "metadata": {
    "collapsed": true
   },
   "outputs": [],
   "source": [
    "import tensorflow as tf"
   ]
  },
  {
   "cell_type": "code",
   "execution_count": 2,
   "metadata": {
    "collapsed": false
   },
   "outputs": [
    {
     "name": "stdout",
     "output_type": "stream",
     "text": [
      "Help on function expand_dims in module tensorflow.python.ops.gen_array_ops:\n",
      "\n",
      "expand_dims(input, dim, name=None)\n",
      "    Inserts a dimension of 1 into a tensor's shape.\n",
      "    \n",
      "    Given a tensor `input`, this operation inserts a dimension of 1 at the\n",
      "    dimension index `dim` of `input`'s shape. The dimension index `dim` starts at\n",
      "    zero; if you specify a negative number for `dim` it is counted backward from\n",
      "    the end.\n",
      "    \n",
      "    This operation is useful if you want to add a batch dimension to a single\n",
      "    element. For example, if you have a single image of shape `[height, width,\n",
      "    channels]`, you can make it a batch of 1 image with `expand_dims(image, 0)`,\n",
      "    which will make the shape `[1, height, width, channels]`.\n",
      "    \n",
      "    Other examples:\n",
      "    \n",
      "    ```prettyprint\n",
      "    # 't' is a tensor of shape [2]\n",
      "    shape(expand_dims(t, 0)) ==> [1, 2]\n",
      "    shape(expand_dims(t, 1)) ==> [2, 1]\n",
      "    shape(expand_dims(t, -1)) ==> [2, 1]\n",
      "    \n",
      "    # 't2' is a tensor of shape [2, 3, 5]\n",
      "    shape(expand_dims(t2, 0)) ==> [1, 2, 3, 5]\n",
      "    shape(expand_dims(t2, 2)) ==> [2, 3, 1, 5]\n",
      "    shape(expand_dims(t2, 3)) ==> [2, 3, 5, 1]\n",
      "    ```\n",
      "    \n",
      "    This operation requires that:\n",
      "    \n",
      "    `-1-input.dims() <= dim <= input.dims()`\n",
      "    \n",
      "    This operation is related to `squeeze()`, which removes dimensions of\n",
      "    size 1.\n",
      "    \n",
      "    Args:\n",
      "      input: A `Tensor`.\n",
      "      dim: A `Tensor` of type `int32`.\n",
      "        0-D (scalar). Specifies the dimension index at which to\n",
      "        expand the shape of `input`.\n",
      "      name: A name for the operation (optional).\n",
      "    \n",
      "    Returns:\n",
      "      A `Tensor`. Has the same type as `input`.\n",
      "      Contains the same data as `input`, but its shape has an additional\n",
      "      dimension of size 1 added.\n",
      "\n"
     ]
    }
   ],
   "source": [
    "help(tf.expand_dims)"
   ]
  },
  {
   "cell_type": "code",
   "execution_count": 4,
   "metadata": {
    "collapsed": false
   },
   "outputs": [],
   "source": [
    "import tensorflow as tf\n",
    "sess = tf.InteractiveSession()"
   ]
  },
  {
   "cell_type": "code",
   "execution_count": 12,
   "metadata": {
    "collapsed": true
   },
   "outputs": [],
   "source": [
    "t = tf.constant([[1, 2, 3], [4, 5, 6]], dtype=tf.float32)"
   ]
  },
  {
   "cell_type": "code",
   "execution_count": 19,
   "metadata": {
    "collapsed": false
   },
   "outputs": [
    {
     "data": {
      "text/plain": [
       "array([[[ 1.,  2.,  3.]],\n",
       "\n",
       "       [[ 4.,  5.,  6.]]], dtype=float32)"
      ]
     },
     "execution_count": 19,
     "metadata": {},
     "output_type": "execute_result"
    }
   ],
   "source": [
    "tf.expand_dims(t, 1).eval()"
   ]
  },
  {
   "cell_type": "code",
   "execution_count": 14,
   "metadata": {
    "collapsed": false
   },
   "outputs": [
    {
     "data": {
      "text/plain": [
       "(2, 3)"
      ]
     },
     "execution_count": 14,
     "metadata": {},
     "output_type": "execute_result"
    }
   ],
   "source": [
    "t.eval().shape"
   ]
  },
  {
   "cell_type": "code",
   "execution_count": 18,
   "metadata": {
    "collapsed": false
   },
   "outputs": [
    {
     "data": {
      "text/plain": [
       "(2, 1, 3)"
      ]
     },
     "execution_count": 18,
     "metadata": {},
     "output_type": "execute_result"
    }
   ],
   "source": [
    "tf.expand_dims(t, 1).eval().shape"
   ]
  },
  {
   "cell_type": "code",
   "execution_count": 17,
   "metadata": {
    "collapsed": false
   },
   "outputs": [
    {
     "data": {
      "text/plain": [
       "array([[ 0.,  1.,  2.,  3.],\n",
       "       [ 0.,  4.,  5.,  6.]], dtype=float32)"
      ]
     },
     "execution_count": 17,
     "metadata": {},
     "output_type": "execute_result"
    }
   ],
   "source": [
    "tf.concat(1, [tf.zeros([2,1]), t]).eval()"
   ]
  },
  {
   "cell_type": "code",
   "execution_count": 20,
   "metadata": {
    "collapsed": false
   },
   "outputs": [
    {
     "data": {
      "text/plain": [
       "array([ 2.,  5.], dtype=float32)"
      ]
     },
     "execution_count": 20,
     "metadata": {},
     "output_type": "execute_result"
    }
   ],
   "source": [
    "t[:,1].eval()"
   ]
  },
  {
   "cell_type": "code",
   "execution_count": 26,
   "metadata": {
    "collapsed": false
   },
   "outputs": [
    {
     "data": {
      "text/plain": [
       "array([[ 2.],\n",
       "       [ 5.]], dtype=float32)"
      ]
     },
     "execution_count": 26,
     "metadata": {},
     "output_type": "execute_result"
    }
   ],
   "source": [
    "tf.reshape(t[:,1],[-1, 1]).eval()"
   ]
  },
  {
   "cell_type": "code",
   "execution_count": 25,
   "metadata": {
    "collapsed": false
   },
   "outputs": [
    {
     "data": {
      "text/plain": [
       "(2, 1)"
      ]
     },
     "execution_count": 25,
     "metadata": {},
     "output_type": "execute_result"
    }
   ],
   "source": [
    "tf.reshape(t[:,1],[-1, 1]).eval().shape"
   ]
  },
  {
   "cell_type": "code",
   "execution_count": 34,
   "metadata": {
    "collapsed": false
   },
   "outputs": [
    {
     "data": {
      "text/plain": [
       "array([[ 2.],\n",
       "       [ 5.]], dtype=float32)"
      ]
     },
     "execution_count": 34,
     "metadata": {},
     "output_type": "execute_result"
    }
   ],
   "source": [
    "tf.expand_dims(t[:,1],1).eval()"
   ]
  },
  {
   "cell_type": "code",
   "execution_count": 28,
   "metadata": {
    "collapsed": false
   },
   "outputs": [
    {
     "data": {
      "text/plain": [
       "(2, 1)"
      ]
     },
     "execution_count": 28,
     "metadata": {},
     "output_type": "execute_result"
    }
   ],
   "source": [
    "tf.expand_dims(t[:,1],1).eval().shape"
   ]
  },
  {
   "cell_type": "code",
   "execution_count": 29,
   "metadata": {
    "collapsed": false
   },
   "outputs": [
    {
     "data": {
      "text/plain": [
       "array([ 4.,  5.,  6.], dtype=float32)"
      ]
     },
     "execution_count": 29,
     "metadata": {},
     "output_type": "execute_result"
    }
   ],
   "source": [
    "tf.gather(t, 1).eval()"
   ]
  },
  {
   "cell_type": "code",
   "execution_count": 35,
   "metadata": {
    "collapsed": false
   },
   "outputs": [
    {
     "data": {
      "text/plain": [
       "array([[ 2.,  3.],\n",
       "       [ 5.,  6.]], dtype=float32)"
      ]
     },
     "execution_count": 35,
     "metadata": {},
     "output_type": "execute_result"
    }
   ],
   "source": [
    "tf.slice(t, [0, 1], [-1, 1]).eval()"
   ]
  },
  {
   "cell_type": "code",
   "execution_count": 32,
   "metadata": {
    "collapsed": false
   },
   "outputs": [
    {
     "name": "stdout",
     "output_type": "stream",
     "text": [
      "Help on function slice in module tensorflow.python.ops.array_ops:\n",
      "\n",
      "slice(input_, begin, size, name=None)\n",
      "    Extracts a slice from a tensor.\n",
      "    \n",
      "    This operation extracts a slice of size `size` from a tensor `input` starting\n",
      "    at the location specified by `begin`. The slice `size` is represented as a\n",
      "    tensor shape, where `size[i]` is the number of elements of the 'i'th dimension\n",
      "    of `input` that you want to slice. The starting location (`begin`) for the\n",
      "    slice is represented as an offset in each dimension of `input`. In other\n",
      "    words, `begin[i]` is the offset into the 'i'th dimension of `input` that you\n",
      "    want to slice from.\n",
      "    \n",
      "    `begin` is zero-based; `size` is one-based. If `size[i]` is -1,\n",
      "    all remaining elements in dimension i are included in the\n",
      "    slice. In other words, this is equivalent to setting:\n",
      "    \n",
      "    `size[i] = input.dim_size(i) - begin[i]`\n",
      "    \n",
      "    This operation requires that:\n",
      "    \n",
      "    `0 <= begin[i] <= begin[i] + size[i] <= Di  for i in [0, n]`\n",
      "    \n",
      "    For example:\n",
      "    \n",
      "    ```\n",
      "    # 'input' is [[[1, 1, 1], [2, 2, 2]],\n",
      "    #             [[3, 3, 3], [4, 4, 4]],\n",
      "    #             [[5, 5, 5], [6, 6, 6]]]\n",
      "    tf.slice(input, [1, 0, 0], [1, 1, 3]) ==> [[[3, 3, 3]]]\n",
      "    tf.slice(input, [1, 0, 0], [1, 2, 3]) ==> [[[3, 3, 3],\n",
      "                                                [4, 4, 4]]]\n",
      "    tf.slice(input, [1, 0, 0], [2, 1, 3]) ==> [[[3, 3, 3]],\n",
      "                                               [[5, 5, 5]]]\n",
      "    ```\n",
      "    \n",
      "    Args:\n",
      "      input_: A `Tensor`.\n",
      "      begin: An `int32` or `int64` `Tensor`.\n",
      "      size: An `int32` or `int64` `Tensor`.\n",
      "      name: A name for the operation (optional).\n",
      "    \n",
      "    Returns:\n",
      "      A `Tensor` the same type as `input`.\n",
      "\n"
     ]
    }
   ],
   "source": [
    "help(tf.slice)"
   ]
  },
  {
   "cell_type": "code",
   "execution_count": 38,
   "metadata": {
    "collapsed": false
   },
   "outputs": [
    {
     "data": {
      "text/plain": [
       "array([[0],\n",
       "       [1],\n",
       "       [2],\n",
       "       [3],\n",
       "       [4],\n",
       "       [5],\n",
       "       [6],\n",
       "       [7],\n",
       "       [8],\n",
       "       [9]], dtype=int32)"
      ]
     },
     "execution_count": 38,
     "metadata": {},
     "output_type": "execute_result"
    }
   ],
   "source": [
    "tf.expand_dims(tf.range(0, 10, 1), 1).eval()"
   ]
  },
  {
   "cell_type": "code",
   "execution_count": 43,
   "metadata": {
    "collapsed": false
   },
   "outputs": [
    {
     "data": {
      "text/plain": [
       "(2,)"
      ]
     },
     "execution_count": 43,
     "metadata": {},
     "output_type": "execute_result"
    }
   ],
   "source": [
    "tf.pack([3, 2]).eval().shape"
   ]
  },
  {
   "cell_type": "code",
   "execution_count": 42,
   "metadata": {
    "collapsed": false
   },
   "outputs": [
    {
     "name": "stdout",
     "output_type": "stream",
     "text": [
      "Help on function pack in module tensorflow.python.ops.array_ops:\n",
      "\n",
      "pack(values, axis=0, name='pack')\n",
      "    Packs a list of rank-`R` tensors into one rank-`(R+1)` tensor.\n",
      "    \n",
      "    Packs the list of tensors in `values` into a tensor with rank one higher than\n",
      "    each tensor in `values`, by packing them along the `axis` dimension.\n",
      "    Given a list of length `N` of tensors of shape `(A, B, C)`;\n",
      "    \n",
      "    if `axis == 0` then the `output` tensor will have the shape `(N, A, B, C)`.\n",
      "    if `axis == 1` then the `output` tensor will have the shape `(A, N, B, C)`.\n",
      "    Etc.\n",
      "    \n",
      "    For example:\n",
      "    \n",
      "    ```prettyprint\n",
      "    # 'x' is [1, 4]\n",
      "    # 'y' is [2, 5]\n",
      "    # 'z' is [3, 6]\n",
      "    pack([x, y, z]) => [[1, 4], [2, 5], [3, 6]]  # Pack along first dim.\n",
      "    pack([x, y, z], axis=1) => [[1, 2, 3], [4, 5, 6]]\n",
      "    ```\n",
      "    \n",
      "    This is the opposite of unpack.  The numpy equivalent is\n",
      "    \n",
      "        tf.pack([x, y, z]) = np.asarray([x, y, z])\n",
      "    \n",
      "    Args:\n",
      "      values: A list of `Tensor` objects with the same shape and type.\n",
      "      axis: An `int`. The axis to pack along. Defaults to the first dimension.\n",
      "        Supports negative indexes.\n",
      "      name: A name for this operation (optional).\n",
      "    \n",
      "    Returns:\n",
      "      output: A packed `Tensor` with the same type as `values`.\n",
      "    \n",
      "    Raises:\n",
      "      ValueError: If `axis` is out of the range [-(R+1), R+1).\n",
      "\n"
     ]
    }
   ],
   "source": [
    "help(tf.pack)"
   ]
  },
  {
   "cell_type": "code",
   "execution_count": 44,
   "metadata": {
    "collapsed": false
   },
   "outputs": [
    {
     "name": "stdout",
     "output_type": "stream",
     "text": [
      "Help on function sparse_to_dense in module tensorflow.python.ops.sparse_ops:\n",
      "\n",
      "sparse_to_dense(sparse_indices, output_shape, sparse_values, default_value=0, validate_indices=True, name=None)\n",
      "    Converts a sparse representation into a dense tensor.\n",
      "    \n",
      "    Builds an array `dense` with shape `output_shape` such that\n",
      "    \n",
      "    ```python\n",
      "    # If sparse_indices is scalar\n",
      "    dense[i] = (i == sparse_indices ? sparse_values : default_value)\n",
      "    \n",
      "    # If sparse_indices is a vector, then for each i\n",
      "    dense[sparse_indices[i]] = sparse_values[i]\n",
      "    \n",
      "    # If sparse_indices is an n by d matrix, then for each i in [0, n)\n",
      "    dense[sparse_indices[i][0], ..., sparse_indices[i][d-1]] = sparse_values[i]\n",
      "    ```\n",
      "    \n",
      "    All other values in `dense` are set to `default_value`.  If `sparse_values`\n",
      "    is a scalar, all sparse indices are set to this single value.\n",
      "    \n",
      "    Indices should be sorted in lexicographic order, and indices must not\n",
      "    contain any repeats. If `validate_indices` is True, these properties\n",
      "    are checked during execution.\n",
      "    \n",
      "    Args:\n",
      "      sparse_indices: A 0-D, 1-D, or 2-D `Tensor` of type `int32` or `int64`.\n",
      "        `sparse_indices[i]` contains the complete index where `sparse_values[i]`\n",
      "        will be placed.\n",
      "      output_shape: A 1-D `Tensor` of the same type as `sparse_indices`.  Shape\n",
      "        of the dense output tensor.\n",
      "      sparse_values: A 0-D or 1-D `Tensor`.  Values corresponding to each row of\n",
      "        `sparse_indices`, or a scalar value to be used for all sparse indices.\n",
      "      default_value: A 0-D `Tensor` of the same type as `sparse_values`.  Value\n",
      "        to set for indices not specified in `sparse_indices`.  Defaults to zero.\n",
      "      validate_indices: A boolean value.  If True, indices are checked to make\n",
      "        sure they are sorted in lexicographic order and that there are no repeats.\n",
      "      name: A name for the operation (optional).\n",
      "    \n",
      "    Returns:\n",
      "      Dense `Tensor` of shape `output_shape`.  Has the same type as\n",
      "      `sparse_values`.\n",
      "\n"
     ]
    }
   ],
   "source": [
    "help(tf.sparse_to_dense)"
   ]
  },
  {
   "cell_type": "code",
   "execution_count": 23,
   "metadata": {
    "collapsed": true
   },
   "outputs": [],
   "source": [
    "x = tf.zeros([1])"
   ]
  },
  {
   "cell_type": "code",
   "execution_count": 24,
   "metadata": {
    "collapsed": false
   },
   "outputs": [
    {
     "data": {
      "text/plain": [
       "array([ 0.], dtype=float32)"
      ]
     },
     "execution_count": 24,
     "metadata": {},
     "output_type": "execute_result"
    }
   ],
   "source": [
    "x.eval()"
   ]
  },
  {
   "cell_type": "code",
   "execution_count": 25,
   "metadata": {
    "collapsed": true
   },
   "outputs": [],
   "source": [
    "x = tf.zeros([1,])"
   ]
  },
  {
   "cell_type": "code",
   "execution_count": 26,
   "metadata": {
    "collapsed": false
   },
   "outputs": [
    {
     "data": {
      "text/plain": [
       "array([ 0.], dtype=float32)"
      ]
     },
     "execution_count": 26,
     "metadata": {},
     "output_type": "execute_result"
    }
   ],
   "source": [
    "x.eval()"
   ]
  },
  {
   "cell_type": "code",
   "execution_count": 27,
   "metadata": {
    "collapsed": true
   },
   "outputs": [],
   "source": [
    "x = tf.zeros(1)"
   ]
  },
  {
   "cell_type": "code",
   "execution_count": 28,
   "metadata": {
    "collapsed": false
   },
   "outputs": [
    {
     "data": {
      "text/plain": [
       "array([ 0.], dtype=float32)"
      ]
     },
     "execution_count": 28,
     "metadata": {},
     "output_type": "execute_result"
    }
   ],
   "source": [
    "x.eval()"
   ]
  },
  {
   "cell_type": "code",
   "execution_count": null,
   "metadata": {
    "collapsed": true
   },
   "outputs": [],
   "source": []
  }
 ],
 "metadata": {
  "kernelspec": {
   "display_name": "Python 2",
   "language": "python",
   "name": "python2"
  },
  "language_info": {
   "codemirror_mode": {
    "name": "ipython",
    "version": 2
   },
   "file_extension": ".py",
   "mimetype": "text/x-python",
   "name": "python",
   "nbconvert_exporter": "python",
   "pygments_lexer": "ipython2",
   "version": "2.7.5"
  }
 },
 "nbformat": 4,
 "nbformat_minor": 0
}
