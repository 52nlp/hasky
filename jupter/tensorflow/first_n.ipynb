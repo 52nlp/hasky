{
 "cells": [
  {
   "cell_type": "code",
   "execution_count": 1,
   "metadata": {
    "collapsed": true
   },
   "outputs": [],
   "source": [
    "import tensorflow as tf"
   ]
  },
  {
   "cell_type": "code",
   "execution_count": 2,
   "metadata": {
    "collapsed": true
   },
   "outputs": [],
   "source": [
    "sess = tf.InteractiveSession()"
   ]
  },
  {
   "cell_type": "code",
   "execution_count": 3,
   "metadata": {
    "collapsed": true
   },
   "outputs": [],
   "source": [
    "x = tf.constant([[1,2],[3,4],[5,6],[7,8]])"
   ]
  },
  {
   "cell_type": "code",
   "execution_count": 4,
   "metadata": {
    "collapsed": false
   },
   "outputs": [
    {
     "data": {
      "text/plain": [
       "array([[1, 2],\n",
       "       [3, 4],\n",
       "       [5, 6],\n",
       "       [7, 8]], dtype=int32)"
      ]
     },
     "execution_count": 4,
     "metadata": {},
     "output_type": "execute_result"
    }
   ],
   "source": [
    "x.eval()"
   ]
  },
  {
   "cell_type": "code",
   "execution_count": 7,
   "metadata": {
    "collapsed": false
   },
   "outputs": [
    {
     "data": {
      "text/plain": [
       "array([1, 2], dtype=int32)"
      ]
     },
     "execution_count": 7,
     "metadata": {},
     "output_type": "execute_result"
    }
   ],
   "source": [
    "x[0,:].eval()"
   ]
  },
  {
   "cell_type": "code",
   "execution_count": 8,
   "metadata": {
    "collapsed": false
   },
   "outputs": [
    {
     "data": {
      "text/plain": [
       "array([3, 4], dtype=int32)"
      ]
     },
     "execution_count": 8,
     "metadata": {},
     "output_type": "execute_result"
    }
   ],
   "source": [
    "tf.gather(x, 1).eval()"
   ]
  },
  {
   "cell_type": "code",
   "execution_count": 9,
   "metadata": {
    "collapsed": false
   },
   "outputs": [
    {
     "name": "stdout",
     "output_type": "stream",
     "text": [
      "Help on function gather in module tensorflow.python.ops.gen_array_ops:\n",
      "\n",
      "gather(params, indices, validate_indices=None, name=None)\n",
      "    Gather slices from `params` according to `indices`.\n",
      "    \n",
      "    `indices` must be an integer tensor of any dimension (usually 0-D or 1-D).\n",
      "    Produces an output tensor with shape `indices.shape + params.shape[1:]` where:\n",
      "    \n",
      "        # Scalar indices\n",
      "        output[:, ..., :] = params[indices, :, ... :]\n",
      "    \n",
      "        # Vector indices\n",
      "        output[i, :, ..., :] = params[indices[i], :, ... :]\n",
      "    \n",
      "        # Higher rank indices\n",
      "        output[i, ..., j, :, ... :] = params[indices[i, ..., j], :, ..., :]\n",
      "    \n",
      "    If `indices` is a permutation and `len(indices) == params.shape[0]` then\n",
      "    this operation will permute `params` accordingly.\n",
      "    \n",
      "    <div style=\"width:70%; margin:auto; margin-bottom:10px; margin-top:20px;\">\n",
      "    <img style=\"width:100%\" src=\"../../images/Gather.png\" alt>\n",
      "    </div>\n",
      "    \n",
      "    Args:\n",
      "      params: A `Tensor`.\n",
      "      indices: A `Tensor`. Must be one of the following types: `int32`, `int64`.\n",
      "      validate_indices: An optional `bool`. Defaults to `True`.\n",
      "      name: A name for the operation (optional).\n",
      "    \n",
      "    Returns:\n",
      "      A `Tensor`. Has the same type as `params`.\n",
      "\n"
     ]
    }
   ],
   "source": [
    "help(tf.gather)"
   ]
  },
  {
   "cell_type": "code",
   "execution_count": 10,
   "metadata": {
    "collapsed": false
   },
   "outputs": [
    {
     "data": {
      "text/plain": [
       "array([[1, 2],\n",
       "       [3, 4]], dtype=int32)"
      ]
     },
     "execution_count": 10,
     "metadata": {},
     "output_type": "execute_result"
    }
   ],
   "source": [
    "tf.gather(x, [0,1]).eval()"
   ]
  },
  {
   "cell_type": "code",
   "execution_count": 14,
   "metadata": {
    "collapsed": false
   },
   "outputs": [
    {
     "data": {
      "text/plain": [
       "array([[1, 2],\n",
       "       [3, 4],\n",
       "       [5, 6]], dtype=int32)"
      ]
     },
     "execution_count": 14,
     "metadata": {},
     "output_type": "execute_result"
    }
   ],
   "source": [
    "tf.slice(x, [0, 0],[3,-1]).eval()"
   ]
  },
  {
   "cell_type": "code",
   "execution_count": 16,
   "metadata": {
    "collapsed": false
   },
   "outputs": [
    {
     "data": {
      "text/plain": [
       "array([[1, 2],\n",
       "       [3, 4],\n",
       "       [5, 6]], dtype=int32)"
      ]
     },
     "execution_count": 16,
     "metadata": {},
     "output_type": "execute_result"
    }
   ],
   "source": [
    "tf.gather(x, range(3)).eval()"
   ]
  },
  {
   "cell_type": "code",
   "execution_count": 13,
   "metadata": {
    "collapsed": false
   },
   "outputs": [
    {
     "name": "stdout",
     "output_type": "stream",
     "text": [
      "Help on function gather_nd in module tensorflow.python.ops.gen_array_ops:\n",
      "\n",
      "gather_nd(params, indices, name=None)\n",
      "    Gather values or slices from `params` according to `indices`.\n",
      "    \n",
      "    `params` is a Tensor of rank `R` and `indices` is a Tensor of rank `M`.\n",
      "    \n",
      "    `indices` must be integer tensor, containing indices into `params`.\n",
      "    It must be shape `[d_0, ..., d_N, R]` where `0 < R <= M`.\n",
      "    \n",
      "    The innermost dimension of `indices` (with length `R`) corresponds to\n",
      "    indices into elements (if `R = M`) or slices (if `R < M`) along the `N`th\n",
      "    dimension of `params`.\n",
      "    \n",
      "    Produces an output tensor with shape\n",
      "    \n",
      "        [d_0, ..., d_{n-1}, params.shape[R], ..., params.shape[M-1]].\n",
      "    \n",
      "    Some examples below.\n",
      "    \n",
      "    Simple indexing into a matrix:\n",
      "    \n",
      "        indices = [[0, 0], [1, 1]]\n",
      "        params = [['a', 'b'], ['c', 'd']]\n",
      "        output = ['a', 'd']\n",
      "    \n",
      "    Slice indexing into a matrix:\n",
      "    \n",
      "        indices = [[1], [0]]\n",
      "        params = [['a', 'b'], ['c', 'd']]\n",
      "        output = [['c', 'd'], ['a', 'b']]\n",
      "    \n",
      "    Indexing into a 3-tensor:\n",
      "    \n",
      "        indices = [[1]]\n",
      "        params = [[['a0', 'b0'], ['c0', 'd0']],\n",
      "                  [['a1', 'b1'], ['c1', 'd1']]]\n",
      "        output = [[['a1', 'b1'], ['c1', 'd1']]]\n",
      "    \n",
      "    \n",
      "        indices = [[0, 1], [1, 0]]\n",
      "        params = [[['a0', 'b0'], ['c0', 'd0']],\n",
      "                  [['a1', 'b1'], ['c1', 'd1']]]\n",
      "        output = [['c0', 'd0'], ['a1', 'b1']]\n",
      "    \n",
      "    \n",
      "        indices = [[0, 0, 1], [1, 0, 1]]\n",
      "        params = [[['a0', 'b0'], ['c0', 'd0']],\n",
      "                  [['a1', 'b1'], ['c1', 'd1']]]\n",
      "        output = ['b0', 'b1']\n",
      "    \n",
      "    Batched indexing into a matrix:\n",
      "    \n",
      "        indices = [[[0, 0]], [[0, 1]]]\n",
      "        params = [['a', 'b'], ['c', 'd']]\n",
      "        output = [['a'], ['b']]\n",
      "    \n",
      "    Batched slice indexing into a matrix:\n",
      "    \n",
      "        indices = [[[1]], [[0]]]\n",
      "        params = [['a', 'b'], ['c', 'd']]\n",
      "        output = [[['c', 'd']], [['a', 'b']]]\n",
      "    \n",
      "    Batched indexing into a 3-tensor:\n",
      "    \n",
      "        indices = [[[1]], [[0]]]\n",
      "        params = [[['a0', 'b0'], ['c0', 'd0']],\n",
      "                  [['a1', 'b1'], ['c1', 'd1']]]\n",
      "        output = [[[['a1', 'b1'], ['c1', 'd1']]],\n",
      "                  [[['a0', 'b0'], ['c0', 'd0']]]]\n",
      "    \n",
      "    \n",
      "        indices = [[[0, 1], [1, 0]], [[0, 0], [1, 1]]]\n",
      "        params = [[['a0', 'b0'], ['c0', 'd0']],\n",
      "                  [['a1', 'b1'], ['c1', 'd1']]]\n",
      "        output = [[['c0', 'd0'], ['a1', 'b1']],\n",
      "                  [['a0', 'b0'], ['c1', 'd1']]]\n",
      "    \n",
      "    \n",
      "        indices = [[[0, 0, 1], [1, 0, 1]], [[0, 1, 1], [1, 1, 0]]]\n",
      "        params = [[['a0', 'b0'], ['c0', 'd0']],\n",
      "                  [['a1', 'b1'], ['c1', 'd1']]]\n",
      "        output = [['b0', 'b1'], ['d0', 'c1']]\n",
      "    \n",
      "    Args:\n",
      "      params: A `Tensor`. `M-D`.  The tensor from which to gather values.\n",
      "      indices: A `Tensor`. Must be one of the following types: `int32`, `int64`.\n",
      "        `(N+1)-D`.  Index tensor having shape `[d_0, ..., d_N, R]`.\n",
      "      name: A name for the operation (optional).\n",
      "    \n",
      "    Returns:\n",
      "      A `Tensor`. Has the same type as `params`.\n",
      "      `(N+M-R)-D`.  Values from `params` gathered from indices given by\n",
      "      `indices`.\n",
      "\n"
     ]
    }
   ],
   "source": [
    "help(tf.gather_nd)"
   ]
  },
  {
   "cell_type": "code",
   "execution_count": 17,
   "metadata": {
    "collapsed": false
   },
   "outputs": [
    {
     "name": "stdout",
     "output_type": "stream",
     "text": [
      "Help on function slice in module tensorflow.python.ops.array_ops:\n",
      "\n",
      "slice(input_, begin, size, name=None)\n",
      "    Extracts a slice from a tensor.\n",
      "    \n",
      "    This operation extracts a slice of size `size` from a tensor `input` starting\n",
      "    at the location specified by `begin`. The slice `size` is represented as a\n",
      "    tensor shape, where `size[i]` is the number of elements of the 'i'th dimension\n",
      "    of `input` that you want to slice. The starting location (`begin`) for the\n",
      "    slice is represented as an offset in each dimension of `input`. In other\n",
      "    words, `begin[i]` is the offset into the 'i'th dimension of `input` that you\n",
      "    want to slice from.\n",
      "    \n",
      "    `begin` is zero-based; `size` is one-based. If `size[i]` is -1,\n",
      "    all remaining elements in dimension i are included in the\n",
      "    slice. In other words, this is equivalent to setting:\n",
      "    \n",
      "    `size[i] = input.dim_size(i) - begin[i]`\n",
      "    \n",
      "    This operation requires that:\n",
      "    \n",
      "    `0 <= begin[i] <= begin[i] + size[i] <= Di  for i in [0, n]`\n",
      "    \n",
      "    For example:\n",
      "    \n",
      "    ```\n",
      "    # 'input' is [[[1, 1, 1], [2, 2, 2]],\n",
      "    #             [[3, 3, 3], [4, 4, 4]],\n",
      "    #             [[5, 5, 5], [6, 6, 6]]]\n",
      "    tf.slice(input, [1, 0, 0], [1, 1, 3]) ==> [[[3, 3, 3]]]\n",
      "    tf.slice(input, [1, 0, 0], [1, 2, 3]) ==> [[[3, 3, 3],\n",
      "                                                [4, 4, 4]]]\n",
      "    tf.slice(input, [1, 0, 0], [2, 1, 3]) ==> [[[3, 3, 3]],\n",
      "                                               [[5, 5, 5]]]\n",
      "    ```\n",
      "    \n",
      "    Args:\n",
      "      input_: A `Tensor`.\n",
      "      begin: An `int32` or `int64` `Tensor`.\n",
      "      size: An `int32` or `int64` `Tensor`.\n",
      "      name: A name for the operation (optional).\n",
      "    \n",
      "    Returns:\n",
      "      A `Tensor` the same type as `input`.\n",
      "\n"
     ]
    }
   ],
   "source": [
    "help(tf.slice)"
   ]
  },
  {
   "cell_type": "code",
   "execution_count": null,
   "metadata": {
    "collapsed": true
   },
   "outputs": [],
   "source": []
  }
 ],
 "metadata": {
  "kernelspec": {
   "display_name": "Python 2",
   "language": "python",
   "name": "python2"
  },
  "language_info": {
   "codemirror_mode": {
    "name": "ipython",
    "version": 2
   },
   "file_extension": ".py",
   "mimetype": "text/x-python",
   "name": "python",
   "nbconvert_exporter": "python",
   "pygments_lexer": "ipython2",
   "version": "2.7.5"
  }
 },
 "nbformat": 4,
 "nbformat_minor": 0
}
