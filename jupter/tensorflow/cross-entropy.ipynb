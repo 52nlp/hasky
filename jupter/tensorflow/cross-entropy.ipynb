{
 "cells": [
  {
   "cell_type": "code",
   "execution_count": 1,
   "metadata": {
    "collapsed": true
   },
   "outputs": [],
   "source": [
    "import tensorflow as tf"
   ]
  },
  {
   "cell_type": "code",
   "execution_count": 2,
   "metadata": {
    "collapsed": false
   },
   "outputs": [
    {
     "name": "stdout",
     "output_type": "stream",
     "text": [
      "Help on function softmax_cross_entropy_with_logits in module tensorflow.python.ops.nn_ops:\n",
      "\n",
      "softmax_cross_entropy_with_logits(logits, labels, name=None)\n",
      "    Computes softmax cross entropy between `logits` and `labels`.\n",
      "    \n",
      "    Measures the probability error in discrete classification tasks in which the\n",
      "    classes are mutually exclusive (each entry is in exactly one class).  For\n",
      "    example, each CIFAR-10 image is labeled with one and only one label: an image\n",
      "    can be a dog or a truck, but not both.\n",
      "    \n",
      "    **NOTE:**  While the classes are mutually exclusive, their probabilities\n",
      "    need not be.  All that is required is that each row of `labels` is\n",
      "    a valid probability distribution.  If they are not, the computation of the\n",
      "    gradient will be incorrect.\n",
      "    \n",
      "    If using exclusive `labels` (wherein one and only\n",
      "    one class is true at a time), see `sparse_softmax_cross_entropy_with_logits`.\n",
      "    \n",
      "    **WARNING:** This op expects unscaled logits, since it performs a `softmax`\n",
      "    on `logits` internally for efficiency.  Do not call this op with the\n",
      "    output of `softmax`, as it will produce incorrect results.\n",
      "    \n",
      "    `logits` and `labels` must have the same shape `[batch_size, num_classes]`\n",
      "    and the same dtype (either `float32` or `float64`).\n",
      "    \n",
      "    Args:\n",
      "      logits: Unscaled log probabilities.\n",
      "      labels: Each row `labels[i]` must be a valid probability distribution.\n",
      "      name: A name for the operation (optional).\n",
      "    \n",
      "    Returns:\n",
      "      A 1-D `Tensor` of length `batch_size` of the same type as `logits` with the\n",
      "      softmax cross entropy loss.\n",
      "\n"
     ]
    }
   ],
   "source": [
    "help(tf.nn.softmax_cross_entropy_with_logits)"
   ]
  },
  {
   "cell_type": "code",
   "execution_count": 3,
   "metadata": {
    "collapsed": false
   },
   "outputs": [
    {
     "name": "stdout",
     "output_type": "stream",
     "text": [
      "Help on function sparse_softmax_cross_entropy_with_logits in module tensorflow.python.ops.nn_ops:\n",
      "\n",
      "sparse_softmax_cross_entropy_with_logits(logits, labels, name=None)\n",
      "    Computes sparse softmax cross entropy between `logits` and `labels`.\n",
      "    \n",
      "    Measures the probability error in discrete classification tasks in which the\n",
      "    classes are mutually exclusive (each entry is in exactly one class).  For\n",
      "    example, each CIFAR-10 image is labeled with one and only one label: an image\n",
      "    can be a dog or a truck, but not both.\n",
      "    \n",
      "    **NOTE:**  For this operation, the probability of a given label is considered\n",
      "    exclusive.  That is, soft classes are not allowed, and the `labels` vector\n",
      "    must provide a single specific index for the true class for each row of\n",
      "    `logits` (each minibatch entry).  For soft softmax classification with\n",
      "    a probability distribution for each entry, see\n",
      "    `softmax_cross_entropy_with_logits`.\n",
      "    \n",
      "    **WARNING:** This op expects unscaled logits, since it performs a softmax\n",
      "    on `logits` internally for efficiency.  Do not call this op with the\n",
      "    output of `softmax`, as it will produce incorrect results.\n",
      "    \n",
      "    A common use case is to have logits of shape `[batch_size, num_classes]` and\n",
      "    labels of shape `[batch_size]`. But higher dimensions are supported.\n",
      "    \n",
      "    Args:\n",
      "      logits: Unscaled log probabilities of rank `r` and shape\n",
      "        `[d_0, d_1, ..., d_{r-2}, num_classes]` and dtype `float32` or `float64`.\n",
      "      labels: `Tensor` of shape `[d_0, d_1, ..., d_{r-2}]` and dtype `int32` or\n",
      "        `int64`. Each entry in `labels` must be an index in `[0, num_classes)`.\n",
      "        Other values will result in a loss of 0, but incorrect gradient\n",
      "        computations.\n",
      "      name: A name for the operation (optional).\n",
      "    \n",
      "    Returns:\n",
      "      A `Tensor` of the same shape as `labels` and of the same type as `logits`\n",
      "      with the softmax cross entropy loss.\n",
      "    \n",
      "    Raises:\n",
      "      ValueError: If logits are scalars (need to have rank >= 1) or if the rank\n",
      "        of the labels is not equal to the rank of the labels minus one.\n",
      "\n"
     ]
    }
   ],
   "source": [
    "help(tf.nn.sparse_softmax_cross_entropy_with_logits)"
   ]
  },
  {
   "cell_type": "code",
   "execution_count": 4,
   "metadata": {
    "collapsed": false
   },
   "outputs": [
    {
     "name": "stdout",
     "output_type": "stream",
     "text": [
      "Help on function expand_dims in module tensorflow.python.ops.gen_array_ops:\n",
      "\n",
      "expand_dims(input, dim, name=None)\n",
      "    Inserts a dimension of 1 into a tensor's shape.\n",
      "    \n",
      "    Given a tensor `input`, this operation inserts a dimension of 1 at the\n",
      "    dimension index `dim` of `input`'s shape. The dimension index `dim` starts at\n",
      "    zero; if you specify a negative number for `dim` it is counted backward from\n",
      "    the end.\n",
      "    \n",
      "    This operation is useful if you want to add a batch dimension to a single\n",
      "    element. For example, if you have a single image of shape `[height, width,\n",
      "    channels]`, you can make it a batch of 1 image with `expand_dims(image, 0)`,\n",
      "    which will make the shape `[1, height, width, channels]`.\n",
      "    \n",
      "    Other examples:\n",
      "    \n",
      "    ```prettyprint\n",
      "    # 't' is a tensor of shape [2]\n",
      "    shape(expand_dims(t, 0)) ==> [1, 2]\n",
      "    shape(expand_dims(t, 1)) ==> [2, 1]\n",
      "    shape(expand_dims(t, -1)) ==> [2, 1]\n",
      "    \n",
      "    # 't2' is a tensor of shape [2, 3, 5]\n",
      "    shape(expand_dims(t2, 0)) ==> [1, 2, 3, 5]\n",
      "    shape(expand_dims(t2, 2)) ==> [2, 3, 1, 5]\n",
      "    shape(expand_dims(t2, 3)) ==> [2, 3, 5, 1]\n",
      "    ```\n",
      "    \n",
      "    This operation requires that:\n",
      "    \n",
      "    `-1-input.dims() <= dim <= input.dims()`\n",
      "    \n",
      "    This operation is related to `squeeze()`, which removes dimensions of\n",
      "    size 1.\n",
      "    \n",
      "    Args:\n",
      "      input: A `Tensor`.\n",
      "      dim: A `Tensor` of type `int32`.\n",
      "        0-D (scalar). Specifies the dimension index at which to\n",
      "        expand the shape of `input`.\n",
      "      name: A name for the operation (optional).\n",
      "    \n",
      "    Returns:\n",
      "      A `Tensor`. Has the same type as `input`.\n",
      "      Contains the same data as `input`, but its shape has an additional\n",
      "      dimension of size 1 added.\n",
      "\n"
     ]
    }
   ],
   "source": [
    "help(tf.expand_dims)"
   ]
  },
  {
   "cell_type": "code",
   "execution_count": 5,
   "metadata": {
    "collapsed": false
   },
   "outputs": [
    {
     "name": "stdout",
     "output_type": "stream",
     "text": [
      "Help on function sigmoid_cross_entropy_with_logits in module tensorflow.python.ops.nn:\n",
      "\n",
      "sigmoid_cross_entropy_with_logits(logits, targets, name=None)\n",
      "    Computes sigmoid cross entropy given `logits`.\n",
      "    \n",
      "    Measures the probability error in discrete classification tasks in which each\n",
      "    class is independent and not mutually exclusive.  For instance, one could\n",
      "    perform multilabel classification where a picture can contain both an elephant\n",
      "    and a dog at the same time.\n",
      "    \n",
      "    For brevity, let `x = logits`, `z = targets`.  The logistic loss is\n",
      "    \n",
      "          z * -log(sigmoid(x)) + (1 - z) * -log(1 - sigmoid(x))\n",
      "        = z * -log(1 / (1 + exp(-x))) + (1 - z) * -log(exp(-x) / (1 + exp(-x)))\n",
      "        = z * log(1 + exp(-x)) + (1 - z) * (-log(exp(-x)) + log(1 + exp(-x)))\n",
      "        = z * log(1 + exp(-x)) + (1 - z) * (x + log(1 + exp(-x))\n",
      "        = (1 - z) * x + log(1 + exp(-x))\n",
      "        = x - x * z + log(1 + exp(-x))\n",
      "    \n",
      "    For x < 0, to avoid overflow in exp(-x), we reformulate the above\n",
      "    \n",
      "          x - x * z + log(1 + exp(-x))\n",
      "        = log(exp(x)) - x * z + log(1 + exp(-x))\n",
      "        = - x * z + log(1 + exp(x))\n",
      "    \n",
      "    Hence, to ensure stability and avoid overflow, the implementation uses this\n",
      "    equivalent formulation\n",
      "    \n",
      "        max(x, 0) - x * z + log(1 + exp(-abs(x)))\n",
      "    \n",
      "    `logits` and `targets` must have the same type and shape.\n",
      "    \n",
      "    Args:\n",
      "      logits: A `Tensor` of type `float32` or `float64`.\n",
      "      targets: A `Tensor` of the same type and shape as `logits`.\n",
      "      name: A name for the operation (optional).\n",
      "    \n",
      "    Returns:\n",
      "      A `Tensor` of the same shape as `logits` with the componentwise\n",
      "      logistic losses.\n",
      "    \n",
      "    Raises:\n",
      "      ValueError: If `logits` and `targets` do not have the same shape.\n",
      "\n"
     ]
    }
   ],
   "source": [
    "help(tf.nn.sigmoid_cross_entropy_with_logits)"
   ]
  },
  {
   "cell_type": "code",
   "execution_count": 6,
   "metadata": {
    "collapsed": false
   },
   "outputs": [
    {
     "name": "stdout",
     "output_type": "stream",
     "text": [
      "Help on function sparse_softmax_cross_entropy_with_logits in module tensorflow.python.ops.nn_ops:\n",
      "\n",
      "sparse_softmax_cross_entropy_with_logits(logits, labels, name=None)\n",
      "    Computes sparse softmax cross entropy between `logits` and `labels`.\n",
      "    \n",
      "    Measures the probability error in discrete classification tasks in which the\n",
      "    classes are mutually exclusive (each entry is in exactly one class).  For\n",
      "    example, each CIFAR-10 image is labeled with one and only one label: an image\n",
      "    can be a dog or a truck, but not both.\n",
      "    \n",
      "    **NOTE:**  For this operation, the probability of a given label is considered\n",
      "    exclusive.  That is, soft classes are not allowed, and the `labels` vector\n",
      "    must provide a single specific index for the true class for each row of\n",
      "    `logits` (each minibatch entry).  For soft softmax classification with\n",
      "    a probability distribution for each entry, see\n",
      "    `softmax_cross_entropy_with_logits`.\n",
      "    \n",
      "    **WARNING:** This op expects unscaled logits, since it performs a softmax\n",
      "    on `logits` internally for efficiency.  Do not call this op with the\n",
      "    output of `softmax`, as it will produce incorrect results.\n",
      "    \n",
      "    A common use case is to have logits of shape `[batch_size, num_classes]` and\n",
      "    labels of shape `[batch_size]`. But higher dimensions are supported.\n",
      "    \n",
      "    Args:\n",
      "      logits: Unscaled log probabilities of rank `r` and shape\n",
      "        `[d_0, d_1, ..., d_{r-2}, num_classes]` and dtype `float32` or `float64`.\n",
      "      labels: `Tensor` of shape `[d_0, d_1, ..., d_{r-2}]` and dtype `int32` or\n",
      "        `int64`. Each entry in `labels` must be an index in `[0, num_classes)`.\n",
      "        Other values will result in a loss of 0, but incorrect gradient\n",
      "        computations.\n",
      "      name: A name for the operation (optional).\n",
      "    \n",
      "    Returns:\n",
      "      A `Tensor` of the same shape as `labels` and of the same type as `logits`\n",
      "      with the softmax cross entropy loss.\n",
      "    \n",
      "    Raises:\n",
      "      ValueError: If logits are scalars (need to have rank >= 1) or if the rank\n",
      "        of the labels is not equal to the rank of the labels minus one.\n",
      "\n"
     ]
    }
   ],
   "source": [
    "help(tf.nn.sparse_softmax_cross_entropy_with_logits)"
   ]
  },
  {
   "cell_type": "code",
   "execution_count": 7,
   "metadata": {
    "collapsed": false
   },
   "outputs": [
    {
     "name": "stdout",
     "output_type": "stream",
     "text": [
      "Help on function sparse_to_dense in module tensorflow.python.ops.sparse_ops:\n",
      "\n",
      "sparse_to_dense(sparse_indices, output_shape, sparse_values, default_value=0, validate_indices=True, name=None)\n",
      "    Converts a sparse representation into a dense tensor.\n",
      "    \n",
      "    Builds an array `dense` with shape `output_shape` such that\n",
      "    \n",
      "    ```python\n",
      "    # If sparse_indices is scalar\n",
      "    dense[i] = (i == sparse_indices ? sparse_values : default_value)\n",
      "    \n",
      "    # If sparse_indices is a vector, then for each i\n",
      "    dense[sparse_indices[i]] = sparse_values[i]\n",
      "    \n",
      "    # If sparse_indices is an n by d matrix, then for each i in [0, n)\n",
      "    dense[sparse_indices[i][0], ..., sparse_indices[i][d-1]] = sparse_values[i]\n",
      "    ```\n",
      "    \n",
      "    All other values in `dense` are set to `default_value`.  If `sparse_values`\n",
      "    is a scalar, all sparse indices are set to this single value.\n",
      "    \n",
      "    Indices should be sorted in lexicographic order, and indices must not\n",
      "    contain any repeats. If `validate_indices` is True, these properties\n",
      "    are checked during execution.\n",
      "    \n",
      "    Args:\n",
      "      sparse_indices: A 0-D, 1-D, or 2-D `Tensor` of type `int32` or `int64`.\n",
      "        `sparse_indices[i]` contains the complete index where `sparse_values[i]`\n",
      "        will be placed.\n",
      "      output_shape: A 1-D `Tensor` of the same type as `sparse_indices`.  Shape\n",
      "        of the dense output tensor.\n",
      "      sparse_values: A 0-D or 1-D `Tensor`.  Values corresponding to each row of\n",
      "        `sparse_indices`, or a scalar value to be used for all sparse indices.\n",
      "      default_value: A 0-D `Tensor` of the same type as `sparse_values`.  Value\n",
      "        to set for indices not specified in `sparse_indices`.  Defaults to zero.\n",
      "      validate_indices: A boolean value.  If True, indices are checked to make\n",
      "        sure they are sorted in lexicographic order and that there are no repeats.\n",
      "      name: A name for the operation (optional).\n",
      "    \n",
      "    Returns:\n",
      "      Dense `Tensor` of shape `output_shape`.  Has the same type as\n",
      "      `sparse_values`.\n",
      "\n"
     ]
    }
   ],
   "source": [
    "help(tf.sparse_to_dense)"
   ]
  },
  {
   "cell_type": "code",
   "execution_count": null,
   "metadata": {
    "collapsed": true
   },
   "outputs": [],
   "source": []
  }
 ],
 "metadata": {
  "kernelspec": {
   "display_name": "Python 2",
   "language": "python",
   "name": "python2"
  },
  "language_info": {
   "codemirror_mode": {
    "name": "ipython",
    "version": 2
   },
   "file_extension": ".py",
   "mimetype": "text/x-python",
   "name": "python",
   "nbconvert_exporter": "python",
   "pygments_lexer": "ipython2",
   "version": "2.7.5"
  }
 },
 "nbformat": 4,
 "nbformat_minor": 0
}
