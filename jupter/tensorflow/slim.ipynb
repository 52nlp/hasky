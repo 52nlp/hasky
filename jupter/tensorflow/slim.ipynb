{
 "cells": [
  {
   "cell_type": "code",
   "execution_count": 1,
   "metadata": {
    "collapsed": true
   },
   "outputs": [],
   "source": [
    "import tensorflow.contrib.slim as slim"
   ]
  },
  {
   "cell_type": "code",
   "execution_count": 2,
   "metadata": {
    "collapsed": true
   },
   "outputs": [],
   "source": [
    "import tensorflow as tf"
   ]
  },
  {
   "cell_type": "code",
   "execution_count": 3,
   "metadata": {
    "collapsed": true
   },
   "outputs": [],
   "source": [
    "sess = tf.InteractiveSession()"
   ]
  },
  {
   "cell_type": "code",
   "execution_count": 4,
   "metadata": {
    "collapsed": false
   },
   "outputs": [
    {
     "name": "stdout",
     "output_type": "stream",
     "text": [
      "Help on function fully_connected in module tensorflow.contrib.layers.python.layers.layers:\n",
      "\n",
      "fully_connected(*args, **kwargs)\n",
      "    Adds a fully connected layer.\n",
      "    \n",
      "    `fully_connected` creates a variable called `weights`, representing a fully\n",
      "    connected weight matrix, which is multiplied by the `inputs` to produce a\n",
      "    `Tensor` of hidden units. If a `normalizer_fn` is provided (such as\n",
      "    `batch_norm`), it is then applied. Otherwise, if `normalizer_fn` is\n",
      "    None and a `biases_initializer` is provided then a `biases` variable would be\n",
      "    created and added the hidden units. Finally, if `activation_fn` is not `None`,\n",
      "    it is applied to the hidden units as well.\n",
      "    \n",
      "    Note: that if `inputs` have a rank greater than 2, then `inputs` is flattened\n",
      "    prior to the initial matrix multiply by `weights`.\n",
      "    \n",
      "    Args:\n",
      "      inputs: A tensor of with at least rank 2 and value for the last dimension,\n",
      "        i.e. `[batch_size, depth]`, `[None, None, None, channels]`.\n",
      "      num_outputs: Integer, the number of output units in the layer.\n",
      "      activation_fn: activation function.\n",
      "      normalizer_fn: normalization function to use instead of `biases`. If\n",
      "        `normalize_fn` is provided then `biases_initializer` and\n",
      "        `biases_regularizer` are ignored and `biases` are not created nor added.\n",
      "      normalizer_params: normalization function parameters.\n",
      "      weights_initializer: An initializer for the weights.\n",
      "      weights_regularizer: Optional regularizer for the weights.\n",
      "      biases_initializer: An initializer for the biases. If None skip biases.\n",
      "      biases_regularizer: Optional regularizer for the biases.\n",
      "      reuse: whether or not the layer and its variables should be reused. To be\n",
      "        able to reuse the layer scope must be given.\n",
      "      variables_collections: Optional list of collections for all the variables or\n",
      "        a dictionary containing a different list of collections per variable.\n",
      "      outputs_collections: collection to add the outputs.\n",
      "      trainable: If `True` also add variables to the graph collection\n",
      "        `GraphKeys.TRAINABLE_VARIABLES` (see tf.Variable).\n",
      "      scope: Optional scope for variable_op_scope.\n",
      "    \n",
      "    Returns:\n",
      "       the tensor variable representing the result of the series of operations.\n",
      "    \n",
      "    Raises:\n",
      "      ValueError: if x has rank less than 2 or if its last dimension is not set.\n",
      "\n"
     ]
    }
   ],
   "source": [
    "help(slim.fully_connected)"
   ]
  },
  {
   "cell_type": "code",
   "execution_count": null,
   "metadata": {
    "collapsed": true
   },
   "outputs": [],
   "source": []
  }
 ],
 "metadata": {
  "kernelspec": {
   "display_name": "Python 2",
   "language": "python",
   "name": "python2"
  },
  "language_info": {
   "codemirror_mode": {
    "name": "ipython",
    "version": 2
   },
   "file_extension": ".py",
   "mimetype": "text/x-python",
   "name": "python",
   "nbconvert_exporter": "python",
   "pygments_lexer": "ipython2",
   "version": "2.7.5"
  }
 },
 "nbformat": 4,
 "nbformat_minor": 0
}
