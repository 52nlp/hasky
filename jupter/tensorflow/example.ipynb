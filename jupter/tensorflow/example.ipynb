{
 "cells": [
  {
   "cell_type": "code",
   "execution_count": 1,
   "metadata": {
    "collapsed": true
   },
   "outputs": [],
   "source": [
    "import tensorflow as tf"
   ]
  },
  {
   "cell_type": "code",
   "execution_count": 2,
   "metadata": {
    "collapsed": true
   },
   "outputs": [],
   "source": [
    "sess = tf.InteractiveSession()"
   ]
  },
  {
   "cell_type": "code",
   "execution_count": 3,
   "metadata": {
    "collapsed": true
   },
   "outputs": [],
   "source": [
    "import melt\n",
    "id = 3\n",
    "label = 0\n",
    "feature = [1,2,3]\n",
    "example = tf.train.Example(features=tf.train.Features(feature={\n",
    "        'id': melt.int_feature(id), \n",
    "        'label': melt.int_feature(label),\n",
    "        'feature': melt.float_feature(feature),\n",
    "        }))"
   ]
  },
  {
   "cell_type": "code",
   "execution_count": 4,
   "metadata": {
    "collapsed": false
   },
   "outputs": [
    {
     "data": {
      "text/plain": [
       "features {\n",
       "  feature {\n",
       "    key: \"feature\"\n",
       "    value {\n",
       "      float_list {\n",
       "        value: 1\n",
       "        value: 2\n",
       "        value: 3\n",
       "      }\n",
       "    }\n",
       "  }\n",
       "  feature {\n",
       "    key: \"id\"\n",
       "    value {\n",
       "      int64_list {\n",
       "        value: 3\n",
       "      }\n",
       "    }\n",
       "  }\n",
       "  feature {\n",
       "    key: \"label\"\n",
       "    value {\n",
       "      int64_list {\n",
       "        value: 0\n",
       "      }\n",
       "    }\n",
       "  }\n",
       "}"
      ]
     },
     "execution_count": 4,
     "metadata": {},
     "output_type": "execute_result"
    }
   ],
   "source": [
    "example"
   ]
  },
  {
   "cell_type": "code",
   "execution_count": 5,
   "metadata": {
    "collapsed": false
   },
   "outputs": [
    {
     "data": {
      "text/plain": [
       "feature {\n",
       "  key: \"feature\"\n",
       "  value {\n",
       "    float_list {\n",
       "      value: 1\n",
       "      value: 2\n",
       "      value: 3\n",
       "    }\n",
       "  }\n",
       "}\n",
       "feature {\n",
       "  key: \"id\"\n",
       "  value {\n",
       "    int64_list {\n",
       "      value: 3\n",
       "    }\n",
       "  }\n",
       "}\n",
       "feature {\n",
       "  key: \"label\"\n",
       "  value {\n",
       "    int64_list {\n",
       "      value: 0\n",
       "    }\n",
       "  }\n",
       "}"
      ]
     },
     "execution_count": 5,
     "metadata": {},
     "output_type": "execute_result"
    }
   ],
   "source": [
    "example.features"
   ]
  },
  {
   "cell_type": "code",
   "execution_count": 6,
   "metadata": {
    "collapsed": false
   },
   "outputs": [
    {
     "name": "stdout",
     "output_type": "stream",
     "text": [
      "Help on class Features in module tensorflow.core.example.feature_pb2:\n",
      "\n",
      "class Features(google.protobuf.message.Message)\n",
      " |  Method resolution order:\n",
      " |      Features\n",
      " |      google.protobuf.message.Message\n",
      " |      __builtin__.object\n",
      " |  \n",
      " |  Methods defined here:\n",
      " |  \n",
      " |  ByteSize(self)\n",
      " |  \n",
      " |  Clear(self)\n",
      " |  \n",
      " |  ClearField(self, field_name)\n",
      " |  \n",
      " |  FindInitializationErrors(self)\n",
      " |      Finds required fields which are not initialized.\n",
      " |      \n",
      " |      Returns:\n",
      " |        A list of strings.  Each string is a path to an uninitialized field from\n",
      " |        the top-level message, e.g. \"foo.bar[5].baz\".\n",
      " |  \n",
      " |  HasField(self, field_name)\n",
      " |  \n",
      " |  IsInitialized(self, errors=None)\n",
      " |      Checks if all required fields of a message are set.\n",
      " |      \n",
      " |      Args:\n",
      " |        errors:  A list which, if provided, will be populated with the field\n",
      " |                 paths of all missing required fields.\n",
      " |      \n",
      " |      Returns:\n",
      " |        True iff the specified message has all required fields set.\n",
      " |  \n",
      " |  ListFields(self)\n",
      " |  \n",
      " |  MergeFrom(self, msg)\n",
      " |  \n",
      " |  MergeFromString(self, serialized)\n",
      " |  \n",
      " |  SerializePartialToString(self)\n",
      " |  \n",
      " |  SerializeToString(self)\n",
      " |  \n",
      " |  SetInParent = Modified(self)\n",
      " |      Sets the _cached_byte_size_dirty bit to true,\n",
      " |      and propagates this to our listener iff this was a state change.\n",
      " |  \n",
      " |  WhichOneof(self, oneof_name)\n",
      " |      Returns the name of the currently set field inside a oneof, or None.\n",
      " |  \n",
      " |  _InternalParse = InternalParse(self, buffer, pos, end)\n",
      " |  \n",
      " |  _InternalSerialize = InternalSerialize(self, write_bytes)\n",
      " |  \n",
      " |  _Modified = Modified(self)\n",
      " |      Sets the _cached_byte_size_dirty bit to true,\n",
      " |      and propagates this to our listener iff this was a state change.\n",
      " |  \n",
      " |  _SetListener = SetListener(self, listener)\n",
      " |  \n",
      " |  _UpdateOneofState(self, field)\n",
      " |      Sets field as the active field in its containing oneof.\n",
      " |      \n",
      " |      Will also delete currently active field in the oneof, if it is different\n",
      " |      from the argument. Does not mark the message as modified.\n",
      " |  \n",
      " |  __eq__(self, other)\n",
      " |  \n",
      " |  __init__ = init(self, **kwargs)\n",
      " |  \n",
      " |  __repr__(self)\n",
      " |  \n",
      " |  __str__(self)\n",
      " |  \n",
      " |  __unicode__(self)\n",
      " |  \n",
      " |  ----------------------------------------------------------------------\n",
      " |  Static methods defined here:\n",
      " |  \n",
      " |  FromString(s)\n",
      " |  \n",
      " |  RegisterExtension(extension_handle)\n",
      " |      # TODO(robinson): This probably needs to be thread-safe(?)\n",
      " |  \n",
      " |  ----------------------------------------------------------------------\n",
      " |  Data descriptors defined here:\n",
      " |  \n",
      " |  __weakref__\n",
      " |      list of weak references to the object (if defined)\n",
      " |  \n",
      " |  _cached_byte_size\n",
      " |  \n",
      " |  _cached_byte_size_dirty\n",
      " |  \n",
      " |  _fields\n",
      " |  \n",
      " |  _is_present_in_parent\n",
      " |  \n",
      " |  _listener\n",
      " |  \n",
      " |  _listener_for_children\n",
      " |  \n",
      " |  _oneofs\n",
      " |  \n",
      " |  _unknown_fields\n",
      " |  \n",
      " |  feature\n",
      " |      Magic attribute generated for \"feature\" proto field.\n",
      " |  \n",
      " |  ----------------------------------------------------------------------\n",
      " |  Data and other attributes defined here:\n",
      " |  \n",
      " |  DESCRIPTOR = <google.protobuf.descriptor.Descriptor object>\n",
      " |  \n",
      " |  FEATURE_FIELD_NUMBER = 1\n",
      " |  \n",
      " |  FeatureEntry = <class 'tensorflow.core.example.feature_pb2.FeatureEntr...\n",
      " |  \n",
      " |  \n",
      " |  _decoders_by_tag = {'\\n': (<function DecodeMap>, None)}\n",
      " |  \n",
      " |  _extensions_by_name = {}\n",
      " |  \n",
      " |  _extensions_by_number = {}\n",
      " |  \n",
      " |  ----------------------------------------------------------------------\n",
      " |  Methods inherited from google.protobuf.message.Message:\n",
      " |  \n",
      " |  ClearExtension(self, extension_handle)\n",
      " |  \n",
      " |  CopyFrom(self, other_msg)\n",
      " |      Copies the content of the specified message into the current message.\n",
      " |      \n",
      " |      The method clears the current message and then merges the specified\n",
      " |      message using MergeFrom.\n",
      " |      \n",
      " |      Args:\n",
      " |        other_msg: Message to copy into the current one.\n",
      " |  \n",
      " |  HasExtension(self, extension_handle)\n",
      " |  \n",
      " |  ParseFromString(self, serialized)\n",
      " |      Parse serialized protocol buffer data into this message.\n",
      " |      \n",
      " |      Like MergeFromString(), except we clear the object first and\n",
      " |      do not return the value that MergeFromString returns.\n",
      " |  \n",
      " |  __deepcopy__(self, memo=None)\n",
      " |  \n",
      " |  __getstate__(self)\n",
      " |      Support the pickle protocol.\n",
      " |  \n",
      " |  __hash__(self)\n",
      " |  \n",
      " |  __ne__(self, other_msg)\n",
      " |  \n",
      " |  __setstate__(self, state)\n",
      " |      Support the pickle protocol.\n",
      "\n"
     ]
    }
   ],
   "source": [
    "help(tf.train.Features)"
   ]
  },
  {
   "cell_type": "code",
   "execution_count": 7,
   "metadata": {
    "collapsed": false
   },
   "outputs": [
    {
     "data": {
      "text/plain": [
       "feature {\n",
       "  key: \"feature\"\n",
       "  value {\n",
       "    float_list {\n",
       "      value: 1\n",
       "      value: 2\n",
       "      value: 3\n",
       "    }\n",
       "  }\n",
       "}\n",
       "feature {\n",
       "  key: \"id\"\n",
       "  value {\n",
       "    int64_list {\n",
       "      value: 3\n",
       "    }\n",
       "  }\n",
       "}\n",
       "feature {\n",
       "  key: \"label\"\n",
       "  value {\n",
       "    int64_list {\n",
       "      value: 0\n",
       "    }\n",
       "  }\n",
       "}"
      ]
     },
     "execution_count": 7,
     "metadata": {},
     "output_type": "execute_result"
    }
   ],
   "source": [
    "example.ListFields()[0][1]"
   ]
  },
  {
   "cell_type": "code",
   "execution_count": 8,
   "metadata": {
    "collapsed": false
   },
   "outputs": [
    {
     "data": {
      "text/plain": [
       "{u'id': int64_list {\n",
       "  value: 3\n",
       "}\n",
       ", u'feature': float_list {\n",
       "  value: 1\n",
       "  value: 2\n",
       "  value: 3\n",
       "}\n",
       ", u'label': int64_list {\n",
       "  value: 0\n",
       "}\n",
       "}"
      ]
     },
     "execution_count": 8,
     "metadata": {},
     "output_type": "execute_result"
    }
   ],
   "source": [
    "example.features.feature"
   ]
  },
  {
   "cell_type": "code",
   "execution_count": 9,
   "metadata": {
    "collapsed": false
   },
   "outputs": [
    {
     "data": {
      "text/plain": [
       "float_list {\n",
       "  value: 1\n",
       "  value: 2\n",
       "  value: 3\n",
       "}"
      ]
     },
     "execution_count": 9,
     "metadata": {},
     "output_type": "execute_result"
    }
   ],
   "source": [
    "example.features.feature['feature']"
   ]
  },
  {
   "cell_type": "code",
   "execution_count": 10,
   "metadata": {
    "collapsed": false
   },
   "outputs": [],
   "source": [
    "u = example.features.feature['feature']"
   ]
  },
  {
   "cell_type": "code",
   "execution_count": 17,
   "metadata": {
    "collapsed": false
   },
   "outputs": [],
   "source": [
    "x = tf.parse_example([example.SerializeToString()],  features= {'feature': tf.FixedLenFeature([], tf.float32)})"
   ]
  },
  {
   "cell_type": "code",
   "execution_count": 18,
   "metadata": {
    "collapsed": false
   },
   "outputs": [],
   "source": [
    "u = x['feature']"
   ]
  },
  {
   "cell_type": "code",
   "execution_count": 19,
   "metadata": {
    "collapsed": false
   },
   "outputs": [
    {
     "data": {
      "text/plain": [
       "<tf.Tensor 'ParseExample/ParseExample:0' shape=(1,) dtype=float32>"
      ]
     },
     "execution_count": 19,
     "metadata": {},
     "output_type": "execute_result"
    }
   ],
   "source": [
    "u"
   ]
  },
  {
   "cell_type": "code",
   "execution_count": 20,
   "metadata": {
    "collapsed": false
   },
   "outputs": [
    {
     "data": {
      "text/plain": [
       "tensorflow.python.framework.ops.Tensor"
      ]
     },
     "execution_count": 20,
     "metadata": {},
     "output_type": "execute_result"
    }
   ],
   "source": [
    "type(u)"
   ]
  },
  {
   "cell_type": "code",
   "execution_count": 21,
   "metadata": {
    "collapsed": false
   },
   "outputs": [
    {
     "ename": "InvalidArgumentError",
     "evalue": "Name: <unknown>, Key: feature, Index: 0.  Number of float values != expected.  values size: 3 but output shape: []\n\t [[Node: ParseExample/ParseExample = ParseExample[Ndense=1, Nsparse=0, Tdense=[DT_FLOAT], dense_shapes=[[]], sparse_types=[], _device=\"/job:localhost/replica:0/task:0/cpu:0\"](ParseExample/ParseExample/serialized, ParseExample/ParseExample/names, ParseExample/ParseExample/dense_keys_0, ParseExample/Const)]]\nCaused by op u'ParseExample/ParseExample', defined at:\n  File \"/usr/lib64/python2.7/runpy.py\", line 162, in _run_module_as_main\n    \"__main__\", fname, loader, pkg_name)\n  File \"/usr/lib64/python2.7/runpy.py\", line 72, in _run_code\n    exec code in run_globals\n  File \"/usr/lib/python2.7/site-packages/ipykernel/__main__.py\", line 3, in <module>\n    app.launch_new_instance()\n  File \"/usr/lib/python2.7/site-packages/traitlets/config/application.py\", line 589, in launch_instance\n    app.start()\n  File \"/usr/lib/python2.7/site-packages/ipykernel/kernelapp.py\", line 442, in start\n    ioloop.IOLoop.instance().start()\n  File \"/usr/lib64/python2.7/site-packages/zmq/eventloop/ioloop.py\", line 151, in start\n    super(ZMQIOLoop, self).start()\n  File \"/usr/lib64/python2.7/site-packages/tornado/ioloop.py\", line 883, in start\n    handler_func(fd_obj, events)\n  File \"/usr/lib64/python2.7/site-packages/tornado/stack_context.py\", line 275, in null_wrapper\n    return fn(*args, **kwargs)\n  File \"/usr/lib64/python2.7/site-packages/zmq/eventloop/zmqstream.py\", line 433, in _handle_events\n    self._handle_recv()\n  File \"/usr/lib64/python2.7/site-packages/zmq/eventloop/zmqstream.py\", line 465, in _handle_recv\n    self._run_callback(callback, msg)\n  File \"/usr/lib64/python2.7/site-packages/zmq/eventloop/zmqstream.py\", line 407, in _run_callback\n    callback(*args, **kwargs)\n  File \"/usr/lib64/python2.7/site-packages/tornado/stack_context.py\", line 275, in null_wrapper\n    return fn(*args, **kwargs)\n  File \"/usr/lib/python2.7/site-packages/ipykernel/kernelbase.py\", line 276, in dispatcher\n    return self.dispatch_shell(stream, msg)\n  File \"/usr/lib/python2.7/site-packages/ipykernel/kernelbase.py\", line 228, in dispatch_shell\n    handler(stream, idents, msg)\n  File \"/usr/lib/python2.7/site-packages/ipykernel/kernelbase.py\", line 391, in execute_request\n    user_expressions, allow_stdin)\n  File \"/usr/lib/python2.7/site-packages/ipykernel/ipkernel.py\", line 199, in do_execute\n    shell.run_cell(code, store_history=store_history, silent=silent)\n  File \"/usr/lib/python2.7/site-packages/IPython/core/interactiveshell.py\", line 2723, in run_cell\n    interactivity=interactivity, compiler=compiler, result=result)\n  File \"/usr/lib/python2.7/site-packages/IPython/core/interactiveshell.py\", line 2825, in run_ast_nodes\n    if self.run_code(code, result):\n  File \"/usr/lib/python2.7/site-packages/IPython/core/interactiveshell.py\", line 2885, in run_code\n    exec(code_obj, self.user_global_ns, self.user_ns)\n  File \"<ipython-input-17-ef81687581e0>\", line 1, in <module>\n    x = tf.parse_example([example.SerializeToString()],  features= {'feature': tf.FixedLenFeature([], tf.float32)})\n  File \"/usr/lib/python2.7/site-packages/tensorflow/python/ops/parsing_ops.py\", line 307, in parse_example\n    dense_types, dense_defaults, dense_shapes, name)\n  File \"/usr/lib/python2.7/site-packages/tensorflow/python/ops/parsing_ops.py\", line 405, in _parse_example_raw\n    name=name)\n  File \"/usr/lib/python2.7/site-packages/tensorflow/python/ops/gen_parsing_ops.py\", line 165, in _parse_example\n    dense_shapes=dense_shapes, name=name)\n  File \"/usr/lib/python2.7/site-packages/tensorflow/python/framework/op_def_library.py\", line 703, in apply_op\n    op_def=op_def)\n  File \"/usr/lib/python2.7/site-packages/tensorflow/python/framework/ops.py\", line 2310, in create_op\n    original_op=self._default_original_op, op_def=op_def)\n  File \"/usr/lib/python2.7/site-packages/tensorflow/python/framework/ops.py\", line 1232, in __init__\n    self._traceback = _extract_stack()\n",
     "output_type": "error",
     "traceback": [
      "\u001b[1;31m---------------------------------------------------------------------------\u001b[0m",
      "\u001b[1;31mInvalidArgumentError\u001b[0m                      Traceback (most recent call last)",
      "\u001b[1;32m<ipython-input-21-62a134a57abd>\u001b[0m in \u001b[0;36m<module>\u001b[1;34m()\u001b[0m\n\u001b[1;32m----> 1\u001b[1;33m \u001b[0mu\u001b[0m\u001b[1;33m.\u001b[0m\u001b[0meval\u001b[0m\u001b[1;33m(\u001b[0m\u001b[1;33m)\u001b[0m\u001b[1;33m\u001b[0m\u001b[0m\n\u001b[0m",
      "\u001b[1;32m/usr/lib/python2.7/site-packages/tensorflow/python/framework/ops.pyc\u001b[0m in \u001b[0;36meval\u001b[1;34m(self, feed_dict, session)\u001b[0m\n\u001b[0;32m    554\u001b[0m \u001b[1;33m\u001b[0m\u001b[0m\n\u001b[0;32m    555\u001b[0m     \"\"\"\n\u001b[1;32m--> 556\u001b[1;33m     \u001b[1;32mreturn\u001b[0m \u001b[0m_eval_using_default_session\u001b[0m\u001b[1;33m(\u001b[0m\u001b[0mself\u001b[0m\u001b[1;33m,\u001b[0m \u001b[0mfeed_dict\u001b[0m\u001b[1;33m,\u001b[0m \u001b[0mself\u001b[0m\u001b[1;33m.\u001b[0m\u001b[0mgraph\u001b[0m\u001b[1;33m,\u001b[0m \u001b[0msession\u001b[0m\u001b[1;33m)\u001b[0m\u001b[1;33m\u001b[0m\u001b[0m\n\u001b[0m\u001b[0;32m    557\u001b[0m \u001b[1;33m\u001b[0m\u001b[0m\n\u001b[0;32m    558\u001b[0m \u001b[1;33m\u001b[0m\u001b[0m\n",
      "\u001b[1;32m/usr/lib/python2.7/site-packages/tensorflow/python/framework/ops.pyc\u001b[0m in \u001b[0;36m_eval_using_default_session\u001b[1;34m(tensors, feed_dict, graph, session)\u001b[0m\n\u001b[0;32m   3647\u001b[0m                        \u001b[1;34m\"the tensor's graph is different from the session's \"\u001b[0m\u001b[1;33m\u001b[0m\u001b[0m\n\u001b[0;32m   3648\u001b[0m                        \"graph.\")\n\u001b[1;32m-> 3649\u001b[1;33m   \u001b[1;32mreturn\u001b[0m \u001b[0msession\u001b[0m\u001b[1;33m.\u001b[0m\u001b[0mrun\u001b[0m\u001b[1;33m(\u001b[0m\u001b[0mtensors\u001b[0m\u001b[1;33m,\u001b[0m \u001b[0mfeed_dict\u001b[0m\u001b[1;33m)\u001b[0m\u001b[1;33m\u001b[0m\u001b[0m\n\u001b[0m\u001b[0;32m   3650\u001b[0m \u001b[1;33m\u001b[0m\u001b[0m\n\u001b[0;32m   3651\u001b[0m \u001b[1;33m\u001b[0m\u001b[0m\n",
      "\u001b[1;32m/usr/lib/python2.7/site-packages/tensorflow/python/client/session.pyc\u001b[0m in \u001b[0;36mrun\u001b[1;34m(self, fetches, feed_dict, options, run_metadata)\u001b[0m\n\u001b[0;32m    380\u001b[0m     \u001b[1;32mtry\u001b[0m\u001b[1;33m:\u001b[0m\u001b[1;33m\u001b[0m\u001b[0m\n\u001b[0;32m    381\u001b[0m       result = self._run(None, fetches, feed_dict, options_ptr,\n\u001b[1;32m--> 382\u001b[1;33m                          run_metadata_ptr)\n\u001b[0m\u001b[0;32m    383\u001b[0m       \u001b[1;32mif\u001b[0m \u001b[0mrun_metadata\u001b[0m\u001b[1;33m:\u001b[0m\u001b[1;33m\u001b[0m\u001b[0m\n\u001b[0;32m    384\u001b[0m         \u001b[0mproto_data\u001b[0m \u001b[1;33m=\u001b[0m \u001b[0mtf_session\u001b[0m\u001b[1;33m.\u001b[0m\u001b[0mTF_GetBuffer\u001b[0m\u001b[1;33m(\u001b[0m\u001b[0mrun_metadata_ptr\u001b[0m\u001b[1;33m)\u001b[0m\u001b[1;33m\u001b[0m\u001b[0m\n",
      "\u001b[1;32m/usr/lib/python2.7/site-packages/tensorflow/python/client/session.pyc\u001b[0m in \u001b[0;36m_run\u001b[1;34m(self, handle, fetches, feed_dict, options, run_metadata)\u001b[0m\n\u001b[0;32m    653\u001b[0m     \u001b[0mmovers\u001b[0m \u001b[1;33m=\u001b[0m \u001b[0mself\u001b[0m\u001b[1;33m.\u001b[0m\u001b[0m_update_with_movers\u001b[0m\u001b[1;33m(\u001b[0m\u001b[0mfeed_dict_string\u001b[0m\u001b[1;33m,\u001b[0m \u001b[0mfeed_map\u001b[0m\u001b[1;33m)\u001b[0m\u001b[1;33m\u001b[0m\u001b[0m\n\u001b[0;32m    654\u001b[0m     results = self._do_run(handle, target_list, unique_fetches,\n\u001b[1;32m--> 655\u001b[1;33m                            feed_dict_string, options, run_metadata)\n\u001b[0m\u001b[0;32m    656\u001b[0m \u001b[1;33m\u001b[0m\u001b[0m\n\u001b[0;32m    657\u001b[0m     \u001b[1;31m# User may have fetched the same tensor multiple times, but we\u001b[0m\u001b[1;33m\u001b[0m\u001b[1;33m\u001b[0m\u001b[0m\n",
      "\u001b[1;32m/usr/lib/python2.7/site-packages/tensorflow/python/client/session.pyc\u001b[0m in \u001b[0;36m_do_run\u001b[1;34m(self, handle, target_list, fetch_list, feed_dict, options, run_metadata)\u001b[0m\n\u001b[0;32m    721\u001b[0m     \u001b[1;32mif\u001b[0m \u001b[0mhandle\u001b[0m \u001b[1;32mis\u001b[0m \u001b[0mNone\u001b[0m\u001b[1;33m:\u001b[0m\u001b[1;33m\u001b[0m\u001b[0m\n\u001b[0;32m    722\u001b[0m       return self._do_call(_run_fn, self._session, feed_dict, fetch_list,\n\u001b[1;32m--> 723\u001b[1;33m                            target_list, options, run_metadata)\n\u001b[0m\u001b[0;32m    724\u001b[0m     \u001b[1;32melse\u001b[0m\u001b[1;33m:\u001b[0m\u001b[1;33m\u001b[0m\u001b[0m\n\u001b[0;32m    725\u001b[0m       return self._do_call(_prun_fn, self._session, handle, feed_dict,\n",
      "\u001b[1;32m/usr/lib/python2.7/site-packages/tensorflow/python/client/session.pyc\u001b[0m in \u001b[0;36m_do_call\u001b[1;34m(self, fn, *args)\u001b[0m\n\u001b[0;32m    741\u001b[0m         \u001b[1;32mexcept\u001b[0m \u001b[0mKeyError\u001b[0m\u001b[1;33m:\u001b[0m\u001b[1;33m\u001b[0m\u001b[0m\n\u001b[0;32m    742\u001b[0m           \u001b[1;32mpass\u001b[0m\u001b[1;33m\u001b[0m\u001b[0m\n\u001b[1;32m--> 743\u001b[1;33m       \u001b[1;32mraise\u001b[0m \u001b[0mtype\u001b[0m\u001b[1;33m(\u001b[0m\u001b[0me\u001b[0m\u001b[1;33m)\u001b[0m\u001b[1;33m(\u001b[0m\u001b[0mnode_def\u001b[0m\u001b[1;33m,\u001b[0m \u001b[0mop\u001b[0m\u001b[1;33m,\u001b[0m \u001b[0mmessage\u001b[0m\u001b[1;33m)\u001b[0m\u001b[1;33m\u001b[0m\u001b[0m\n\u001b[0m\u001b[0;32m    744\u001b[0m \u001b[1;33m\u001b[0m\u001b[0m\n\u001b[0;32m    745\u001b[0m   \u001b[1;32mdef\u001b[0m \u001b[0m_extend_graph\u001b[0m\u001b[1;33m(\u001b[0m\u001b[0mself\u001b[0m\u001b[1;33m)\u001b[0m\u001b[1;33m:\u001b[0m\u001b[1;33m\u001b[0m\u001b[0m\n",
      "\u001b[1;31mInvalidArgumentError\u001b[0m: Name: <unknown>, Key: feature, Index: 0.  Number of float values != expected.  values size: 3 but output shape: []\n\t [[Node: ParseExample/ParseExample = ParseExample[Ndense=1, Nsparse=0, Tdense=[DT_FLOAT], dense_shapes=[[]], sparse_types=[], _device=\"/job:localhost/replica:0/task:0/cpu:0\"](ParseExample/ParseExample/serialized, ParseExample/ParseExample/names, ParseExample/ParseExample/dense_keys_0, ParseExample/Const)]]\nCaused by op u'ParseExample/ParseExample', defined at:\n  File \"/usr/lib64/python2.7/runpy.py\", line 162, in _run_module_as_main\n    \"__main__\", fname, loader, pkg_name)\n  File \"/usr/lib64/python2.7/runpy.py\", line 72, in _run_code\n    exec code in run_globals\n  File \"/usr/lib/python2.7/site-packages/ipykernel/__main__.py\", line 3, in <module>\n    app.launch_new_instance()\n  File \"/usr/lib/python2.7/site-packages/traitlets/config/application.py\", line 589, in launch_instance\n    app.start()\n  File \"/usr/lib/python2.7/site-packages/ipykernel/kernelapp.py\", line 442, in start\n    ioloop.IOLoop.instance().start()\n  File \"/usr/lib64/python2.7/site-packages/zmq/eventloop/ioloop.py\", line 151, in start\n    super(ZMQIOLoop, self).start()\n  File \"/usr/lib64/python2.7/site-packages/tornado/ioloop.py\", line 883, in start\n    handler_func(fd_obj, events)\n  File \"/usr/lib64/python2.7/site-packages/tornado/stack_context.py\", line 275, in null_wrapper\n    return fn(*args, **kwargs)\n  File \"/usr/lib64/python2.7/site-packages/zmq/eventloop/zmqstream.py\", line 433, in _handle_events\n    self._handle_recv()\n  File \"/usr/lib64/python2.7/site-packages/zmq/eventloop/zmqstream.py\", line 465, in _handle_recv\n    self._run_callback(callback, msg)\n  File \"/usr/lib64/python2.7/site-packages/zmq/eventloop/zmqstream.py\", line 407, in _run_callback\n    callback(*args, **kwargs)\n  File \"/usr/lib64/python2.7/site-packages/tornado/stack_context.py\", line 275, in null_wrapper\n    return fn(*args, **kwargs)\n  File \"/usr/lib/python2.7/site-packages/ipykernel/kernelbase.py\", line 276, in dispatcher\n    return self.dispatch_shell(stream, msg)\n  File \"/usr/lib/python2.7/site-packages/ipykernel/kernelbase.py\", line 228, in dispatch_shell\n    handler(stream, idents, msg)\n  File \"/usr/lib/python2.7/site-packages/ipykernel/kernelbase.py\", line 391, in execute_request\n    user_expressions, allow_stdin)\n  File \"/usr/lib/python2.7/site-packages/ipykernel/ipkernel.py\", line 199, in do_execute\n    shell.run_cell(code, store_history=store_history, silent=silent)\n  File \"/usr/lib/python2.7/site-packages/IPython/core/interactiveshell.py\", line 2723, in run_cell\n    interactivity=interactivity, compiler=compiler, result=result)\n  File \"/usr/lib/python2.7/site-packages/IPython/core/interactiveshell.py\", line 2825, in run_ast_nodes\n    if self.run_code(code, result):\n  File \"/usr/lib/python2.7/site-packages/IPython/core/interactiveshell.py\", line 2885, in run_code\n    exec(code_obj, self.user_global_ns, self.user_ns)\n  File \"<ipython-input-17-ef81687581e0>\", line 1, in <module>\n    x = tf.parse_example([example.SerializeToString()],  features= {'feature': tf.FixedLenFeature([], tf.float32)})\n  File \"/usr/lib/python2.7/site-packages/tensorflow/python/ops/parsing_ops.py\", line 307, in parse_example\n    dense_types, dense_defaults, dense_shapes, name)\n  File \"/usr/lib/python2.7/site-packages/tensorflow/python/ops/parsing_ops.py\", line 405, in _parse_example_raw\n    name=name)\n  File \"/usr/lib/python2.7/site-packages/tensorflow/python/ops/gen_parsing_ops.py\", line 165, in _parse_example\n    dense_shapes=dense_shapes, name=name)\n  File \"/usr/lib/python2.7/site-packages/tensorflow/python/framework/op_def_library.py\", line 703, in apply_op\n    op_def=op_def)\n  File \"/usr/lib/python2.7/site-packages/tensorflow/python/framework/ops.py\", line 2310, in create_op\n    original_op=self._default_original_op, op_def=op_def)\n  File \"/usr/lib/python2.7/site-packages/tensorflow/python/framework/ops.py\", line 1232, in __init__\n    self._traceback = _extract_stack()\n"
     ]
    }
   ],
   "source": [
    "u.eval()"
   ]
  },
  {
   "cell_type": "code",
   "execution_count": 22,
   "metadata": {
    "collapsed": false
   },
   "outputs": [
    {
     "name": "stdout",
     "output_type": "stream",
     "text": [
      "Help on function variable_op_scope in module tensorflow.python.ops.variable_scope:\n",
      "\n",
      "variable_op_scope(*args, **kwds)\n",
      "    Returns a context manager for defining an op that creates variables.\n",
      "    \n",
      "    This context manager validates that the given `values` are from the\n",
      "    same graph, ensures that graph is the default graph, and pushes a\n",
      "    name scope and a variable scope.\n",
      "    \n",
      "    If `name_or_scope` is not None, it is used as is in the variable scope. If\n",
      "    `scope` is None, then `default_name` is used.  In that case, if the same name\n",
      "    has been previously used in the same scope, it will made unique be appending\n",
      "    `_N` to it.\n",
      "    \n",
      "    This is intended to be used when defining generic ops and so reuse is always\n",
      "    inherited.\n",
      "    \n",
      "    For example, to define a new Python op called `my_op_with_vars`:\n",
      "    \n",
      "    ```python\n",
      "    def my_op_with_vars(a, b, scope=None):\n",
      "      with tf.variable_op_scope([a, b], scope, \"MyOp\") as scope:\n",
      "        a = tf.convert_to_tensor(a, name=\"a\")\n",
      "        b = tf.convert_to_tensor(b, name=\"b\")\n",
      "        c = tf.get_variable('c')\n",
      "        # Define some computation that uses `a`, `b`, and `c`.\n",
      "        return foo_op(..., name=scope)\n",
      "    ```\n",
      "    \n",
      "    Args:\n",
      "      values: The list of `Tensor` arguments that are passed to the op function.\n",
      "      name_or_scope: The name argument that is passed to the op function,\n",
      "        this name_or_scope is not uniquified in the variable scope.\n",
      "      default_name: The default name to use if the `name_or_scope` argument is\n",
      "        `None`, this name will be uniquified. If name_or_scope is provided it\n",
      "        won't be used and therefore it is not required and can be None.\n",
      "      initializer: The default initializer to pass to variable scope.\n",
      "      regularizer: The default regularizer for variables within this scope.\n",
      "      caching_device: The default caching device for variables within this scope.\n",
      "      partitioner: The default partitioner for variables within this scope.\n",
      "      custom_getter: The default custom getter for variables within this scope.\n",
      "      reuse: `True` or `None`; if `True`, we go into reuse mode for this scope as\n",
      "        well as all sub-scopes; if `None`, we just inherit the parent scope reuse.\n",
      "    \n",
      "    Returns:\n",
      "      A context manager for use in defining a Python op.\n",
      "    \n",
      "    Raises:\n",
      "      ValueError: when trying to reuse within a create scope, or create within\n",
      "        a reuse scope, or if reuse is not `None` or `True`.\n",
      "      TypeError: when the types of some arguments are not appropriate.\n",
      "\n"
     ]
    }
   ],
   "source": [
    "help(tf.variable_op_scope)"
   ]
  },
  {
   "cell_type": "code",
   "execution_count": null,
   "metadata": {
    "collapsed": true
   },
   "outputs": [],
   "source": []
  }
 ],
 "metadata": {
  "kernelspec": {
   "display_name": "Python 2",
   "language": "python",
   "name": "python2"
  },
  "language_info": {
   "codemirror_mode": {
    "name": "ipython",
    "version": 2
   },
   "file_extension": ".py",
   "mimetype": "text/x-python",
   "name": "python",
   "nbconvert_exporter": "python",
   "pygments_lexer": "ipython2",
   "version": "2.7.5"
  }
 },
 "nbformat": 4,
 "nbformat_minor": 0
}
