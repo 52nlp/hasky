{
 "cells": [
  {
   "cell_type": "code",
   "execution_count": 1,
   "metadata": {
    "collapsed": true
   },
   "outputs": [],
   "source": [
    "import tensorflow as tf\n",
    "sess = tf.InteractiveSession()"
   ]
  },
  {
   "cell_type": "code",
   "execution_count": 2,
   "metadata": {
    "collapsed": false
   },
   "outputs": [
    {
     "name": "stdout",
     "output_type": "stream",
     "text": [
      "[<tensorflow.python.ops.variables.Variable object at 0x8089d90>, <tensorflow.python.ops.variables.Variable object at 0x80f8210>]\n",
      "[u'scope1/W:0', u'scope1/b:0']\n",
      "[ 15.]\n",
      "('sc_vars:', [<tensorflow.python.ops.variables.Variable object at 0x8089d90>, <tensorflow.python.ops.variables.Variable object at 0x80f8210>])\n",
      "('sc_vars names:', [u'scope1/W:0', u'scope1/b:0'])\n",
      "[u'scope2/W', u'scope2/b']\n",
      "{u'scope2/W': <tensorflow.python.ops.variables.Variable object at 0x8089d90>, u'scope2/b': <tensorflow.python.ops.variables.Variable object at 0x80f8210>}\n",
      "[u'scope1/W:0', u'scope1/b:0']\n",
      "[<tensorflow.python.ops.variables.Variable object at 0x8089d90>, <tensorflow.python.ops.variables.Variable object at 0x80f8210>]\n"
     ]
    },
    {
     "data": {
      "text/plain": [
       "'/tmp/scope2'"
      ]
     },
     "execution_count": 2,
     "metadata": {},
     "output_type": "execute_result"
    }
   ],
   "source": [
    "import tensorflow as tf\n",
    "\n",
    "import melt\n",
    "\n",
    "OLD_SCOPE_NAME = 'scope1'\n",
    "NEW_SCOPE_NAME = 'scope2'\n",
    "\n",
    "sess = tf.Session()\n",
    "\n",
    "saver = tf.train.import_meta_graph('/tmp/%s.meta'%OLD_SCOPE_NAME)\n",
    "saver.restore(sess, '/tmp/%s'%OLD_SCOPE_NAME)\n",
    "\n",
    "print(tf.all_variables())\n",
    "print([v.name for v in tf.all_variables()])\n",
    "\n",
    "print(sess.run(tf.get_collection('model')[0]))\n",
    "\n",
    "sc_vars =  [v for v in tf.all_variables() if v.name.startswith(OLD_SCOPE_NAME)]\n",
    "print('sc_vars:', sc_vars)\n",
    "print('sc_vars names:',[v.name for v in sc_vars])\n",
    "print([NEW_SCOPE_NAME + v.name[len(OLD_SCOPE_NAME):v.name.rfind(':')] for v in sc_vars])\n",
    "var_list = {NEW_SCOPE_NAME + v.name[len(OLD_SCOPE_NAME):v.name.rfind(':')]:v for v in sc_vars}\n",
    "\n",
    "print(var_list)\n",
    "print([v.name for v in tf.all_variables()])\n",
    "print(tf.all_variables())\n",
    "\n",
    "new_saver = tf.train.Saver(var_list=var_list)\n",
    "new_saver.save(sess,  '/tmp/%s'%NEW_SCOPE_NAME)"
   ]
  },
  {
   "cell_type": "code",
   "execution_count": 3,
   "metadata": {
    "collapsed": true
   },
   "outputs": [],
   "source": [
    "#tf.train.Saver?"
   ]
  },
  {
   "cell_type": "code",
   "execution_count": 4,
   "metadata": {
    "collapsed": false
   },
   "outputs": [],
   "source": [
    "   # In the following use case, it's possible to have restore_ops be called\n",
    "    # something else:\n",
    "    # - Build inference graph and export a meta_graph.\n",
    "    # - Import the inference meta_graph\n",
    "    # - Extend the inference graph to a train graph.\n",
    "    # - Export a new meta_graph.\n",
    "    # Now the second restore_op will be called \"restore_all_1\".\n",
    "    # As such, comment out the assert for now until we know whether supporting\n",
    "    # such usage model makes sense.\n",
    "    #\n",
    "    # assert restore_op.name.endswith(\"restore_all\"), restore_op.name\n",
    "    \n",
    "    #from the master tensorflow code this line is commented out"
   ]
  },
  {
   "cell_type": "code",
   "execution_count": null,
   "metadata": {
    "collapsed": true
   },
   "outputs": [],
   "source": []
  }
 ],
 "metadata": {
  "kernelspec": {
   "display_name": "Python 2",
   "language": "python",
   "name": "python2"
  },
  "language_info": {
   "codemirror_mode": {
    "name": "ipython",
    "version": 2
   },
   "file_extension": ".py",
   "mimetype": "text/x-python",
   "name": "python",
   "nbconvert_exporter": "python",
   "pygments_lexer": "ipython2",
   "version": "2.7.5"
  }
 },
 "nbformat": 4,
 "nbformat_minor": 0
}
