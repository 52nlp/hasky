{
 "cells": [
  {
   "cell_type": "code",
   "execution_count": 1,
   "metadata": {
    "collapsed": false
   },
   "outputs": [],
   "source": [
    "import tensorflow as tf\n",
    "\n",
    "cwd = \"/tmp/TF/test_logs\"\n",
    "\n",
    "W1 = tf.Variable(tf.random_normal([200, 10], stddev=1.0))\n",
    "W2 = tf.Variable(tf.random_normal([200, 10], stddev=0.13))\n",
    "\n",
    "w1_hist = tf.histogram_summary(\"weights-stdev 1.0\", W1)\n",
    "w2_hist = tf.histogram_summary(\"weights-stdev 0.13\", W2)\n",
    "\n",
    "summary_op = tf.merge_all_summaries()\n",
    "\n",
    "init = tf.initialize_all_variables()\n",
    "sess = tf.Session()\n",
    "\n",
    "writer = tf.train.SummaryWriter(cwd)\n",
    "\n",
    "sess.run(init)\n",
    "\n",
    "for i in xrange(10):\n",
    "    writer.add_summary(sess.run(summary_op),i)\n",
    "\n",
    "writer.flush()\n",
    "writer.close()\n",
    "sess.close()"
   ]
  },
  {
   "cell_type": "code",
   "execution_count": null,
   "metadata": {
    "collapsed": true
   },
   "outputs": [],
   "source": [
    "import itertools"
   ]
  }
 ],
 "metadata": {
  "kernelspec": {
   "display_name": "Python 2",
   "language": "python",
   "name": "python2"
  },
  "language_info": {
   "codemirror_mode": {
    "name": "ipython",
    "version": 2
   },
   "file_extension": ".py",
   "mimetype": "text/x-python",
   "name": "python",
   "nbconvert_exporter": "python",
   "pygments_lexer": "ipython2",
   "version": "2.7.5"
  }
 },
 "nbformat": 4,
 "nbformat_minor": 0
}
