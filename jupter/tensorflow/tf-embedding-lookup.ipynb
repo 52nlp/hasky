{
 "cells": [
  {
   "cell_type": "code",
   "execution_count": 10,
   "metadata": {
    "collapsed": false
   },
   "outputs": [
    {
     "name": "stdout",
     "output_type": "stream",
     "text": [
      "[[ 1.  2.  3.]\n",
      " [ 4.  5.  6.]\n",
      " [ 4.  5.  6.]]\n",
      "(3, 3)\n",
      "mean is:  [[ 3.  4.  5.]]\n",
      "lookup2 results:\n",
      "[[ 1.]\n",
      " [ 2.]\n",
      " [ 2.]]\n",
      "[ 0.  0.  0.]\n",
      "[ 0.  0.  0.]\n",
      "(3,)\n",
      "lookup 2example\n",
      "[[[ 1.  2.  3.]\n",
      "  [ 4.  5.  6.]]\n",
      "\n",
      " [[ 7.  8.  9.]\n",
      "  [ 4.  5.  6.]]]\n",
      "lookup_2example_mean\n",
      "[[ 2.5  3.5  4.5]\n",
      " [ 5.5  6.5  7.5]]\n"
     ]
    }
   ],
   "source": [
    "import tensorflow as tf\n",
    "import numpy as np\n",
    "\n",
    "X = tf.placeholder(\"float\", [4, 3]) # create symbolic variables\n",
    "B = tf.placeholder(\"float\", [4, 1]) # create symbolic variables\n",
    "\n",
    "x  = np.array([[1, 2, 3], [4, 5, 6], [7, 8, 9], [10, 11, 12]], dtype = np.float32)\n",
    "b  = np.array([[1], [2], [3], [4]], dtype = np.float32)\n",
    "\n",
    "m_b = tf.Variable(tf.zeros([4]), name=\"sm_b\")\n",
    "\n",
    "\n",
    "Examples = tf.placeholder(\"int64\", [3])\n",
    "\n",
    "examples = [0, 1, 1]\n",
    "\n",
    "examples2 = [[0,1], [2, 1]]\n",
    "\n",
    "lookup = tf.nn.embedding_lookup(X, Examples)\n",
    "lookup2 = tf.nn.embedding_lookup(B, examples)\n",
    "\n",
    "lookup3 = tf.nn.embedding_lookup(m_b, examples)\n",
    "sampled_b_vec = tf.reshape(lookup3, [3])\n",
    "\n",
    "lookup_mean = tf.reduce_mean(lookup, 0, keep_dims=True)\n",
    "\n",
    "\n",
    "lookup_2example = tf.nn.embedding_lookup(x, examples2)\n",
    "lookup_2example_mean = tf.reduce_mean(lookup_2example, 1, keep_dims=False)\n",
    "\n",
    "#lookup_sparse = tf.nn.embedding_lookup_sparse(x, examples2, None)\n",
    "\n",
    "\n",
    "init = tf.initialize_all_variables()\n",
    "sess = tf.Session()\n",
    "sess.run(init)\n",
    "\n",
    "result, mean_ = sess.run([lookup, lookup_mean], feed_dict={X: x, Examples : examples})\n",
    "print result \n",
    "print result.shape\n",
    "\n",
    "print 'mean is: ', mean_ \n",
    "\n",
    "print 'lookup2 results:'\n",
    "print sess.run(lookup2, feed_dict={B: b, Examples : examples})\n",
    "\n",
    "print sess.run(lookup3, feed_dict = {Examples : examples})\n",
    "\n",
    "print sess.run(sampled_b_vec, feed_dict = {Examples : examples})\n",
    "print sess.run(sampled_b_vec, feed_dict = {Examples : examples}).shape\n",
    "\n",
    "\n",
    "print 'lookup 2example'\n",
    "print sess.run(lookup_2example)\n",
    "print 'lookup_2example_mean'\n",
    "print sess.run(lookup_2example_mean)\n",
    "#print 'lookup sparse mean'\n",
    "#print sess.run(lookup_sparse)\n"
   ]
  },
  {
   "cell_type": "code",
   "execution_count": 1,
   "metadata": {
    "collapsed": true
   },
   "outputs": [],
   "source": [
    "import tensorflow as tf\n",
    "sess = tf.InteractiveSession()"
   ]
  },
  {
   "cell_type": "code",
   "execution_count": 2,
   "metadata": {
    "collapsed": true
   },
   "outputs": [],
   "source": [
    "x = tf.constant([[1,2,3,0],[4,5,6,0], [7,8,9,0]])"
   ]
  },
  {
   "cell_type": "code",
   "execution_count": 3,
   "metadata": {
    "collapsed": false
   },
   "outputs": [
    {
     "data": {
      "text/plain": [
       "array([[4, 5, 6, 0],\n",
       "       [7, 8, 9, 0]], dtype=int32)"
      ]
     },
     "execution_count": 3,
     "metadata": {},
     "output_type": "execute_result"
    }
   ],
   "source": [
    "tf.nn.embedding_lookup(x, [1,2]).eval()"
   ]
  },
  {
   "cell_type": "code",
   "execution_count": 4,
   "metadata": {
    "collapsed": false
   },
   "outputs": [
    {
     "data": {
      "text/plain": [
       "(3, 4)"
      ]
     },
     "execution_count": 4,
     "metadata": {},
     "output_type": "execute_result"
    }
   ],
   "source": [
    "x.eval().shape"
   ]
  },
  {
   "cell_type": "code",
   "execution_count": 5,
   "metadata": {
    "collapsed": false
   },
   "outputs": [
    {
     "data": {
      "text/plain": [
       "(2, 4)"
      ]
     },
     "execution_count": 5,
     "metadata": {},
     "output_type": "execute_result"
    }
   ],
   "source": [
    "tf.nn.embedding_lookup(x, [1,2]).eval().shape"
   ]
  },
  {
   "cell_type": "code",
   "execution_count": 6,
   "metadata": {
    "collapsed": false
   },
   "outputs": [
    {
     "data": {
      "text/plain": [
       "array([[[4, 5, 6, 0]],\n",
       "\n",
       "       [[7, 8, 9, 0]]], dtype=int32)"
      ]
     },
     "execution_count": 6,
     "metadata": {},
     "output_type": "execute_result"
    }
   ],
   "source": [
    "tf.nn.embedding_lookup(x, [[1],[2]]).eval()"
   ]
  },
  {
   "cell_type": "code",
   "execution_count": 7,
   "metadata": {
    "collapsed": false
   },
   "outputs": [
    {
     "name": "stdout",
     "output_type": "stream",
     "text": [
      "Help on function fill in module tensorflow.python.ops.gen_array_ops:\n",
      "\n",
      "fill(dims, value, name=None)\n",
      "    Creates a tensor filled with a scalar value.\n",
      "    \n",
      "    This operation creates a tensor of shape `dims` and fills it with `value`.\n",
      "    \n",
      "    For example:\n",
      "    \n",
      "    ```prettyprint\n",
      "    # Output tensor has shape [2, 3].\n",
      "    fill([2, 3], 9) ==> [[9, 9, 9]\n",
      "                         [9, 9, 9]]\n",
      "    ```\n",
      "    \n",
      "    Args:\n",
      "      dims: A `Tensor` of type `int32`.\n",
      "        1-D. Represents the shape of the output tensor.\n",
      "      value: A `Tensor`. 0-D (scalar). Value to fill the returned tensor.\n",
      "      name: A name for the operation (optional).\n",
      "    \n",
      "    Returns:\n",
      "      A `Tensor`. Has the same type as `value`.\n",
      "\n"
     ]
    }
   ],
   "source": [
    "help(tf.fill)"
   ]
  },
  {
   "cell_type": "code",
   "execution_count": 9,
   "metadata": {
    "collapsed": false
   },
   "outputs": [
    {
     "data": {
      "text/plain": [
       "array([[9, 9, 9],\n",
       "       [9, 9, 9]], dtype=int32)"
      ]
     },
     "execution_count": 9,
     "metadata": {},
     "output_type": "execute_result"
    }
   ],
   "source": [
    "tf.fill([2,3], 9).eval()"
   ]
  },
  {
   "cell_type": "code",
   "execution_count": 10,
   "metadata": {
    "collapsed": false
   },
   "outputs": [
    {
     "name": "stdout",
     "output_type": "stream",
     "text": [
      "Help on function zeros in module tensorflow.python.ops.array_ops:\n",
      "\n",
      "zeros(shape, dtype=tf.float32, name=None)\n",
      "    Creates a tensor with all elements set to zero.\n",
      "    \n",
      "    This operation returns a tensor of type `dtype` with shape `shape` and\n",
      "    all elements set to zero.\n",
      "    \n",
      "    For example:\n",
      "    \n",
      "    ```python\n",
      "    tf.zeros([3, 4], int32) ==> [[0, 0, 0, 0], [0, 0, 0, 0], [0, 0, 0, 0]]\n",
      "    ```\n",
      "    \n",
      "    Args:\n",
      "      shape: Either a list of integers, or a 1-D `Tensor` of type `int32`.\n",
      "      dtype: The type of an element in the resulting `Tensor`.\n",
      "      name: A name for the operation (optional).\n",
      "    \n",
      "    Returns:\n",
      "      A `Tensor` with all elements set to zero.\n",
      "\n"
     ]
    }
   ],
   "source": [
    "help(tf.zeros)"
   ]
  },
  {
   "cell_type": "code",
   "execution_count": 11,
   "metadata": {
    "collapsed": false
   },
   "outputs": [
    {
     "name": "stdout",
     "output_type": "stream",
     "text": [
      "Help on function sparse_softmax_cross_entropy_with_logits in module tensorflow.python.ops.nn_ops:\n",
      "\n",
      "sparse_softmax_cross_entropy_with_logits(logits, labels, name=None)\n",
      "    Computes sparse softmax cross entropy between `logits` and `labels`.\n",
      "    \n",
      "    Measures the probability error in discrete classification tasks in which the\n",
      "    classes are mutually exclusive (each entry is in exactly one class).  For\n",
      "    example, each CIFAR-10 image is labeled with one and only one label: an image\n",
      "    can be a dog or a truck, but not both.\n",
      "    \n",
      "    **NOTE:**  For this operation, the probability of a given label is considered\n",
      "    exclusive.  That is, soft classes are not allowed, and the `labels` vector\n",
      "    must provide a single specific index for the true class for each row of\n",
      "    `logits` (each minibatch entry).  For soft softmax classification with\n",
      "    a probability distribution for each entry, see\n",
      "    `softmax_cross_entropy_with_logits`.\n",
      "    \n",
      "    **WARNING:** This op expects unscaled logits, since it performs a softmax\n",
      "    on `logits` internally for efficiency.  Do not call this op with the\n",
      "    output of `softmax`, as it will produce incorrect results.\n",
      "    \n",
      "    A common use case is to have logits of shape `[batch_size, num_classes]` and\n",
      "    labels of shape `[batch_size]`. But higher dimensions are supported.\n",
      "    \n",
      "    Args:\n",
      "      logits: Unscaled log probabilities of rank `r` and shape\n",
      "        `[d_0, d_1, ..., d_{r-2}, num_classes]` and dtype `float32` or `float64`.\n",
      "      labels: `Tensor` of shape `[d_0, d_1, ..., d_{r-2}]` and dtype `int32` or\n",
      "        `int64`. Each entry in `labels` must be an index in `[0, num_classes)`.\n",
      "        Other values will result in a loss of 0, but incorrect gradient\n",
      "        computations.\n",
      "      name: A name for the operation (optional).\n",
      "    \n",
      "    Returns:\n",
      "      A `Tensor` of the same shape as `labels` and of the same type as `logits`\n",
      "      with the softmax cross entropy loss.\n",
      "    \n",
      "    Raises:\n",
      "      ValueError: If logits are scalars (need to have rank >= 1) or if the rank\n",
      "        of the labels is not equal to the rank of the labels minus one.\n",
      "\n"
     ]
    }
   ],
   "source": [
    "help(tf.nn.sparse_softmax_cross_entropy_with_logits)"
   ]
  },
  {
   "cell_type": "code",
   "execution_count": 12,
   "metadata": {
    "collapsed": false
   },
   "outputs": [
    {
     "name": "stdout",
     "output_type": "stream",
     "text": [
      "Help on function reduce_sum in module tensorflow.python.ops.math_ops:\n",
      "\n",
      "reduce_sum(input_tensor, reduction_indices=None, keep_dims=False, name=None)\n",
      "    Computes the sum of elements across dimensions of a tensor.\n",
      "    \n",
      "    Reduces `input_tensor` along the dimensions given in `reduction_indices`.\n",
      "    Unless `keep_dims` is true, the rank of the tensor is reduced by 1 for each\n",
      "    entry in `reduction_indices`. If `keep_dims` is true, the reduced dimensions\n",
      "    are retained with length 1.\n",
      "    \n",
      "    If `reduction_indices` has no entries, all dimensions are reduced, and a\n",
      "    tensor with a single element is returned.\n",
      "    \n",
      "    For example:\n",
      "    \n",
      "    ```python\n",
      "    # 'x' is [[1, 1, 1]\n",
      "    #         [1, 1, 1]]\n",
      "    tf.reduce_sum(x) ==> 6\n",
      "    tf.reduce_sum(x, 0) ==> [2, 2, 2]\n",
      "    tf.reduce_sum(x, 1) ==> [3, 3]\n",
      "    tf.reduce_sum(x, 1, keep_dims=True) ==> [[3], [3]]\n",
      "    tf.reduce_sum(x, [0, 1]) ==> 6\n",
      "    ```\n",
      "    \n",
      "    Args:\n",
      "      input_tensor: The tensor to reduce. Should have numeric type.\n",
      "      reduction_indices: The dimensions to reduce. If `None` (the default),\n",
      "        reduces all dimensions.\n",
      "      keep_dims: If true, retains reduced dimensions with length 1.\n",
      "      name: A name for the operation (optional).\n",
      "    \n",
      "    Returns:\n",
      "      The reduced tensor.\n",
      "\n"
     ]
    }
   ],
   "source": [
    "help(tf.reduce_sum)"
   ]
  },
  {
   "cell_type": "code",
   "execution_count": 13,
   "metadata": {
    "collapsed": true
   },
   "outputs": [],
   "source": [
    "x = tf.constant([[1,2,3,4]])"
   ]
  },
  {
   "cell_type": "code",
   "execution_count": 15,
   "metadata": {
    "collapsed": false
   },
   "outputs": [
    {
     "data": {
      "text/plain": [
       "array([[1, 2, 3, 4],\n",
       "       [1, 2, 3, 4],\n",
       "       [1, 2, 3, 4],\n",
       "       [1, 2, 3, 4]], dtype=int32)"
      ]
     },
     "execution_count": 15,
     "metadata": {},
     "output_type": "execute_result"
    }
   ],
   "source": [
    "tf.concat(0, [x] * 4).eval()"
   ]
  },
  {
   "cell_type": "code",
   "execution_count": null,
   "metadata": {
    "collapsed": true
   },
   "outputs": [],
   "source": []
  }
 ],
 "metadata": {
  "kernelspec": {
   "display_name": "Python 2",
   "language": "python",
   "name": "python2"
  },
  "language_info": {
   "codemirror_mode": {
    "name": "ipython",
    "version": 2
   },
   "file_extension": ".py",
   "mimetype": "text/x-python",
   "name": "python",
   "nbconvert_exporter": "python",
   "pygments_lexer": "ipython2",
   "version": "2.7.5"
  }
 },
 "nbformat": 4,
 "nbformat_minor": 0
}
