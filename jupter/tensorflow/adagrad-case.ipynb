{
 "cells": [
  {
   "cell_type": "code",
   "execution_count": 3,
   "metadata": {
    "collapsed": false
   },
   "outputs": [
    {
     "name": "stdout",
     "output_type": "stream",
     "text": [
      "0.9.0\n",
      "(0, array([-0.01006973], dtype=float32), array([ 0.48684242], dtype=float32))\n",
      "(20, array([ 0.05835934], dtype=float32), array([ 0.32188413], dtype=float32))\n",
      "(40, array([ 0.08937475], dtype=float32), array([ 0.30558407], dtype=float32))\n",
      "(60, array([ 0.09728882], dtype=float32), array([ 0.30142486], dtype=float32))\n",
      "(80, array([ 0.09930819], dtype=float32), array([ 0.3003636], dtype=float32))\n",
      "(100, array([ 0.09982347], dtype=float32), array([ 0.30009279], dtype=float32))\n",
      "(120, array([ 0.09995495], dtype=float32), array([ 0.30002367], dtype=float32))\n",
      "(140, array([ 0.09998852], dtype=float32), array([ 0.30000606], dtype=float32))\n",
      "(160, array([ 0.09999708], dtype=float32), array([ 0.30000156], dtype=float32))\n",
      "(180, array([ 0.09999926], dtype=float32), array([ 0.3000004], dtype=float32))\n",
      "(200, array([ 0.09999982], dtype=float32), array([ 0.3000001], dtype=float32))\n"
     ]
    }
   ],
   "source": [
    "import tensorflow as tf\n",
    "print tf.__version__\n",
    "import numpy as np\n",
    "\n",
    "# Create 100 phony x, y data points in NumPy, y = x * 0.1 + 0.3\n",
    "x_data = np.random.rand(100).astype(np.float32)\n",
    "y_data = x_data * 0.1 + 0.3\n",
    "\n",
    "# Try to find values for W and b that compute y_data = W * x_data + b\n",
    "# (We know that W should be 0.1 and b 0.3, but Tensorflow will\n",
    "# figure that out for us.)\n",
    "W = tf.Variable(tf.random_uniform([1], -1.0, 1.0))\n",
    "b = tf.Variable(tf.zeros([1]))\n",
    "y = W * x_data + b\n",
    "\n",
    "# Minimize the mean squared errors.\n",
    "loss = tf.reduce_mean(tf.square(y - y_data))\n",
    "optimizer = tf.train.GradientDescentOptimizer(0.5)\n",
    "#tf.train.AdagradOptimizer\n",
    "train = optimizer.minimize(loss)\n",
    "\n",
    "# Before starting, initialize the variables.  We will 'run' this first.\n",
    "init = tf.initialize_all_variables()\n",
    "\n",
    "# Launch the graph.\n",
    "config = tf.ConfigProto(log_device_placement=True)\n",
    "sess = tf.Session(config=config)\n",
    "sess.run(init)\n",
    "\n",
    "# Fit the line.\n",
    "for step in range(201):\n",
    "    sess.run(train)\n",
    "    if step % 20 == 0:\n",
    "        print(step, sess.run(W), sess.run(b))\n",
    "# Learns best fit is W: [0.1], b: [0.3]"
   ]
  },
  {
   "cell_type": "code",
   "execution_count": 4,
   "metadata": {
    "collapsed": false
   },
   "outputs": [
    {
     "name": "stdout",
     "output_type": "stream",
     "text": [
      "[[ 22.  28.]\n",
      " [ 49.  64.]]\n"
     ]
    }
   ],
   "source": [
    "import tensorflow as tf\n",
    "# Creates a graph.\n",
    "# with tf.device('/gpu:0'):\n",
    "# \ta = tf.constant([1.0, 2.0, 3.0, 4.0, 5.0, 6.0], shape=[2, 3], name='a')\n",
    "# \tb = tf.constant([1.0, 2.0, 3.0, 4.0, 5.0, 6.0], shape=[3, 2], name='b')\n",
    "# \tc = tf.matmul(a, b)\n",
    "a = tf.constant([1.0, 2.0, 3.0, 4.0, 5.0, 6.0], shape=[2, 3], name='a')\n",
    "b = tf.constant([1.0, 2.0, 3.0, 4.0, 5.0, 6.0], shape=[3, 2], name='b')\n",
    "c = tf.matmul(a, b)\n",
    "# Creates a session with log_device_placement set to True.\n",
    "sess = tf.Session(config=tf.ConfigProto(log_device_placement=True))\n",
    "# Runs the op.\n",
    "print sess.run(c)"
   ]
  },
  {
   "cell_type": "code",
   "execution_count": 1,
   "metadata": {
    "collapsed": false
   },
   "outputs": [
    {
     "name": "stdout",
     "output_type": "stream",
     "text": [
      "Help on function shuffle_batch_join in module tensorflow.python.training.input:\n",
      "\n",
      "shuffle_batch_join(tensors_list, batch_size, capacity, min_after_dequeue, seed=None, enqueue_many=False, shapes=None, shared_name=None, name=None)\n",
      "    Create batches by randomly shuffling tensors.\n",
      "    \n",
      "    The `tensors_list` argument is a list of tuples of tensors, or a list of\n",
      "    dictionaries of tensors.  Each element in the list is treated similarily\n",
      "    to the `tensors` argument of `tf.train.shuffle_batch()`.\n",
      "    \n",
      "    This version enqueues a different list of tensors in different threads.\n",
      "    It adds the following to the current `Graph`:\n",
      "    \n",
      "    * A shuffling queue into which tensors from `tensors_list` are enqueued.\n",
      "    * A `dequeue_many` operation to create batches from the queue.\n",
      "    * A `QueueRunner` to `QUEUE_RUNNER` collection, to enqueue the tensors\n",
      "      from `tensors_list`.\n",
      "    \n",
      "    `len(tensors_list)` threads will be started, with thread `i` enqueuing\n",
      "    the tensors from `tensors_list[i]`. `tensors_list[i1][j]` must match\n",
      "    `tensors_list[i2][j]` in type and shape, except in the first dimension if\n",
      "    `enqueue_many` is true.\n",
      "    \n",
      "    If `enqueue_many` is `False`, each `tensors_list[i]` is assumed\n",
      "    to represent a single example.  An input tensor with shape `[x, y, z]`\n",
      "    will be output as a tensor with shape `[batch_size, x, y, z]`.\n",
      "    \n",
      "    If `enqueue_many` is `True`, `tensors_list[i]` is assumed to\n",
      "    represent a batch of examples, where the first dimension is indexed\n",
      "    by example, and all members of `tensors_list[i]` should have the\n",
      "    same size in the first dimension.  If an input tensor has shape `[*, x,\n",
      "    y, z]`, the output will have shape `[batch_size, x, y, z]`.\n",
      "    \n",
      "    The `capacity` argument controls the how long the prefetching is allowed to\n",
      "    grow the queues.\n",
      "    \n",
      "    The returned operation is a dequeue operation and will throw\n",
      "    `tf.errors.OutOfRangeError` if the input queue is exhausted. If this\n",
      "    operation is feeding another input queue, its queue runner will catch\n",
      "    this exception, however, if this operation is used in your main thread\n",
      "    you are responsible for catching this yourself.\n",
      "    \n",
      "    Args:\n",
      "      tensors_list: A list of tuples or dictionaries of tensors to enqueue.\n",
      "      batch_size: An integer. The new batch size pulled from the queue.\n",
      "      capacity: An integer. The maximum number of elements in the queue.\n",
      "      min_after_dequeue: Minimum number elements in the queue after a\n",
      "        dequeue, used to ensure a level of mixing of elements.\n",
      "      seed: Seed for the random shuffling within the queue.\n",
      "      enqueue_many: Whether each tensor in `tensor_list_list` is a single\n",
      "        example.\n",
      "      shapes: (Optional) The shapes for each example.  Defaults to the\n",
      "        inferred shapes for `tensors_list[i]`.\n",
      "      shared_name: (optional). If set, this queue will be shared under the given\n",
      "        name across multiple sessions.\n",
      "      name: (Optional) A name for the operations.\n",
      "    \n",
      "    Returns:\n",
      "      A list or dictionary of tensors with the same number and types as\n",
      "      `tensors_list[i]`.\n",
      "    \n",
      "    Raises:\n",
      "      ValueError: If the `shapes` are not specified, and cannot be\n",
      "        inferred from the elements of `tensors_list`.\n",
      "\n"
     ]
    }
   ],
   "source": [
    "import tensorflow as tf\n",
    "help(tf.train.shuffle_batch_join)"
   ]
  },
  {
   "cell_type": "code",
   "execution_count": null,
   "metadata": {
    "collapsed": true
   },
   "outputs": [],
   "source": []
  }
 ],
 "metadata": {
  "kernelspec": {
   "display_name": "Python 2",
   "language": "python",
   "name": "python2"
  },
  "language_info": {
   "codemirror_mode": {
    "name": "ipython",
    "version": 2
   },
   "file_extension": ".py",
   "mimetype": "text/x-python",
   "name": "python",
   "nbconvert_exporter": "python",
   "pygments_lexer": "ipython2",
   "version": "2.7.5"
  }
 },
 "nbformat": 4,
 "nbformat_minor": 0
}
