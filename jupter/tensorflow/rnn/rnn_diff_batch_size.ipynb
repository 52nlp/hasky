{
 "cells": [
  {
   "cell_type": "code",
   "execution_count": 1,
   "metadata": {
    "collapsed": false
   },
   "outputs": [],
   "source": [
    "import tensorflow as tf\n",
    "sess = tf.InteractiveSession()\n",
    "import numpy as np\n",
    "\n",
    "# Create input data\n",
    "X = np.random.randn(1, 10, 8)\n",
    " \n",
    "x = tf.constant(X, dtype=tf.float32)\n",
    " \n",
    "#cell = tf.contrib.rnn.LSTMCell(num_units=64, state_is_tuple=True)\n",
    "cell = tf.contrib.rnn.LSTMBlockCell(num_units=64)"
   ]
  },
  {
   "cell_type": "code",
   "execution_count": 2,
   "metadata": {
    "collapsed": false
   },
   "outputs": [],
   "source": [
    "zero_state = cell.zero_state(\n",
    "          batch_size=1, dtype=tf.float32)"
   ]
  },
  {
   "cell_type": "code",
   "execution_count": 3,
   "metadata": {
    "collapsed": false
   },
   "outputs": [
    {
     "name": "stdout",
     "output_type": "stream",
     "text": [
      "(<tf.Tensor 'zeros:0' shape=(1, 64) dtype=float32>, <tf.Tensor 'zeros_1:0' shape=(1, 64) dtype=float32>)\n"
     ]
    }
   ],
   "source": [
    "print zero_state"
   ]
  },
  {
   "cell_type": "code",
   "execution_count": 4,
   "metadata": {
    "collapsed": false
   },
   "outputs": [
    {
     "data": {
      "text/plain": [
       "(1, 64)"
      ]
     },
     "execution_count": 4,
     "metadata": {},
     "output_type": "execute_result"
    }
   ],
   "source": [
    "zero_state[0].eval().shape"
   ]
  },
  {
   "cell_type": "code",
   "execution_count": 5,
   "metadata": {
    "collapsed": false
   },
   "outputs": [],
   "source": [
    "output, state = cell(x[:, 1, :], zero_state)"
   ]
  },
  {
   "cell_type": "code",
   "execution_count": 6,
   "metadata": {
    "collapsed": false
   },
   "outputs": [],
   "source": [
    "init = tf.global_variables_initializer()\n",
    "sess.run(init)"
   ]
  },
  {
   "cell_type": "code",
   "execution_count": 7,
   "metadata": {
    "collapsed": false
   },
   "outputs": [
    {
     "data": {
      "text/plain": [
       "array([[ 0.01745382,  0.01382373, -0.01151517,  0.0170249 ,  0.00676552,\n",
       "        -0.01591709,  0.02713555, -0.01709175, -0.0425538 ,  0.0192087 ,\n",
       "        -0.00265857,  0.02024411, -0.0016405 ,  0.02959425,  0.00538036,\n",
       "        -0.00294583,  0.00788967,  0.02334601, -0.02446156,  0.01382987,\n",
       "         0.00023107, -0.03528393,  0.02769615,  0.01333227, -0.00431107,\n",
       "         0.00302829, -0.02510084,  0.02668668,  0.00672815,  0.0360868 ,\n",
       "        -0.03546103,  0.01386164, -0.02794801,  0.0134517 , -0.03721505,\n",
       "         0.03143104, -0.00395286, -0.01330762,  0.02804824, -0.05620727,\n",
       "        -0.024933  ,  0.01667783,  0.04868827, -0.0241703 , -0.02869463,\n",
       "        -0.04508376, -0.00804066, -0.01799731,  0.00601807, -0.04445258,\n",
       "         0.01612686, -0.03030883, -0.0008835 , -0.0349298 , -0.01414475,\n",
       "         0.00094282, -0.03075045,  0.04391602,  0.0432062 ,  0.01823794,\n",
       "         0.01195942,  0.03318793,  0.0235008 , -0.00798441]], dtype=float32)"
      ]
     },
     "execution_count": 7,
     "metadata": {},
     "output_type": "execute_result"
    }
   ],
   "source": [
    "output.eval()"
   ]
  },
  {
   "cell_type": "code",
   "execution_count": 8,
   "metadata": {
    "collapsed": false
   },
   "outputs": [
    {
     "data": {
      "text/plain": [
       "(1, 64)"
      ]
     },
     "execution_count": 8,
     "metadata": {},
     "output_type": "execute_result"
    }
   ],
   "source": [
    "output.eval().shape"
   ]
  },
  {
   "cell_type": "code",
   "execution_count": 9,
   "metadata": {
    "collapsed": false
   },
   "outputs": [
    {
     "name": "stdout",
     "output_type": "stream",
     "text": [
      "(<tf.Tensor 'lstm_cell/LSTMBlockCell:1' shape=(1, 64) dtype=float32>, <tf.Tensor 'lstm_cell/LSTMBlockCell:6' shape=(1, 64) dtype=float32>)\n"
     ]
    }
   ],
   "source": [
    "print state"
   ]
  },
  {
   "cell_type": "code",
   "execution_count": 10,
   "metadata": {
    "collapsed": false
   },
   "outputs": [
    {
     "data": {
      "text/plain": [
       "(1, 64)"
      ]
     },
     "execution_count": 10,
     "metadata": {},
     "output_type": "execute_result"
    }
   ],
   "source": [
    "state[0].eval().shape"
   ]
  },
  {
   "cell_type": "code",
   "execution_count": 11,
   "metadata": {
    "collapsed": false
   },
   "outputs": [
    {
     "name": "stderr",
     "output_type": "stream",
     "text": [
      "tensorflow_version: 0.12.head\n"
     ]
    }
   ],
   "source": [
    "X = np.random.randn(2, 10, 8)\n",
    " \n",
    "x = tf.constant(X, dtype=tf.float32)\n",
    "\n",
    "import melt\n"
   ]
  },
  {
   "cell_type": "code",
   "execution_count": 12,
   "metadata": {
    "collapsed": true
   },
   "outputs": [],
   "source": [
    "melt.reuse_variables()"
   ]
  },
  {
   "cell_type": "code",
   "execution_count": 13,
   "metadata": {
    "collapsed": false
   },
   "outputs": [],
   "source": [
    "state = tf.concat([state[0]]* 2, 0), tf.concat([state[1]]* 2, 0)"
   ]
  },
  {
   "cell_type": "code",
   "execution_count": 14,
   "metadata": {
    "collapsed": false
   },
   "outputs": [],
   "source": [
    "output, state = cell(x[:, 1, :], state)"
   ]
  },
  {
   "cell_type": "code",
   "execution_count": 15,
   "metadata": {
    "collapsed": false
   },
   "outputs": [
    {
     "data": {
      "text/plain": [
       "(2, 64)"
      ]
     },
     "execution_count": 15,
     "metadata": {},
     "output_type": "execute_result"
    }
   ],
   "source": [
    "output.eval().shape"
   ]
  },
  {
   "cell_type": "code",
   "execution_count": null,
   "metadata": {
    "collapsed": true
   },
   "outputs": [],
   "source": []
  }
 ],
 "metadata": {
  "kernelspec": {
   "display_name": "Python 2",
   "language": "python",
   "name": "python2"
  },
  "language_info": {
   "codemirror_mode": {
    "name": "ipython",
    "version": 2
   },
   "file_extension": ".py",
   "mimetype": "text/x-python",
   "name": "python",
   "nbconvert_exporter": "python",
   "pygments_lexer": "ipython2",
   "version": "2.7.5"
  }
 },
 "nbformat": 4,
 "nbformat_minor": 0
}
