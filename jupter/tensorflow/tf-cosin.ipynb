{
 "cells": [
  {
   "cell_type": "code",
   "execution_count": 1,
   "metadata": {
    "collapsed": false
   },
   "outputs": [
    {
     "name": "stdout",
     "output_type": "stream",
     "text": [
      "(2, 3)\n",
      "(2, 3)\n"
     ]
    }
   ],
   "source": [
    "import tensorflow as tf\n",
    "sess = tf.InteractiveSession()\n",
    "\n",
    "a = tf.constant([[1,2,3], [4,5,6]])\n",
    "b = tf.constant([[1,1,1], [2,2,2]])\n",
    "a = tf.cast(a, tf.float32)\n",
    "b = tf.cast(b, tf.float32)\n",
    "print a.eval().shape\n",
    "print b.eval().shape"
   ]
  },
  {
   "cell_type": "code",
   "execution_count": 3,
   "metadata": {
    "collapsed": false
   },
   "outputs": [],
   "source": [
    "u = tf.sqrt(tf.reduce_sum(tf.square(a), 1, keep_dims=True))"
   ]
  },
  {
   "cell_type": "code",
   "execution_count": 4,
   "metadata": {
    "collapsed": false
   },
   "outputs": [],
   "source": [
    "u = tf.reduce_sum(tf.square(a), 1, keep_dims=True)"
   ]
  },
  {
   "cell_type": "code",
   "execution_count": 5,
   "metadata": {
    "collapsed": false
   },
   "outputs": [
    {
     "data": {
      "text/plain": [
       "array([[ 14.],\n",
       "       [ 77.]], dtype=float32)"
      ]
     },
     "execution_count": 5,
     "metadata": {},
     "output_type": "execute_result"
    }
   ],
   "source": [
    "u.eval()"
   ]
  },
  {
   "cell_type": "code",
   "execution_count": 8,
   "metadata": {
    "collapsed": false
   },
   "outputs": [
    {
     "data": {
      "text/plain": [
       "(2, 1)"
      ]
     },
     "execution_count": 8,
     "metadata": {},
     "output_type": "execute_result"
    }
   ],
   "source": [
    "tf.sqrt(u).eval().shape"
   ]
  },
  {
   "cell_type": "code",
   "execution_count": 9,
   "metadata": {
    "collapsed": true
   },
   "outputs": [],
   "source": [
    "normed_a = a / u"
   ]
  },
  {
   "cell_type": "code",
   "execution_count": 10,
   "metadata": {
    "collapsed": false
   },
   "outputs": [
    {
     "data": {
      "text/plain": [
       "array([[ 0.07142857,  0.14285715,  0.21428572],\n",
       "       [ 0.05194805,  0.06493507,  0.07792208]], dtype=float32)"
      ]
     },
     "execution_count": 10,
     "metadata": {},
     "output_type": "execute_result"
    }
   ],
   "source": [
    "normed_a.eval()"
   ]
  },
  {
   "cell_type": "code",
   "execution_count": 12,
   "metadata": {
    "collapsed": false
   },
   "outputs": [
    {
     "data": {
      "text/plain": [
       "(2, 3)"
      ]
     },
     "execution_count": 12,
     "metadata": {},
     "output_type": "execute_result"
    }
   ],
   "source": [
    "normed_a.eval().shape"
   ]
  },
  {
   "cell_type": "code",
   "execution_count": 13,
   "metadata": {
    "collapsed": true
   },
   "outputs": [],
   "source": [
    "x = tf.matmul(b, b, transpose_b=True)"
   ]
  },
  {
   "cell_type": "code",
   "execution_count": 14,
   "metadata": {
    "collapsed": false
   },
   "outputs": [
    {
     "data": {
      "text/plain": [
       "array([[  3.,   6.],\n",
       "       [  6.,  12.]], dtype=float32)"
      ]
     },
     "execution_count": 14,
     "metadata": {},
     "output_type": "execute_result"
    }
   ],
   "source": [
    "x.eval()"
   ]
  },
  {
   "cell_type": "code",
   "execution_count": 15,
   "metadata": {
    "collapsed": false
   },
   "outputs": [
    {
     "name": "stdout",
     "output_type": "stream",
     "text": [
      "Help on function gather in module tensorflow.python.ops.gen_array_ops:\n",
      "\n",
      "gather(params, indices, validate_indices=None, name=None)\n",
      "    Gather slices from `params` according to `indices`.\n",
      "    \n",
      "    `indices` must be an integer tensor of any dimension (usually 0-D or 1-D).\n",
      "    Produces an output tensor with shape `indices.shape + params.shape[1:]` where:\n",
      "    \n",
      "        # Scalar indices\n",
      "        output[:, ..., :] = params[indices, :, ... :]\n",
      "    \n",
      "        # Vector indices\n",
      "        output[i, :, ..., :] = params[indices[i], :, ... :]\n",
      "    \n",
      "        # Higher rank indices\n",
      "        output[i, ..., j, :, ... :] = params[indices[i, ..., j], :, ..., :]\n",
      "    \n",
      "    If `indices` is a permutation and `len(indices) == params.shape[0]` then\n",
      "    this operation will permute `params` accordingly.\n",
      "    \n",
      "    <div style=\"width:70%; margin:auto; margin-bottom:10px; margin-top:20px;\">\n",
      "    <img style=\"width:100%\" src=\"../../images/Gather.png\" alt>\n",
      "    </div>\n",
      "    \n",
      "    Args:\n",
      "      params: A `Tensor`.\n",
      "      indices: A `Tensor`. Must be one of the following types: `int32`, `int64`.\n",
      "      validate_indices: An optional `bool`. Defaults to `True`.\n",
      "      name: A name for the operation (optional).\n",
      "    \n",
      "    Returns:\n",
      "      A `Tensor`. Has the same type as `params`.\n",
      "\n"
     ]
    }
   ],
   "source": [
    "help(tf.gather)"
   ]
  },
  {
   "cell_type": "code",
   "execution_count": 19,
   "metadata": {
    "collapsed": false
   },
   "outputs": [
    {
     "data": {
      "text/plain": [
       "array([ 3.,  6.], dtype=float32)"
      ]
     },
     "execution_count": 19,
     "metadata": {},
     "output_type": "execute_result"
    }
   ],
   "source": [
    "tf.gather(x, 0).eval()"
   ]
  },
  {
   "cell_type": "code",
   "execution_count": 21,
   "metadata": {
    "collapsed": false
   },
   "outputs": [
    {
     "data": {
      "text/plain": [
       "(2,)"
      ]
     },
     "execution_count": 21,
     "metadata": {},
     "output_type": "execute_result"
    }
   ],
   "source": [
    "tf.reduce_sum(tf.mul(x, x), 1).eval().shape"
   ]
  },
  {
   "cell_type": "code",
   "execution_count": null,
   "metadata": {
    "collapsed": true
   },
   "outputs": [],
   "source": []
  }
 ],
 "metadata": {
  "kernelspec": {
   "display_name": "Python 2",
   "language": "python",
   "name": "python2"
  },
  "language_info": {
   "codemirror_mode": {
    "name": "ipython",
    "version": 2
   },
   "file_extension": ".py",
   "mimetype": "text/x-python",
   "name": "python",
   "nbconvert_exporter": "python",
   "pygments_lexer": "ipython2",
   "version": "2.7.5"
  }
 },
 "nbformat": 4,
 "nbformat_minor": 0
}
