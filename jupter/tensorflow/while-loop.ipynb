{
 "cells": [
  {
   "cell_type": "code",
   "execution_count": 1,
   "metadata": {
    "collapsed": false
   },
   "outputs": [
    {
     "name": "stdout",
     "output_type": "stream",
     "text": [
      "WARNING:tensorflow:From <ipython-input-1-d3d2ae0a3931>:16: initialize_all_variables (from tensorflow.python.ops.variables) is deprecated and will be removed after 2017-03-02.\n",
      "Instructions for updating:\n",
      "Use `tf.global_variables_initializer` instead.\n",
      "[[228 316]\n",
      " [251 258]]\n"
     ]
    }
   ],
   "source": [
    "import tensorflow as tf\n",
    "import numpy as np\n",
    "\n",
    "def body(x):\n",
    "    a = tf.random_uniform(shape=[2, 2], dtype=tf.int32, maxval=100)\n",
    "    b = tf.constant(np.array([[1, 2], [3, 4]]), dtype=tf.int32)\n",
    "    c = a + b\n",
    "    return tf.nn.relu(x + c)\n",
    "\n",
    "def condition(x):\n",
    "    return tf.reduce_sum(x) < 1000\n",
    "\n",
    "x = tf.Variable(tf.constant(0, shape=[2, 2]))\n",
    "\n",
    "with tf.Session():\n",
    "    tf.initialize_all_variables().run()\n",
    "    result = tf.while_loop(condition, body, [x])\n",
    "    print(result.eval())"
   ]
  },
  {
   "cell_type": "code",
   "execution_count": 2,
   "metadata": {
    "collapsed": true
   },
   "outputs": [],
   "source": [
    "import tensorflow as tf\n",
    "sess = tf.InteractiveSession()"
   ]
  },
  {
   "cell_type": "code",
   "execution_count": 3,
   "metadata": {
    "collapsed": false
   },
   "outputs": [
    {
     "name": "stderr",
     "output_type": "stream",
     "text": [
      "tensorflow_version: 0.12.head\n"
     ]
    }
   ],
   "source": [
    "import melt"
   ]
  },
  {
   "cell_type": "code",
   "execution_count": 4,
   "metadata": {
    "collapsed": false
   },
   "outputs": [
    {
     "data": {
      "text/plain": [
       "2"
      ]
     },
     "execution_count": 4,
     "metadata": {},
     "output_type": "execute_result"
    }
   ],
   "source": [
    "x = tf.constant([1,2])\n",
    "melt.length(x, 0).eval()"
   ]
  },
  {
   "cell_type": "code",
   "execution_count": 5,
   "metadata": {
    "collapsed": true
   },
   "outputs": [],
   "source": [
    " y = tf.constant([\n",
    "                    [[1,2,3,4],\n",
    "                     [2,2,3,4]],\n",
    "                    [[1,4/16.0,5,7],\n",
    "                     [0,0,0,0]],\n",
    "                  ], dtype=tf.float32)"
   ]
  },
  {
   "cell_type": "code",
   "execution_count": 6,
   "metadata": {
    "collapsed": false
   },
   "outputs": [
    {
     "data": {
      "text/plain": [
       "array([[[ 1.  ,  2.  ,  3.  ,  4.  ],\n",
       "        [ 2.  ,  2.  ,  3.  ,  4.  ]],\n",
       "\n",
       "       [[ 1.  ,  0.25,  5.  ,  7.  ],\n",
       "        [ 0.  ,  0.  ,  0.  ,  0.  ]]], dtype=float32)"
      ]
     },
     "execution_count": 6,
     "metadata": {},
     "output_type": "execute_result"
    }
   ],
   "source": [
    "y.eval()"
   ]
  },
  {
   "cell_type": "code",
   "execution_count": 7,
   "metadata": {
    "collapsed": false
   },
   "outputs": [
    {
     "data": {
      "text/plain": [
       "(2, 2, 4)"
      ]
     },
     "execution_count": 7,
     "metadata": {},
     "output_type": "execute_result"
    }
   ],
   "source": [
    "y.eval().shape"
   ]
  },
  {
   "cell_type": "code",
   "execution_count": 8,
   "metadata": {
    "collapsed": true
   },
   "outputs": [],
   "source": [
    "u = tf.nn.softmax(y[0])\n",
    "v = tf.nn.softmax(y[1])\n",
    "w = u + v"
   ]
  },
  {
   "cell_type": "code",
   "execution_count": 9,
   "metadata": {
    "collapsed": false
   },
   "outputs": [
    {
     "data": {
      "text/plain": [
       "array([2, 4], dtype=int32)"
      ]
     },
     "execution_count": 9,
     "metadata": {},
     "output_type": "execute_result"
    }
   ],
   "source": [
    "tf.shape(u).eval()"
   ]
  },
  {
   "cell_type": "code",
   "execution_count": 10,
   "metadata": {
    "collapsed": false
   },
   "outputs": [
    {
     "data": {
      "text/plain": [
       "array([[ 0.03423488,  0.08817232,  0.35570377,  1.52188897],\n",
       "       [ 0.33259454,  0.33259454,  0.47451523,  0.86029565]], dtype=float32)"
      ]
     },
     "execution_count": 10,
     "metadata": {},
     "output_type": "execute_result"
    }
   ],
   "source": [
    "w.eval()"
   ]
  },
  {
   "cell_type": "code",
   "execution_count": 11,
   "metadata": {
    "collapsed": false
   },
   "outputs": [],
   "source": [
    "i = tf.constant(0)\n",
    "c = lambda i: tf.less(i, melt.length(x,0))\n",
    "b = lambda i: tf.add(i, 1)\n",
    "r = tf.while_loop(c, b, [i])"
   ]
  },
  {
   "cell_type": "code",
   "execution_count": 12,
   "metadata": {
    "collapsed": false
   },
   "outputs": [
    {
     "data": {
      "text/plain": [
       "2"
      ]
     },
     "execution_count": 12,
     "metadata": {},
     "output_type": "execute_result"
    }
   ],
   "source": [
    "r.eval()"
   ]
  },
  {
   "cell_type": "code",
   "execution_count": 13,
   "metadata": {
    "collapsed": false
   },
   "outputs": [
    {
     "data": {
      "text/plain": [
       "array([[ 0.0320586 ,  0.08714432,  0.23688281,  0.64391422],\n",
       "       [ 0.08259454,  0.08259454,  0.22451523,  0.61029565]], dtype=float32)"
      ]
     },
     "execution_count": 13,
     "metadata": {},
     "output_type": "execute_result"
    }
   ],
   "source": [
    "i = tf.constant(0)\n",
    "tf.nn.softmax(y[i, :, :]).eval()\n",
    "z = tf.constant(0., shape=[2, 4], dtype=tf.float32)\n",
    "z += tf.nn.softmax(y[i, :, :])\n",
    "z.eval()"
   ]
  },
  {
   "cell_type": "code",
   "execution_count": 14,
   "metadata": {
    "collapsed": false
   },
   "outputs": [],
   "source": [
    "i = tf.constant(0)\n",
    "\n",
    "c = lambda i, z: tf.less(i, melt.length(x,0))\n",
    "#b = lambda i: tf.add(i, 1）\n",
    "z = tf.constant(0., shape=[2, 4], dtype=tf.float32)\n",
    "\n",
    "def b(i, z):\n",
    "    #-----below only ok in tf11.0  TODO\n",
    "    #z += tf.nn.softmax(y[i, :, :])\n",
    "    m = y[i, :, :]\n",
    "    #m = tf.slice(y, [i, 0, 0], [1, -1, -1])\n",
    "    z += tf.nn.softmax(m)\n",
    "    return tf.add(i, 1), tf.reshape(z, [2,4])\n",
    "r = tf.while_loop(c, b, [i, z])"
   ]
  },
  {
   "cell_type": "code",
   "execution_count": 15,
   "metadata": {
    "collapsed": false
   },
   "outputs": [
    {
     "data": {
      "text/plain": [
       "2"
      ]
     },
     "execution_count": 15,
     "metadata": {},
     "output_type": "execute_result"
    }
   ],
   "source": [
    "r[0].eval()"
   ]
  },
  {
   "cell_type": "code",
   "execution_count": 16,
   "metadata": {
    "collapsed": false
   },
   "outputs": [
    {
     "data": {
      "text/plain": [
       "array([[ 0.03423489,  0.08817232,  0.3557038 ,  1.52188897],\n",
       "       [ 0.33259454,  0.33259454,  0.47451523,  0.86029565]], dtype=float32)"
      ]
     },
     "execution_count": 16,
     "metadata": {},
     "output_type": "execute_result"
    }
   ],
   "source": [
    "r[1].eval()"
   ]
  },
  {
   "cell_type": "code",
   "execution_count": 17,
   "metadata": {
    "collapsed": false
   },
   "outputs": [
    {
     "data": {
      "text/plain": [
       "array([[ 0.,  0.,  0.,  0.],\n",
       "       [ 0.,  0.,  0.,  0.]], dtype=float32)"
      ]
     },
     "execution_count": 17,
     "metadata": {},
     "output_type": "execute_result"
    }
   ],
   "source": [
    "z.eval()"
   ]
  },
  {
   "cell_type": "code",
   "execution_count": 18,
   "metadata": {
    "collapsed": true
   },
   "outputs": [],
   "source": [
    "class Worker:\n",
    "    def __init__(self):\n",
    "        self.i = tf.constant(0)\n",
    "        self.z = tf.constant(0., shape=[2, 4], dtype=tf.float32)\n",
    "    def step(self):\n",
    "        self.z += 1\n",
    "        return self.z\n",
    "    \n",
    "c = lambda i, z: tf.less(i, 2)\n",
    "\n",
    "worker = Worker()\n",
    "def step():\n",
    "    global worker\n",
    "    return worker.step()\n",
    "\n",
    "def b(i, z):\n",
    "    m = y[i, :, :]\n",
    "    z += step() + tf.nn.softmax(m)\n",
    "    return tf.add(i, 1), tf.reshape(z, [2,4])\n",
    "\n",
    "\n",
    "r = tf.while_loop(c, b, [worker.i, worker.z])"
   ]
  },
  {
   "cell_type": "code",
   "execution_count": 19,
   "metadata": {
    "collapsed": false
   },
   "outputs": [
    {
     "data": {
      "text/plain": [
       "2"
      ]
     },
     "execution_count": 19,
     "metadata": {},
     "output_type": "execute_result"
    }
   ],
   "source": [
    "r[0].eval()"
   ]
  },
  {
   "cell_type": "code",
   "execution_count": 20,
   "metadata": {
    "collapsed": false
   },
   "outputs": [
    {
     "data": {
      "text/plain": [
       "array([[ 2.034235  ,  2.08817244,  2.35570383,  3.52188897],\n",
       "       [ 2.33259439,  2.33259439,  2.4745152 ,  2.86029577]], dtype=float32)"
      ]
     },
     "execution_count": 20,
     "metadata": {},
     "output_type": "execute_result"
    }
   ],
   "source": [
    "r[1].eval()"
   ]
  },
  {
   "cell_type": "code",
   "execution_count": 21,
   "metadata": {
    "collapsed": false
   },
   "outputs": [
    {
     "data": {
      "text/plain": [
       "0"
      ]
     },
     "execution_count": 21,
     "metadata": {},
     "output_type": "execute_result"
    }
   ],
   "source": [
    "worker.i.eval()"
   ]
  },
  {
   "cell_type": "code",
   "execution_count": 23,
   "metadata": {
    "collapsed": false
   },
   "outputs": [
    {
     "data": {
      "text/plain": [
       "<tf.Tensor 'while_3/add_1:0' shape=(2, 4) dtype=float32>"
      ]
     },
     "execution_count": 23,
     "metadata": {},
     "output_type": "execute_result"
    }
   ],
   "source": [
    "worker.z"
   ]
  },
  {
   "cell_type": "code",
   "execution_count": 34,
   "metadata": {
    "collapsed": false
   },
   "outputs": [
    {
     "data": {
      "text/plain": [
       "2"
      ]
     },
     "execution_count": 34,
     "metadata": {},
     "output_type": "execute_result"
    }
   ],
   "source": [
    "melt.length(x, 0).eval()"
   ]
  },
  {
   "cell_type": "code",
   "execution_count": null,
   "metadata": {
    "collapsed": true
   },
   "outputs": [],
   "source": []
  },
  {
   "cell_type": "code",
   "execution_count": null,
   "metadata": {
    "collapsed": true
   },
   "outputs": [],
   "source": []
  },
  {
   "cell_type": "code",
   "execution_count": 81,
   "metadata": {
    "collapsed": false
   },
   "outputs": [
    {
     "data": {
      "text/plain": [
       "array([[ 1.  ,  0.25,  5.  ,  7.  ],\n",
       "       [ 2.  ,  2.  ,  0.  ,  0.  ]], dtype=float32)"
      ]
     },
     "execution_count": 81,
     "metadata": {},
     "output_type": "execute_result"
    }
   ],
   "source": [
    "y[i + 1, :, :].eval()"
   ]
  },
  {
   "cell_type": "code",
   "execution_count": 85,
   "metadata": {
    "collapsed": false
   },
   "outputs": [
    {
     "data": {
      "text/plain": [
       "array([[ 0.00217628,  0.001028  ,  0.11882096,  0.87797475],\n",
       "       [ 0.44039851,  0.44039851,  0.05960146,  0.05960146]], dtype=float32)"
      ]
     },
     "execution_count": 85,
     "metadata": {},
     "output_type": "execute_result"
    }
   ],
   "source": [
    "tf.nn.softmax(y[i + 1, :, :]).eval()"
   ]
  },
  {
   "cell_type": "code",
   "execution_count": 83,
   "metadata": {
    "collapsed": false
   },
   "outputs": [
    {
     "data": {
      "text/plain": [
       "array([[[ 1.  ,  0.25,  5.  ,  7.  ],\n",
       "        [ 2.  ,  2.  ,  0.  ,  0.  ]]], dtype=float32)"
      ]
     },
     "execution_count": 83,
     "metadata": {},
     "output_type": "execute_result"
    }
   ],
   "source": [
    "tf.slice(y, [i + 1, 0, 0], [1, -1, -1]).eval()"
   ]
  },
  {
   "cell_type": "code",
   "execution_count": 87,
   "metadata": {
    "collapsed": false
   },
   "outputs": [
    {
     "data": {
      "text/plain": [
       "array([[[ 0.00217628,  0.001028  ,  0.11882096,  0.87797475],\n",
       "        [ 0.44039851,  0.44039851,  0.05960146,  0.05960146]]], dtype=float32)"
      ]
     },
     "execution_count": 87,
     "metadata": {},
     "output_type": "execute_result"
    }
   ],
   "source": [
    "tf.nn.softmax(tf.slice(y, [i + 1, 0, 0], [1, -1, -1])).eval()"
   ]
  },
  {
   "cell_type": "code",
   "execution_count": 90,
   "metadata": {
    "collapsed": true
   },
   "outputs": [],
   "source": [
    "tf.squeeze?"
   ]
  },
  {
   "cell_type": "code",
   "execution_count": 18,
   "metadata": {
    "collapsed": false
   },
   "outputs": [
    {
     "data": {
      "text/plain": [
       "array([ 0.25,  0.  ], dtype=float32)"
      ]
     },
     "execution_count": 18,
     "metadata": {},
     "output_type": "execute_result"
    }
   ],
   "source": [
    "idx = tf.constant([1,3])\n",
    "melt.dynamic_gather2d(y[i + 1, :, :], idx).eval()"
   ]
  },
  {
   "cell_type": "code",
   "execution_count": 33,
   "metadata": {
    "collapsed": false
   },
   "outputs": [
    {
     "data": {
      "text/plain": [
       "array([ -1.38629436, -27.6310215 ], dtype=float32)"
      ]
     },
     "execution_count": 33,
     "metadata": {},
     "output_type": "execute_result"
    }
   ],
   "source": [
    "tf.log(melt.dynamic_gather2d(y[i + 1, :, :], idx) + 1e-12).eval()"
   ]
  },
  {
   "cell_type": "code",
   "execution_count": 34,
   "metadata": {
    "collapsed": false
   },
   "outputs": [
    {
     "data": {
      "text/plain": [
       "array([ -1.38629436, -27.6310215 ], dtype=float32)"
      ]
     },
     "execution_count": 34,
     "metadata": {},
     "output_type": "execute_result"
    }
   ],
   "source": [
    "tf.log(tf.maximum(melt.dynamic_gather2d(y[i + 1, :, :], idx), 1e-12)).eval()"
   ]
  },
  {
   "cell_type": "code",
   "execution_count": 20,
   "metadata": {
    "collapsed": false
   },
   "outputs": [
    {
     "data": {
      "text/plain": [
       "-29.017315"
      ]
     },
     "execution_count": 20,
     "metadata": {},
     "output_type": "execute_result"
    }
   ],
   "source": [
    "tf.reduce_sum(tf.log(melt.dynamic_gather2d(y[i + 1, :, :], idx) + 1e-12)).eval()"
   ]
  },
  {
   "cell_type": "code",
   "execution_count": 21,
   "metadata": {
    "collapsed": true
   },
   "outputs": [],
   "source": [
    "selected_probs = melt.dynamic_gather2d(y[i + 1, :, :], idx) "
   ]
  },
  {
   "cell_type": "code",
   "execution_count": 22,
   "metadata": {
    "collapsed": true
   },
   "outputs": [],
   "source": [
    "selected_log_probs = tf.log(selected_probs + 1e-12)"
   ]
  },
  {
   "cell_type": "code",
   "execution_count": 23,
   "metadata": {
    "collapsed": true
   },
   "outputs": [],
   "source": [
    "score = tf.reduce_sum(selected_log_probs)"
   ]
  },
  {
   "cell_type": "code",
   "execution_count": 24,
   "metadata": {
    "collapsed": true
   },
   "outputs": [],
   "source": [
    "normalize_factor = tf.pow(melt.length(x, 0), 1)"
   ]
  },
  {
   "cell_type": "code",
   "execution_count": 25,
   "metadata": {
    "collapsed": false
   },
   "outputs": [
    {
     "data": {
      "text/plain": [
       "2"
      ]
     },
     "execution_count": 25,
     "metadata": {},
     "output_type": "execute_result"
    }
   ],
   "source": [
    "normalize_factor.eval()"
   ]
  },
  {
   "cell_type": "code",
   "execution_count": 27,
   "metadata": {
    "collapsed": false
   },
   "outputs": [],
   "source": [
    "score /= tf.cast(normalize_factor, tf.float32)"
   ]
  },
  {
   "cell_type": "code",
   "execution_count": 28,
   "metadata": {
    "collapsed": false
   },
   "outputs": [
    {
     "data": {
      "text/plain": [
       "-14.508657"
      ]
     },
     "execution_count": 28,
     "metadata": {},
     "output_type": "execute_result"
    }
   ],
   "source": [
    "score.eval()"
   ]
  },
  {
   "cell_type": "code",
   "execution_count": 37,
   "metadata": {
    "collapsed": true
   },
   "outputs": [],
   "source": [
    "tf.pow?"
   ]
  },
  {
   "cell_type": "code",
   "execution_count": 48,
   "metadata": {
    "collapsed": false
   },
   "outputs": [
    {
     "data": {
      "text/plain": [
       "array([1, 4], dtype=int32)"
      ]
     },
     "execution_count": 48,
     "metadata": {},
     "output_type": "execute_result"
    }
   ],
   "source": [
    "temp = tf.constant([[1,2,3], [4,5,6]])\n",
    "tf.reshape(tf.slice(temp, [0, 0], [-1, 1]), [-1]).eval()"
   ]
  },
  {
   "cell_type": "code",
   "execution_count": 91,
   "metadata": {
    "collapsed": false
   },
   "outputs": [
    {
     "name": "stdout",
     "output_type": "stream",
     "text": [
      "[-9.32032776 -3.31388712]\n",
      "[ 0.00946491  0.19072102]\n"
     ]
    }
   ],
   "source": [
    "i = tf.constant(0)\n",
    "seqence_length = melt.length(x, 0)\n",
    "idx = tf.constant([1,3])\n",
    "c = lambda i, log_probs: tf.less(i, seqence_length)\n",
    "#b = lambda i: tf.add(i, 1）\n",
    "log_probs = tf.constant(0., shape=[2,], dtype=tf.float32)\n",
    "def b(i, log_probs):\n",
    "    #-----below only ok in tf11.0  TODO\n",
    "    #z += tf.nn.softmax(y[i, :, :])\n",
    "    #m = y[i, :, :]\n",
    "    m = tf.squeeze(tf.slice(y, [i, 0, 0], [1, -1, -1]))\n",
    "    probs = tf.nn.softmax(m)\n",
    "    selected_probs = melt.dynamic_gather2d(probs, idx)\n",
    "    selected_log_probs = tf.log(tf.maximum(selected_probs, 1e-12))\n",
    "    log_probs += selected_log_probs\n",
    "    return tf.add(i, 1), tf.reshape(log_probs, [2,])\n",
    "_, log_probs = tf.while_loop(c, b, [i, log_probs])\n",
    "print log_probs.eval()\n",
    "normalize_factor = tf.cast(tf.pow(seqence_length, 1), tf.float32)\n",
    "log_probs /= normalize_factor\n",
    "log_probs = tf.exp(log_probs)\n",
    "#log_probs /= normalize_factor\n",
    "print log_probs.eval()"
   ]
  },
  {
   "cell_type": "code",
   "execution_count": 50,
   "metadata": {
    "collapsed": false
   },
   "outputs": [
    {
     "data": {
      "text/plain": [
       "array([ 0.33333334,  0.33333334,  0.33333334], dtype=float32)"
      ]
     },
     "execution_count": 50,
     "metadata": {},
     "output_type": "execute_result"
    }
   ],
   "source": [
    "tf.nn.softmax(tf.constant([0, 0, 0], tf.float32)).eval()"
   ]
  },
  {
   "cell_type": "code",
   "execution_count": 80,
   "metadata": {
    "collapsed": false
   },
   "outputs": [
    {
     "name": "stdout",
     "output_type": "stream",
     "text": [
      "[[ 0.]\n",
      " [ 3.]]\n",
      "[0 0]\n",
      "[ 0.  3.]\n",
      "[ 3.]\n",
      "3.0\n"
     ]
    }
   ],
   "source": [
    "temp = tf.constant([[0,0,0,0], [3,0,0,-2]], dtype=tf.float32)\n",
    "print tf.nn.top_k(temp)[0].eval()\n",
    "print tf.arg_max(temp, 1).eval()\n",
    "print tf.reduce_max(temp, 1).eval()\n",
    "temp = tf.constant([3,0,0,-2], dtype=tf.float32)\n",
    "print tf.nn.top_k(temp)[0].eval()\n",
    "print tf.reduce_max(temp).eval()"
   ]
  },
  {
   "cell_type": "code",
   "execution_count": 64,
   "metadata": {
    "collapsed": false
   },
   "outputs": [
    {
     "data": {
      "text/plain": [
       "array([[ 0.,  0.,  0.,  0.],\n",
       "       [ 1.,  0.,  0., -1.]], dtype=float32)"
      ]
     },
     "execution_count": 64,
     "metadata": {},
     "output_type": "execute_result"
    }
   ],
   "source": [
    "tf.sign(temp).eval()"
   ]
  },
  {
   "cell_type": "code",
   "execution_count": 60,
   "metadata": {
    "collapsed": true
   },
   "outputs": [],
   "source": [
    "tf.sign?"
   ]
  },
  {
   "cell_type": "code",
   "execution_count": 62,
   "metadata": {
    "collapsed": false
   },
   "outputs": [
    {
     "data": {
      "text/plain": [
       "array([[ 0.,  0.,  0.,  0.],\n",
       "       [ 1.,  0.,  0.,  1.]], dtype=float32)"
      ]
     },
     "execution_count": 62,
     "metadata": {},
     "output_type": "execute_result"
    }
   ],
   "source": [
    "tf.abs(temp).eval()"
   ]
  },
  {
   "cell_type": "code",
   "execution_count": 67,
   "metadata": {
    "collapsed": true
   },
   "outputs": [],
   "source": [
    "tf.nn.top_k?"
   ]
  },
  {
   "cell_type": "code",
   "execution_count": 92,
   "metadata": {
    "collapsed": false
   },
   "outputs": [
    {
     "data": {
      "text/plain": [
       "array([3], dtype=int32)"
      ]
     },
     "execution_count": 92,
     "metadata": {},
     "output_type": "execute_result"
    }
   ],
   "source": [
    "tf.shape(tf.range(0,3)).eval()"
   ]
  },
  {
   "cell_type": "code",
   "execution_count": null,
   "metadata": {
    "collapsed": true
   },
   "outputs": [],
   "source": []
  }
 ],
 "metadata": {
  "kernelspec": {
   "display_name": "Python 2",
   "language": "python",
   "name": "python2"
  },
  "language_info": {
   "codemirror_mode": {
    "name": "ipython",
    "version": 2
   },
   "file_extension": ".py",
   "mimetype": "text/x-python",
   "name": "python",
   "nbconvert_exporter": "python",
   "pygments_lexer": "ipython2",
   "version": "2.7.5"
  }
 },
 "nbformat": 4,
 "nbformat_minor": 0
}
