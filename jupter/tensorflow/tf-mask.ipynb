{
 "cells": [
  {
   "cell_type": "code",
   "execution_count": 1,
   "metadata": {
    "collapsed": true
   },
   "outputs": [],
   "source": [
    "import tensorflow as tf\n",
    "sess = tf.InteractiveSession()"
   ]
  },
  {
   "cell_type": "code",
   "execution_count": 49,
   "metadata": {
    "collapsed": false
   },
   "outputs": [
    {
     "name": "stdout",
     "output_type": "stream",
     "text": [
      "[[1 2 3 0 0]\n",
      " [2 3 0 0 0]]\n",
      "[[ 0.  1.  2.  3.  0.  0.  0.]\n",
      " [ 0.  2.  3.  0.  0.  0.  0.]]\n",
      "[[ True  True  True False False]\n",
      " [ True  True False False False]]\n"
     ]
    }
   ],
   "source": [
    "x = tf.constant([[1,2,3, 0, 0], [2, 3, 0, 0, 0]])\n",
    "print x.eval()\n",
    "\n",
    "pad = tf.zeros([2, 1])\n",
    "\n",
    "print tf.concat(1, [pad, tf.cast(x, tf.float32), pad]).eval()\n",
    "\n",
    "y = tf.zeros_like(x)\n",
    "z = tf.logical_or(tf.cast(x, tf.bool), tf.cast(y, tf.bool))\n",
    "\n",
    "print z.eval()"
   ]
  },
  {
   "cell_type": "code",
   "execution_count": 8,
   "metadata": {
    "collapsed": false
   },
   "outputs": [
    {
     "data": {
      "text/plain": [
       "array([1, 2, 3, 2, 3], dtype=int32)"
      ]
     },
     "execution_count": 8,
     "metadata": {},
     "output_type": "execute_result"
    }
   ],
   "source": [
    "tf.boolean_mask(x, z).eval()"
   ]
  },
  {
   "cell_type": "code",
   "execution_count": 9,
   "metadata": {
    "collapsed": false
   },
   "outputs": [
    {
     "name": "stdout",
     "output_type": "stream",
     "text": [
      "Help on function boolean_mask in module tensorflow.python.ops.array_ops:\n",
      "\n",
      "boolean_mask(tensor, mask, name='boolean_mask')\n",
      "    Apply boolean mask to tensor.  Numpy equivalent is `tensor[mask]`.\n",
      "    \n",
      "    ```python\n",
      "    # 1-D example\n",
      "    tensor = [0, 1, 2, 3]\n",
      "    mask = [True, False, True, False]\n",
      "    boolean_mask(tensor, mask) ==> [0, 2]\n",
      "    ```\n",
      "    \n",
      "    In general, `0 < dim(mask) = K <= dim(tensor)`, and `mask`'s shape must match\n",
      "    the first K dimensions of `tensor`'s shape.  We then have:\n",
      "      `boolean_mask(tensor, mask)[i, j1,...,jd] = tensor[i1,...,iK,j1,...,jd]`\n",
      "    where `(i1,...,iK)` is the ith `True` entry of `mask` (row-major order).\n",
      "    \n",
      "    Args:\n",
      "      tensor:  N-D tensor.\n",
      "      mask:  K-D boolean tensor, K <= N and K must be known statically.\n",
      "      name:  A name for this operation (optional).\n",
      "    \n",
      "    Returns:\n",
      "      Tensor populated by entries in `tensor` corresponding to `True` values in\n",
      "        `mask`.\n",
      "    \n",
      "    Raises:\n",
      "      ValueError:  If shapes do not conform.\n",
      "    \n",
      "    Examples:\n",
      "    \n",
      "    ```python\n",
      "    # 2-D example\n",
      "    tensor = [[1, 2], [3, 4], [5, 6]]\n",
      "    mask = [True, False, True]\n",
      "    boolean_mask(tensor, mask) ==> [[1, 2], [5, 6]]\n",
      "    ```\n",
      "\n"
     ]
    }
   ],
   "source": [
    "help(tf.boolean_mask)"
   ]
  },
  {
   "cell_type": "code",
   "execution_count": 10,
   "metadata": {
    "collapsed": false
   },
   "outputs": [
    {
     "name": "stdout",
     "output_type": "stream",
     "text": [
      "Help on function less in module tensorflow.python.ops.gen_math_ops:\n",
      "\n",
      "less(x, y, name=None)\n",
      "    Returns the truth value of (x < y) element-wise.\n",
      "    \n",
      "    Args:\n",
      "      x: A `Tensor`. Must be one of the following types: `float32`, `float64`, `int32`, `int64`, `uint8`, `int16`, `int8`, `uint16`, `half`.\n",
      "      y: A `Tensor`. Must have the same type as `x`.\n",
      "      name: A name for the operation (optional).\n",
      "    \n",
      "    Returns:\n",
      "      A `Tensor` of type `bool`.\n",
      "\n"
     ]
    }
   ],
   "source": [
    "help(tf.less)"
   ]
  },
  {
   "cell_type": "code",
   "execution_count": 11,
   "metadata": {
    "collapsed": false
   },
   "outputs": [
    {
     "data": {
      "text/plain": [
       "array([[ True,  True,  True, False, False],\n",
       "       [ True,  True, False, False, False]], dtype=bool)"
      ]
     },
     "execution_count": 11,
     "metadata": {},
     "output_type": "execute_result"
    }
   ],
   "source": [
    "tf.greater(x, y).eval()"
   ]
  },
  {
   "cell_type": "code",
   "execution_count": 13,
   "metadata": {
    "collapsed": false
   },
   "outputs": [],
   "source": [
    "z = tf.greater(x, y)"
   ]
  },
  {
   "cell_type": "code",
   "execution_count": 14,
   "metadata": {
    "collapsed": false
   },
   "outputs": [
    {
     "name": "stdout",
     "output_type": "stream",
     "text": [
      "[[ True  True  True False False]\n",
      " [ True  True False False False]]\n"
     ]
    }
   ],
   "source": [
    "print z.eval()"
   ]
  },
  {
   "cell_type": "code",
   "execution_count": 15,
   "metadata": {
    "collapsed": false
   },
   "outputs": [
    {
     "name": "stdout",
     "output_type": "stream",
     "text": [
      "(2, 5)\n"
     ]
    }
   ],
   "source": [
    "print z.eval().shape"
   ]
  },
  {
   "cell_type": "code",
   "execution_count": 18,
   "metadata": {
    "collapsed": false
   },
   "outputs": [
    {
     "name": "stdout",
     "output_type": "stream",
     "text": [
      "[ True  True False False False]\n"
     ]
    }
   ],
   "source": [
    "print z[1,:].eval()"
   ]
  },
  {
   "cell_type": "code",
   "execution_count": 31,
   "metadata": {
    "collapsed": false
   },
   "outputs": [
    {
     "data": {
      "text/plain": [
       "array([1, 2, 3, 0, 0], dtype=int32)"
      ]
     },
     "execution_count": 31,
     "metadata": {},
     "output_type": "execute_result"
    }
   ],
   "source": [
    "x[0,:].eval()"
   ]
  },
  {
   "cell_type": "code",
   "execution_count": 37,
   "metadata": {
    "collapsed": true
   },
   "outputs": [],
   "source": [
    "u = x[0,:]"
   ]
  },
  {
   "cell_type": "code",
   "execution_count": 38,
   "metadata": {
    "collapsed": true
   },
   "outputs": [],
   "source": [
    "v = z[1,:]"
   ]
  },
  {
   "cell_type": "code",
   "execution_count": 39,
   "metadata": {
    "collapsed": false
   },
   "outputs": [],
   "source": [
    "v = tf.cast(v, tf.float32)"
   ]
  },
  {
   "cell_type": "code",
   "execution_count": 40,
   "metadata": {
    "collapsed": true
   },
   "outputs": [],
   "source": [
    "u = tf.cast(u, tf.float32)"
   ]
  },
  {
   "cell_type": "code",
   "execution_count": 41,
   "metadata": {
    "collapsed": false
   },
   "outputs": [
    {
     "data": {
      "text/plain": [
       "array([ 1.,  2.,  0.,  0.,  0.], dtype=float32)"
      ]
     },
     "execution_count": 41,
     "metadata": {},
     "output_type": "execute_result"
    }
   ],
   "source": [
    "(u * v).eval()"
   ]
  },
  {
   "cell_type": "code",
   "execution_count": 42,
   "metadata": {
    "collapsed": false
   },
   "outputs": [
    {
     "name": "stdout",
     "output_type": "stream",
     "text": [
      "Help on function select in module tensorflow.python.ops.gen_math_ops:\n",
      "\n",
      "select(condition, t, e, name=None)\n",
      "    Selects elements from `t` or `e`, depending on `condition`.\n",
      "    \n",
      "    The `t`, and `e` tensors must all have the same shape,\n",
      "    and the output will also have that shape.  The `condition` tensor\n",
      "    must be a scalar if `t` and `e` are scalars.  If `t` and `e` are vectors\n",
      "    or higher rank, then `condition` must be either a vector with size\n",
      "    matching the first dimension of `t`, or must have the same shape as `t`.\n",
      "    \n",
      "    The `condition` tensor acts as a mask that chooses, based on the value at each\n",
      "    element, whether the corresponding element / row in the output should be\n",
      "    taken from `t` (if true) or `e` (if false).\n",
      "    \n",
      "    If `condition` is a vector and `t` and `e` are higher rank matrices, then\n",
      "    it chooses which row (outer dimension) to copy from `t` and `e`.\n",
      "    If `condition` has the same shape as `t` and `e`, then it chooses which\n",
      "    element to copy from `t` and `e`.\n",
      "    \n",
      "    For example:\n",
      "    \n",
      "    ```prettyprint\n",
      "    # 'condition' tensor is [[True,  False]\n",
      "    #                        [False, True]]\n",
      "    # 't' is [[1, 2],\n",
      "    #         [3, 4]]\n",
      "    # 'e' is [[5, 6],\n",
      "    #         [7, 8]]\n",
      "    select(condition, t, e) ==> [[1, 6],\n",
      "                                 [7, 4]]\n",
      "    \n",
      "    \n",
      "    # 'condition' tensor is [True, False]\n",
      "    # 't' is [[1, 2],\n",
      "    #         [3, 4]]\n",
      "    # 'e' is [[5, 6],\n",
      "    #         [7, 8]]\n",
      "    select(condition, t, e) ==> [[1, 2],\n",
      "                                 [7, 8]]\n",
      "    \n",
      "    ```\n",
      "    \n",
      "    Args:\n",
      "      condition: A `Tensor` of type `bool`.\n",
      "      t:  A `Tensor` which may have the same shape as `condition`.\n",
      "        If `condition` is rank 1, `t` may have higher rank,\n",
      "        but its first dimension must match the size of `condition`.\n",
      "      e:  A `Tensor` with the same type and shape as `t`.\n",
      "      name: A name for the operation (optional).\n",
      "    \n",
      "    Returns:\n",
      "      A `Tensor` with the same type and shape as `t` and `e`.\n",
      "\n"
     ]
    }
   ],
   "source": [
    "help(tf.select)"
   ]
  },
  {
   "cell_type": "code",
   "execution_count": 46,
   "metadata": {
    "collapsed": false
   },
   "outputs": [
    {
     "name": "stdout",
     "output_type": "stream",
     "text": [
      "Help on function sequence_loss_by_example in module tensorflow.python.ops.seq2seq:\n",
      "\n",
      "sequence_loss_by_example(logits, targets, weights, average_across_timesteps=True, softmax_loss_function=None, name=None)\n",
      "    Weighted cross-entropy loss for a sequence of logits (per example).\n",
      "    \n",
      "    Args:\n",
      "      logits: List of 2D Tensors of shape [batch_size x num_decoder_symbols].\n",
      "      targets: List of 1D batch-sized int32 Tensors of the same length as logits.\n",
      "      weights: List of 1D batch-sized float-Tensors of the same length as logits.\n",
      "      average_across_timesteps: If set, divide the returned cost by the total\n",
      "        label weight.\n",
      "      softmax_loss_function: Function (inputs-batch, labels-batch) -> loss-batch\n",
      "        to be used instead of the standard softmax (the default if this is None).\n",
      "      name: Optional name for this operation, default: \"sequence_loss_by_example\".\n",
      "    \n",
      "    Returns:\n",
      "      1D batch-sized float Tensor: The log-perplexity for each sequence.\n",
      "    \n",
      "    Raises:\n",
      "      ValueError: If len(logits) is different from len(targets) or len(weights).\n",
      "\n"
     ]
    }
   ],
   "source": [
    "help(tf.nn.seq2seq.sequence_loss_by_example)"
   ]
  },
  {
   "cell_type": "code",
   "execution_count": 50,
   "metadata": {
    "collapsed": false
   },
   "outputs": [
    {
     "name": "stdout",
     "output_type": "stream",
     "text": [
      "Help on function squeeze in module tensorflow.python.ops.gen_array_ops:\n",
      "\n",
      "squeeze(input, squeeze_dims=None, name=None)\n",
      "    Removes dimensions of size 1 from the shape of a tensor.\n",
      "    \n",
      "    Given a tensor `input`, this operation returns a tensor of the same type with\n",
      "    all dimensions of size 1 removed. If you don't want to remove all size 1\n",
      "    dimensions, you can remove specific size 1 dimensions by specifying\n",
      "    `squeeze_dims`.\n",
      "    \n",
      "    For example:\n",
      "    \n",
      "    ```prettyprint\n",
      "    # 't' is a tensor of shape [1, 2, 1, 3, 1, 1]\n",
      "    shape(squeeze(t)) ==> [2, 3]\n",
      "    ```\n",
      "    \n",
      "    Or, to remove specific size 1 dimensions:\n",
      "    \n",
      "    ```prettyprint\n",
      "    # 't' is a tensor of shape [1, 2, 1, 3, 1, 1]\n",
      "    shape(squeeze(t, [2, 4])) ==> [1, 2, 3, 1]\n",
      "    ```\n",
      "    \n",
      "    Args:\n",
      "      input: A `Tensor`. The `input` to squeeze.\n",
      "      squeeze_dims: An optional list of `ints`. Defaults to `[]`.\n",
      "        If specified, only squeezes the dimensions listed. The dimension\n",
      "        index starts at 0. It is an error to squeeze a dimension that is not 1.\n",
      "      name: A name for the operation (optional).\n",
      "    \n",
      "    Returns:\n",
      "      A `Tensor`. Has the same type as `input`.\n",
      "      Contains the same data as `input`, but has one or more dimensions of\n",
      "      size 1 removed.\n",
      "\n"
     ]
    }
   ],
   "source": [
    "help(tf.squeeze)"
   ]
  },
  {
   "cell_type": "code",
   "execution_count": 54,
   "metadata": {
    "collapsed": false
   },
   "outputs": [
    {
     "data": {
      "text/plain": [
       "(2, 5)"
      ]
     },
     "execution_count": 54,
     "metadata": {},
     "output_type": "execute_result"
    }
   ],
   "source": [
    "x.eval().shape"
   ]
  },
  {
   "cell_type": "code",
   "execution_count": 57,
   "metadata": {
    "collapsed": false
   },
   "outputs": [
    {
     "data": {
      "text/plain": [
       "array([ 0.,  0.], dtype=float32)"
      ]
     },
     "execution_count": 57,
     "metadata": {},
     "output_type": "execute_result"
    }
   ],
   "source": [
    "tf.zeros([tf.shape(x)[0]]).eval()"
   ]
  },
  {
   "cell_type": "code",
   "execution_count": 58,
   "metadata": {
    "collapsed": false
   },
   "outputs": [
    {
     "name": "stdout",
     "output_type": "stream",
     "text": [
      "Help on function zeros in module tensorflow.python.ops.array_ops:\n",
      "\n",
      "zeros(shape, dtype=tf.float32, name=None)\n",
      "    Creates a tensor with all elements set to zero.\n",
      "    \n",
      "    This operation returns a tensor of type `dtype` with shape `shape` and\n",
      "    all elements set to zero.\n",
      "    \n",
      "    For example:\n",
      "    \n",
      "    ```python\n",
      "    tf.zeros([3, 4], int32) ==> [[0, 0, 0, 0], [0, 0, 0, 0], [0, 0, 0, 0]]\n",
      "    ```\n",
      "    \n",
      "    Args:\n",
      "      shape: Either a list of integers, or a 1-D `Tensor` of type `int32`.\n",
      "      dtype: The type of an element in the resulting `Tensor`.\n",
      "      name: A name for the operation (optional).\n",
      "    \n",
      "    Returns:\n",
      "      A `Tensor` with all elements set to zero.\n",
      "\n"
     ]
    }
   ],
   "source": [
    "help(tf.zeros)"
   ]
  },
  {
   "cell_type": "code",
   "execution_count": null,
   "metadata": {
    "collapsed": true
   },
   "outputs": [],
   "source": []
  }
 ],
 "metadata": {
  "kernelspec": {
   "display_name": "Python 2",
   "language": "python",
   "name": "python2"
  },
  "language_info": {
   "codemirror_mode": {
    "name": "ipython",
    "version": 2
   },
   "file_extension": ".py",
   "mimetype": "text/x-python",
   "name": "python",
   "nbconvert_exporter": "python",
   "pygments_lexer": "ipython2",
   "version": "2.7.5"
  }
 },
 "nbformat": 4,
 "nbformat_minor": 0
}
