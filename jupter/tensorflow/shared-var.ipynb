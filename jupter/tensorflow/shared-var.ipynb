{
 "cells": [
  {
   "cell_type": "code",
   "execution_count": 1,
   "metadata": {
    "collapsed": true
   },
   "outputs": [],
   "source": [
    "import tensorflow as tf\n",
    "sess = tf.InteractiveSession()\n"
   ]
  },
  {
   "cell_type": "code",
   "execution_count": 2,
   "metadata": {
    "collapsed": false
   },
   "outputs": [
    {
     "name": "stderr",
     "output_type": "stream",
     "text": [
      "tensorflow_version: 0.12.0-rc0\n"
     ]
    }
   ],
   "source": [
    "import melt"
   ]
  },
  {
   "cell_type": "code",
   "execution_count": 3,
   "metadata": {
    "collapsed": false
   },
   "outputs": [
    {
     "name": "stdout",
     "output_type": "stream",
     "text": [
      "(<tensorflow.python.ops.variables.Variable object at 0x7e7a650>, <tensorflow.python.ops.variables.Variable object at 0x7e7aa90>)\n",
      "(u'foo/v:0', u'foo/w:0')\n",
      "(<tensorflow.python.ops.variables.Variable object at 0x7e7a650>, <tensorflow.python.ops.variables.Variable object at 0x7e7aa90>)\n",
      "(u'foo/v:0', u'foo/w:0')\n"
     ]
    }
   ],
   "source": [
    "with tf.variable_scope('foo') as foo_scope:\n",
    "    v = tf.get_variable('v', [1])\n",
    "with tf.variable_scope(foo_scope):\n",
    "    w = tf.get_variable('w', [1])\n",
    "\n",
    "#melt.reuse_variables()\n",
    "with tf.variable_scope(foo_scope, reuse=True):\n",
    "    v1 = tf.get_variable('v', [1])\n",
    "    w1 = tf.get_variable('w', [1])\n",
    "assert v1 is v\n",
    "assert w1 is w\n",
    "print(v, w)\n",
    "print(v.name, w.name)\n",
    "print(v1, w1)\n",
    "print(v1.name, w1.name)"
   ]
  },
  {
   "cell_type": "code",
   "execution_count": 4,
   "metadata": {
    "collapsed": false
   },
   "outputs": [
    {
     "data": {
      "text/plain": [
       "<tensorflow.python.ops.variables.Variable at 0x7e7a650>"
      ]
     },
     "execution_count": 4,
     "metadata": {},
     "output_type": "execute_result"
    }
   ],
   "source": [
    "v"
   ]
  },
  {
   "cell_type": "code",
   "execution_count": 5,
   "metadata": {
    "collapsed": true
   },
   "outputs": [],
   "source": [
    "def conv_relu(input, kernel_shape, bias_shape):\n",
    "    # Create variable named \"weights\".\n",
    "    weights = tf.get_variable(\"weights\", kernel_shape,\n",
    "        initializer=tf.random_normal_initializer())\n",
    "    print('weights', weights, weights.name)\n",
    "    # Create variable named \"biases\".\n",
    "    biases = tf.get_variable(\"biases\", bias_shape,\n",
    "        initializer=tf.constant_initializer(0.0))\n",
    "    conv = tf.nn.conv2d(input, weights,\n",
    "        strides=[1, 1, 1, 1], padding='SAME')\n",
    "    return tf.nn.relu(conv + biases)\n",
    "\n",
    "def my_image_filter(input_images):\n",
    "    with tf.variable_scope(\"conv1\"):\n",
    "        # Variables created here will be named \"conv1/weights\", \"conv1/biases\".\n",
    "        relu1 = conv_relu(input_images, [5, 5, 32, 32], [32])\n",
    "    with tf.variable_scope(\"conv2\"):\n",
    "        # Variables created here will be named \"conv2/weights\", \"conv2/biases\".\n",
    "        return conv_relu(relu1, [5, 5, 32, 32], [32])"
   ]
  },
  {
   "cell_type": "code",
   "execution_count": 6,
   "metadata": {
    "collapsed": false
   },
   "outputs": [
    {
     "name": "stdout",
     "output_type": "stream",
     "text": [
      "('weights', <tensorflow.python.ops.variables.Variable object at 0x7f19e50>, u'image_filters/conv1/weights:0')\n",
      "('weights', <tensorflow.python.ops.variables.Variable object at 0x7f31c90>, u'image_filters/conv2/weights:0')\n",
      "('weights', <tensorflow.python.ops.variables.Variable object at 0x7f19e50>, u'image_filters/conv1/weights:0')\n",
      "('weights', <tensorflow.python.ops.variables.Variable object at 0x7f31c90>, u'image_filters/conv2/weights:0')\n"
     ]
    }
   ],
   "source": [
    "image1 = tf.constant(0.5, shape=[1, 100, 100, 32])\n",
    "image2 = tf.constant(0.6, shape=[1, 100, 100, 32])\n",
    "with tf.variable_scope(\"image_filters\") as scope:\n",
    "    result1 = my_image_filter(image1)\n",
    "    scope.reuse_variables()\n",
    "    result2 = my_image_filter(image2)"
   ]
  },
  {
   "cell_type": "code",
   "execution_count": null,
   "metadata": {
    "collapsed": false
   },
   "outputs": [],
   "source": []
  },
  {
   "cell_type": "code",
   "execution_count": null,
   "metadata": {
    "collapsed": true
   },
   "outputs": [],
   "source": []
  },
  {
   "cell_type": "code",
   "execution_count": 7,
   "metadata": {
    "collapsed": true
   },
   "outputs": [],
   "source": [
    "from tensorflow.python.ops import variable_scope\n",
    "def abc():\n",
    "    scope = None\n",
    "    with variable_scope.variable_scope(\n",
    "          scope or \"attention_decoder\", dtype=tf.float32) as scope:\n",
    "        #x = tf.constant(0.5, shape=[1, 100, 100, 32])\n",
    "        print('scope', scope, scope.name)\n",
    "        x = melt.get_weights('abc', [1,3])\n",
    "        print(x, x.name)"
   ]
  },
  {
   "cell_type": "code",
   "execution_count": 8,
   "metadata": {
    "collapsed": false
   },
   "outputs": [
    {
     "name": "stdout",
     "output_type": "stream",
     "text": [
      "('scope', <tensorflow.python.ops.variable_scope.VariableScope object at 0x7f49a10>, 'attention_decoder')\n",
      "(<tensorflow.python.ops.variables.Variable object at 0x7e78910>, u'attention_decoder/abc:0')\n"
     ]
    }
   ],
   "source": [
    "abc()"
   ]
  },
  {
   "cell_type": "code",
   "execution_count": 9,
   "metadata": {
    "collapsed": false
   },
   "outputs": [
    {
     "name": "stdout",
     "output_type": "stream",
     "text": [
      "('scope', <tensorflow.python.ops.variable_scope.VariableScope object at 0x7f19850>, 'attention_decoder')\n",
      "(<tensorflow.python.ops.variables.Variable object at 0x7e78910>, u'attention_decoder/abc:0')\n"
     ]
    }
   ],
   "source": [
    "melt.reuse_variables()\n",
    "abc()"
   ]
  },
  {
   "cell_type": "code",
   "execution_count": 10,
   "metadata": {
    "collapsed": false
   },
   "outputs": [
    {
     "name": "stdout",
     "output_type": "stream",
     "text": [
      "('scope', <tensorflow.python.ops.variable_scope.VariableScope object at 0x7f19050>, 'attention_decoder')\n",
      "(<tensorflow.python.ops.variables.Variable object at 0x7e78910>, u'attention_decoder/abc:0')\n"
     ]
    }
   ],
   "source": [
    "abc()"
   ]
  },
  {
   "cell_type": "code",
   "execution_count": null,
   "metadata": {
    "collapsed": true
   },
   "outputs": [],
   "source": []
  }
 ],
 "metadata": {
  "kernelspec": {
   "display_name": "Python 2",
   "language": "python",
   "name": "python2"
  },
  "language_info": {
   "codemirror_mode": {
    "name": "ipython",
    "version": 2
   },
   "file_extension": ".py",
   "mimetype": "text/x-python",
   "name": "python",
   "nbconvert_exporter": "python",
   "pygments_lexer": "ipython2",
   "version": "2.7.5"
  }
 },
 "nbformat": 4,
 "nbformat_minor": 0
}
