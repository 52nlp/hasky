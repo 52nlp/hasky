{
 "cells": [
  {
   "cell_type": "code",
   "execution_count": 4,
   "metadata": {
    "collapsed": false
   },
   "outputs": [
    {
     "name": "stdout",
     "output_type": "stream",
     "text": [
      "(4, 7)\n",
      "[[ 0.  0.  0.  0.  0.  0.  0.]\n",
      " [ 0.  0.  0.  0.  0.  0.  0.]\n",
      " [ 0.  0.  0.  0.  0.  0.  0.]\n",
      " [ 0.  0.  0.  0.  0.  0.  0.]]\n"
     ]
    }
   ],
   "source": [
    "import tensorflow as tf\n",
    "import numpy as np\n",
    "x = tf.placeholder(tf.float32, shape=[None, 4])\n",
    "\n",
    "# Use tf.shape() to get the runtime size of `x` in the 0th dimension.\n",
    "zeros_dims = tf.pack([tf.shape(x)[0], 7])\n",
    "\n",
    "y = tf.fill(zeros_dims, 0.0)\n",
    "\n",
    "sess = tf.Session()\n",
    "y_result = sess.run(y, feed_dict={x: np.random.rand(4, 4)})\n",
    "print y_result.shape\n",
    "\n",
    "print y_result\n",
    "# ==> (4, 7)"
   ]
  },
  {
   "cell_type": "code",
   "execution_count": 7,
   "metadata": {
    "collapsed": false
   },
   "outputs": [
    {
     "name": "stdout",
     "output_type": "stream",
     "text": [
      "(4, 7)\n",
      "[[ 0.  0.  0.  0.  0.  0.  0.]\n",
      " [ 0.  0.  0.  0.  0.  0.  0.]\n",
      " [ 0.  0.  0.  0.  0.  0.  0.]\n",
      " [ 0.  0.  0.  0.  0.  0.  0.]]\n"
     ]
    }
   ],
   "source": [
    "import tensorflow as tf\n",
    "import numpy as np\n",
    "x = tf.placeholder(tf.float32, shape=[None, 4])\n",
    "\n",
    "# Use tf.shape() to get the runtime size of `x` in the 0th dimension.\n",
    "zeros_dims = tf.pack([tf.shape(x)[0], 7])\n",
    "batch_size = tf.shape(x)[0]\n",
    "\n",
    "y = tf.zeros([batch_size, 7])\n",
    "#y = tf.zeros(zeros_dims)\n",
    "\n",
    "sess = tf.Session()\n",
    "y_result = sess.run(y, feed_dict={x: np.random.rand(4, 4)})\n",
    "print y_result.shape\n",
    "\n",
    "print y_result"
   ]
  },
  {
   "cell_type": "code",
   "execution_count": null,
   "metadata": {
    "collapsed": true
   },
   "outputs": [],
   "source": []
  }
 ],
 "metadata": {
  "kernelspec": {
   "display_name": "Python 2",
   "language": "python",
   "name": "python2"
  },
  "language_info": {
   "codemirror_mode": {
    "name": "ipython",
    "version": 2
   },
   "file_extension": ".py",
   "mimetype": "text/x-python",
   "name": "python",
   "nbconvert_exporter": "python",
   "pygments_lexer": "ipython2",
   "version": "2.7.5"
  }
 },
 "nbformat": 4,
 "nbformat_minor": 0
}
