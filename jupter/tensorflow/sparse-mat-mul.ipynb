{
 "cells": [
  {
   "cell_type": "code",
   "execution_count": 1,
   "metadata": {
    "collapsed": false
   },
   "outputs": [
    {
     "name": "stdout",
     "output_type": "stream",
     "text": [
      "[[ 29.5]\n",
      " [ 28.5]]\n",
      "[[ 33.5]\n",
      " [ 28.5]]\n"
     ]
    }
   ],
   "source": [
    "import tensorflow as tf\n",
    "import numpy as np\n",
    "\n",
    "X = tf.placeholder(\"float\", [10, 1])\n",
    "x = np.array([[0], [1], [2], [3], [4], [5], [6], [7], [8], [9]], dtype=np.float32)\n",
    "\n",
    "sp_indices = tf.placeholder(tf.int64)\n",
    "sp_shape = tf.placeholder(tf.int64)\n",
    "sp_ids_val = tf.placeholder(tf.int64)\n",
    "sp_weights_val = tf.placeholder(tf.float32)\n",
    "sp_ids = tf.SparseTensor(sp_indices, sp_ids_val, sp_shape)\n",
    "sp_weights = tf.SparseTensor(sp_indices, sp_weights_val, sp_shape)\n",
    "y = tf.nn.embedding_lookup_sparse(X, sp_ids, sp_weights, combiner = \"sum\")\n",
    "\n",
    "sess = tf.Session()\n",
    "sess.run(tf.initialize_all_variables())\n",
    "\n",
    "y_values = sess.run(y, feed_dict={\n",
    "  X: x,\n",
    "  sp_indices: [[0, 0], [0, 1], [0, 2], [1, 0], [1, 1]],  # 3 entries in minibatch entry 0, 2 entries in entry 1.\n",
    "  sp_shape: [2, 3],  # batch size: 2, max index: 2 (so index count == 3)\n",
    "  sp_ids_val: [2, 5, 8, 3, 4],\n",
    "  sp_weights_val: [1.0, 1.5, 2.5, 3.5, 4.5]\n",
    "  })\n",
    "\n",
    "print y_values\n",
    "\n",
    "#0 should be\n",
    "# 2 * 1 + 5 * 1.5 + 8 * 2.5  = 29.5\n",
    "\n",
    "y_values = sess.run(y, feed_dict={\n",
    "  X: x,\n",
    "  sp_indices: [[0, 0], [0, 1], [0, 2], [1, 0], [1, 1]],  # 3 entries in minibatch entry 0, 2 entries in entry 1.\n",
    "  sp_shape: [2, 3],  # batch size: 2, max index: 2 (so index count == 3)\n",
    "  sp_ids_val: [2, 5, 8, 3, 4],\n",
    "  sp_weights_val: [3.0, 1.5, 2.5, 3.5, 4.5]\n",
    "  })\n",
    "\n",
    "print y_values\n"
   ]
  },
  {
   "cell_type": "code",
   "execution_count": 2,
   "metadata": {
    "collapsed": true
   },
   "outputs": [],
   "source": [
    "import numpy as np"
   ]
  },
  {
   "cell_type": "code",
   "execution_count": 5,
   "metadata": {
    "collapsed": false
   },
   "outputs": [
    {
     "data": {
      "text/plain": [
       "'\\x01\\x00\\x00\\x00\\x00\\x00\\x00\\x00\\x02\\x00\\x00\\x00\\x00\\x00\\x00\\x00\\x03\\x00\\x00\\x00\\x00\\x00\\x00\\x00'"
      ]
     },
     "execution_count": 5,
     "metadata": {},
     "output_type": "execute_result"
    }
   ],
   "source": [
    "np.array([1,2,3]).tostring()"
   ]
  },
  {
   "cell_type": "code",
   "execution_count": 6,
   "metadata": {
    "collapsed": false
   },
   "outputs": [
    {
     "name": "stdout",
     "output_type": "stream",
     "text": [
      "Help on function hstack in module numpy.core.shape_base:\n",
      "\n",
      "hstack(tup)\n",
      "    Stack arrays in sequence horizontally (column wise).\n",
      "    \n",
      "    Take a sequence of arrays and stack them horizontally to make\n",
      "    a single array. Rebuild arrays divided by `hsplit`.\n",
      "    \n",
      "    Parameters\n",
      "    ----------\n",
      "    tup : sequence of ndarrays\n",
      "        All arrays must have the same shape along all but the second axis.\n",
      "    \n",
      "    Returns\n",
      "    -------\n",
      "    stacked : ndarray\n",
      "        The array formed by stacking the given arrays.\n",
      "    \n",
      "    See Also\n",
      "    --------\n",
      "    stack : Join a sequence of arrays along a new axis.\n",
      "    vstack : Stack arrays in sequence vertically (row wise).\n",
      "    dstack : Stack arrays in sequence depth wise (along third axis).\n",
      "    concatenate : Join a sequence of arrays along an existing axis.\n",
      "    hsplit : Split array along second axis.\n",
      "    \n",
      "    Notes\n",
      "    -----\n",
      "    Equivalent to ``np.concatenate(tup, axis=1)``\n",
      "    \n",
      "    Examples\n",
      "    --------\n",
      "    >>> a = np.array((1,2,3))\n",
      "    >>> b = np.array((2,3,4))\n",
      "    >>> np.hstack((a,b))\n",
      "    array([1, 2, 3, 2, 3, 4])\n",
      "    >>> a = np.array([[1],[2],[3]])\n",
      "    >>> b = np.array([[2],[3],[4]])\n",
      "    >>> np.hstack((a,b))\n",
      "    array([[1, 2],\n",
      "           [2, 3],\n",
      "           [3, 4]])\n",
      "\n"
     ]
    }
   ],
   "source": [
    "help(np.hstack)"
   ]
  },
  {
   "cell_type": "code",
   "execution_count": null,
   "metadata": {
    "collapsed": true
   },
   "outputs": [],
   "source": []
  }
 ],
 "metadata": {
  "kernelspec": {
   "display_name": "Python 2",
   "language": "python",
   "name": "python2"
  },
  "language_info": {
   "codemirror_mode": {
    "name": "ipython",
    "version": 2
   },
   "file_extension": ".py",
   "mimetype": "text/x-python",
   "name": "python",
   "nbconvert_exporter": "python",
   "pygments_lexer": "ipython2",
   "version": "2.7.5"
  }
 },
 "nbformat": 4,
 "nbformat_minor": 0
}
