{
 "cells": [
  {
   "cell_type": "code",
   "execution_count": 1,
   "metadata": {
    "collapsed": true
   },
   "outputs": [],
   "source": [
    "import tensorflow as tf\n",
    "sess = tf.InteractiveSession()"
   ]
  },
  {
   "cell_type": "code",
   "execution_count": 2,
   "metadata": {
    "collapsed": true
   },
   "outputs": [],
   "source": [
    "def get_all_variables_from_top_scope(tf, scope):\n",
    "    #scope is a top scope here, otherwise change startswith part\n",
    "    return [v for v in tf.all_variables() if v.name.startswith(scope.name)]\n",
    "\n",
    "def create_model(tf, param1, param2):\n",
    "    w = tf.get_variable('W', shape=[1], initializer=tf.constant_initializer(param1))\n",
    "    b = tf.get_variable('b', shape=[1], initializer=tf.constant_initializer(param2))\n",
    "    y = tf.mul(w, b, name='mul_op')#no need to save this\n",
    "    return y"
   ]
  },
  {
   "cell_type": "code",
   "execution_count": 3,
   "metadata": {
    "collapsed": false
   },
   "outputs": [
    {
     "name": "stdout",
     "output_type": "stream",
     "text": [
      "[u'scope2/W:0', u'scope2/b:0']\n",
      "/tmp/scope2\n",
      "[u'scope2/W:0', u'scope2/b:0']\n",
      "[ 15.]\n",
      "[u'scope1/W:0', u'scope1/b:0']\n",
      "/tmp/scope1\n",
      "[u'scope2/W:0', u'scope2/b:0', u'scope1/W:0', u'scope1/b:0']\n",
      "[ 72.]\n",
      "[ 15.]\n",
      "[ 72.]\n"
     ]
    }
   ],
   "source": [
    "import tensorflow as tf\n",
    "import melt\n",
    "\n",
    "OLD_SCOPE_NAME = 'scope1'\n",
    "NEW_SCOPE_NAME = 'scope2'\n",
    "\n",
    "sess = tf.Session()\n",
    "m = {}\n",
    "with tf.variable_scope(NEW_SCOPE_NAME, reuse=None) as topscope:\n",
    "#with tf.variable_scope(OLD_SCOPE_NAME) as topscope:\n",
    "    model = create_model(tf, 6.0, 7.0)\n",
    "    sc_vars = get_all_variables_from_top_scope(tf, topscope)\n",
    "\n",
    "    print([v.name for v in sc_vars])\n",
    "\n",
    "    #well here is also a must if you want to laod anoter one\n",
    "    tf.train.Saver(sc_vars).restore(sess, '/tmp/%s'%NEW_SCOPE_NAME)\n",
    "    #saver = tf.train.Saver(sc_vars)\n",
    "    saver = tf.train.Saver()\n",
    "    print('/tmp/%s'%NEW_SCOPE_NAME)\n",
    "    saver.restore(sess, '/tmp/%s'%NEW_SCOPE_NAME)\n",
    "    print([v.name for v in tf.all_variables()])\n",
    "    print(sess.run(model))\n",
    "    m['model1'] = model\n",
    "\n",
    "with tf.variable_scope(OLD_SCOPE_NAME, reuse=None) as topscope:\n",
    "    model = create_model(tf, 6.0, 7.0)\n",
    "    sc_vars = get_all_variables_from_top_scope(tf, topscope)\n",
    "\n",
    "    print([v.name for v in sc_vars])\n",
    "\n",
    "    #well here is also a must if you want to laod anoter one\n",
    "    tf.train.Saver(sc_vars).restore(sess, '/tmp/%s'%OLD_SCOPE_NAME)\n",
    "    print('/tmp/%s'%OLD_SCOPE_NAME)\n",
    "    print([v.name for v in tf.all_variables()])\n",
    "    print(sess.run(model))\n",
    "    m['model2'] = model\n",
    "    \n",
    "print(sess.run(m['model1']))\n",
    "print(sess.run(m['model2']))"
   ]
  },
  {
   "cell_type": "code",
   "execution_count": null,
   "metadata": {
    "collapsed": true
   },
   "outputs": [],
   "source": []
  }
 ],
 "metadata": {
  "kernelspec": {
   "display_name": "Python 2",
   "language": "python",
   "name": "python2"
  },
  "language_info": {
   "codemirror_mode": {
    "name": "ipython",
    "version": 2
   },
   "file_extension": ".py",
   "mimetype": "text/x-python",
   "name": "python",
   "nbconvert_exporter": "python",
   "pygments_lexer": "ipython2",
   "version": "2.7.5"
  }
 },
 "nbformat": 4,
 "nbformat_minor": 0
}
