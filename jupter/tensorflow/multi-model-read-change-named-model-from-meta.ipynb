{
 "cells": [
  {
   "cell_type": "code",
   "execution_count": 1,
   "metadata": {
    "collapsed": true
   },
   "outputs": [],
   "source": [
    "import tensorflow as tf\n",
    "sess = tf.InteractiveSession()"
   ]
  },
  {
   "cell_type": "code",
   "execution_count": 2,
   "metadata": {
    "collapsed": false
   },
   "outputs": [],
   "source": [
    "import tensorflow as tf\n",
    "import melt\n",
    "\n",
    "OLD_SCOPE_NAME = 'scope1'\n",
    "NEW_SCOPE_NAME = 'scope2'\n",
    "\n",
    "sess = tf.Session()\n",
    "\n",
    "#with tf.variable_scope(OLD_SCOPE_NAME) as topscope:\n",
    "#    model = create_model(tf, 6.0, 7.0)\n",
    "#    sc_vars = get_all_variables_from_top_scope(tf, topscope)\n",
    "\n",
    "#print([v.name for v in sc_vars])\n",
    "\n",
    "#well here is also a must if you want to laod anoter one\n",
    "#tf.train.Saver(sc_vars).restore(sess, '/tmp/%s'%OLD_SCOPE_NAME)\n",
    "#saver = tf.train.Saver(sc_vars)\n",
    "#saver.restore(sess, '/tmp/%s'%OLD_SCOPE_NAME)"
   ]
  },
  {
   "cell_type": "code",
   "execution_count": 3,
   "metadata": {
    "collapsed": false
   },
   "outputs": [
    {
     "name": "stdout",
     "output_type": "stream",
     "text": [
      "/tmp/scope2\n",
      "[u'scope1/W:0', u'scope1/b:0']\n",
      "[<tensorflow.python.ops.variables.Variable object at 0x6693c50>, <tensorflow.python.ops.variables.Variable object at 0x6698d50>]\n",
      "[u'scope1/W:0', u'scope1/b:0']\n",
      "[ 15.]\n",
      "/tmp/scope1\n",
      "[u'scope1/W:0', u'scope1/b:0', u'scope1/W:0', u'scope1/b:0']\n",
      "[<tensorflow.python.ops.variables.Variable object at 0x6693c50>, <tensorflow.python.ops.variables.Variable object at 0x6698d50>, <tensorflow.python.ops.variables.Variable object at 0x674f650>, <tensorflow.python.ops.variables.Variable object at 0x674f350>]\n",
      "[u'scope1/W:0', u'scope1/b:0', u'scope1/W:0', u'scope1/b:0']\n",
      "[ 72.]\n",
      "[ 72.]\n"
     ]
    }
   ],
   "source": [
    "new_saver = tf.train.import_meta_graph('/tmp/%s.meta'%NEW_SCOPE_NAME)\n",
    "\n",
    "print('/tmp/%s'%NEW_SCOPE_NAME)\n",
    "new_saver.restore(sess, '/tmp/%s'%NEW_SCOPE_NAME)\n",
    "print([v.name for v in tf.all_variables()])\n",
    "#print(sess.run(model))\n",
    "\n",
    "#new_saver.restore(sess, '/tmp/%s'%NEW_SCOPE_NAME)\n",
    "#saver.restore(sess, '/tmp/%s'%NEW_SCOPE_NAME)\n",
    "#print(sess.run(model))\n",
    "print(tf.all_variables())\n",
    "print([v.name for v in tf.all_variables()])\n",
    "model1 = tf.get_collection('model')[0]\n",
    "print(sess.run(model1))\n",
    "\n",
    "new_saver = tf.train.import_meta_graph('/tmp/%s.meta'%OLD_SCOPE_NAME)\n",
    "print('/tmp/%s'%OLD_SCOPE_NAME)\n",
    "new_saver.restore(sess, '/tmp/%s'%OLD_SCOPE_NAME)\n",
    "print([v.name for v in tf.all_variables()])\n",
    "#print(sess.run(model))\n",
    "\n",
    "#new_saver.restore(sess, '/tmp/%s'%NEW_SCOPE_NAME)\n",
    "#saver.restore(sess, '/tmp/%s'%NEW_SCOPE_NAME)\n",
    "#print(sess.run(model))\n",
    "print(tf.all_variables())\n",
    "print([v.name for v in tf.all_variables()])\n",
    "model2 = tf.get_collection('model')[0]\n",
    "print(sess.run(model2))\n",
    "print(sess.run(model1))\n"
   ]
  },
  {
   "cell_type": "code",
   "execution_count": null,
   "metadata": {
    "collapsed": true
   },
   "outputs": [],
   "source": [
    "#still has bug if you reload using import_meta_graph but anyway, this is not very important"
   ]
  }
 ],
 "metadata": {
  "kernelspec": {
   "display_name": "Python 2",
   "language": "python",
   "name": "python2"
  },
  "language_info": {
   "codemirror_mode": {
    "name": "ipython",
    "version": 2
   },
   "file_extension": ".py",
   "mimetype": "text/x-python",
   "name": "python",
   "nbconvert_exporter": "python",
   "pygments_lexer": "ipython2",
   "version": "2.7.5"
  }
 },
 "nbformat": 4,
 "nbformat_minor": 0
}
