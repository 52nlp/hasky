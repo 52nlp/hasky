{
 "cells": [
  {
   "cell_type": "code",
   "execution_count": 1,
   "metadata": {
    "collapsed": false
   },
   "outputs": [
    {
     "data": {
      "text/plain": [
       "array([[0],\n",
       "       [1],\n",
       "       [3],\n",
       "       [2]])"
      ]
     },
     "execution_count": 1,
     "metadata": {},
     "output_type": "execute_result"
    }
   ],
   "source": [
    "import tensorflow as tf\n",
    "sess = tf.InteractiveSession()\n",
    "x = tf.constant([[1., 2., 3., 4.],\n",
    "                 [4., 5., 6., 7.],\n",
    "                [8., 9., 10., 11.],\n",
    "                [12.,13.,14.,15.],\n",
    "                [1., 1., 1., 1.]])\n",
    "\n",
    "labels_matrix = tf.constant([0, 1, 3, 2], dtype = tf.int64)\n",
    "labels_matrix = tf.reshape(labels_matrix, [4, 1])\n",
    "labels_matrix.eval()"
   ]
  },
  {
   "cell_type": "code",
   "execution_count": 2,
   "metadata": {
    "collapsed": false
   },
   "outputs": [],
   "source": [
    "sampled_ids, a, b =  tf.nn.uniform_candidate_sampler(true_classes=labels_matrix, num_true=1, num_sampled=2, unique=True, range_max=5)"
   ]
  },
  {
   "cell_type": "code",
   "execution_count": 4,
   "metadata": {
    "collapsed": false
   },
   "outputs": [
    {
     "name": "stdout",
     "output_type": "stream",
     "text": [
      "[3 4]\n",
      "[[ 0.48800001]\n",
      " [ 0.48800001]\n",
      " [ 0.48800001]\n",
      " [ 0.48800001]]\n",
      "[ 0.40000001  0.40000001]\n"
     ]
    }
   ],
   "source": [
    "print sampled_ids.eval()\n",
    "print a.eval()\n",
    "print b.eval()"
   ]
  },
  {
   "cell_type": "code",
   "execution_count": null,
   "metadata": {
    "collapsed": true
   },
   "outputs": [],
   "source": []
  },
  {
   "cell_type": "code",
   "execution_count": null,
   "metadata": {
    "collapsed": true
   },
   "outputs": [],
   "source": []
  },
  {
   "cell_type": "code",
   "execution_count": null,
   "metadata": {
    "collapsed": true
   },
   "outputs": [],
   "source": []
  }
 ],
 "metadata": {
  "kernelspec": {
   "display_name": "Python 2",
   "language": "python",
   "name": "python2"
  },
  "language_info": {
   "codemirror_mode": {
    "name": "ipython",
    "version": 2
   },
   "file_extension": ".py",
   "mimetype": "text/x-python",
   "name": "python",
   "nbconvert_exporter": "python",
   "pygments_lexer": "ipython2",
   "version": "2.7.5"
  }
 },
 "nbformat": 4,
 "nbformat_minor": 0
}
