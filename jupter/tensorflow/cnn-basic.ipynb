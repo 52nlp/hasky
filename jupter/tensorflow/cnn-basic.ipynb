{
 "cells": [
  {
   "cell_type": "code",
   "execution_count": 1,
   "metadata": {
    "collapsed": false
   },
   "outputs": [],
   "source": [
    "import tensorflow as tf\n",
    "sess = tf.InteractiveSession()"
   ]
  },
  {
   "cell_type": "code",
   "execution_count": 2,
   "metadata": {
    "collapsed": false
   },
   "outputs": [
    {
     "name": "stdout",
     "output_type": "stream",
     "text": [
      "False\n",
      "False\n",
      "[[[[ 5.]\n",
      "   [ 6.]]]]\n",
      "(1, 1, 2, 1)\n",
      "[[[[ 5.]\n",
      "   [ 6.]\n",
      "   [ 6.]]\n",
      "\n",
      "  [[ 5.]\n",
      "   [ 6.]\n",
      "   [ 6.]]]]\n",
      "(1, 2, 3, 1)\n"
     ]
    }
   ],
   "source": [
    "x = tf.constant([[1., 2., 3.],\n",
    "                 [4., 5., 6.]])\n",
    "\n",
    "x = tf.reshape(x, [1, 2, 3, 1])  # give a shape accepted by tf.nn.max_pool\n",
    "\n",
    "valid_pad = tf.nn.max_pool(x, [1, 2, 2, 1], [1, 1, 1, 1], padding='VALID')\n",
    "same_pad = tf.nn.max_pool(x, [1, 2, 2, 1], [1, 1, 1, 1], padding='SAME')\n",
    "\n",
    "print valid_pad.get_shape() == [1, 1, 1, 1]  # valid_pad is [5.]\n",
    "print same_pad.get_shape() == [1, 1, 2, 1]   # same_pad is  [5., 6.]\n",
    "\n",
    "\n",
    "print valid_pad.eval()\n",
    "print valid_pad.eval().shape\n",
    "print same_pad.eval()\n",
    "print same_pad.eval().shape"
   ]
  },
  {
   "cell_type": "code",
   "execution_count": 3,
   "metadata": {
    "collapsed": false
   },
   "outputs": [
    {
     "name": "stdout",
     "output_type": "stream",
     "text": [
      "True\n",
      "True\n",
      "[[[[ 5.]]]]\n",
      "(1, 1, 1, 1)\n",
      "[[[[ 5.]\n",
      "   [ 6.]]]]\n",
      "(1, 1, 2, 1)\n"
     ]
    }
   ],
   "source": [
    "x = tf.constant([[1., 2., 3.],\n",
    "                 [4., 5., 6.]])\n",
    "\n",
    "x = tf.reshape(x, [1, 2, 3, 1])  # give a shape accepted by tf.nn.max_pool\n",
    "\n",
    "valid_pad = tf.nn.max_pool(x, [1, 2, 2, 1], [1, 2, 2, 1], padding='VALID')\n",
    "same_pad = tf.nn.max_pool(x, [1, 2, 2, 1], [1, 2, 2, 1], padding='SAME')\n",
    "\n",
    "print valid_pad.get_shape() == [1, 1, 1, 1]  # valid_pad is [5.]\n",
    "print same_pad.get_shape() == [1, 1, 2, 1]   # same_pad is  [5., 6.]\n",
    "\n",
    "\n",
    "print valid_pad.eval()\n",
    "print valid_pad.eval().shape\n",
    "print same_pad.eval()\n",
    "print same_pad.eval().shape"
   ]
  },
  {
   "cell_type": "code",
   "execution_count": 4,
   "metadata": {
    "collapsed": false
   },
   "outputs": [
    {
     "name": "stdout",
     "output_type": "stream",
     "text": [
      "(1, 2, 2, 1)\n",
      "(1, 2, 2, 1)\n",
      "[[[[  5.]\n",
      "   [  7.]]\n",
      "\n",
      "  [[ 13.]\n",
      "   [ 15.]]]]\n",
      "[[[[  5.]\n",
      "   [  7.]]\n",
      "\n",
      "  [[ 13.]\n",
      "   [ 15.]]]]\n"
     ]
    }
   ],
   "source": [
    "x = tf.constant([[1., 2., 3., 4.],\n",
    "                 [4., 5., 6., 7.],\n",
    "                [8., 9., 10., 11.],\n",
    "                [12.,13.,14.,15.]])\n",
    "\n",
    "x = tf.reshape(x, [1, 4, 4, 1])  # give a shape accepted by tf.nn.max_pool\n",
    "\n",
    "valid_pad = tf.nn.max_pool(x, [1, 2, 2, 1], [1, 2, 2, 1], padding='VALID')\n",
    "same_pad = tf.nn.max_pool(x, [1, 2, 2, 1], [1, 2, 2, 1], padding='SAME')\n",
    "\n",
    "print valid_pad.get_shape() # valid_pad is [5.]\n",
    "print same_pad.get_shape() # same_pad is  [5., 6.]\n",
    "\n",
    "#ess = tf.InteractiveSession()\n",
    "#ess.run(tf.initialize_all_variables())\n",
    "print valid_pad.eval()\n",
    "print same_pad.eval()"
   ]
  },
  {
   "cell_type": "code",
   "execution_count": 5,
   "metadata": {
    "collapsed": false
   },
   "outputs": [
    {
     "name": "stdout",
     "output_type": "stream",
     "text": [
      "(1, 3, 3, 1)\n",
      "(1, 4, 4, 1)\n",
      "[[[[  6.]\n",
      "   [  8.]\n",
      "   [ 10.]]\n",
      "\n",
      "  [[ 13.]\n",
      "   [ 15.]\n",
      "   [ 17.]]\n",
      "\n",
      "  [[ 21.]\n",
      "   [ 23.]\n",
      "   [ 25.]]]]\n",
      "[[[[  6.]\n",
      "   [  8.]\n",
      "   [ 10.]\n",
      "   [  4.]]\n",
      "\n",
      "  [[ 13.]\n",
      "   [ 15.]\n",
      "   [ 17.]\n",
      "   [  7.]]\n",
      "\n",
      "  [[ 21.]\n",
      "   [ 23.]\n",
      "   [ 25.]\n",
      "   [ 11.]]\n",
      "\n",
      "  [[ 12.]\n",
      "   [ 13.]\n",
      "   [ 14.]\n",
      "   [ 15.]]]]\n"
     ]
    }
   ],
   "source": [
    "x = tf.constant([[1., 2., 3., 4.],\n",
    "                 [4., 5., 6., 7.],\n",
    "                [8., 9., 10., 11.],\n",
    "                [12.,13.,14.,15.]])\n",
    "\n",
    "x = tf.reshape(x, [1, 4, 4, 1])  # give a shape accepted by tf.nn.max_pool\n",
    "\n",
    "W = tf.constant([[1., 0.],\n",
    "                [0., 1.]])\n",
    "\n",
    "W = tf.reshape(W, [2, 2, 1, 1])\n",
    "\n",
    "valid_pad = tf.nn.conv2d(x, W, strides = [1, 1, 1, 1], padding='VALID')\n",
    "same_pad = tf.nn.conv2d(x, W, strides = [1, 1, 1, 1],padding='SAME')\n",
    "\n",
    "print valid_pad.get_shape()   # valid_pad is [5.]\n",
    "print same_pad.get_shape()   # same_pad is  [5., 6.]\n",
    "\n",
    "#ess = tf.InteractiveSession()\n",
    "#ess.run(tf.initialize_all_variables())\n",
    "print valid_pad.eval()\n",
    "print same_pad.eval()"
   ]
  },
  {
   "cell_type": "code",
   "execution_count": 6,
   "metadata": {
    "collapsed": false
   },
   "outputs": [
    {
     "name": "stdout",
     "output_type": "stream",
     "text": [
      "(1, 1, 2, 1)\n",
      "(1, 2, 3, 1)\n",
      "[[[[ 6.]\n",
      "   [ 8.]]]]\n",
      "[[[[ 6.]\n",
      "   [ 8.]\n",
      "   [ 3.]]\n",
      "\n",
      "  [[ 4.]\n",
      "   [ 5.]\n",
      "   [ 6.]]]]\n"
     ]
    }
   ],
   "source": [
    "x = tf.constant([[1., 2., 3.],\n",
    "                 [4., 5., 6.]])\n",
    "\n",
    "x = tf.reshape(x, [1, 2, 3, 1])  # give a shape accepted by tf.nn.max_pool\n",
    "\n",
    "W = tf.constant([[1., 0.],\n",
    "                [0., 1.]])\n",
    "\n",
    "W = tf.reshape(W, [2, 2, 1, 1])\n",
    "\n",
    "valid_pad = tf.nn.conv2d(x, W, strides = [1, 1, 1, 1], padding='VALID')\n",
    "same_pad = tf.nn.conv2d(x, W, strides = [1, 1, 1, 1],padding='SAME')\n",
    "\n",
    "print valid_pad.get_shape()   # valid_pad is [5.]\n",
    "print same_pad.get_shape()   # same_pad is  [5., 6.]\n",
    "\n",
    "#ess = tf.InteractiveSession()\n",
    "#ess.run(tf.initialize_all_variables())\n",
    "print valid_pad.eval()\n",
    "print same_pad.eval()"
   ]
  },
  {
   "cell_type": "code",
   "execution_count": 7,
   "metadata": {
    "collapsed": true
   },
   "outputs": [],
   "source": [
    "tf.nn.conv2d?"
   ]
  },
  {
   "cell_type": "code",
   "execution_count": 9,
   "metadata": {
    "collapsed": false
   },
   "outputs": [
    {
     "name": "stdout",
     "output_type": "stream",
     "text": [
      "(1, 2, 3, 1)\n",
      "(1, 2, 3, 1)\n",
      "[[[[  2.]\n",
      "   [  4.]\n",
      "   [  6.]]\n",
      "\n",
      "  [[  8.]\n",
      "   [ 10.]\n",
      "   [ 12.]]]]\n",
      "[[[[  2.]\n",
      "   [  4.]\n",
      "   [  6.]]\n",
      "\n",
      "  [[  8.]\n",
      "   [ 10.]\n",
      "   [ 12.]]]]\n"
     ]
    }
   ],
   "source": [
    "x = tf.constant([[1., 2., 3.],\n",
    "                 [4., 5., 6.]])\n",
    "\n",
    "x = tf.reshape(x, [1, 2, 3, 1])  # give a shape accepted by tf.nn.max_pool\n",
    "\n",
    "W = tf.constant([2.])\n",
    "\n",
    "W = tf.reshape(W, [1, 1, 1, 1])\n",
    "\n",
    "valid_pad = tf.nn.conv2d(x, W, strides = [1, 1, 1, 1], padding='VALID')\n",
    "same_pad = tf.nn.conv2d(x, W, strides = [1, 1, 1, 1],padding='SAME')\n",
    "\n",
    "print valid_pad.get_shape()   # valid_pad is [5.]\n",
    "print same_pad.get_shape()   # same_pad is  [5., 6.]\n",
    "\n",
    "#ess = tf.InteractiveSession()\n",
    "#ess.run(tf.initialize_all_variables())\n",
    "print valid_pad.eval()\n",
    "print same_pad.eval()"
   ]
  },
  {
   "cell_type": "code",
   "execution_count": 27,
   "metadata": {
    "collapsed": false
   },
   "outputs": [
    {
     "name": "stdout",
     "output_type": "stream",
     "text": [
      "(2, 2, 3)\n",
      "[[ 1.  3.  5.]\n",
      " [ 2.  2.  3.]]\n",
      "[[ 2.  4.  6.]\n",
      " [ 2.  3.  3.]]\n",
      "[[[[ 1.  2.]\n",
      "   [ 3.  4.]\n",
      "   [ 5.  6.]]\n",
      "\n",
      "  [[ 2.  2.]\n",
      "   [ 2.  3.]\n",
      "   [ 3.  3.]]]]\n",
      "(1, 2, 3, 1)\n",
      "(1, 2, 3, 1)\n",
      "[[[[  8.]\n",
      "   [ 18.]\n",
      "   [ 28.]]\n",
      "\n",
      "  [[ 10.]\n",
      "   [ 13.]\n",
      "   [ 15.]]]]\n",
      "[[[[  8.]\n",
      "   [ 18.]\n",
      "   [ 28.]]\n",
      "\n",
      "  [[ 10.]\n",
      "   [ 13.]\n",
      "   [ 15.]]]]\n"
     ]
    }
   ],
   "source": [
    "x = tf.constant([\n",
    "                 [\n",
    "                 [1., 2., 3.],\n",
    "                 [4., 5., 6.]\n",
    "                 ],\n",
    "                 [\n",
    "                 [2. , 2., 2.],\n",
    "                 [3., 3., 3.]\n",
    "                 ]\n",
    "                ])\n",
    "\n",
    "print x.eval().shape\n",
    "\n",
    "\n",
    "x = tf.reshape(x, [1, 2, 3, 2])  # give a shape accepted by tf.nn.max_pool\n",
    "\n",
    "x.eval()\n",
    "\n",
    "print x[0, : , :, 0].eval()\n",
    "print x[0, : , :, 1].eval()\n",
    "print x.eval()\n",
    "\n",
    "\n",
    "W = tf.constant([2., 3.])\n",
    "\n",
    "W = tf.reshape(W, [1, 1, 2, 1])\n",
    "\n",
    "valid_pad = tf.nn.conv2d(x, W, strides = [1, 1, 1, 1], padding='VALID')\n",
    "same_pad = tf.nn.conv2d(x, W, strides = [1, 1, 1, 1],padding='SAME')\n",
    "\n",
    "print valid_pad.get_shape()   # valid_pad is [5.]\n",
    "print same_pad.get_shape()   # same_pad is  [5., 6.]\n",
    "\n",
    "#ess = tf.InteractiveSession()\n",
    "#ess.run(tf.initialize_all_variables())\n",
    "print valid_pad.eval()\n",
    "print same_pad.eval()"
   ]
  },
  {
   "cell_type": "code",
   "execution_count": 32,
   "metadata": {
    "collapsed": false
   },
   "outputs": [],
   "source": [
    "tf.pack?"
   ]
  },
  {
   "cell_type": "code",
   "execution_count": 34,
   "metadata": {
    "collapsed": false
   },
   "outputs": [
    {
     "data": {
      "text/plain": [
       "array([[1, 2],\n",
       "       [3, 4],\n",
       "       [5, 6]], dtype=int32)"
      ]
     },
     "execution_count": 34,
     "metadata": {},
     "output_type": "execute_result"
    }
   ],
   "source": [
    "x = tf.constant([1, 2])\n",
    "y = tf.constant([3, 4])\n",
    "z = tf.constant([5,6])\n",
    "tf.pack([x, y, z]).eval()"
   ]
  },
  {
   "cell_type": "code",
   "execution_count": 36,
   "metadata": {
    "collapsed": false
   },
   "outputs": [
    {
     "data": {
      "text/plain": [
       "array([1, 2, 3, 4, 5, 6], dtype=int32)"
      ]
     },
     "execution_count": 36,
     "metadata": {},
     "output_type": "execute_result"
    }
   ],
   "source": [
    "tf.concat(0, [x,y, z]).eval()"
   ]
  },
  {
   "cell_type": "code",
   "execution_count": 37,
   "metadata": {
    "collapsed": false
   },
   "outputs": [
    {
     "data": {
      "text/plain": [
       "array([3, 4], dtype=int32)"
      ]
     },
     "execution_count": 37,
     "metadata": {},
     "output_type": "execute_result"
    }
   ],
   "source": [
    "tf.pack([3,4]).eval()"
   ]
  },
  {
   "cell_type": "code",
   "execution_count": 40,
   "metadata": {
    "collapsed": true
   },
   "outputs": [],
   "source": [
    "from tensorflow.python.util import nest\n",
    "nest.flatten?"
   ]
  },
  {
   "cell_type": "code",
   "execution_count": 42,
   "metadata": {
    "collapsed": false
   },
   "outputs": [
    {
     "data": {
      "text/plain": [
       "[1, 2, 3, 4, 5, 6]"
      ]
     },
     "execution_count": 42,
     "metadata": {},
     "output_type": "execute_result"
    }
   ],
   "source": [
    "nest.flatten([[1,2,3],[4,5,6]])"
   ]
  },
  {
   "cell_type": "code",
   "execution_count": 43,
   "metadata": {
    "collapsed": true
   },
   "outputs": [],
   "source": [
    "tf.reduce_sum?"
   ]
  },
  {
   "cell_type": "code",
   "execution_count": null,
   "metadata": {
    "collapsed": true
   },
   "outputs": [],
   "source": []
  }
 ],
 "metadata": {
  "kernelspec": {
   "display_name": "Python 2",
   "language": "python",
   "name": "python2"
  },
  "language_info": {
   "codemirror_mode": {
    "name": "ipython",
    "version": 2
   },
   "file_extension": ".py",
   "mimetype": "text/x-python",
   "name": "python",
   "nbconvert_exporter": "python",
   "pygments_lexer": "ipython2",
   "version": "2.7.5"
  }
 },
 "nbformat": 4,
 "nbformat_minor": 0
}
