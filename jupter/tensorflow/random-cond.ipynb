{
 "cells": [
  {
   "cell_type": "code",
   "execution_count": 1,
   "metadata": {
    "collapsed": true
   },
   "outputs": [],
   "source": [
    "import tensorflow as tf\n",
    "sess = tf.InteractiveSession()"
   ]
  },
  {
   "cell_type": "code",
   "execution_count": 10,
   "metadata": {
    "collapsed": false
   },
   "outputs": [
    {
     "name": "stdout",
     "output_type": "stream",
     "text": [
      "0.398204\n",
      "False\n",
      "[[2 3]\n",
      " [4 5]]\n"
     ]
    }
   ],
   "source": [
    "image = tf.constant([[1, 2],\n",
    "                     [3, 4]])\n",
    "\n",
    "def fn1(image):\n",
    "    return image + 1\n",
    "\n",
    "def fn2(image):\n",
    "    return image * 10\n",
    "\n",
    "\n",
    "# Uniform variable in [0,1)\n",
    "p_order = tf.random_uniform(shape=[], minval=0., maxval=1., dtype=tf.float32)\n",
    "print(p_order.eval())\n",
    "pred = tf.less(p_order, 0.5)\n",
    "print(pred.eval())\n",
    "distorted_image = tf.cond(pred, lambda: fn1(image), lambda: fn2(image))\n",
    "print distorted_image.eval()"
   ]
  },
  {
   "cell_type": "code",
   "execution_count": 11,
   "metadata": {
    "collapsed": true
   },
   "outputs": [],
   "source": [
    "tf.image.decode_jpeg?"
   ]
  },
  {
   "cell_type": "code",
   "execution_count": null,
   "metadata": {
    "collapsed": true
   },
   "outputs": [],
   "source": []
  }
 ],
 "metadata": {
  "kernelspec": {
   "display_name": "Python 2",
   "language": "python",
   "name": "python2"
  },
  "language_info": {
   "codemirror_mode": {
    "name": "ipython",
    "version": 2
   },
   "file_extension": ".py",
   "mimetype": "text/x-python",
   "name": "python",
   "nbconvert_exporter": "python",
   "pygments_lexer": "ipython2",
   "version": "2.7.5"
  }
 },
 "nbformat": 4,
 "nbformat_minor": 0
}
