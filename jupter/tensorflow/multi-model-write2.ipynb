{
 "cells": [
  {
   "cell_type": "code",
   "execution_count": 1,
   "metadata": {
    "collapsed": true
   },
   "outputs": [],
   "source": [
    "import tensorflow as tf\n",
    "sess = tf.InteractiveSession()"
   ]
  },
  {
   "cell_type": "code",
   "execution_count": 2,
   "metadata": {
    "collapsed": true
   },
   "outputs": [],
   "source": [
    "def get_all_variables_from_top_scope(scope):\n",
    "    #scope is a top scope here, otherwise change startswith part\n",
    "    return [v for v in tf.all_variables() if v.name.startswith(scope.name)]\n",
    "\n",
    "def create_model(tf, param1, param2, add=0):\n",
    "    w = tf.get_variable('W', shape=[1], initializer=tf.constant_initializer(param1))\n",
    "    w += add\n",
    "    b = tf.get_variable('b', shape=[1], initializer=tf.constant_initializer(param2))\n",
    "    y = tf.mul(w, b, name='mul_op')#no need to save this\n",
    "    return y"
   ]
  },
  {
   "cell_type": "code",
   "execution_count": 3,
   "metadata": {
    "collapsed": false
   },
   "outputs": [
    {
     "name": "stdout",
     "output_type": "stream",
     "text": [
      "[u'scope1/W:0', u'scope1/b:0']\n",
      "[u'scope1/W:0', u'scope1/b:0']\n",
      "[ 72.]\n"
     ]
    },
    {
     "data": {
      "text/plain": [
       "'/tmp/scope1'"
      ]
     },
     "execution_count": 3,
     "metadata": {},
     "output_type": "execute_result"
    }
   ],
   "source": [
    "import tensorflow as tf\n",
    "\n",
    "#OLD_SCOPE_NAME = 'scope1'\n",
    "OLD_SCOPE_NAME = 'scope1'\n",
    "\n",
    "\n",
    "sess = tf.Session()\n",
    "\n",
    "with tf.variable_scope(OLD_SCOPE_NAME) as topscope:\n",
    "    #model = create_model(tf, 6.0, 7.0)\n",
    "    model = create_model(tf, 8.0, 9.0)\n",
    "    tf.add_to_collection('model', model)\n",
    "    sc_vars = get_all_variables_from_top_scope(topscope)\n",
    "\n",
    "print([v.name for v in sc_vars])\n",
    "\n",
    "print([v.name for v in tf.all_variables()])\n",
    "\n",
    "sess.run(tf.initialize_all_variables())\n",
    "print(sess.run(model))\n",
    "\n",
    "saver = tf.train.Saver()\n",
    "saver.save(sess, '/tmp/%s'%OLD_SCOPE_NAME)"
   ]
  },
  {
   "cell_type": "code",
   "execution_count": null,
   "metadata": {
    "collapsed": true
   },
   "outputs": [],
   "source": []
  },
  {
   "cell_type": "code",
   "execution_count": null,
   "metadata": {
    "collapsed": true
   },
   "outputs": [],
   "source": []
  }
 ],
 "metadata": {
  "kernelspec": {
   "display_name": "Python 2",
   "language": "python",
   "name": "python2"
  },
  "language_info": {
   "codemirror_mode": {
    "name": "ipython",
    "version": 2
   },
   "file_extension": ".py",
   "mimetype": "text/x-python",
   "name": "python",
   "nbconvert_exporter": "python",
   "pygments_lexer": "ipython2",
   "version": "2.7.5"
  }
 },
 "nbformat": 4,
 "nbformat_minor": 0
}
