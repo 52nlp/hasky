{
 "cells": [
  {
   "cell_type": "code",
   "execution_count": 1,
   "metadata": {
    "collapsed": false
   },
   "outputs": [
    {
     "name": "stdout",
     "output_type": "stream",
     "text": [
      "Loss: 0.000806 after 326 batches\n",
      "==> Learned function:\ty = -4.28 x^4 -3.99 x^3 -5.69 x^2 +7.97 x^1 -12.64\n",
      "==> Actual function:\ty = -4.25 x^4 -4.04 x^3 -5.70 x^2 +7.98 x^1 -12.62\n"
     ]
    }
   ],
   "source": [
    "from __future__ import print_function\n",
    "from itertools import count\n",
    "\n",
    "import torch\n",
    "import torch.autograd\n",
    "import torch.nn.functional as F\n",
    "from torch.autograd import Variable\n",
    "\n",
    "POLY_DEGREE = 4\n",
    "W_target = torch.randn(POLY_DEGREE, 1) * 5\n",
    "b_target = torch.randn(1) * 5\n",
    "\n",
    "\n",
    "def make_features(x):\n",
    "    \"\"\"Builds features i.e. a matrix with columns [x, x^2, x^3, x^4].\"\"\"\n",
    "    x = x.unsqueeze(1)\n",
    "    return torch.cat([x ** i for i in range(1, POLY_DEGREE+1)], 1)\n",
    "\n",
    "\n",
    "def f(x):\n",
    "    \"\"\"Approximated function.\"\"\"\n",
    "    return x.mm(W_target) + b_target[0]\n",
    "\n",
    "\n",
    "def poly_desc(W, b):\n",
    "    \"\"\"Creates a string description of a polynomial.\"\"\"\n",
    "    result = 'y = '\n",
    "    for i, w in enumerate(W):\n",
    "        result += '{:+.2f} x^{} '.format(w, len(W) - i)\n",
    "    result += '{:+.2f}'.format(b[0])\n",
    "    return result\n",
    "\n",
    "\n",
    "def get_batch(batch_size=32):\n",
    "    \"\"\"Builds a batch i.e. (x, f(x)) pair.\"\"\"\n",
    "    random = torch.randn(batch_size)\n",
    "    x = make_features(random)\n",
    "    y = f(x)\n",
    "    return Variable(x), Variable(y)\n",
    "\n",
    "\n",
    "# Define model\n",
    "fc = torch.nn.Linear(W_target.size(0), 1)\n",
    "\n",
    "for batch_idx in count(1):\n",
    "    # Get data\n",
    "    batch_x, batch_y = get_batch()\n",
    "\n",
    "    # Reset gradients\n",
    "    fc.zero_grad()\n",
    "\n",
    "    # Forward pass\n",
    "    output = F.smooth_l1_loss(fc(batch_x), batch_y)\n",
    "    loss = output.data[0]\n",
    "\n",
    "    # Backward pass\n",
    "    output.backward()\n",
    "\n",
    "    # Apply gradients\n",
    "    for param in fc.parameters():\n",
    "        param.data.add_(-0.1 * param.grad.data)\n",
    "\n",
    "    # Stop criterion\n",
    "    if loss < 1e-3:\n",
    "        break\n",
    "\n",
    "print('Loss: {:.6f} after {} batches'.format(loss, batch_idx))\n",
    "print('==> Learned function:\\t' + poly_desc(fc.weight.data.view(-1), fc.bias.data))\n",
    "print('==> Actual function:\\t' + poly_desc(W_target.view(-1), b_target))"
   ]
  },
  {
   "cell_type": "code",
   "execution_count": 2,
   "metadata": {
    "collapsed": false
   },
   "outputs": [
    {
     "data": {
      "text/plain": [
       "Linear (4 -> 1)"
      ]
     },
     "execution_count": 2,
     "metadata": {},
     "output_type": "execute_result"
    }
   ],
   "source": [
    "fc"
   ]
  },
  {
   "cell_type": "code",
   "execution_count": 4,
   "metadata": {
    "collapsed": false
   },
   "outputs": [],
   "source": [
    "fc.weight.data.view?"
   ]
  },
  {
   "cell_type": "code",
   "execution_count": 5,
   "metadata": {
    "collapsed": false
   },
   "outputs": [
    {
     "data": {
      "text/plain": [
       "\n",
       "-4.2462\n",
       "-4.0365\n",
       "-5.7014\n",
       " 7.9812\n",
       "[torch.FloatTensor of size 4x1]"
      ]
     },
     "execution_count": 5,
     "metadata": {},
     "output_type": "execute_result"
    }
   ],
   "source": [
    "W_target"
   ]
  },
  {
   "cell_type": "code",
   "execution_count": 10,
   "metadata": {
    "collapsed": true
   },
   "outputs": [],
   "source": [
    "POLY_DEGREE = 4\n",
    "x = torch.randn(POLY_DEGREE, 1) * 5"
   ]
  },
  {
   "cell_type": "code",
   "execution_count": 11,
   "metadata": {
    "collapsed": false
   },
   "outputs": [
    {
     "data": {
      "text/plain": [
       "\n",
       " -4.1182\n",
       " -4.3893\n",
       " 10.4702\n",
       "  1.6236\n",
       "[torch.FloatTensor of size 4x1]"
      ]
     },
     "execution_count": 11,
     "metadata": {},
     "output_type": "execute_result"
    }
   ],
   "source": [
    "x"
   ]
  },
  {
   "cell_type": "code",
   "execution_count": 12,
   "metadata": {
    "collapsed": true
   },
   "outputs": [],
   "source": [
    "torch.randn?"
   ]
  },
  {
   "cell_type": "code",
   "execution_count": 13,
   "metadata": {
    "collapsed": true
   },
   "outputs": [],
   "source": [
    "W_target = torch.randn(POLY_DEGREE, 1) * 5"
   ]
  },
  {
   "cell_type": "code",
   "execution_count": 16,
   "metadata": {
    "collapsed": false
   },
   "outputs": [
    {
     "data": {
      "text/plain": [
       "4"
      ]
     },
     "execution_count": 16,
     "metadata": {},
     "output_type": "execute_result"
    }
   ],
   "source": [
    "W_target.size(0)"
   ]
  },
  {
   "cell_type": "code",
   "execution_count": 18,
   "metadata": {
    "collapsed": false
   },
   "outputs": [
    {
     "data": {
      "text/plain": [
       "torch.Size([32])"
      ]
     },
     "execution_count": 18,
     "metadata": {},
     "output_type": "execute_result"
    }
   ],
   "source": [
    "torch.randn(32).size()"
   ]
  },
  {
   "cell_type": "code",
   "execution_count": 19,
   "metadata": {
    "collapsed": false
   },
   "outputs": [
    {
     "name": "stdout",
     "output_type": "stream",
     "text": [
      "Object `unsqueeze` not found.\n"
     ]
    }
   ],
   "source": [
    "torch.randn(32).unsqueeze?"
   ]
  },
  {
   "cell_type": "code",
   "execution_count": 20,
   "metadata": {
    "collapsed": false
   },
   "outputs": [
    {
     "name": "stdout",
     "output_type": "stream",
     "text": [
      "Object `unsqueeze` not found.\n"
     ]
    }
   ],
   "source": [
    "torch.randn(32).unsqueeze?"
   ]
  },
  {
   "cell_type": "code",
   "execution_count": null,
   "metadata": {
    "collapsed": true
   },
   "outputs": [],
   "source": [
    "torch.randn(32).unsqueeze"
   ]
  },
  {
   "cell_type": "code",
   "execution_count": 22,
   "metadata": {
    "collapsed": false
   },
   "outputs": [],
   "source": [
    "random = torch.randn(32)"
   ]
  },
  {
   "cell_type": "code",
   "execution_count": 29,
   "metadata": {
    "collapsed": false
   },
   "outputs": [
    {
     "data": {
      "text/plain": [
       "\n",
       "-1.2143\n",
       "-0.2562\n",
       "-1.1258\n",
       " 0.6102\n",
       " 1.2501\n",
       "-0.4114\n",
       "-0.3935\n",
       "-0.7745\n",
       " 0.0098\n",
       "-0.2912\n",
       " 0.6179\n",
       "-0.2813\n",
       "-0.9924\n",
       "-0.2944\n",
       " 0.8345\n",
       "-0.4749\n",
       " 0.9456\n",
       "-1.2041\n",
       "-0.5864\n",
       "-0.5924\n",
       "-0.9683\n",
       "-2.1012\n",
       " 1.1020\n",
       " 0.6738\n",
       " 0.7678\n",
       " 1.8439\n",
       " 1.4827\n",
       "-0.2586\n",
       "-0.1395\n",
       " 0.3851\n",
       " 0.7537\n",
       " 0.1688\n",
       "[torch.FloatTensor of size 32x1]"
      ]
     },
     "execution_count": 29,
     "metadata": {},
     "output_type": "execute_result"
    }
   ],
   "source": [
    "random.unsqueeze(1)"
   ]
  },
  {
   "cell_type": "code",
   "execution_count": 30,
   "metadata": {
    "collapsed": false
   },
   "outputs": [
    {
     "data": {
      "text/plain": [
       "\n",
       "-1.2143e+00  1.4744e+00 -1.7903e+00  2.1739e+00\n",
       "-2.5624e-01  6.5658e-02 -1.6824e-02  4.3109e-03\n",
       "-1.1258e+00  1.2674e+00 -1.4269e+00  1.6064e+00\n",
       " 6.1024e-01  3.7240e-01  2.2725e-01  1.3868e-01\n",
       " 1.2501e+00  1.5629e+00  1.9538e+00  2.4426e+00\n",
       "-4.1140e-01  1.6925e-01 -6.9630e-02  2.8646e-02\n",
       "-3.9352e-01  1.5486e-01 -6.0940e-02  2.3981e-02\n",
       "-7.7450e-01  5.9985e-01 -4.6458e-01  3.5982e-01\n",
       " 9.7608e-03  9.5272e-05  9.2993e-07  9.0768e-09\n",
       "-2.9124e-01  8.4819e-02 -2.4702e-02  7.1943e-03\n",
       " 6.1787e-01  3.8177e-01  2.3589e-01  1.4575e-01\n",
       "-2.8133e-01  7.9145e-02 -2.2266e-02  6.2639e-03\n",
       "-9.9237e-01  9.8480e-01 -9.7729e-01  9.6984e-01\n",
       "-2.9442e-01  8.6683e-02 -2.5521e-02  7.5139e-03\n",
       " 8.3452e-01  6.9642e-01  5.8117e-01  4.8500e-01\n",
       "-4.7486e-01  2.2549e-01 -1.0708e-01  5.0848e-02\n",
       " 9.4564e-01  8.9424e-01  8.4563e-01  7.9966e-01\n",
       "-1.2041e+00  1.4498e+00 -1.7457e+00  2.1019e+00\n",
       "-5.8638e-01  3.4384e-01 -2.0162e-01  1.1823e-01\n",
       "-5.9239e-01  3.5093e-01 -2.0789e-01  1.2315e-01\n",
       "-9.6831e-01  9.3763e-01 -9.0792e-01  8.7916e-01\n",
       "-2.1012e+00  4.4151e+00 -9.2772e+00  1.9493e+01\n",
       " 1.1020e+00  1.2144e+00  1.3382e+00  1.4747e+00\n",
       " 6.7379e-01  4.5400e-01  3.0590e-01  2.0611e-01\n",
       " 7.6776e-01  5.8946e-01  4.5257e-01  3.4746e-01\n",
       " 1.8439e+00  3.3998e+00  6.2687e+00  1.1559e+01\n",
       " 1.4827e+00  2.1985e+00  3.2599e+00  4.8336e+00\n",
       "-2.5860e-01  6.6874e-02 -1.7294e-02  4.4721e-03\n",
       "-1.3949e-01  1.9459e-02 -2.7143e-03  3.7864e-04\n",
       " 3.8514e-01  1.4833e-01  5.7127e-02  2.2002e-02\n",
       " 7.5366e-01  5.6801e-01  4.2808e-01  3.2263e-01\n",
       " 1.6883e-01  2.8503e-02  4.8121e-03  8.1243e-04\n",
       "[torch.FloatTensor of size 32x4]"
      ]
     },
     "execution_count": 30,
     "metadata": {},
     "output_type": "execute_result"
    }
   ],
   "source": [
    "torch.cat([random ** i for i in range(1, POLY_DEGREE+1)], 1)"
   ]
  },
  {
   "cell_type": "code",
   "execution_count": 33,
   "metadata": {
    "collapsed": true
   },
   "outputs": [],
   "source": [
    "fc?"
   ]
  },
  {
   "cell_type": "code",
   "execution_count": 36,
   "metadata": {
    "collapsed": false
   },
   "outputs": [
    {
     "name": "stdout",
     "output_type": "stream",
     "text": [
      "torch.Size([128, 30])\n"
     ]
    }
   ],
   "source": [
    "m = torch.nn.Linear(20, 30)\n",
    "input = torch.autograd.Variable(torch.randn(128, 20))\n",
    "output = m(input)\n",
    "print(output.size())"
   ]
  },
  {
   "cell_type": "code",
   "execution_count": 37,
   "metadata": {
    "collapsed": false
   },
   "outputs": [
    {
     "name": "stdout",
     "output_type": "stream",
     "text": [
      "Object `toch.nn` not found.\n"
     ]
    }
   ],
   "source": [
    "toch.nn?"
   ]
  },
  {
   "cell_type": "code",
   "execution_count": 39,
   "metadata": {
    "collapsed": true
   },
   "outputs": [],
   "source": [
    "torch.nn.Linear?"
   ]
  },
  {
   "cell_type": "code",
   "execution_count": 40,
   "metadata": {
    "collapsed": true
   },
   "outputs": [],
   "source": [
    "from torchvision import datasets"
   ]
  },
  {
   "cell_type": "code",
   "execution_count": 41,
   "metadata": {
    "collapsed": true
   },
   "outputs": [],
   "source": [
    "datasets.MNIST?"
   ]
  },
  {
   "cell_type": "code",
   "execution_count": null,
   "metadata": {
    "collapsed": true
   },
   "outputs": [],
   "source": []
  }
 ],
 "metadata": {
  "kernelspec": {
   "display_name": "Python 2",
   "language": "python",
   "name": "python2"
  },
  "language_info": {
   "codemirror_mode": {
    "name": "ipython",
    "version": 2
   },
   "file_extension": ".py",
   "mimetype": "text/x-python",
   "name": "python",
   "nbconvert_exporter": "python",
   "pygments_lexer": "ipython2",
   "version": "2.7.5"
  }
 },
 "nbformat": 4,
 "nbformat_minor": 0
}
